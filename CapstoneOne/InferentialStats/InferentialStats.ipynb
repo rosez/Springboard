{
 "cells": [
  {
   "cell_type": "markdown",
   "metadata": {},
   "source": [
    "### Inferential Statistics - Springboard CapstoneOne: Market Basket Analysis\n",
    "\n",
    "The goal of this notebook is to apply inferential statistics to the Market Basket project data.  We do analsysis from two perspectives:\n",
    "\n",
    "\n",
    "**One:** compare statistics from test and train datasets and verify that there are no statistically significant differences between the two populations.  We check two statistics:\n",
    "\n",
    "    `Reorder Proportion Overall`\n",
    "\n",
    "    `User Propensity to Reorder -- Mean`\n",
    "\n",
    "**Two:** compare a model candidate statistic to show that its subgroups have statistically significant differences on the outcome of interest, ordering behaviour.    \n",
    "\n",
    "    `Hour of Day (HOD) Reorder Proportion`\n",
    " \n",
    " \n",
    " "
   ]
  },
  {
   "cell_type": "markdown",
   "metadata": {},
   "source": [
    "# Import and Preview data from each of the input files:\n",
    " \n",
    " 'aisles.csv',\n",
    " 'departments.csv',\n",
    " 'orders.csv',\n",
    " 'order_products__prior.csv',\n",
    " 'order_products__train.csv',\n",
    " 'products.csv',\n"
   ]
  },
  {
   "cell_type": "code",
   "execution_count": 1,
   "metadata": {},
   "outputs": [],
   "source": [
    "import pandas as pd\n",
    "import numpy as np\n",
    "import matplotlib.pyplot as plt\n",
    "\n",
    "import seaborn as sns"
   ]
  },
  {
   "cell_type": "code",
   "execution_count": 2,
   "metadata": {},
   "outputs": [],
   "source": [
    "# import sklearn modules\n",
    "\n",
    "from sklearn.model_selection import train_test_split\n",
    "from sklearn.linear_model import LogisticRegression\n",
    "from sklearn.model_selection import GridSearchCV"
   ]
  },
  {
   "cell_type": "code",
   "execution_count": 3,
   "metadata": {},
   "outputs": [],
   "source": [
    "aisles = pd.read_csv('data\\\\aisles.csv')\n",
    "departments = pd.read_csv('data\\\\departments.csv')\n",
    "orders = pd.read_csv('data\\\\orders.csv')\n",
    "order_products__prior = pd.read_csv('data\\\\order_products__prior.csv')\n",
    "order_products__train = pd.read_csv('data\\\\order_products__train.csv')\n",
    "products = pd.read_csv('data\\\\products.csv')"
   ]
  },
  {
   "cell_type": "code",
   "execution_count": 4,
   "metadata": {},
   "outputs": [
    {
     "data": {
      "text/html": [
       "<div>\n",
       "<style scoped>\n",
       "    .dataframe tbody tr th:only-of-type {\n",
       "        vertical-align: middle;\n",
       "    }\n",
       "\n",
       "    .dataframe tbody tr th {\n",
       "        vertical-align: top;\n",
       "    }\n",
       "\n",
       "    .dataframe thead th {\n",
       "        text-align: right;\n",
       "    }\n",
       "</style>\n",
       "<table border=\"1\" class=\"dataframe\">\n",
       "  <thead>\n",
       "    <tr style=\"text-align: right;\">\n",
       "      <th></th>\n",
       "      <th>aisle_id</th>\n",
       "      <th>aisle</th>\n",
       "    </tr>\n",
       "  </thead>\n",
       "  <tbody>\n",
       "    <tr>\n",
       "      <td>0</td>\n",
       "      <td>1</td>\n",
       "      <td>prepared soups salads</td>\n",
       "    </tr>\n",
       "    <tr>\n",
       "      <td>1</td>\n",
       "      <td>2</td>\n",
       "      <td>specialty cheeses</td>\n",
       "    </tr>\n",
       "    <tr>\n",
       "      <td>2</td>\n",
       "      <td>3</td>\n",
       "      <td>energy granola bars</td>\n",
       "    </tr>\n",
       "    <tr>\n",
       "      <td>3</td>\n",
       "      <td>4</td>\n",
       "      <td>instant foods</td>\n",
       "    </tr>\n",
       "    <tr>\n",
       "      <td>4</td>\n",
       "      <td>5</td>\n",
       "      <td>marinades meat preparation</td>\n",
       "    </tr>\n",
       "  </tbody>\n",
       "</table>\n",
       "</div>"
      ],
      "text/plain": [
       "   aisle_id                       aisle\n",
       "0         1       prepared soups salads\n",
       "1         2           specialty cheeses\n",
       "2         3         energy granola bars\n",
       "3         4               instant foods\n",
       "4         5  marinades meat preparation"
      ]
     },
     "execution_count": 4,
     "metadata": {},
     "output_type": "execute_result"
    }
   ],
   "source": [
    "aisles.head()"
   ]
  },
  {
   "cell_type": "code",
   "execution_count": 5,
   "metadata": {},
   "outputs": [
    {
     "data": {
      "text/html": [
       "<div>\n",
       "<style scoped>\n",
       "    .dataframe tbody tr th:only-of-type {\n",
       "        vertical-align: middle;\n",
       "    }\n",
       "\n",
       "    .dataframe tbody tr th {\n",
       "        vertical-align: top;\n",
       "    }\n",
       "\n",
       "    .dataframe thead th {\n",
       "        text-align: right;\n",
       "    }\n",
       "</style>\n",
       "<table border=\"1\" class=\"dataframe\">\n",
       "  <thead>\n",
       "    <tr style=\"text-align: right;\">\n",
       "      <th></th>\n",
       "      <th>department_id</th>\n",
       "      <th>department</th>\n",
       "    </tr>\n",
       "  </thead>\n",
       "  <tbody>\n",
       "    <tr>\n",
       "      <td>0</td>\n",
       "      <td>1</td>\n",
       "      <td>frozen</td>\n",
       "    </tr>\n",
       "    <tr>\n",
       "      <td>1</td>\n",
       "      <td>2</td>\n",
       "      <td>other</td>\n",
       "    </tr>\n",
       "    <tr>\n",
       "      <td>2</td>\n",
       "      <td>3</td>\n",
       "      <td>bakery</td>\n",
       "    </tr>\n",
       "    <tr>\n",
       "      <td>3</td>\n",
       "      <td>4</td>\n",
       "      <td>produce</td>\n",
       "    </tr>\n",
       "    <tr>\n",
       "      <td>4</td>\n",
       "      <td>5</td>\n",
       "      <td>alcohol</td>\n",
       "    </tr>\n",
       "  </tbody>\n",
       "</table>\n",
       "</div>"
      ],
      "text/plain": [
       "   department_id department\n",
       "0              1     frozen\n",
       "1              2      other\n",
       "2              3     bakery\n",
       "3              4    produce\n",
       "4              5    alcohol"
      ]
     },
     "execution_count": 5,
     "metadata": {},
     "output_type": "execute_result"
    }
   ],
   "source": [
    "departments.head()"
   ]
  },
  {
   "cell_type": "code",
   "execution_count": 6,
   "metadata": {},
   "outputs": [
    {
     "data": {
      "text/html": [
       "<div>\n",
       "<style scoped>\n",
       "    .dataframe tbody tr th:only-of-type {\n",
       "        vertical-align: middle;\n",
       "    }\n",
       "\n",
       "    .dataframe tbody tr th {\n",
       "        vertical-align: top;\n",
       "    }\n",
       "\n",
       "    .dataframe thead th {\n",
       "        text-align: right;\n",
       "    }\n",
       "</style>\n",
       "<table border=\"1\" class=\"dataframe\">\n",
       "  <thead>\n",
       "    <tr style=\"text-align: right;\">\n",
       "      <th></th>\n",
       "      <th>order_id</th>\n",
       "      <th>user_id</th>\n",
       "      <th>eval_set</th>\n",
       "      <th>order_number</th>\n",
       "      <th>order_dow</th>\n",
       "      <th>order_hour_of_day</th>\n",
       "      <th>days_since_prior_order</th>\n",
       "    </tr>\n",
       "  </thead>\n",
       "  <tbody>\n",
       "    <tr>\n",
       "      <td>0</td>\n",
       "      <td>2539329</td>\n",
       "      <td>1</td>\n",
       "      <td>prior</td>\n",
       "      <td>1</td>\n",
       "      <td>2</td>\n",
       "      <td>8</td>\n",
       "      <td>NaN</td>\n",
       "    </tr>\n",
       "    <tr>\n",
       "      <td>1</td>\n",
       "      <td>2398795</td>\n",
       "      <td>1</td>\n",
       "      <td>prior</td>\n",
       "      <td>2</td>\n",
       "      <td>3</td>\n",
       "      <td>7</td>\n",
       "      <td>15.0</td>\n",
       "    </tr>\n",
       "    <tr>\n",
       "      <td>2</td>\n",
       "      <td>473747</td>\n",
       "      <td>1</td>\n",
       "      <td>prior</td>\n",
       "      <td>3</td>\n",
       "      <td>3</td>\n",
       "      <td>12</td>\n",
       "      <td>21.0</td>\n",
       "    </tr>\n",
       "    <tr>\n",
       "      <td>3</td>\n",
       "      <td>2254736</td>\n",
       "      <td>1</td>\n",
       "      <td>prior</td>\n",
       "      <td>4</td>\n",
       "      <td>4</td>\n",
       "      <td>7</td>\n",
       "      <td>29.0</td>\n",
       "    </tr>\n",
       "    <tr>\n",
       "      <td>4</td>\n",
       "      <td>431534</td>\n",
       "      <td>1</td>\n",
       "      <td>prior</td>\n",
       "      <td>5</td>\n",
       "      <td>4</td>\n",
       "      <td>15</td>\n",
       "      <td>28.0</td>\n",
       "    </tr>\n",
       "  </tbody>\n",
       "</table>\n",
       "</div>"
      ],
      "text/plain": [
       "   order_id  user_id eval_set  order_number  order_dow  order_hour_of_day  \\\n",
       "0   2539329        1    prior             1          2                  8   \n",
       "1   2398795        1    prior             2          3                  7   \n",
       "2    473747        1    prior             3          3                 12   \n",
       "3   2254736        1    prior             4          4                  7   \n",
       "4    431534        1    prior             5          4                 15   \n",
       "\n",
       "   days_since_prior_order  \n",
       "0                     NaN  \n",
       "1                    15.0  \n",
       "2                    21.0  \n",
       "3                    29.0  \n",
       "4                    28.0  "
      ]
     },
     "execution_count": 6,
     "metadata": {},
     "output_type": "execute_result"
    }
   ],
   "source": [
    "orders.head()"
   ]
  },
  {
   "cell_type": "code",
   "execution_count": 7,
   "metadata": {},
   "outputs": [
    {
     "data": {
      "text/plain": [
       "array(['prior', 'train', 'test'], dtype=object)"
      ]
     },
     "execution_count": 7,
     "metadata": {},
     "output_type": "execute_result"
    }
   ],
   "source": [
    "orders.eval_set.unique()\n"
   ]
  },
  {
   "cell_type": "code",
   "execution_count": 8,
   "metadata": {},
   "outputs": [
    {
     "data": {
      "text/html": [
       "<div>\n",
       "<style scoped>\n",
       "    .dataframe tbody tr th:only-of-type {\n",
       "        vertical-align: middle;\n",
       "    }\n",
       "\n",
       "    .dataframe tbody tr th {\n",
       "        vertical-align: top;\n",
       "    }\n",
       "\n",
       "    .dataframe thead th {\n",
       "        text-align: right;\n",
       "    }\n",
       "</style>\n",
       "<table border=\"1\" class=\"dataframe\">\n",
       "  <thead>\n",
       "    <tr style=\"text-align: right;\">\n",
       "      <th></th>\n",
       "      <th>order_id</th>\n",
       "      <th>product_id</th>\n",
       "      <th>add_to_cart_order</th>\n",
       "      <th>reordered</th>\n",
       "    </tr>\n",
       "  </thead>\n",
       "  <tbody>\n",
       "    <tr>\n",
       "      <td>0</td>\n",
       "      <td>2</td>\n",
       "      <td>33120</td>\n",
       "      <td>1</td>\n",
       "      <td>1</td>\n",
       "    </tr>\n",
       "    <tr>\n",
       "      <td>1</td>\n",
       "      <td>2</td>\n",
       "      <td>28985</td>\n",
       "      <td>2</td>\n",
       "      <td>1</td>\n",
       "    </tr>\n",
       "    <tr>\n",
       "      <td>2</td>\n",
       "      <td>2</td>\n",
       "      <td>9327</td>\n",
       "      <td>3</td>\n",
       "      <td>0</td>\n",
       "    </tr>\n",
       "    <tr>\n",
       "      <td>3</td>\n",
       "      <td>2</td>\n",
       "      <td>45918</td>\n",
       "      <td>4</td>\n",
       "      <td>1</td>\n",
       "    </tr>\n",
       "    <tr>\n",
       "      <td>4</td>\n",
       "      <td>2</td>\n",
       "      <td>30035</td>\n",
       "      <td>5</td>\n",
       "      <td>0</td>\n",
       "    </tr>\n",
       "  </tbody>\n",
       "</table>\n",
       "</div>"
      ],
      "text/plain": [
       "   order_id  product_id  add_to_cart_order  reordered\n",
       "0         2       33120                  1          1\n",
       "1         2       28985                  2          1\n",
       "2         2        9327                  3          0\n",
       "3         2       45918                  4          1\n",
       "4         2       30035                  5          0"
      ]
     },
     "execution_count": 8,
     "metadata": {},
     "output_type": "execute_result"
    }
   ],
   "source": [
    "order_products__prior.head()"
   ]
  },
  {
   "cell_type": "code",
   "execution_count": 9,
   "metadata": {},
   "outputs": [
    {
     "data": {
      "text/html": [
       "<div>\n",
       "<style scoped>\n",
       "    .dataframe tbody tr th:only-of-type {\n",
       "        vertical-align: middle;\n",
       "    }\n",
       "\n",
       "    .dataframe tbody tr th {\n",
       "        vertical-align: top;\n",
       "    }\n",
       "\n",
       "    .dataframe thead th {\n",
       "        text-align: right;\n",
       "    }\n",
       "</style>\n",
       "<table border=\"1\" class=\"dataframe\">\n",
       "  <thead>\n",
       "    <tr style=\"text-align: right;\">\n",
       "      <th></th>\n",
       "      <th>order_id</th>\n",
       "      <th>product_id</th>\n",
       "      <th>add_to_cart_order</th>\n",
       "      <th>reordered</th>\n",
       "    </tr>\n",
       "  </thead>\n",
       "  <tbody>\n",
       "    <tr>\n",
       "      <td>0</td>\n",
       "      <td>1</td>\n",
       "      <td>49302</td>\n",
       "      <td>1</td>\n",
       "      <td>1</td>\n",
       "    </tr>\n",
       "    <tr>\n",
       "      <td>1</td>\n",
       "      <td>1</td>\n",
       "      <td>11109</td>\n",
       "      <td>2</td>\n",
       "      <td>1</td>\n",
       "    </tr>\n",
       "    <tr>\n",
       "      <td>2</td>\n",
       "      <td>1</td>\n",
       "      <td>10246</td>\n",
       "      <td>3</td>\n",
       "      <td>0</td>\n",
       "    </tr>\n",
       "    <tr>\n",
       "      <td>3</td>\n",
       "      <td>1</td>\n",
       "      <td>49683</td>\n",
       "      <td>4</td>\n",
       "      <td>0</td>\n",
       "    </tr>\n",
       "    <tr>\n",
       "      <td>4</td>\n",
       "      <td>1</td>\n",
       "      <td>43633</td>\n",
       "      <td>5</td>\n",
       "      <td>1</td>\n",
       "    </tr>\n",
       "  </tbody>\n",
       "</table>\n",
       "</div>"
      ],
      "text/plain": [
       "   order_id  product_id  add_to_cart_order  reordered\n",
       "0         1       49302                  1          1\n",
       "1         1       11109                  2          1\n",
       "2         1       10246                  3          0\n",
       "3         1       49683                  4          0\n",
       "4         1       43633                  5          1"
      ]
     },
     "execution_count": 9,
     "metadata": {},
     "output_type": "execute_result"
    }
   ],
   "source": [
    "order_products__train.head()"
   ]
  },
  {
   "cell_type": "code",
   "execution_count": 10,
   "metadata": {},
   "outputs": [
    {
     "name": "stdout",
     "output_type": "stream",
     "text": [
      "<class 'pandas.core.frame.DataFrame'>\n",
      "RangeIndex: 1384617 entries, 0 to 1384616\n",
      "Data columns (total 4 columns):\n",
      "order_id             1384617 non-null int64\n",
      "product_id           1384617 non-null int64\n",
      "add_to_cart_order    1384617 non-null int64\n",
      "reordered            1384617 non-null int64\n",
      "dtypes: int64(4)\n",
      "memory usage: 42.3 MB\n"
     ]
    }
   ],
   "source": [
    "order_products__train.info()"
   ]
  },
  {
   "cell_type": "code",
   "execution_count": 11,
   "metadata": {},
   "outputs": [
    {
     "name": "stdout",
     "output_type": "stream",
     "text": [
      "<class 'pandas.core.frame.DataFrame'>\n",
      "RangeIndex: 32434489 entries, 0 to 32434488\n",
      "Data columns (total 4 columns):\n",
      "order_id             int64\n",
      "product_id           int64\n",
      "add_to_cart_order    int64\n",
      "reordered            int64\n",
      "dtypes: int64(4)\n",
      "memory usage: 989.8 MB\n"
     ]
    }
   ],
   "source": [
    "order_products__prior.info()"
   ]
  },
  {
   "cell_type": "code",
   "execution_count": 12,
   "metadata": {},
   "outputs": [
    {
     "data": {
      "text/html": [
       "<div>\n",
       "<style scoped>\n",
       "    .dataframe tbody tr th:only-of-type {\n",
       "        vertical-align: middle;\n",
       "    }\n",
       "\n",
       "    .dataframe tbody tr th {\n",
       "        vertical-align: top;\n",
       "    }\n",
       "\n",
       "    .dataframe thead th {\n",
       "        text-align: right;\n",
       "    }\n",
       "</style>\n",
       "<table border=\"1\" class=\"dataframe\">\n",
       "  <thead>\n",
       "    <tr style=\"text-align: right;\">\n",
       "      <th></th>\n",
       "      <th>product_id</th>\n",
       "      <th>product_name</th>\n",
       "      <th>aisle_id</th>\n",
       "      <th>department_id</th>\n",
       "    </tr>\n",
       "  </thead>\n",
       "  <tbody>\n",
       "    <tr>\n",
       "      <td>0</td>\n",
       "      <td>1</td>\n",
       "      <td>Chocolate Sandwich Cookies</td>\n",
       "      <td>61</td>\n",
       "      <td>19</td>\n",
       "    </tr>\n",
       "    <tr>\n",
       "      <td>1</td>\n",
       "      <td>2</td>\n",
       "      <td>All-Seasons Salt</td>\n",
       "      <td>104</td>\n",
       "      <td>13</td>\n",
       "    </tr>\n",
       "    <tr>\n",
       "      <td>2</td>\n",
       "      <td>3</td>\n",
       "      <td>Robust Golden Unsweetened Oolong Tea</td>\n",
       "      <td>94</td>\n",
       "      <td>7</td>\n",
       "    </tr>\n",
       "    <tr>\n",
       "      <td>3</td>\n",
       "      <td>4</td>\n",
       "      <td>Smart Ones Classic Favorites Mini Rigatoni Wit...</td>\n",
       "      <td>38</td>\n",
       "      <td>1</td>\n",
       "    </tr>\n",
       "    <tr>\n",
       "      <td>4</td>\n",
       "      <td>5</td>\n",
       "      <td>Green Chile Anytime Sauce</td>\n",
       "      <td>5</td>\n",
       "      <td>13</td>\n",
       "    </tr>\n",
       "  </tbody>\n",
       "</table>\n",
       "</div>"
      ],
      "text/plain": [
       "   product_id                                       product_name  aisle_id  \\\n",
       "0           1                         Chocolate Sandwich Cookies        61   \n",
       "1           2                                   All-Seasons Salt       104   \n",
       "2           3               Robust Golden Unsweetened Oolong Tea        94   \n",
       "3           4  Smart Ones Classic Favorites Mini Rigatoni Wit...        38   \n",
       "4           5                          Green Chile Anytime Sauce         5   \n",
       "\n",
       "   department_id  \n",
       "0             19  \n",
       "1             13  \n",
       "2              7  \n",
       "3              1  \n",
       "4             13  "
      ]
     },
     "execution_count": 12,
     "metadata": {},
     "output_type": "execute_result"
    }
   ],
   "source": [
    "products.head()"
   ]
  },
  {
   "cell_type": "markdown",
   "metadata": {},
   "source": [
    "\n",
    "\n",
    "# Explore orders.eval_set\n",
    "\n",
    "The orders dataframe contains tags indicating if that order should be used for training.  The 'test' subset is for competition submission and for which we do not have outcomes, and hence cannot use for model-development.\n",
    "\n",
    "We will extract the train subset, and split it into local train and test portions."
   ]
  },
  {
   "cell_type": "code",
   "execution_count": 13,
   "metadata": {},
   "outputs": [
    {
     "data": {
      "text/plain": [
       "array(['prior', 'train', 'test'], dtype=object)"
      ]
     },
     "execution_count": 13,
     "metadata": {},
     "output_type": "execute_result"
    }
   ],
   "source": [
    "orders.eval_set.unique()"
   ]
  },
  {
   "cell_type": "markdown",
   "metadata": {},
   "source": [
    "# Split the Kaggle train data into local train, test data"
   ]
  },
  {
   "cell_type": "markdown",
   "metadata": {},
   "source": [
    "Use full data set\n"
   ]
  },
  {
   "cell_type": "code",
   "execution_count": 14,
   "metadata": {},
   "outputs": [],
   "source": [
    "xop = order_products__prior\n",
    "xopt = order_products__train\n",
    "xorders = orders"
   ]
  },
  {
   "cell_type": "code",
   "execution_count": 15,
   "metadata": {},
   "outputs": [
    {
     "data": {
      "text/plain": [
       "((91846, 7), (39363, 7))"
      ]
     },
     "execution_count": 15,
     "metadata": {},
     "output_type": "execute_result"
    }
   ],
   "source": [
    "# categorize orders\n",
    "# orders.eval_set.unique()\n",
    "# array(['prior', 'train', 'test'], dtype=object)\n",
    "\n",
    "testsize = 0.3\n",
    "\n",
    "orderstrain = orders[orders.eval_set == 'train']\n",
    "\n",
    "# partition orderstrain into local train, test data:   otrain, otest\n",
    "otrain, otest = train_test_split(orderstrain, test_size=testsize, random_state=43)\n",
    "otrain.shape, otest.shape"
   ]
  },
  {
   "cell_type": "code",
   "execution_count": 16,
   "metadata": {},
   "outputs": [],
   "source": [
    "# get orderids and use to split the orderproducts information\n",
    "orderidtraintemp = pd.DataFrame(otrain.order_id.unique(),columns=['order_id']   )\n",
    "orderidtesttemp = pd.DataFrame(otest.order_id.unique(),columns=['order_id']   )\n",
    "\n",
    "# split the orders product into train test subsets\n",
    "optrain = pd.merge(orderidtraintemp, order_products__train, on=['order_id'])\n",
    "optest = pd.merge(orderidtesttemp, order_products__train, on=['order_id'])"
   ]
  },
  {
   "cell_type": "code",
   "execution_count": 17,
   "metadata": {},
   "outputs": [
    {
     "data": {
      "text/plain": [
       "(0.6005062741836329, 0.5977767054160454)"
      ]
     },
     "execution_count": 17,
     "metadata": {},
     "output_type": "execute_result"
    }
   ],
   "source": [
    "# do a quick check on the reordered mean stat between groups\n",
    "optest.reordered.mean(), optrain.reordered.mean()"
   ]
  },
  {
   "cell_type": "code",
   "execution_count": 18,
   "metadata": {},
   "outputs": [
    {
     "data": {
      "text/plain": [
       "6147     1\n",
       "82984    1\n",
       "39059    1\n",
       "55323    1\n",
       "10245    1\n",
       "        ..\n",
       "49128    1\n",
       "45034    1\n",
       "32752    1\n",
       "30705    1\n",
       "8188     1\n",
       "Name: user_id, Length: 131209, dtype: int64"
      ]
     },
     "execution_count": 18,
     "metadata": {},
     "output_type": "execute_result"
    }
   ],
   "source": [
    "#verify no duplicate users in orders\n",
    "orderstrain.user_id.value_counts().sort_values(ascending=False)"
   ]
  },
  {
   "cell_type": "markdown",
   "metadata": {},
   "source": [
    "# INFERENTIAL STATS\n",
    "We first define functions and then use them for the analysis"
   ]
  },
  {
   "cell_type": "markdown",
   "metadata": {},
   "source": [
    "ECDF (Exploratory Cumulative Distribution Function) generator"
   ]
  },
  {
   "cell_type": "code",
   "execution_count": 19,
   "metadata": {},
   "outputs": [],
   "source": [
    "def ecdf(data):\n",
    "    \"\"\"Compute ECDF for a one-dimensional array of measurements.\"\"\"\n",
    "    # Number of data points: n\n",
    "    n = len(data)\n",
    "\n",
    "    # x-data for the ECDF: x\n",
    "    x = np.sort(data)\n",
    "\n",
    "    # y-data for the ECDF: y\n",
    "    y = np.arange (1, len(x) + 1) / n\n",
    "\n",
    "    return x, y"
   ]
  },
  {
   "cell_type": "markdown",
   "metadata": {},
   "source": [
    "\n",
    "Functions to draw permutation samples:\n",
    "\n",
    "* from a single table, \n",
    "* from a pair of related tables"
   ]
  },
  {
   "cell_type": "code",
   "execution_count": 20,
   "metadata": {},
   "outputs": [],
   "source": [
    "   \n",
    "def permutation_sample(d1, d2):\n",
    "    ''' return a permutation sample from d1 and d2'''\n",
    "    # combine data\n",
    "    d12 = np.concatenate((d1,d2))\n",
    "    # permutate data\n",
    "    d12perm = np.random.permutation(d12)\n",
    "    # split data\n",
    "    samp1 = d12perm[:len(d1)]\n",
    "    samp2 = d12perm[len(d1):]\n",
    "    return samp1, samp2\n",
    "\n",
    "# return a permuted order_products sample from orders o1 and o2 and order prodcuts op\n",
    "def permutation_sample_op(d1, d2, op, joincols, returncol):\n",
    "    ''' return a permuted sample consisting of values from op.returncol based on permutating\n",
    "        datasets d1, d2  and merging the results with op on columns joincols'''\n",
    "    # combine data\n",
    "    d12 = np.concatenate((d1,d2))\n",
    "    # permutate data\n",
    "    d12perm = np.random.permutation(d12)\n",
    "    # split data\n",
    "    temp1 = d12perm[:len(d1)]\n",
    "    temp2 = d12perm[len(d1):]\n",
    "    \n",
    "    op1 = pd.merge(pd.DataFrame({joincols:temp1}), op, on=joincols)\n",
    "    op2 = pd.merge(pd.DataFrame({joincols:temp2}), op, on=joincols)\n",
    "    \n",
    "    return op1[returncol], op2[returncol]"
   ]
  },
  {
   "cell_type": "markdown",
   "metadata": {},
   "source": [
    "Functions to generate bootstrap replicates:\n",
    "* from a single table\n",
    "* from a pair of related tables"
   ]
  },
  {
   "cell_type": "code",
   "execution_count": 21,
   "metadata": {},
   "outputs": [],
   "source": [
    "def permutation_reps(d1, d2, func, size=1):\n",
    "    '''Return bootstrap permucation replicates for datasets d1, d2 using function func'''\n",
    "    perm_reps = np.empty(size)\n",
    "    for i in range(size):\n",
    "        perm1, perm2 = permutation_sample(d1, d2)\n",
    "        perm_reps[i] = func(perm1, perm2)\n",
    "    return perm_reps\n",
    "    \n",
    "def permutation_reps_op(d1, d2, op, joincols, returncol, func, size=1):\n",
    "    '''Return bootstrap replicates for dataframes d1, d2 (merged with dataframe op on joincols)and returning \n",
    "    the result of function func performed on column returncol from dataframe op '''\n",
    "    perm_reps = np.empty(size)\n",
    "    for i in range(size):\n",
    "        perm1, perm2 = permutation_sample_op(d1, d2, op, joincols, returncol)\n",
    "        perm_reps[i] = func(perm1, perm2)\n",
    "    return perm_reps\n",
    "    "
   ]
  },
  {
   "cell_type": "code",
   "execution_count": 22,
   "metadata": {},
   "outputs": [],
   "source": [
    "def mean_diff(d1, d2):\n",
    "    '''Return the difference of the means of d1 and d2'''\n",
    "    return (np.mean(d1) - np.mean(d2))\n"
   ]
  },
  {
   "cell_type": "markdown",
   "metadata": {},
   "source": [
    "# Compare Overall Reorder proportion for train, test\n",
    "\n",
    "We use bootstrap samples on the local test/train data to compare  the difference of reoorder proportions \n",
    "\n",
    "\n",
    "    H0: reorder prop train = reorder prop test ==> test - learn = 0\n",
    "\n",
    "    H1: reorder prop train != reorder prop test ==> |test - learn| > 0\n"
   ]
  },
  {
   "cell_type": "code",
   "execution_count": 23,
   "metadata": {},
   "outputs": [
    {
     "data": {
      "text/plain": [
       "(0.0027295687675874536, 0.6005062741836329, 0.5977767054160454)"
      ]
     },
     "execution_count": 23,
     "metadata": {},
     "output_type": "execute_result"
    }
   ],
   "source": [
    "diff_actual = mean_diff(optest.reordered, optrain.reordered)\n",
    "\n",
    "diff_actual, np.mean(optest.reordered), np.mean(optrain.reordered)"
   ]
  },
  {
   "cell_type": "markdown",
   "metadata": {},
   "source": [
    "The bootstrap sampling needs to handle data being in two different tables.  \n",
    "\n",
    "The data is split by order_id, while the details are in a 1:m relationship with the order_products table.\n"
   ]
  },
  {
   "cell_type": "code",
   "execution_count": 24,
   "metadata": {},
   "outputs": [],
   "source": [
    "xd1 = otrain.order_id\n",
    "xd2 = otest.order_id\n",
    " \n",
    "xjoincols = 'order_id'\n",
    "xreturncol = 'reordered'\n",
    " \n",
    "diffreps = permutation_reps_op(xd1, xd2, xopt, xjoincols, xreturncol, mean_diff ,size=1000)"
   ]
  },
  {
   "cell_type": "code",
   "execution_count": 25,
   "metadata": {},
   "outputs": [
    {
     "data": {
      "text/plain": [
       "((1000,), 0.005474164766643197, -0.005642289640160891, 0.0027295687675874536)"
      ]
     },
     "execution_count": 25,
     "metadata": {},
     "output_type": "execute_result"
    }
   ],
   "source": [
    "diffreps.shape, diffreps.max(), diffreps.min(), diff_actual"
   ]
  },
  {
   "cell_type": "code",
   "execution_count": 26,
   "metadata": {},
   "outputs": [
    {
     "data": {
      "text/plain": [
       "Text(0, 0.5, 'Count')"
      ]
     },
     "execution_count": 26,
     "metadata": {},
     "output_type": "execute_result"
    },
    {
     "data": {
      "image/png": "[encoded data removed]",
      "text/plain": [
       "<Figure size 432x288 with 1 Axes>"
      ]
     },
     "metadata": {
      "needs_background": "light"
     },
     "output_type": "display_data"
    }
   ],
   "source": [
    "# Plot the replicate distribution, along with absolute value of the actual difference\n",
    "plt.hist(diffreps)\n",
    "plt.axvline(x=diff_actual, color='k', linestyle='--')\n",
    "plt.axvline(x=-diff_actual, color='k', linestyle='--')\n",
    "\n",
    "plt.title('Proportion Reordered Differences Replicates')\n",
    "plt.xlabel('Reordered Proportion Diff')\n",
    "plt.ylabel('Count')\n"
   ]
  },
  {
   "cell_type": "code",
   "execution_count": 27,
   "metadata": {},
   "outputs": [
    {
     "data": {
      "text/plain": [
       "0.159"
      ]
     },
     "execution_count": 27,
     "metadata": {},
     "output_type": "execute_result"
    }
   ],
   "source": [
    "# p-value\n",
    " \n",
    "p_RePropDiff = np.sum(abs(diffreps) > abs(diff_actual)  )/len(diffreps)\n",
    "p_RePropDiff\n"
   ]
  },
  {
   "cell_type": "markdown",
   "metadata": {},
   "source": [
    "The p-value above of 0.146 (for 0.3 test split) indicates that the reordered proportions are not statistically different between the test and train dataset. "
   ]
  },
  {
   "cell_type": "code",
   "execution_count": 28,
   "metadata": {},
   "outputs": [
    {
     "data": {
      "text/plain": [
       "0.0027295687675874536"
      ]
     },
     "execution_count": 28,
     "metadata": {},
     "output_type": "execute_result"
    }
   ],
   "source": [
    "diff_actual"
   ]
  },
  {
   "cell_type": "markdown",
   "metadata": {},
   "source": [
    "# User Propensity to Reorder\n",
    "\n",
    "We compare the means of the user reorder proportions. The reorder proportion is calculated for each user, and then the user associated with the test/train orders is used in the calculation.  NOTE: we verified that there are not multiple orders for a user in the test/train data. "
   ]
  },
  {
   "cell_type": "code",
   "execution_count": 29,
   "metadata": {},
   "outputs": [
    {
     "data": {
      "text/html": [
       "<div>\n",
       "<style scoped>\n",
       "    .dataframe tbody tr th:only-of-type {\n",
       "        vertical-align: middle;\n",
       "    }\n",
       "\n",
       "    .dataframe tbody tr th {\n",
       "        vertical-align: top;\n",
       "    }\n",
       "\n",
       "    .dataframe thead th {\n",
       "        text-align: right;\n",
       "    }\n",
       "</style>\n",
       "<table border=\"1\" class=\"dataframe\">\n",
       "  <thead>\n",
       "    <tr style=\"text-align: right;\">\n",
       "      <th></th>\n",
       "      <th>user_id</th>\n",
       "      <th>order_id</th>\n",
       "      <th>order_dow</th>\n",
       "      <th>order_hour_of_day</th>\n",
       "      <th>reordered</th>\n",
       "    </tr>\n",
       "  </thead>\n",
       "  <tbody>\n",
       "    <tr>\n",
       "      <td>0</td>\n",
       "      <td>1</td>\n",
       "      <td>1187899</td>\n",
       "      <td>4</td>\n",
       "      <td>8</td>\n",
       "      <td>1</td>\n",
       "    </tr>\n",
       "    <tr>\n",
       "      <td>1</td>\n",
       "      <td>1</td>\n",
       "      <td>1187899</td>\n",
       "      <td>4</td>\n",
       "      <td>8</td>\n",
       "      <td>1</td>\n",
       "    </tr>\n",
       "    <tr>\n",
       "      <td>2</td>\n",
       "      <td>1</td>\n",
       "      <td>1187899</td>\n",
       "      <td>4</td>\n",
       "      <td>8</td>\n",
       "      <td>1</td>\n",
       "    </tr>\n",
       "    <tr>\n",
       "      <td>3</td>\n",
       "      <td>1</td>\n",
       "      <td>1187899</td>\n",
       "      <td>4</td>\n",
       "      <td>8</td>\n",
       "      <td>1</td>\n",
       "    </tr>\n",
       "    <tr>\n",
       "      <td>4</td>\n",
       "      <td>1</td>\n",
       "      <td>1187899</td>\n",
       "      <td>4</td>\n",
       "      <td>8</td>\n",
       "      <td>1</td>\n",
       "    </tr>\n",
       "  </tbody>\n",
       "</table>\n",
       "</div>"
      ],
      "text/plain": [
       "   user_id  order_id  order_dow  order_hour_of_day  reordered\n",
       "0        1   1187899          4                  8          1\n",
       "1        1   1187899          4                  8          1\n",
       "2        1   1187899          4                  8          1\n",
       "3        1   1187899          4                  8          1\n",
       "4        1   1187899          4                  8          1"
      ]
     },
     "execution_count": 29,
     "metadata": {},
     "output_type": "execute_result"
    }
   ],
   "source": [
    "# time of day (tod) -- reuse this from EDA....\n",
    "tod = pd.merge(xorders[['user_id','order_id','order_dow','order_hour_of_day']],\n",
    "        xop[['order_id','reordered']])\n",
    "\n",
    " \n",
    "\n",
    "todKaggleTrain = pd.merge(orderstrain[['user_id','order_id','order_dow','order_hour_of_day']],\n",
    "        xopt[['order_id','reordered']])\n",
    "todKaggleTrain.head()"
   ]
  },
  {
   "cell_type": "code",
   "execution_count": 30,
   "metadata": {},
   "outputs": [
    {
     "data": {
      "text/plain": [
       "Text(0.5, 1.0, 'Reorder Proportion by User Train+Test')"
      ]
     },
     "execution_count": 30,
     "metadata": {},
     "output_type": "execute_result"
    },
    {
     "data": {
      "image/png": "[encoded data removed]",
      "text/plain": [
       "<Figure size 432x288 with 1 Axes>"
      ]
     },
     "metadata": {
      "needs_background": "light"
     },
     "output_type": "display_data"
    }
   ],
   "source": [
    "# plot the reorder proportion for Kaggle Train population\n",
    "reorderproportionbyuser = todKaggleTrain.groupby(['user_id']).agg(reorderproportion=('reordered','mean')).reset_index()\n",
    "\n",
    "reorderproportionbyuser.describe()\n",
    "reorderproportionbyuser[['reorderproportion']].boxplot()\n",
    "plt.title('Reorder Proportion by User Train+Test')\n"
   ]
  },
  {
   "cell_type": "code",
   "execution_count": 31,
   "metadata": {},
   "outputs": [
    {
     "data": {
      "text/plain": [
       "(-0.0028864803792755245, 0.6016062438460876, 0.6044927242253632)"
      ]
     },
     "execution_count": 31,
     "metadata": {},
     "output_type": "execute_result"
    }
   ],
   "source": [
    "# decode orders to user_ids, and pass reorder proportion to sampler...\n",
    "\n",
    "upropensitytest = pd.merge(otest[['order_id','user_id']], reorderproportionbyuser, \n",
    "                           on='user_id'  )['reorderproportion']\n",
    "upropensitytrain = pd.merge(otrain[['order_id','user_id']], reorderproportionbyuser, \n",
    "                            on='user_id'  )['reorderproportion']\n",
    " \n",
    "upropensityDiffActual = mean_diff(upropensitytrain, upropensitytest)\n",
    "upropensityDiffActual, np.mean(upropensitytrain), np.mean(upropensitytest)\n",
    "                                  "
   ]
  },
  {
   "cell_type": "code",
   "execution_count": 32,
   "metadata": {},
   "outputs": [],
   "source": [
    "upropensityDiffReps = permutation_reps(upropensitytrain, upropensitytest, mean_diff, size=1000)\n",
    " "
   ]
  },
  {
   "cell_type": "code",
   "execution_count": 33,
   "metadata": {},
   "outputs": [
    {
     "data": {
      "text/plain": [
       "Text(0, 0.5, 'Replicate Frequency')"
      ]
     },
     "execution_count": 33,
     "metadata": {},
     "output_type": "execute_result"
    },
    {
     "data": {
      "image/png": "[encoded data removed]",
      "text/plain": [
       "<Figure size 432x288 with 1 Axes>"
      ]
     },
     "metadata": {
      "needs_background": "light"
     },
     "output_type": "display_data"
    }
   ],
   "source": [
    "plt.hist(upropensityDiffReps, bins=20 )\n",
    "plt.axvline(x=upropensityDiffActual, color='k', linestyle='--')\n",
    "plt.axvline(x=-upropensityDiffActual, color='k', linestyle='--')\n",
    "plt.title('User Reorder Propensity Differences')\n",
    "plt.xlabel('Test/Train Proportion Difference')\n",
    "plt.ylabel('Replicate Frequency')"
   ]
  },
  {
   "cell_type": "code",
   "execution_count": 34,
   "metadata": {},
   "outputs": [
    {
     "data": {
      "text/plain": [
       "0.116"
      ]
     },
     "execution_count": 34,
     "metadata": {},
     "output_type": "execute_result"
    }
   ],
   "source": [
    "# p-value\n",
    "p_upropensityDiff = np.mean(abs(upropensityDiffReps) >= abs(upropensityDiffActual))\n",
    "p_upropensityDiff"
   ]
  },
  {
   "cell_type": "markdown",
   "metadata": {},
   "source": [
    "From the p-value above, differences at least as extreme as the current observation occurred in 83% of the samples (for .4 test split)...\n",
    " .... 31% for .3 test split \n",
    " ...therefore we are confident that there is no statistical difference in the test and train \n",
    " populations for the user propensity to reorder for a 0.3 test split"
   ]
  },
  {
   "cell_type": "code",
   "execution_count": 35,
   "metadata": {},
   "outputs": [
    {
     "data": {
      "text/plain": [
       "Text(0, 0.5, 'CDF')"
      ]
     },
     "execution_count": 35,
     "metadata": {},
     "output_type": "execute_result"
    },
    {
     "data": {
      "image/png": "[encoded data removed]",
      "text/plain": [
       "<Figure size 432x288 with 1 Axes>"
      ]
     },
     "metadata": {
      "needs_background": "light"
     },
     "output_type": "display_data"
    }
   ],
   "source": [
    "# plot the ECDFs to verify the user reorder propensity distribution is similar for the local test/train populations\n",
    "xtrain, ytrain = ecdf(upropensitytrain)\n",
    "xtest, ytest = ecdf(upropensitytest)\n",
    "\n",
    "\n",
    "# Overlay the plots\n",
    "plt.plot(xtrain, ytrain,marker='.', linestyle='none', c='k', markersize=1, alpha=0.1 )\n",
    "plt.plot(xtest, ytest, marker='.', linestyle='none', c='r', markersize=1, alpha=0.1)\n",
    "plt.margins(0.02)\n",
    "plt.title('User Reorder Propensity CDF')\n",
    "plt.xlabel('User Reorder Propensity')\n",
    "plt.ylabel('CDF')"
   ]
  },
  {
   "cell_type": "markdown",
   "metadata": {},
   "source": [
    "The  ECDF plot above indicates that it is likely that the two populations came from the same distribution"
   ]
  },
  {
   "cell_type": "markdown",
   "metadata": {},
   "source": [
    "## Reorder Proportion  by Hour of Day - Effect on outcome\n",
    "\n",
    "The proportion of basket items reordered varies by hour of day: with orders early in the morning (between 5 and 9 o'clock)  more likely to have a higher proportion of reordered items. We do not do a comparison between all combinations of hours of the day, but show that it can be significant between various hours.  In particular we use hours 7, 14; we evaluate hour combination 6,7 for comparision, since they are closer in differences. \n",
    "\n",
    "We show, that for the entire dataset, and 1k replication samples, and 0.3 test split:\n",
    "\n",
    "    The reorder proportion for hours 7,14 is significantly different, while hours 6,7 is borderline significant (and hence susceptable to test split fraction used).  But nonetheless, differences exist between various hours of day, and hence may be candiates for predicting model outcome."
   ]
  },
  {
   "cell_type": "code",
   "execution_count": 36,
   "metadata": {},
   "outputs": [],
   "source": [
    "# Hour of Day (HOD) Reorder proportion significance -- use all 'prior' data...used in training the model\n",
    "# check: between 6,7 and 7,14\n",
    "\n",
    "hodproportion = tod.groupby(['order_id','order_hour_of_day']).agg(reorderproportion=('reordered','mean')).reset_index()\n",
    "\n",
    "hodprop6 = hodproportion[hodproportion.order_hour_of_day==6]['reorderproportion'] \n",
    "hodprop7 = hodproportion[hodproportion.order_hour_of_day==7]['reorderproportion']\n",
    "hodprop14 = hodproportion[hodproportion.order_hour_of_day==14]['reorderproportion']"
   ]
  },
  {
   "cell_type": "code",
   "execution_count": null,
   "metadata": {},
   "outputs": [],
   "source": []
  },
  {
   "cell_type": "markdown",
   "metadata": {},
   "source": [
    "### We first plot the propportion reordered distributions for hour of day\n",
    "\n",
    "Since it appears that the distributions may not all be the same, we do further validation by plotting the ECDFs for each population.\n",
    "\n"
   ]
  },
  {
   "cell_type": "code",
   "execution_count": 37,
   "metadata": {
    "scrolled": true
   },
   "outputs": [
    {
     "data": {
      "text/plain": [
       "Text(0.5, 1.0, 'Proportion reordered by Hour of Day')"
      ]
     },
     "execution_count": 37,
     "metadata": {},
     "output_type": "execute_result"
    },
    {
     "data": {
      "image/png": "[encoded data removed]",
      "text/plain": [
       "<Figure size 720x360 with 1 Axes>"
      ]
     },
     "metadata": {},
     "output_type": "display_data"
    }
   ],
   "source": [
    "# Hour of Day reorder proportion (hod)\n",
    "#hodproportion = tod.groupby(['order_id','order_hour_of_day']).agg(reorderproportion=('reordered','mean')).reset_index()\n",
    "\n",
    "sns.set_style('ticks')\n",
    "fig, ax = plt.subplots()\n",
    "# set size\n",
    "fig.set_size_inches(10, 5)\n",
    "\n",
    "sns.boxplot(x=\"order_hour_of_day\", y=\"reorderproportion\", \n",
    "            data=hodproportion, \n",
    "            palette=\"Set1\")\n",
    "plt.title('Proportion reordered by Hour of Day')\n"
   ]
  },
  {
   "cell_type": "code",
   "execution_count": 38,
   "metadata": {},
   "outputs": [
    {
     "data": {
      "text/plain": [
       "<matplotlib.legend.Legend at 0x247049dd208>"
      ]
     },
     "execution_count": 38,
     "metadata": {},
     "output_type": "execute_result"
    },
    {
     "data": {
      "image/png": "[encoded data removed]",
      "text/plain": [
       "<Figure size 432x288 with 1 Axes>"
      ]
     },
     "metadata": {},
     "output_type": "display_data"
    }
   ],
   "source": [
    "# plot the ECDF for  HOD reorder\n",
    "xtrain, ytrain = ecdf(hodprop7)\n",
    "xtest, ytest = ecdf(hodprop14)\n",
    "\n",
    "\n",
    "# Overlay the plots\n",
    "plt.plot(xtrain, ytrain,marker='.', linestyle='none', c='k', markersize=2, alpha=0.1, label='hour7' )\n",
    "plt.plot(xtest, ytest, marker='.', linestyle='none', c='r', markersize=2, alpha=0.1, label='hour14')\n",
    "plt.margins(0.02)\n",
    "plt.title('Reorder Proportion Hour of Day (7,14) CDF')\n",
    "plt.xlabel('Reorder Proportion')\n",
    "plt.ylabel('CDF')\n",
    "plt.legend(loc=\"upper left\")"
   ]
  },
  {
   "cell_type": "markdown",
   "metadata": {},
   "source": [
    "The ECDFs for hours 7, 14 illustrate the difference in distributions and we shift the means when doing the difference of the means analysis (even though hours 6,7...shown below..appear more similar) "
   ]
  },
  {
   "cell_type": "code",
   "execution_count": 39,
   "metadata": {},
   "outputs": [
    {
     "data": {
      "text/plain": [
       "<matplotlib.legend.Legend at 0x24704a6da08>"
      ]
     },
     "execution_count": 39,
     "metadata": {},
     "output_type": "execute_result"
    },
    {
     "data": {
      "image/png": "[encoded data removed]",
      "text/plain": [
       "<Figure size 432x288 with 1 Axes>"
      ]
     },
     "metadata": {},
     "output_type": "display_data"
    }
   ],
   "source": [
    "# plot the ECDF for  HOD reorder\n",
    "xtrain, ytrain = ecdf(hodprop6)\n",
    "xtest, ytest = ecdf(hodprop7)\n",
    "\n",
    "\n",
    "# Overlay the plots\n",
    "plt.plot(xtrain, ytrain,marker='.', linestyle='none', c='k', markersize=2, alpha=0.1, label='hour6' )\n",
    "plt.plot(xtest, ytest, marker='.', linestyle='none', c='r', markersize=2, alpha=0.1, label='hour7')\n",
    "plt.margins(0.02)\n",
    "plt.title('Reorder Proportion Hour of Day (6,7) CDF')\n",
    "plt.xlabel('Reorder Proportion')\n",
    "plt.ylabel('CDF')\n",
    "plt.legend(loc=\"upper left\")"
   ]
  },
  {
   "cell_type": "markdown",
   "metadata": {},
   "source": [
    "The ECDFS for hours 6,7 appear more similar than 7,14 above"
   ]
  },
  {
   "cell_type": "markdown",
   "metadata": {},
   "source": [
    "# shifted difference of mean for HOD ReOrder Proportion"
   ]
  },
  {
   "cell_type": "code",
   "execution_count": 40,
   "metadata": {},
   "outputs": [],
   "source": [
    "def bootstrap_replicate_1d(data, func):\n",
    "    return func(np.random.choice(data, size=len(data)))"
   ]
  },
  {
   "cell_type": "code",
   "execution_count": 41,
   "metadata": {},
   "outputs": [],
   "source": [
    "def draw_bs_reps(data, func, size=1):\n",
    "    \"\"\"Draw bootstrap replicates.\"\"\"\n",
    "\n",
    "    # Initialize array of replicates: bs_replicates\n",
    "    bs_replicates = np.empty(size)\n",
    "\n",
    "    # Generate replicates\n",
    "    for i in range(size):\n",
    "        bs_replicates[i] = bootstrap_replicate_1d(data, func)\n",
    "\n",
    "    return bs_replicates\n"
   ]
  },
  {
   "cell_type": "code",
   "execution_count": 42,
   "metadata": {},
   "outputs": [
    {
     "data": {
      "text/plain": [
       "(0.6484311027594556, 0.6444719529665801, 0.6497465551324912)"
      ]
     },
     "execution_count": 42,
     "metadata": {},
     "output_type": "execute_result"
    }
   ],
   "source": [
    "# Compute mean of proportions: mean_prop\n",
    "\n",
    "\n",
    "# Compute actual means\n",
    "hod714propDiffActual = mean_diff(hodprop7, hodprop14)\n",
    "hod67propDiffActual = mean_diff(hodprop6, hodprop7)\n",
    "\n",
    "\n",
    "# Days 7,14\n",
    "hodprop714 = np.concatenate((hodprop7.values, hodprop14.values))\n",
    "mean_prop714 = np.mean(hodprop714)\n",
    "mean_prop714, np.mean(hodprop7), np.mean(hodprop14)\n",
    "\n",
    "# Days 6,7\n",
    "hodprop67 = np.concatenate((hodprop6.values, hodprop7.values))\n",
    "mean_prop67 = np.mean(hodprop67)\n",
    "mean_prop67, np.mean(hodprop6), np.mean(hodprop7)\n"
   ]
  },
  {
   "cell_type": "code",
   "execution_count": 43,
   "metadata": {},
   "outputs": [],
   "source": [
    "# Generate shifted arrays\n",
    "hodprop7_shifted = hodprop7 - np.mean(hodprop7) + mean_prop714\n",
    "hodprop14_shifted = hodprop14 - np.mean(hodprop14) + mean_prop714 \n",
    "\n",
    "\n",
    "hodprop76_shifted = hodprop7 - np.mean(hodprop7) + mean_prop67\n",
    "hodprop6_shifted = hodprop6 - np.mean(hodprop6) + mean_prop67 "
   ]
  },
  {
   "cell_type": "code",
   "execution_count": 44,
   "metadata": {},
   "outputs": [],
   "source": [
    "# Compute 1,000 bootstrap replicates from shifted arrays\n",
    "hodprop7_reps = draw_bs_reps(hodprop7_shifted, np.mean, 1000)\n",
    "hodprop14_reps = draw_bs_reps(hodprop14_shifted, np.mean, 1000)\n",
    "\n",
    "hodprop76_reps = draw_bs_reps(hodprop76_shifted, np.mean, 1000)\n",
    "hodprop6_reps = draw_bs_reps(hodprop6_shifted, np.mean, 1000)"
   ]
  },
  {
   "cell_type": "code",
   "execution_count": 45,
   "metadata": {},
   "outputs": [],
   "source": [
    "# Get replicates of difference of means: bs_replicates\n",
    "hodprop714reps = hodprop14_reps - hodprop7_reps\n",
    "hodprop67reps = hodprop76_reps - hodprop6_reps"
   ]
  },
  {
   "cell_type": "code",
   "execution_count": 46,
   "metadata": {},
   "outputs": [
    {
     "data": {
      "text/plain": [
       "Text(0, 0.5, 'Replicate Frequency')"
      ]
     },
     "execution_count": 46,
     "metadata": {},
     "output_type": "execute_result"
    },
    {
     "data": {
      "image/png": "[encoded data removed]",
      "text/plain": [
       "<Figure size 432x288 with 1 Axes>"
      ]
     },
     "metadata": {},
     "output_type": "display_data"
    }
   ],
   "source": [
    "# plot 7, 14\n",
    "plt.hist(hodprop714reps, bins=20)\n",
    "plt.title('Hour of Day Reorder Diff: Hours 7,14')\n",
    "plt.xlabel('Test/Train Proportion Difference')\n",
    "plt.ylabel('Replicate Frequency')"
   ]
  },
  {
   "cell_type": "code",
   "execution_count": 47,
   "metadata": {},
   "outputs": [
    {
     "name": "stdout",
     "output_type": "stream",
     "text": [
      "p-value = 0.0 ; actual Difference =  0.060422909061740415\n"
     ]
    }
   ],
   "source": [
    "# Compute and print 7,14 p-value: p\n",
    "p = sum(abs(hodprop714reps) > abs(hod714propDiffActual) ) / len(hodprop714reps)\n",
    "print('p-value =', p   ,'; actual Difference = ', hod714propDiffActual) "
   ]
  },
  {
   "cell_type": "markdown",
   "metadata": {},
   "source": [
    "From the p-value above we see that the difference of the mean reorder proportions is statistically different between hours of 7, 14 (p-value < .001)\n",
    "\n",
    "NOTE: we do not include the actual difference on the plot above since it is so far from the replicate values"
   ]
  },
  {
   "cell_type": "code",
   "execution_count": 48,
   "metadata": {},
   "outputs": [
    {
     "data": {
      "text/plain": [
       "<matplotlib.lines.Line2D at 0x2470b37eb88>"
      ]
     },
     "execution_count": 48,
     "metadata": {},
     "output_type": "execute_result"
    },
    {
     "data": {
      "image/png": "[encoded data removed]",
      "text/plain": [
       "<Figure size 432x288 with 1 Axes>"
      ]
     },
     "metadata": {},
     "output_type": "display_data"
    }
   ],
   "source": [
    "# plot hours 6, 7\n",
    "\n",
    "plt.hist(hodprop67reps, bins=20)\n",
    "plt.title('Hour of Day Reorder Diff: Hours 6,7')\n",
    "plt.xlabel('Test/Train Proportion Difference')\n",
    "plt.ylabel('Replicate Frequency')\n",
    "\n",
    "plt.axvline(x=hod67propDiffActual, color='k', linestyle='--')\n",
    "plt.axvline(x=-hod67propDiffActual, color='k', linestyle='--')"
   ]
  },
  {
   "cell_type": "code",
   "execution_count": 49,
   "metadata": {},
   "outputs": [
    {
     "name": "stdout",
     "output_type": "stream",
     "text": [
      "p-value = 0.024 ; actual Difference =  -0.005274602165911135\n"
     ]
    }
   ],
   "source": [
    "# Compute and print 6,7 p-value: p\n",
    "phod67 = sum(abs(hodprop67reps) > abs(hod67propDiffActual) ) / len(hodprop67reps)\n",
    "print('p-value =', phod67   ,'; actual Difference = ', hod67propDiffActual)"
   ]
  },
  {
   "cell_type": "markdown",
   "metadata": {},
   "source": [
    "From the p-value above we see that the difference of the mean reorder proportions is statistically different between hours of 6, 7 (p = 0.025). \n"
   ]
  },
  {
   "cell_type": "code",
   "execution_count": null,
   "metadata": {},
   "outputs": [],
   "source": []
  }
 ],
 "metadata": {
  "kernelspec": {
   "display_name": "Python 3",
   "language": "python",
   "name": "python3"
  },
  "language_info": {
   "codemirror_mode": {
    "name": "ipython",
    "version": 3
   },
   "file_extension": ".py",
   "mimetype": "text/x-python",
   "name": "python",
   "nbconvert_exporter": "python",
   "pygments_lexer": "ipython3",
   "version": "3.7.4"
  }
 },
 "nbformat": 4,
 "nbformat_minor": 2
}
