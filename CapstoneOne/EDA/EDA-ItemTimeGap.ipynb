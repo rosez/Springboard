{
 "cells": [
  {
   "cell_type": "markdown",
   "metadata": {},
   "source": [
    "### Springboard CapstoneOne: Market Basket Analysis\n",
    "\n",
    "Exploratory Data Analysis (EDA) - Item Reorder time Gap\n",
    "\n",
    "NOTE: The raw data contains orderes.days_since_prior_order.  However, this does not reflect the time between individual items, since a user may not purchase the item in every order.  Therefore, here we calculate the time gap between individual items.  The process is compute intensive, so is separated from the main EDA.\n",
    "\n",
    "#### -- Rose Zdybel"
   ]
  },
  {
   "cell_type": "code",
   "execution_count": 1,
   "metadata": {},
   "outputs": [],
   "source": [
    "import pandas as pd\n",
    "import numpy as np\n",
    "import matplotlib.pyplot as plt\n",
    "\n",
    "import seaborn as sns\n"
   ]
  },
  {
   "cell_type": "code",
   "execution_count": 2,
   "metadata": {},
   "outputs": [],
   "source": [
    "# read in data\n",
    "#aisles = pd.read_csv('data\\\\aisles.csv')\n",
    "#departments = pd.read_csv('data\\\\departments.csv')\n",
    "orders = pd.read_csv('data\\\\orders.csv')\n",
    "order_products__prior = pd.read_csv('data\\\\order_products__prior.csv')\n",
    "#order_products__train = pd.read_csv('data\\\\order_products__train.csv')\n",
    "products = pd.read_csv('data\\\\products.csv')\n",
    "departments = pd.read_csv('data\\\\departments.csv')\n",
    "\n",
    "\n"
   ]
  },
  {
   "cell_type": "markdown",
   "metadata": {},
   "source": [
    "# Use FULL Data set"
   ]
  },
  {
   "cell_type": "code",
   "execution_count": 3,
   "metadata": {},
   "outputs": [],
   "source": [
    "xop = order_products__prior\n",
    "xorders = orders"
   ]
  },
  {
   "cell_type": "markdown",
   "metadata": {},
   "source": [
    "# Process Data"
   ]
  },
  {
   "cell_type": "code",
   "execution_count": 4,
   "metadata": {},
   "outputs": [
    {
     "name": "stderr",
     "output_type": "stream",
     "text": [
      "C:\\Users\\rozoe\\Anaconda3\\lib\\site-packages\\ipykernel_launcher.py:5: SettingWithCopyWarning: \n",
      "A value is trying to be set on a copy of a slice from a DataFrame.\n",
      "Try using .loc[row_indexer,col_indexer] = value instead\n",
      "\n",
      "See the caveats in the documentation: http://pandas.pydata.org/pandas-docs/stable/user_guide/indexing.html#returning-a-view-versus-a-copy\n",
      "  \"\"\"\n"
     ]
    },
    {
     "data": {
      "text/html": [
       "<div>\n",
       "<style scoped>\n",
       "    .dataframe tbody tr th:only-of-type {\n",
       "        vertical-align: middle;\n",
       "    }\n",
       "\n",
       "    .dataframe tbody tr th {\n",
       "        vertical-align: top;\n",
       "    }\n",
       "\n",
       "    .dataframe thead th {\n",
       "        text-align: right;\n",
       "    }\n",
       "</style>\n",
       "<table border=\"1\" class=\"dataframe\">\n",
       "  <thead>\n",
       "    <tr style=\"text-align: right;\">\n",
       "      <th></th>\n",
       "      <th>order_id</th>\n",
       "      <th>user_id</th>\n",
       "      <th>order_number</th>\n",
       "      <th>days_since_prior_order</th>\n",
       "      <th>running_order_days</th>\n",
       "    </tr>\n",
       "  </thead>\n",
       "  <tbody>\n",
       "    <tr>\n",
       "      <td>0</td>\n",
       "      <td>2539329</td>\n",
       "      <td>1</td>\n",
       "      <td>1</td>\n",
       "      <td>NaN</td>\n",
       "      <td>NaN</td>\n",
       "    </tr>\n",
       "    <tr>\n",
       "      <td>1</td>\n",
       "      <td>2398795</td>\n",
       "      <td>1</td>\n",
       "      <td>2</td>\n",
       "      <td>15.0</td>\n",
       "      <td>15.0</td>\n",
       "    </tr>\n",
       "    <tr>\n",
       "      <td>2</td>\n",
       "      <td>473747</td>\n",
       "      <td>1</td>\n",
       "      <td>3</td>\n",
       "      <td>21.0</td>\n",
       "      <td>36.0</td>\n",
       "    </tr>\n",
       "    <tr>\n",
       "      <td>3</td>\n",
       "      <td>2254736</td>\n",
       "      <td>1</td>\n",
       "      <td>4</td>\n",
       "      <td>29.0</td>\n",
       "      <td>65.0</td>\n",
       "    </tr>\n",
       "    <tr>\n",
       "      <td>4</td>\n",
       "      <td>431534</td>\n",
       "      <td>1</td>\n",
       "      <td>5</td>\n",
       "      <td>28.0</td>\n",
       "      <td>93.0</td>\n",
       "    </tr>\n",
       "  </tbody>\n",
       "</table>\n",
       "</div>"
      ],
      "text/plain": [
       "   order_id  user_id  order_number  days_since_prior_order  running_order_days\n",
       "0   2539329        1             1                     NaN                 NaN\n",
       "1   2398795        1             2                    15.0                15.0\n",
       "2    473747        1             3                    21.0                36.0\n",
       "3   2254736        1             4                    29.0                65.0\n",
       "4    431534        1             5                    28.0                93.0"
      ]
     },
     "execution_count": 4,
     "metadata": {},
     "output_type": "execute_result"
    }
   ],
   "source": [
    "# extract relevant information from orders, and calculate running_order_days\n",
    "\n",
    "ordertemp = xorders[['order_id','user_id','order_number','days_since_prior_order']]\n",
    " \n",
    "ordertemp['running_order_days'] = ordertemp.groupby('user_id').days_since_prior_order.cumsum()\n",
    "ordertemp.head()"
   ]
  },
  {
   "cell_type": "code",
   "execution_count": 5,
   "metadata": {},
   "outputs": [],
   "source": [
    "# merge order information with order-products, and sort in preparation for running value calculations\n",
    "\n",
    "itemgap = pd.merge(ordertemp, xop [['order_id', 'product_id', 'reordered']], on='order_id')\n",
    "\n",
    "itemgap.sort_values(['user_id','product_id','order_number'], inplace=True)"
   ]
  },
  {
   "cell_type": "code",
   "execution_count": 6,
   "metadata": {},
   "outputs": [],
   "source": [
    "# calculate an array of differences for reordered products, and transform to a dataframe\n",
    "\n",
    "ztemp = itemgap.groupby(['user_id', \n",
    "                         'product_id', \n",
    "                         'order_number'])['running_order_days'].sum().groupby(level=[0, 1]).apply(lambda x: np.diff(np.nan_to_num(x)))\n",
    "\n",
    "ztemp = ztemp.to_frame('periods').reset_index()\n"
   ]
  },
  {
   "cell_type": "code",
   "execution_count": 7,
   "metadata": {},
   "outputs": [],
   "source": [
    "# extract the index to be used for accessing the gap array items\n",
    "\n",
    "\n",
    "itemgap['running_item_seq'] = itemgap[itemgap.reordered ==1].groupby(['user_id', 'product_id'])['reordered'].cumcount()\n"
   ]
  },
  {
   "cell_type": "code",
   "execution_count": 8,
   "metadata": {},
   "outputs": [],
   "source": [
    "# merge the temp information\n",
    "\n",
    "itemgapperiods = pd.merge(ztemp, itemgap)"
   ]
  },
  {
   "cell_type": "code",
   "execution_count": 9,
   "metadata": {},
   "outputs": [],
   "source": [
    "# finally... calculate the item_lapsed time....\n",
    "itemgapperiods['item_lapse'] = itemgapperiods[itemgapperiods.reordered==1].apply(lambda row: row.periods[int(row.running_item_seq)], axis=1 )\n"
   ]
  },
  {
   "cell_type": "code",
   "execution_count": 10,
   "metadata": {},
   "outputs": [],
   "source": [
    "# save the results to a file, for future reference, if needed.\n",
    "\n",
    "#itemgapperiods.to_csv('itemDaysDelatTime')\n"
   ]
  },
  {
   "cell_type": "code",
   "execution_count": 11,
   "metadata": {},
   "outputs": [],
   "source": [
    "# extract reordered  products and decode\n",
    "rop = itemgapperiods[itemgapperiods.reordered==1][['user_id','product_id','order_id','order_number','item_lapse']]\n",
    "ropDecode=pd.merge(pd.merge(rop, products), departments)"
   ]
  },
  {
   "cell_type": "markdown",
   "metadata": {},
   "source": [
    "# EDA for the item time Gaps"
   ]
  },
  {
   "cell_type": "markdown",
   "metadata": {},
   "source": [
    "## Gap frequency"
   ]
  },
  {
   "cell_type": "code",
   "execution_count": 12,
   "metadata": {},
   "outputs": [
    {
     "data": {
      "text/plain": [
       "Text(0, 0.5, 'Time Gap (Days)')"
      ]
     },
     "execution_count": 12,
     "metadata": {},
     "output_type": "execute_result"
    },
    {
     "data": {
      "image/png": "[encoded data removed]",
      "text/plain": [
       "<Figure size 432x288 with 1 Axes>"
      ]
     },
     "metadata": {
      "needs_background": "light"
     },
     "output_type": "display_data"
    }
   ],
   "source": [
    "plt.hist(rop.item_lapse)\n",
    "\n",
    " \n",
    "plt.title('Item Reorder Time Gap Frequency')\n",
    "plt.xlabel('Number of Basket Items')\n",
    "plt.ylabel('Time Gap (Days)')\n"
   ]
  },
  {
   "cell_type": "code",
   "execution_count": 13,
   "metadata": {},
   "outputs": [
    {
     "data": {
      "text/plain": [
       "Text(0, 0.5, 'Time Gap (Days)')"
      ]
     },
     "execution_count": 13,
     "metadata": {},
     "output_type": "execute_result"
    },
    {
     "data": {
      "image/png": "[encoded data removed]",
      "text/plain": [
       "<Figure size 432x288 with 1 Axes>"
      ]
     },
     "metadata": {
      "needs_background": "light"
     },
     "output_type": "display_data"
    }
   ],
   "source": [
    "# Zoom in\n",
    "\n",
    "plt.hist(rop.item_lapse, range=[0, 100])\n",
    "\n",
    " \n",
    "plt.title('Item Reorder Time Gap Frequency (Zoomed)')\n",
    "plt.xlabel('Number of Basket Items')\n",
    "plt.ylabel('Time Gap (Days)')"
   ]
  },
  {
   "cell_type": "markdown",
   "metadata": {},
   "source": [
    "##  Item Time Gap by Dept"
   ]
  },
  {
   "cell_type": "code",
   "execution_count": 14,
   "metadata": {},
   "outputs": [
    {
     "data": {
      "text/plain": [
       "(array([ 0,  1,  2,  3,  4,  5,  6,  7,  8,  9, 10, 11, 12, 13, 14, 15, 16,\n",
       "        17, 18, 19, 20]), <a list of 21 Text xticklabel objects>)"
      ]
     },
     "execution_count": 14,
     "metadata": {},
     "output_type": "execute_result"
    },
    {
     "data": {
      "image/png": "[encoded data removed]",
      "text/plain": [
       "<Figure size 720x648 with 1 Axes>"
      ]
     },
     "metadata": {},
     "output_type": "display_data"
    }
   ],
   "source": [
    "# lapsed time by DEPT \n",
    " \n",
    "sns.set_style('ticks')\n",
    "fig, ax = plt.subplots()\n",
    "# set size\n",
    "fig.set_size_inches(10, 9)\n",
    "\n",
    "sns.boxplot(x=\"department\", y=\"item_lapse\", \n",
    "            data=ropDecode, \n",
    "            palette=\"Set1\")\n",
    "\n",
    "plt.title('Item Reorder Time Gap by Dept ')\n",
    "\n",
    "plt.xticks(\n",
    "    rotation=45, \n",
    "    horizontalalignment='right',\n",
    "    fontweight='light',\n",
    "    fontsize='x-large'  \n",
    ")"
   ]
  },
  {
   "cell_type": "code",
   "execution_count": 15,
   "metadata": {},
   "outputs": [
    {
     "data": {
      "text/html": [
       "<div>\n",
       "<style scoped>\n",
       "    .dataframe tbody tr th:only-of-type {\n",
       "        vertical-align: middle;\n",
       "    }\n",
       "\n",
       "    .dataframe tbody tr th {\n",
       "        vertical-align: top;\n",
       "    }\n",
       "\n",
       "    .dataframe thead th {\n",
       "        text-align: right;\n",
       "    }\n",
       "</style>\n",
       "<table border=\"1\" class=\"dataframe\">\n",
       "  <thead>\n",
       "    <tr style=\"text-align: right;\">\n",
       "      <th></th>\n",
       "      <th>lapsed_median</th>\n",
       "      <th>item_count</th>\n",
       "    </tr>\n",
       "    <tr>\n",
       "      <th>department</th>\n",
       "      <th></th>\n",
       "      <th></th>\n",
       "    </tr>\n",
       "  </thead>\n",
       "  <tbody>\n",
       "    <tr>\n",
       "      <td>produce</td>\n",
       "      <td>15.0</td>\n",
       "      <td>6160710</td>\n",
       "    </tr>\n",
       "    <tr>\n",
       "      <td>dairy eggs</td>\n",
       "      <td>14.0</td>\n",
       "      <td>3627221</td>\n",
       "    </tr>\n",
       "    <tr>\n",
       "      <td>beverages</td>\n",
       "      <td>14.0</td>\n",
       "      <td>1757892</td>\n",
       "    </tr>\n",
       "    <tr>\n",
       "      <td>snacks</td>\n",
       "      <td>16.0</td>\n",
       "      <td>1657973</td>\n",
       "    </tr>\n",
       "    <tr>\n",
       "      <td>frozen</td>\n",
       "      <td>18.0</td>\n",
       "      <td>1211890</td>\n",
       "    </tr>\n",
       "    <tr>\n",
       "      <td>bakery</td>\n",
       "      <td>15.0</td>\n",
       "      <td>739188</td>\n",
       "    </tr>\n",
       "    <tr>\n",
       "      <td>pantry</td>\n",
       "      <td>30.0</td>\n",
       "      <td>650301</td>\n",
       "    </tr>\n",
       "    <tr>\n",
       "      <td>deli</td>\n",
       "      <td>16.0</td>\n",
       "      <td>638864</td>\n",
       "    </tr>\n",
       "    <tr>\n",
       "      <td>canned goods</td>\n",
       "      <td>23.0</td>\n",
       "      <td>488535</td>\n",
       "    </tr>\n",
       "    <tr>\n",
       "      <td>meat seafood</td>\n",
       "      <td>19.0</td>\n",
       "      <td>402442</td>\n",
       "    </tr>\n",
       "    <tr>\n",
       "      <td>dry goods pasta</td>\n",
       "      <td>26.0</td>\n",
       "      <td>399581</td>\n",
       "    </tr>\n",
       "    <tr>\n",
       "      <td>breakfast</td>\n",
       "      <td>20.0</td>\n",
       "      <td>398013</td>\n",
       "    </tr>\n",
       "    <tr>\n",
       "      <td>household</td>\n",
       "      <td>30.0</td>\n",
       "      <td>297075</td>\n",
       "    </tr>\n",
       "    <tr>\n",
       "      <td>babies</td>\n",
       "      <td>15.0</td>\n",
       "      <td>245369</td>\n",
       "    </tr>\n",
       "    <tr>\n",
       "      <td>personal care</td>\n",
       "      <td>31.0</td>\n",
       "      <td>143584</td>\n",
       "    </tr>\n",
       "    <tr>\n",
       "      <td>international</td>\n",
       "      <td>23.0</td>\n",
       "      <td>99416</td>\n",
       "    </tr>\n",
       "    <tr>\n",
       "      <td>alcohol</td>\n",
       "      <td>13.0</td>\n",
       "      <td>87595</td>\n",
       "    </tr>\n",
       "    <tr>\n",
       "      <td>pets</td>\n",
       "      <td>18.0</td>\n",
       "      <td>58760</td>\n",
       "    </tr>\n",
       "    <tr>\n",
       "      <td>missing</td>\n",
       "      <td>11.0</td>\n",
       "      <td>27371</td>\n",
       "    </tr>\n",
       "    <tr>\n",
       "      <td>bulk</td>\n",
       "      <td>15.0</td>\n",
       "      <td>19950</td>\n",
       "    </tr>\n",
       "    <tr>\n",
       "      <td>other</td>\n",
       "      <td>19.0</td>\n",
       "      <td>14806</td>\n",
       "    </tr>\n",
       "  </tbody>\n",
       "</table>\n",
       "</div>"
      ],
      "text/plain": [
       "                 lapsed_median  item_count\n",
       "department                                \n",
       "produce                   15.0     6160710\n",
       "dairy eggs                14.0     3627221\n",
       "beverages                 14.0     1757892\n",
       "snacks                    16.0     1657973\n",
       "frozen                    18.0     1211890\n",
       "bakery                    15.0      739188\n",
       "pantry                    30.0      650301\n",
       "deli                      16.0      638864\n",
       "canned goods              23.0      488535\n",
       "meat seafood              19.0      402442\n",
       "dry goods pasta           26.0      399581\n",
       "breakfast                 20.0      398013\n",
       "household                 30.0      297075\n",
       "babies                    15.0      245369\n",
       "personal care             31.0      143584\n",
       "international             23.0       99416\n",
       "alcohol                   13.0       87595\n",
       "pets                      18.0       58760\n",
       "missing                   11.0       27371\n",
       "bulk                      15.0       19950\n",
       "other                     19.0       14806"
      ]
     },
     "execution_count": 15,
     "metadata": {},
     "output_type": "execute_result"
    }
   ],
   "source": [
    "# median times by department\n",
    "\n",
    "#ropDecode.groupby('department').item_lapse.median().sort_values()\n",
    "\n",
    "\n",
    "ropMedianQuantity = ropDecode.groupby('department').agg(lapsed_median=('item_lapse','median' ), \n",
    "                                    item_count=('order_id','count')).sort_values('item_count',ascending=False)\n",
    "ropMedianQuantity"
   ]
  },
  {
   "cell_type": "code",
   "execution_count": 16,
   "metadata": {},
   "outputs": [
    {
     "data": {
      "text/plain": [
       "Text(0, 0.5, 'Gap Medain (days)')"
      ]
     },
     "execution_count": 16,
     "metadata": {},
     "output_type": "execute_result"
    },
    {
     "data": {
      "image/png": "[encoded data removed]",
      "text/plain": [
       "<Figure size 432x288 with 1 Axes>"
      ]
     },
     "metadata": {},
     "output_type": "display_data"
    }
   ],
   "source": [
    "plt.scatter(x=ropMedianQuantity.item_count, y = ropMedianQuantity.lapsed_median)\n",
    "plt.title('Reorder Gap vs Volume')\n",
    "plt.xlabel('Basket Count')\n",
    "plt.ylabel('Gap Medain (days)')"
   ]
  },
  {
   "cell_type": "code",
   "execution_count": 17,
   "metadata": {},
   "outputs": [
    {
     "data": {
      "text/html": [
       "<div>\n",
       "<style scoped>\n",
       "    .dataframe tbody tr th:only-of-type {\n",
       "        vertical-align: middle;\n",
       "    }\n",
       "\n",
       "    .dataframe tbody tr th {\n",
       "        vertical-align: top;\n",
       "    }\n",
       "\n",
       "    .dataframe thead th {\n",
       "        text-align: right;\n",
       "    }\n",
       "</style>\n",
       "<table border=\"1\" class=\"dataframe\">\n",
       "  <thead>\n",
       "    <tr style=\"text-align: right;\">\n",
       "      <th></th>\n",
       "      <th>lapsed_median</th>\n",
       "      <th>item_count</th>\n",
       "    </tr>\n",
       "    <tr>\n",
       "      <th>department</th>\n",
       "      <th></th>\n",
       "      <th></th>\n",
       "    </tr>\n",
       "  </thead>\n",
       "  <tbody>\n",
       "    <tr>\n",
       "      <td>missing</td>\n",
       "      <td>11.0</td>\n",
       "      <td>27371</td>\n",
       "    </tr>\n",
       "    <tr>\n",
       "      <td>alcohol</td>\n",
       "      <td>13.0</td>\n",
       "      <td>87595</td>\n",
       "    </tr>\n",
       "    <tr>\n",
       "      <td>dairy eggs</td>\n",
       "      <td>14.0</td>\n",
       "      <td>3627221</td>\n",
       "    </tr>\n",
       "    <tr>\n",
       "      <td>beverages</td>\n",
       "      <td>14.0</td>\n",
       "      <td>1757892</td>\n",
       "    </tr>\n",
       "    <tr>\n",
       "      <td>produce</td>\n",
       "      <td>15.0</td>\n",
       "      <td>6160710</td>\n",
       "    </tr>\n",
       "    <tr>\n",
       "      <td>bakery</td>\n",
       "      <td>15.0</td>\n",
       "      <td>739188</td>\n",
       "    </tr>\n",
       "    <tr>\n",
       "      <td>bulk</td>\n",
       "      <td>15.0</td>\n",
       "      <td>19950</td>\n",
       "    </tr>\n",
       "    <tr>\n",
       "      <td>babies</td>\n",
       "      <td>15.0</td>\n",
       "      <td>245369</td>\n",
       "    </tr>\n",
       "    <tr>\n",
       "      <td>snacks</td>\n",
       "      <td>16.0</td>\n",
       "      <td>1657973</td>\n",
       "    </tr>\n",
       "    <tr>\n",
       "      <td>deli</td>\n",
       "      <td>16.0</td>\n",
       "      <td>638864</td>\n",
       "    </tr>\n",
       "    <tr>\n",
       "      <td>frozen</td>\n",
       "      <td>18.0</td>\n",
       "      <td>1211890</td>\n",
       "    </tr>\n",
       "    <tr>\n",
       "      <td>pets</td>\n",
       "      <td>18.0</td>\n",
       "      <td>58760</td>\n",
       "    </tr>\n",
       "    <tr>\n",
       "      <td>other</td>\n",
       "      <td>19.0</td>\n",
       "      <td>14806</td>\n",
       "    </tr>\n",
       "    <tr>\n",
       "      <td>meat seafood</td>\n",
       "      <td>19.0</td>\n",
       "      <td>402442</td>\n",
       "    </tr>\n",
       "    <tr>\n",
       "      <td>breakfast</td>\n",
       "      <td>20.0</td>\n",
       "      <td>398013</td>\n",
       "    </tr>\n",
       "    <tr>\n",
       "      <td>international</td>\n",
       "      <td>23.0</td>\n",
       "      <td>99416</td>\n",
       "    </tr>\n",
       "    <tr>\n",
       "      <td>canned goods</td>\n",
       "      <td>23.0</td>\n",
       "      <td>488535</td>\n",
       "    </tr>\n",
       "    <tr>\n",
       "      <td>dry goods pasta</td>\n",
       "      <td>26.0</td>\n",
       "      <td>399581</td>\n",
       "    </tr>\n",
       "    <tr>\n",
       "      <td>pantry</td>\n",
       "      <td>30.0</td>\n",
       "      <td>650301</td>\n",
       "    </tr>\n",
       "    <tr>\n",
       "      <td>household</td>\n",
       "      <td>30.0</td>\n",
       "      <td>297075</td>\n",
       "    </tr>\n",
       "    <tr>\n",
       "      <td>personal care</td>\n",
       "      <td>31.0</td>\n",
       "      <td>143584</td>\n",
       "    </tr>\n",
       "  </tbody>\n",
       "</table>\n",
       "</div>"
      ],
      "text/plain": [
       "                 lapsed_median  item_count\n",
       "department                                \n",
       "missing                   11.0       27371\n",
       "alcohol                   13.0       87595\n",
       "dairy eggs                14.0     3627221\n",
       "beverages                 14.0     1757892\n",
       "produce                   15.0     6160710\n",
       "bakery                    15.0      739188\n",
       "bulk                      15.0       19950\n",
       "babies                    15.0      245369\n",
       "snacks                    16.0     1657973\n",
       "deli                      16.0      638864\n",
       "frozen                    18.0     1211890\n",
       "pets                      18.0       58760\n",
       "other                     19.0       14806\n",
       "meat seafood              19.0      402442\n",
       "breakfast                 20.0      398013\n",
       "international             23.0       99416\n",
       "canned goods              23.0      488535\n",
       "dry goods pasta           26.0      399581\n",
       "pantry                    30.0      650301\n",
       "household                 30.0      297075\n",
       "personal care             31.0      143584"
      ]
     },
     "execution_count": 17,
     "metadata": {},
     "output_type": "execute_result"
    }
   ],
   "source": [
    "ropMedianQuantity.sort_values('lapsed_median')"
   ]
  },
  {
   "cell_type": "code",
   "execution_count": null,
   "metadata": {},
   "outputs": [],
   "source": []
  }
 ],
 "metadata": {
  "kernelspec": {
   "display_name": "Python 3",
   "language": "python",
   "name": "python3"
  },
  "language_info": {
   "codemirror_mode": {
    "name": "ipython",
    "version": 3
   },
   "file_extension": ".py",
   "mimetype": "text/x-python",
   "name": "python",
   "nbconvert_exporter": "python",
   "pygments_lexer": "ipython3",
   "version": "3.7.4"
  }
 },
 "nbformat": 4,
 "nbformat_minor": 2
}
