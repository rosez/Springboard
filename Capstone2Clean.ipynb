{
  "nbformat": 4,
  "nbformat_minor": 0,
  "metadata": {
    "colab": {
      "name": "Capstone2Clean",
      "provenance": [],
      "collapsed_sections": [],
      "toc_visible": true,
      "authorship_tag": "ABX9TyNeQ2Z6f5Srf9krYd4Oi9ZB",
      "include_colab_link": true
    },
    "kernelspec": {
      "name": "python3",
      "display_name": "Python 3"
    },
    "accelerator": "GPU"
  },
  "cells": [
    {
      "cell_type": "markdown",
      "metadata": {
        "id": "view-in-github",
        "colab_type": "text"
      },
      "source": [
        "<a href=\"https://colab.research.google.com/github/rosez/Springboard/blob/master/Capstone2Clean.ipynb\" target=\"_parent\"><img src=\"https://colab.research.google.com/assets/colab-badge.svg\" alt=\"Open In Colab\"/></a>"
      ]
    },
    {
      "cell_type": "code",
      "metadata": {
        "id": "Eq26_5st8vwH",
        "colab_type": "code",
        "colab": {}
      },
      "source": [
        ""
      ],
      "execution_count": 0,
      "outputs": []
    },
    {
      "cell_type": "markdown",
      "metadata": {
        "id": "enrAzW-7s1YC",
        "colab_type": "text"
      },
      "source": [
        "# Capstone2 : Apparel Images\n",
        "\n",
        "\n",
        "This project evaluates models to classify the Kaggle Apparel image dataset. Due to resource contraints on the initial implementation on local laptop, it uses 10 classes or the original 24 classes in the dataset.\n",
        "\n",
        "The project uses a Convolutional Neural Network (CNN).\n",
        "\n",
        "It allows the user to compare various models and configurations.\n",
        "\n",
        "It is currently setup to run in a Google CoLab notebook.\n",
        "\n",
        "We consider multiple models, of varying archetectures (ie., convolution/pool/dense layers and nodes). The models are defined in the module x10MakeModel section.  You specify a 'suffix' to indicate which model to use.\n",
        "\n",
        "Run the project in the main.py section.  The first few sections are setup; the RunMe section allows for running subsets of models and parameters. It uses multiple lists, and will run all combinations of the list entries.\n",
        "\n",
        "\n",
        "\n",
        "**LISTS:**\n",
        "\n",
        "**suffixes**: \tmodel suffixes -- predefined models in the X10MakeModel section\n",
        "\n",
        "**optnames**: \tlist of (encoded) optimizers...they will be decoded in the 'xOptimizer' function.\n",
        "\n",
        "**learning_rates**: learning rates (NOTE: since the learning rate varies by optimizer, will have to do a different call for each optimzer ...it might make more sense to convert this to a dictionary).\n",
        "\n",
        "\n",
        "**pixels**: \timage size (square) in  pixels\n",
        "\n",
        "\n",
        "\n",
        "**SAVED INFORMATION:**\n",
        "\n",
        "For each model, it saves the following:\n",
        "\n",
        "* the trained model parameters\n",
        "* the model.fit() history\n",
        "* plots for loss and accuracy progression during model trainung epochs, for the training and validation data\n",
        "\n",
        "\n",
        " \n",
        "This project uses the Kaggle Apparel dataset\n",
        "\n",
        "\n",
        " \n",
        "\n"
      ]
    },
    {
      "cell_type": "markdown",
      "metadata": {
        "id": "toRRBYhe5IHC",
        "colab_type": "text"
      },
      "source": [
        "# Import tf to find out version\n",
        "\n"
      ]
    },
    {
      "cell_type": "code",
      "metadata": {
        "id": "tSarfeWVVGrF",
        "colab_type": "code",
        "colab": {}
      },
      "source": [
        "import tensorflow as tf\n"
      ],
      "execution_count": 0,
      "outputs": []
    },
    {
      "cell_type": "code",
      "metadata": {
        "id": "MbyCdt455hJW",
        "colab_type": "code",
        "outputId": "81067f65-1d1b-4b2c-9b7d-4e45e5bd7b3c",
        "colab": {
          "base_uri": "https://localhost:8080/",
          "height": 36
        }
      },
      "source": [
        "print(tf.__version__)"
      ],
      "execution_count": 2,
      "outputs": [
        {
          "output_type": "stream",
          "text": [
            "2.2.0\n"
          ],
          "name": "stdout"
        }
      ]
    },
    {
      "cell_type": "code",
      "metadata": {
        "id": "dX9jxMP2Vwjm",
        "colab_type": "code",
        "outputId": "6d2409d1-43a9-4b63-927f-928f2befe486",
        "colab": {
          "base_uri": "https://localhost:8080/",
          "height": 332
        }
      },
      "source": [
        "#tf.test.gpu_device_name()\n",
        "\n",
        "gpu_info = !nvidia-smi\n",
        "gpu_info = '\\n'.join(gpu_info)\n",
        "if gpu_info.find('failed') >= 0:\n",
        "  print('Select the Runtime → \"Change runtime type\" menu to enable a GPU accelerator, ')\n",
        "  print('and then re-execute this cell.')\n",
        "else:\n",
        "  print(gpu_info)"
      ],
      "execution_count": 3,
      "outputs": [
        {
          "output_type": "stream",
          "text": [
            "Tue Jun  2 14:25:48 2020       \n",
            "+-----------------------------------------------------------------------------+\n",
            "| NVIDIA-SMI 440.82       Driver Version: 418.67       CUDA Version: 10.1     |\n",
            "|-------------------------------+----------------------+----------------------+\n",
            "| GPU  Name        Persistence-M| Bus-Id        Disp.A | Volatile Uncorr. ECC |\n",
            "| Fan  Temp  Perf  Pwr:Usage/Cap|         Memory-Usage | GPU-Util  Compute M. |\n",
            "|===============================+======================+======================|\n",
            "|   0  Tesla P100-PCIE...  Off  | 00000000:00:04.0 Off |                    0 |\n",
            "| N/A   44C    P0    31W / 250W |      0MiB / 16280MiB |      0%      Default |\n",
            "+-------------------------------+----------------------+----------------------+\n",
            "                                                                               \n",
            "+-----------------------------------------------------------------------------+\n",
            "| Processes:                                                       GPU Memory |\n",
            "|  GPU       PID   Type   Process name                             Usage      |\n",
            "|=============================================================================|\n",
            "|  No running processes found                                                 |\n",
            "+-----------------------------------------------------------------------------+\n"
          ],
          "name": "stdout"
        }
      ]
    },
    {
      "cell_type": "markdown",
      "metadata": {
        "id": "GJOu5v61hm0A",
        "colab_type": "text"
      },
      "source": [
        ""
      ]
    },
    {
      "cell_type": "markdown",
      "metadata": {
        "id": "yqs9OPua5h-l",
        "colab_type": "text"
      },
      "source": [
        "# Connect to Google drive\n"
      ]
    },
    {
      "cell_type": "code",
      "metadata": {
        "id": "VpESIZO1VrW5",
        "colab_type": "code",
        "outputId": "d7445977-b289-4c8f-85e1-980f582b8c30",
        "colab": {
          "base_uri": "https://localhost:8080/",
          "height": 130
        }
      },
      "source": [
        "from google.colab import drive\n",
        "drive.mount('/content/gdrive')"
      ],
      "execution_count": 4,
      "outputs": [
        {
          "output_type": "stream",
          "text": [
            "Go to this URL in a browser: https://accounts.google.com/o/oauth2/auth?client_id=947318989803-6bn6qk8qdgf4n4g3pfee6491hc0brc4i.apps.googleusercontent.com&redirect_uri=urn%3aietf%3awg%3aoauth%3a2.0%3aoob&response_type=code&scope=email%20https%3a%2f%2fwww.googleapis.com%2fauth%2fdocs.test%20https%3a%2f%2fwww.googleapis.com%2fauth%2fdrive%20https%3a%2f%2fwww.googleapis.com%2fauth%2fdrive.photos.readonly%20https%3a%2f%2fwww.googleapis.com%2fauth%2fpeopleapi.readonly\n",
            "\n",
            "Enter your authorization code:\n",
            "··········\n",
            "Mounted at /content/gdrive\n"
          ],
          "name": "stdout"
        }
      ]
    },
    {
      "cell_type": "code",
      "metadata": {
        "id": "wfLsFW9Qehgt",
        "colab_type": "code",
        "outputId": "569048f9-6072-4699-ec50-809abf71b081",
        "colab": {
          "base_uri": "https://localhost:8080/",
          "height": 36
        }
      },
      "source": [
        "!ls \"/content/gdrive/My Drive/Capstone2/data/\""
      ],
      "execution_count": 5,
      "outputs": [
        {
          "output_type": "stream",
          "text": [
            "apparelSmallTest  apparelSmallTrain  apparelSmallValidate  capstone2.ipynb\n"
          ],
          "name": "stdout"
        }
      ]
    },
    {
      "cell_type": "markdown",
      "metadata": {
        "id": "Hbw2iJMo-7Lf",
        "colab_type": "text"
      },
      "source": [
        "# Moving on ...done with CoLab stuf"
      ]
    },
    {
      "cell_type": "markdown",
      "metadata": {
        "id": "5YenQ_jSjQXs",
        "colab_type": "text"
      },
      "source": [
        "## Import modules\n",
        "\n"
      ]
    },
    {
      "cell_type": "code",
      "metadata": {
        "id": "nQBsl1_OexB3",
        "colab_type": "code",
        "colab": {}
      },
      "source": [
        "import os\n",
        "\n",
        "import tensorflow as tf\n",
        "\n",
        "import matplotlib.pyplot as plt\n",
        "import math\n",
        "\n",
        " \n",
        "from tensorflow.keras.callbacks import EarlyStopping\n",
        "from tensorflow.keras.callbacks import LearningRateScheduler\n"
      ],
      "execution_count": 0,
      "outputs": []
    },
    {
      "cell_type": "code",
      "metadata": {
        "id": "ioZ8CKgS1sKX",
        "colab_type": "code",
        "colab": {}
      },
      "source": [
        ""
      ],
      "execution_count": 0,
      "outputs": []
    },
    {
      "cell_type": "markdown",
      "metadata": {
        "id": "PRZDnaqwbfhD",
        "colab_type": "text"
      },
      "source": [
        "# Function Definitions"
      ]
    },
    {
      "cell_type": "markdown",
      "metadata": {
        "id": "Dt1eyPxHjRW_",
        "colab_type": "text"
      },
      "source": [
        "## setPixels()"
      ]
    },
    {
      "cell_type": "markdown",
      "metadata": {
        "id": "GLxFdPmnS3ca",
        "colab_type": "text"
      },
      "source": [
        "variables used  for image size"
      ]
    },
    {
      "cell_type": "code",
      "metadata": {
        "id": "Ho7jWS4kbi5H",
        "colab_type": "code",
        "colab": {}
      },
      "source": [
        "def setPixels(img_rows, img_cols, depth=3):\n",
        "    # input image dimensions\n",
        "    img_rows, img_cols = 150, 150\n",
        "    input_shape = (img_rows, img_cols, depth)\n",
        "\n",
        "    target_size = input_shape[:2]\n",
        "    return (input_shape, target_size)\n",
        "\n"
      ],
      "execution_count": 0,
      "outputs": []
    },
    {
      "cell_type": "markdown",
      "metadata": {
        "id": "ZxtTG96NLxia",
        "colab_type": "text"
      },
      "source": [
        "##xOptimizer\n"
      ]
    },
    {
      "cell_type": "markdown",
      "metadata": {
        "id": "afq_eQpQLqv6",
        "colab_type": "text"
      },
      "source": [
        "Decode optimizer name"
      ]
    },
    {
      "cell_type": "code",
      "metadata": {
        "id": "acOzt8yNmdn-",
        "colab_type": "code",
        "colab": {}
      },
      "source": [
        "\n",
        "def getOptimizer(optName, learning_rate, epochs):\n",
        "    if optname == 'Adam':\n",
        "        xoptimizer = tf.keras.optimizers.Adam(learning_rate=learning_rate)\n",
        "    if optname == 'amsgrad':\n",
        "        xoptimizer = tf.keras.optimizers.Adam(learning_rate=learning_rate, amsgrad=True)\n",
        "        \n",
        "    if optname == 'Sgd':\n",
        "        momentum = 0.8\n",
        "        #epochs = 250\n",
        "        decay_rate = learning_rate / epochs\n",
        "        xoptimizer = tf.keras.optimizers.SGD(learning_rate=learning_rate, momentum=momentum, decay=decay_rate)\n",
        "    if optname =='sgdStep':\n",
        "        momentum = 0.8\n",
        "        xoptimizer = tf.keras.optimizers.SGD(learning_rate=0.0, momentum=momentum)\n",
        "        \n",
        "    return xoptimizer\n",
        "\n",
        " \n",
        "\n"
      ],
      "execution_count": 0,
      "outputs": []
    },
    {
      "cell_type": "markdown",
      "metadata": {
        "id": "x_0llShGbyx-",
        "colab_type": "text"
      },
      "source": [
        "## Data Generators"
      ]
    },
    {
      "cell_type": "code",
      "metadata": {
        "id": "0L0pPTEy058y",
        "colab_type": "code",
        "colab": {}
      },
      "source": [
        "def dataGenerators(target_size):\n",
        "    #!!import tensorflow as tf\n",
        "    import keras_preprocessing\n",
        "    from keras_preprocessing import image\n",
        "    from keras_preprocessing.image import ImageDataGenerator\n",
        "    \n",
        "    TRAINING_DIR = trainingdir\n",
        "    training_datagen = ImageDataGenerator(\n",
        "          rescale = 1./255,\n",
        "    \t  rotation_range=40,\n",
        "          width_shift_range=0.2,\n",
        "          height_shift_range=0.2,\n",
        "          shear_range=0.2,\n",
        "          zoom_range=0.2,\n",
        "          horizontal_flip=True,\n",
        "          fill_mode='nearest')\n",
        "    \n",
        "    \n",
        "    VALIDATION_DIR = validdir\n",
        "    validation_datagen = ImageDataGenerator(rescale = 1./255)\n",
        "\n",
        "    \n",
        "    train_generator = training_datagen.flow_from_directory(\n",
        "    \tTRAINING_DIR,\n",
        "    \ttarget_size=target_size,\n",
        "        color_mode='rgb',\n",
        "    \tclass_mode='categorical'\n",
        "    )\n",
        "    \n",
        "    validation_generator = validation_datagen.flow_from_directory(\n",
        "    \tVALIDATION_DIR,\n",
        "    \ttarget_size=target_size,\n",
        "        color_mode='rgb',\n",
        "    \tclass_mode='categorical'\n",
        "    )\n",
        "\n",
        "    \n",
        "    return train_generator, validation_generator\n",
        "    \n",
        "\n",
        "\n",
        "def testDataGenerator(target_size):\n",
        "    #!!import tensorflow as tf\n",
        "    import keras_preprocessing\n",
        "    from keras_preprocessing import image\n",
        "    from keras_preprocessing.image import ImageDataGenerator\n",
        "    \n",
        " \n",
        "    TEST_DIR = testdir\n",
        "    test_datagen = ImageDataGenerator(rescale = 1./255)\n",
        "    \n",
        "    \n",
        "    test_generator = test_datagen.flow_from_directory(\n",
        "    \tTEST_DIR,\n",
        "    \ttarget_size=target_size,\n",
        "        color_mode='rgb',\n",
        "    \tclass_mode='categorical'\n",
        "    )\n",
        "    \n",
        "    return test_generator\n",
        "\n",
        "\n",
        "     "
      ],
      "execution_count": 0,
      "outputs": []
    },
    {
      "cell_type": "markdown",
      "metadata": {
        "id": "1scb-zLWji2L",
        "colab_type": "text"
      },
      "source": [
        "## Save Results\n",
        "* pickle the history file\n",
        "* plot and Save model history\n",
        "* save the evaluation output\n"
      ]
    },
    {
      "cell_type": "code",
      "metadata": {
        "id": "cNgly19aityg",
        "colab_type": "code",
        "colab": {}
      },
      "source": [
        "\n",
        "\n",
        "def pickleHist(history, filename):\n",
        "    import pickle\n",
        " \n",
        "    pfilename = filename + '.pkl'\n",
        "    with open(pfilename, 'wb') as file_pi:\n",
        "            pickle.dump(history.history, file_pi)\n",
        "\n",
        "\n",
        "\n",
        "def pickleEval(eval_output, filename):\n",
        "    import pickle\n",
        " \n",
        "    pfilename = filename + '.pkl'\n",
        "    with open(pfilename, 'wb') as file_pi:\n",
        "            pickle.dump(eval_output, file_pi)           \n",
        "        \n",
        "def plotModelHistory(history, suffix):\n",
        "# Plot training & validation accuracy values\n",
        "    plt.plot(history.history['accuracy'])\n",
        "    plt.plot(history.history['val_accuracy'])\n",
        "    plt.title('Model{0} accuracy'.format(suffix))\n",
        "    plt.ylabel('Accuracy')\n",
        "    plt.xlabel('Epoch')\n",
        "    plt.legend(['Train', 'Test'], loc='upper left')\n",
        "    plt.show()\n",
        "    \n",
        "    # Plot training & validation loss values\n",
        "    plt.plot(history.history['loss'])\n",
        "    plt.plot(history.history['val_loss'])\n",
        "    plt.title('Model{0} loss'.format(suffix))\n",
        "    plt.ylabel('Loss')\n",
        "    plt.xlabel('Epoch')\n",
        "    plt.legend(['Train', 'Test'], loc='upper left')\n",
        "    plt.show()\n",
        "\n",
        "\n",
        "def plotSaveModelHistory(history, saveInfo, history_path):\n",
        "# Plot training & validation accuracy values\n",
        "    plt.plot(history.history['accuracy'])\n",
        "    plt.plot(history.history['val_accuracy'])\n",
        "    plt.title('Model{0} accuracy'.format(saveInfo))\n",
        "    plt.ylabel('Accuracy')\n",
        "    plt.xlabel('Epoch')\n",
        "    plt.legend(['Train', 'Test'], loc='upper left')\n",
        "\n",
        "    \n",
        "    savefile = history_path + 'Accuracy' + saveInfo + '.pdf'\n",
        "    plt.savefig(savefile)\n",
        "    plt.show()\n",
        " \n",
        "    \n",
        "    # Plot training & validation loss values\n",
        "    plt.plot(history.history['loss'])\n",
        "    plt.plot(history.history['val_loss'])\n",
        "    plt.title('Model{0} loss'.format(saveInfo))\n",
        "    plt.ylabel('Loss')\n",
        "    plt.xlabel('Epoch')\n",
        "    plt.legend(['Train', 'Test'], loc='upper left')\n",
        "    \n",
        "    savefile = history_path + 'Loss' + saveInfo + '.pdf'\n",
        "    plt.savefig(savefile)\n",
        "    plt.show()\n",
        "    "
      ],
      "execution_count": 0,
      "outputs": []
    },
    {
      "cell_type": "code",
      "metadata": {
        "id": "0FPVmf9Umru9",
        "colab_type": "code",
        "colab": {}
      },
      "source": [
        ""
      ],
      "execution_count": 0,
      "outputs": []
    },
    {
      "cell_type": "code",
      "metadata": {
        "id": "GOGvDpZmit_3",
        "colab_type": "code",
        "colab": {}
      },
      "source": [
        ""
      ],
      "execution_count": 0,
      "outputs": []
    },
    {
      "cell_type": "markdown",
      "metadata": {
        "id": "kBxVdNN_kCSS",
        "colab_type": "text"
      },
      "source": [
        "## x10MakeModel.py\n",
        "Make model based on suffix parameter\n"
      ]
    },
    {
      "cell_type": "code",
      "metadata": {
        "id": "Pf2rXWwOj3Ar",
        "colab_type": "code",
        "colab": {}
      },
      "source": [
        "# -*- coding: utf-8 -*-\n",
        "\"\"\"\n",
        "Created on Fri Apr 17 12:29:25 2020\n",
        "\n",
        "@author: rozoe\n",
        "\"\"\"\n",
        "\n",
        "\n",
        "\n",
        "def make_model(suffix, num_classes, input_shape):\n",
        "\n",
        "#    num_classes, input_shape, learning_rate, epochs = getGlobalParms()\n",
        "    if suffix==1:\n",
        "        print('model1')\n",
        "    \n",
        "        model = tf.keras.models.Sequential([\n",
        "            # Note the input shape is the desired size of the image 150x150 with 3 bytes color\n",
        "            # This is the first convolution\n",
        "            tf.keras.layers.Conv2D(32, (3,3), activation='relu', input_shape=input_shape),\n",
        "            tf.keras.layers.MaxPooling2D(2, 2),\n",
        "            # The second convolution\n",
        "        #    tf.keras.layers.Conv2D(64, (3,3), activation='relu'),\n",
        "        #    tf.keras.layers.MaxPooling2D(2,2),\n",
        "            # The third convolution\n",
        "        #    tf.keras.layers.Conv2D(128, (3,3), activation='relu'),\n",
        "        #    tf.keras.layers.MaxPooling2D(2,2),\n",
        "            # The fourth convolution\n",
        "            tf.keras.layers.Conv2D(64, (3,3), activation='relu'),\n",
        "            tf.keras.layers.MaxPooling2D(2,2),\n",
        "            # Flatten the results to feed into a DNN\n",
        "            tf.keras.layers.Flatten(),\n",
        "            tf.keras.layers.Dropout(0.5),\n",
        "            # 512 neuron hidden layer\n",
        "            tf.keras.layers.Dense(128, activation='relu'),\n",
        "            tf.keras.layers.Dense(num_classes, activation='softmax')\n",
        "        ])\n",
        "        return model\n",
        "\n",
        " \n",
        "\n",
        "    ################### model 2: add another conv/pool layer ################\n",
        "    # del model2\n",
        "\n",
        "    elif (suffix==2):\n",
        "        print('model2')\n",
        " \n",
        "        model2c = tf.keras.models.Sequential([\n",
        "            # Note the input shape is the desired size of the image 150x150 with 3 bytes color\n",
        "            # This is the first convolution\n",
        "            tf.keras.layers.Conv2D(32, (3,3), activation='relu', input_shape=input_shape),\n",
        "            tf.keras.layers.MaxPooling2D(2, 2),\n",
        "            # The second convolution\n",
        "            tf.keras.layers.Conv2D(64, (3,3), activation='relu'),\n",
        "            tf.keras.layers.MaxPooling2D(2,2),\n",
        "            # The third convolution\n",
        "        #    tf.keras.layers.Conv2D(128, (3,3), activation='relu'),\n",
        "        #    tf.keras.layers.MaxPooling2D(2,2),\n",
        "            # The fourth convolution\n",
        "            tf.keras.layers.Conv2D(64, (3,3), activation='relu'),\n",
        "            tf.keras.layers.MaxPooling2D(2,2),\n",
        "            # Flatten the results to feed into a DNN\n",
        "            tf.keras.layers.Flatten(),\n",
        "            tf.keras.layers.Dropout(0.5),\n",
        "            # 512 neuron hidden layer\n",
        "            tf.keras.layers.Dense(128, activation='relu'),\n",
        "            tf.keras.layers.Dense(num_classes, activation='softmax')\n",
        "        ])\n",
        "        return model2c\n",
        "\n",
        "\n",
        "################### model 3: the original overfitted model ################\n",
        "    elif (suffix==3): \n",
        "        print('model3')\n",
        "        \n",
        "\n",
        "         \n",
        "        model3 = tf.keras.models.Sequential([\n",
        "            # Note the input shape is the desired size of the image 150x150 with 3 bytes color\n",
        "            # This is the first convolution\n",
        "            tf.keras.layers.Conv2D(64, (3,3), activation='relu', input_shape=input_shape),\n",
        "            tf.keras.layers.MaxPooling2D(2, 2),\n",
        "            # The second convolution\n",
        "            tf.keras.layers.Conv2D(128, (3,3), activation='relu'),\n",
        "            tf.keras.layers.MaxPooling2D(2,2),\n",
        "            # The third convolution\n",
        "            tf.keras.layers.Conv2D(256, (3,3), activation='relu'),\n",
        "            tf.keras.layers.MaxPooling2D(2,2),\n",
        "            # Flatten the results to feed into a DNN\n",
        "            tf.keras.layers.Flatten(),\n",
        "            tf.keras.layers.Dropout(0.5),\n",
        "            # 512 neuron hidden layer\n",
        "            tf.keras.layers.Dense(512, activation='relu'),\n",
        "            tf.keras.layers.Dense(num_classes, activation='softmax')\n",
        "        ])\n",
        "        return model3\n",
        " \n",
        "\n",
        "\n",
        "################### model 4: complex model inspired by asifbala (from Ankur) ################\n",
        "    elif suffix==4:\n",
        " \n",
        "        model4 = tf.keras.models.Sequential([\n",
        "            # Note the input shape is the desired size of the image 150x150 with 3 bytes color\n",
        "            # This is the first convolution\n",
        "            tf.keras.layers.Conv2D(64, (3,3), activation='relu', input_shape=input_shape),\n",
        "            tf.keras.layers.Conv2D(64, (3,3), activation='relu'),\n",
        "            tf.keras.layers.MaxPooling2D(2, 2),\n",
        "            # The second convolution\n",
        "        #    tf.keras.layers.Conv2D(64, (3,3), activation='relu'),\n",
        "        #    tf.keras.layers.MaxPooling2D(2,2),\n",
        "            # The third convolution\n",
        "            tf.keras.layers.Conv2D(128, (3,3), activation='relu'),\n",
        "            tf.keras.layers.Conv2D(128, (3,3), activation='relu'),\n",
        "            tf.keras.layers.MaxPooling2D(2,2),\n",
        "            # The fourth convolution\n",
        "            tf.keras.layers.Conv2D(256, (3,3), activation='relu'),\n",
        "            tf.keras.layers.Conv2D(256, (3,3), activation='relu'),\n",
        "            tf.keras.layers.MaxPooling2D(2,2),\n",
        "            # Flatten the results to feed into a DNN\n",
        "            tf.keras.layers.Flatten(),\n",
        "            tf.keras.layers.Dropout(0.5),\n",
        "            # 512 neuron hidden layer\n",
        "            tf.keras.layers.Dense(512, activation='relu'),\n",
        "            tf.keras.layers.Dense(num_classes, activation='softmax')\n",
        "        ])\n",
        "        \n",
        "        return model4\n",
        " \n",
        "    elif suffix==5:\n",
        " \n",
        "################### model 5: pare down m4...too much memory ################\n",
        "# two conv layers before pooling\n",
        "        model5 = tf.keras.models.Sequential([\n",
        "            # Note the input shape is the desired size of the image 150x150 with 3 bytes color\n",
        "            # This is the first convolution\n",
        "            tf.keras.layers.Conv2D(64, (3,3), activation='relu', input_shape=input_shape),\n",
        "            tf.keras.layers.Conv2D(64, (3,3), activation='relu'),\n",
        "            tf.keras.layers.MaxPooling2D(2, 2),\n",
        "            # The second convolution\n",
        "        #    tf.keras.layers.Conv2D(64, (3,3), activation='relu'),\n",
        "        #    tf.keras.layers.MaxPooling2D(2,2),\n",
        "            # The third convolution\n",
        "            tf.keras.layers.Conv2D(128, (3,3), activation='relu'),\n",
        "            tf.keras.layers.Conv2D(128, (3,3), activation='relu'),\n",
        "            tf.keras.layers.MaxPooling2D(2,2),\n",
        "            # The fourth convolution\n",
        "        #    tf.keras.layers.Conv2D(256, (3,3), activation='relu'),\n",
        "        #    tf.keras.layers.Conv2D(256, (3,3), activation='relu'),\n",
        "        #    tf.keras.layers.MaxPooling2D(2,2),\n",
        "            # Flatten the results to feed into a DNN\n",
        "            tf.keras.layers.Flatten(),\n",
        "            tf.keras.layers.Dropout(0.5),\n",
        "            # 512 neuron hidden layer\n",
        "            tf.keras.layers.Dense(512, activation='relu'),\n",
        "            tf.keras.layers.Dense(num_classes, activation='softmax')\n",
        "        ])\n",
        "        \n",
        "     \n",
        "        return model5\n",
        "        \n",
        "    elif suffix==6:\n",
        "################### model 6: pare down m5, since it crashes the pc ################\n",
        "# two conv layers before pooling\n",
        "\n",
        " \n",
        "        model6 = tf.keras.models.Sequential([\n",
        "            # Note the input shape is the desired size of the image 150x150 with 3 bytes color\n",
        "            # This is the first convolution\n",
        "            tf.keras.layers.Conv2D(32, (3,3), activation='relu', input_shape=input_shape),\n",
        "            tf.keras.layers.Conv2D(32, (3,3), activation='relu'),\n",
        "            tf.keras.layers.MaxPooling2D(2, 2),\n",
        "            # The second convolution\n",
        "        #    tf.keras.layers.Conv2D(64, (3,3), activation='relu'),\n",
        "        #    tf.keras.layers.MaxPooling2D(2,2),\n",
        "            # The third convolution\n",
        "            tf.keras.layers.Conv2D(64, (3,3), activation='relu'),\n",
        "            tf.keras.layers.Conv2D(64, (3,3), activation='relu'),\n",
        "            tf.keras.layers.MaxPooling2D(2,2),\n",
        "            # The fourth convolution\n",
        "        #    tf.keras.layers.Conv2D(256, (3,3), activation='relu'),\n",
        "        #    tf.keras.layers.Conv2D(256, (3,3), activation='relu'),\n",
        "        #    tf.keras.layers.MaxPooling2D(2,2),\n",
        "            # Flatten the results to feed into a DNN\n",
        "            tf.keras.layers.Flatten(),\n",
        "            tf.keras.layers.Dropout(0.5),\n",
        "            # 512 neuron hidden layer\n",
        "            tf.keras.layers.Dense(512, activation='relu'),\n",
        "            tf.keras.layers.Dense(num_classes, activation='softmax')\n",
        "        ])\n",
        "        \n",
        "        return model6\n",
        "     \n",
        "    elif suffix==7:\n",
        "################### model 7: M4 + 2blocks  ################\n",
        "# redo first model, but no pooling after first step \n",
        "# ...exceeds memory during make_model()\n",
        "        model7 = tf.keras.models.Sequential([\n",
        "            # Note the input shape is the desired size of the image 150x150 with 3 bytes color\n",
        "            # This is the first convolution\n",
        "            tf.keras.layers.Conv2D(64, (3,3), activation='relu', input_shape=input_shape),\n",
        "            tf.keras.layers.Conv2D(64, (3,3), activation='relu', padding='same'),\n",
        "            tf.keras.layers.MaxPooling2D(2, 2),\n",
        "            # The second convolution\n",
        "        #    tf.keras.layers.Conv2D(64, (3,3), activation='relu'),\n",
        "        #    tf.keras.layers.MaxPooling2D(2,2),\n",
        "            # The third convolution\n",
        "            tf.keras.layers.Conv2D(128, (3,3), activation='relu', padding='same'),\n",
        "            tf.keras.layers.Conv2D(128, (3,3), activation='relu', padding='same'),\n",
        "            tf.keras.layers.MaxPooling2D(2,2),\n",
        "            # The fourth convolution\n",
        "            tf.keras.layers.Conv2D(256, (3,3), activation='relu', padding='same'),\n",
        "            tf.keras.layers.Conv2D(256, (3,3), activation='relu', padding='same'),\n",
        "            tf.keras.layers.MaxPooling2D(2,2),\n",
        "            # The fifth convolution\n",
        "            tf.keras.layers.Conv2D(256, (3,3), activation='relu', padding='same'),\n",
        "            tf.keras.layers.Conv2D(256, (3,3), activation='relu', padding='same'),\n",
        "            tf.keras.layers.MaxPooling2D(2,2),\n",
        "            # The sizth convolution\n",
        "            #tf.keras.layers.Conv2D(256, (3,3), activation='relu'),\n",
        "            #tf.keras.layers.Conv2D(256, (3,3), activation='relu'),\n",
        "            #tf.keras.layers.MaxPooling2D(2,2),\n",
        "            # Flatten the results to feed into a DNN\n",
        "            tf.keras.layers.Flatten(),\n",
        "            tf.keras.layers.Dropout(0.5),\n",
        "            # 512 neuron hidden layer\n",
        "            tf.keras.layers.Dense(512, activation='relu'),\n",
        "            tf.keras.layers.Dense(num_classes, activation='softmax')\n",
        "        ])\n",
        "        \n",
        "        return model7\n",
        "\n",
        "\n",
        "\n",
        "\n",
        "\n",
        " \n",
        "# =============================================================================\n",
        "#     elif suffix==10:\n",
        "# \n",
        "#     ################### model 10: change the syntax to the viz format #############\n",
        "#     # redo first model, but no pooling after first step\n",
        "#         \n",
        "#         from keras.models import Sequential\n",
        "#         from keras.layers import Conv2D\n",
        "#         from keras.layers import MaxPooling2D\n",
        "#         from keras.layers import Flatten\n",
        "#         from keras.layers import Dense\n",
        "#         from keras.layers import Dropout\n",
        "#         \n",
        "#         classifier10 = Sequential()\n",
        "#         #\n",
        "#          \n",
        "#         # Step 1 - Convolution\n",
        "#         \n",
        "#         classifier10.add(Conv2D(32, (3, 3), padding='same', input_shape = input_shape, activation = 'relu'))\n",
        "#         classifier10.add(Conv2D(32, (3, 3), activation='relu'))\n",
        "#         classifier10.add(MaxPooling2D(pool_size=(2, 2)))\n",
        "#         classifier10.add(Dropout(0.5)) # antes era 0.25\n",
        "#         # Adding a second convolutional layer\n",
        "#         classifier10.add(Conv2D(64, (3, 3), padding='same', activation = 'relu'))\n",
        "#         classifier10.add(Conv2D(64, (3, 3), activation='relu'))\n",
        "#         classifier10.add(MaxPooling2D(pool_size=(2, 2)))\n",
        "#         classifier10.add(Dropout(0.5)) # antes era 0.25\n",
        "#         # Adding a third convolutional layer\n",
        "#         ## classifier10.add(Conv2D(64, (3, 3), padding='same', activation = 'relu'))\n",
        "#         ## classifier10.add(Conv2D(64, (3, 3), activation='relu'))\n",
        "#         ## classifier10.add(MaxPooling2D(pool_size=(2, 2)))\n",
        "#         ## classifier10.add(Dropout(0.5)) # antes era 0.25\n",
        "#         # Step 3 - Flattening\n",
        "#         classifier10.add(Flatten())\n",
        "#         # Step 4 - Full connection\n",
        "#         classifier10.add(Dense(units = 512, activation = 'relu'))\n",
        "#         classifier10.add(Dropout(0.5)) \n",
        "#         classifier10.add(Dense(units = num_classes, activation = 'softmax'))\n",
        "#         \n",
        "#         classifier10.summary()\n",
        "#         \n",
        "#         classifier10.compile(optimizer = 'adam',\n",
        "#                            loss = 'categorical_crossentropy', \n",
        "#                            metrics = ['accuracy'])\n",
        "#         \n",
        "#         histEx10Epoch1d10 = classifier10.fit_generator(train_generator,\n",
        "#                                            steps_per_epoch = 100,\n",
        "#                                            epochs = 10,\n",
        "#         #                                  callbacks=[checkpointer],\n",
        "#                                            validation_data = validation_generator,\n",
        "#                                            validation_steps = 50)\n",
        "#         return classifier10\n",
        "# '''    \n",
        "# \n",
        "# \n",
        "# =============================================================================\n",
        " \n",
        "    elif suffix==8:\n",
        "        print('model 8')\n",
        "    ################### model 8: add additional block to model 7 ################\n",
        "    # two conv layers before pooling\n",
        "    #del model8\n",
        "     \n",
        "        model8 = tf.keras.models.Sequential([\n",
        "            # Note the input shape is the desired size of the image 150x150 with 3 bytes color\n",
        "            # This is the first convolution\n",
        "            tf.keras.layers.Conv2D(64, (3,3), activation='relu', input_shape=input_shape),\n",
        "            tf.keras.layers.Conv2D(64, (3,3), activation='relu', padding='same'),\n",
        "            tf.keras.layers.MaxPooling2D(2, 2),\n",
        "            # The second convolution\n",
        "        #    tf.keras.layers.Conv2D(64, (3,3), activation='relu'),\n",
        "        #    tf.keras.layers.MaxPooling2D(2,2),\n",
        "            # The third convolution\n",
        "            tf.keras.layers.Conv2D(128, (3,3), activation='relu', padding='same'),\n",
        "            tf.keras.layers.Conv2D(128, (3,3), activation='relu', padding='same'),\n",
        "            tf.keras.layers.MaxPooling2D(2,2),\n",
        "            # The fourth convolution\n",
        "            tf.keras.layers.Conv2D(256, (3,3), activation='relu', padding='same'),\n",
        "            tf.keras.layers.Conv2D(256, (3,3), activation='relu', padding='same'),\n",
        "            tf.keras.layers.MaxPooling2D(2,2),\n",
        "            # The fifth convolution\n",
        "            tf.keras.layers.Conv2D(256, (3,3), activation='relu', padding='same'),\n",
        "            tf.keras.layers.Conv2D(256, (3,3), activation='relu', padding='same'),\n",
        "            tf.keras.layers.MaxPooling2D(2,2),\n",
        "            # The sizth convolution\n",
        "            tf.keras.layers.Conv2D(256, (3,3), activation='relu', padding='same'),\n",
        "            tf.keras.layers.Conv2D(256, (3,3), activation='relu', padding='same'),\n",
        "            tf.keras.layers.MaxPooling2D(2,2),\n",
        "            # Flatten the results to feed into a DNN\n",
        "            tf.keras.layers.Flatten(),\n",
        "            tf.keras.layers.Dropout(0.5),\n",
        "            # 512 neuron hidden layer\n",
        "            tf.keras.layers.Dense(512, activation='relu'),\n",
        "            tf.keras.layers.Dense(num_classes, activation='softmax')\n",
        "        ])\n",
        "        \n",
        "        return model8\n",
        "\n",
        " \n",
        "\n",
        " \n",
        "    elif suffix==9:\n",
        "        ################### model 9: model 6 * 2 num_channels ################\n",
        "        # two conv layers before pooling\n",
        "        \n",
        "        #del model8\n",
        "        model9 = tf.keras.models.Sequential([\n",
        "            # Note the input shape is the desired size of the image 150x150 with 3 bytes color\n",
        "            # This is the first convolution\n",
        "            tf.keras.layers.Conv2D(64, (3,3), activation='relu', input_shape=input_shape),\n",
        "            tf.keras.layers.Conv2D(64, (3,3), activation='relu'),\n",
        "            tf.keras.layers.MaxPooling2D(2, 2),\n",
        "            # The second convolution\n",
        "        #    tf.keras.layers.Conv2D(64, (3,3), activation='relu'),\n",
        "        #    tf.keras.layers.MaxPooling2D(2,2),\n",
        "            # The third convolution\n",
        "            tf.keras.layers.Conv2D(128, (3,3), activation='relu'),\n",
        "            tf.keras.layers.Conv2D(128, (3,3), activation='relu'),\n",
        "            tf.keras.layers.MaxPooling2D(2,2),\n",
        "            # The fourth convolution\n",
        "        #    tf.keras.layers.Conv2D(256, (3,3), activation='relu'),\n",
        "        #    tf.keras.layers.Conv2D(256, (3,3), activation='relu'),\n",
        "        #    tf.keras.layers.MaxPooling2D(2,2),\n",
        "            # Flatten the results to feed into a DNN\n",
        "            tf.keras.layers.Flatten(),\n",
        "            tf.keras.layers.Dropout(0.5),\n",
        "            # 512 neuron hidden layer\n",
        "            tf.keras.layers.Dense(512, activation='relu'),\n",
        "            tf.keras.layers.Dense(num_classes, activation='softmax')\n",
        "        ])\n",
        "        \n",
        "        return model9\n",
        "        \n",
        "        ## model 9: waaay overfit...acc: .11 / .0786\n",
        "    \n",
        "    \n",
        "    elif suffix==11:\n",
        "        print('model11')\n",
        "    \n",
        "        model = tf.keras.models.Sequential([\n",
        "            # Note the input shape is the desired size of the image 150x150 with 3 bytes color\n",
        "            # This is the first convolution\n",
        "            tf.keras.layers.Conv2D(32, (3,3), activation='relu', input_shape=input_shape),\n",
        "            tf.keras.layers.MaxPooling2D(2, 2),\n",
        "            # The second convolution\n",
        "        #    tf.keras.layers.Conv2D(64, (3,3), activation='relu'),\n",
        "        #    tf.keras.layers.MaxPooling2D(2,2),\n",
        "            # The third convolution\n",
        "        #    tf.keras.layers.Conv2D(128, (3,3), activation='relu'),\n",
        "        #    tf.keras.layers.MaxPooling2D(2,2),\n",
        "            # The fourth convolution\n",
        "            tf.keras.layers.Conv2D(64, (3,3), activation='relu'),\n",
        "            tf.keras.layers.MaxPooling2D(2,2),\n",
        "            # Flatten the results to feed into a DNN\n",
        "            tf.keras.layers.Flatten(),\n",
        "            tf.keras.layers.Dropout(0.5),\n",
        "            # 512 neuron hidden layer\n",
        "            tf.keras.layers.Dense(512, activation='relu'),\n",
        "            tf.keras.layers.Dense(num_classes, activation='softmax')\n",
        "        ])\n",
        "        return model\n",
        "\n",
        "    \n",
        "   \n",
        " \n",
        "    elif suffix==12:\n",
        "        ################### model 12: model 10 in keras################\n",
        "        # two conv layers before pooling\n",
        "        \n",
        " \n",
        "        model12 = tf.keras.models.Sequential([\n",
        "            # Note the input shape is the desired size of the image 150x150 with 3 bytes color\n",
        "            # This is the first convolution\n",
        "            tf.keras.layers.Conv2D(32, (3,3), activation='relu', input_shape=input_shape),\n",
        "            tf.keras.layers.Conv2D(32, (3,3), activation='relu'),\n",
        "            tf.keras.layers.MaxPooling2D(2, 2),\n",
        "            # The second convolution\n",
        "        #    tf.keras.layers.Conv2D(64, (3,3), activation='relu'),\n",
        "        #    tf.keras.layers.MaxPooling2D(2,2),\n",
        "            # The third convolution\n",
        "            tf.keras.layers.Conv2D(64, (3,3), activation='relu'),\n",
        "            tf.keras.layers.Conv2D(64, (3,3), activation='relu'),\n",
        "            tf.keras.layers.MaxPooling2D(2,2),\n",
        "            # The fourth convolution\n",
        "        #    tf.keras.layers.Conv2D(256, (3,3), activation='relu'),\n",
        "        #    tf.keras.layers.Conv2D(256, (3,3), activation='relu'),\n",
        "        #    tf.keras.layers.MaxPooling2D(2,2),\n",
        "            # Flatten the results to feed into a DNN\n",
        "            tf.keras.layers.Flatten(),\n",
        "            tf.keras.layers.Dropout(0.5),\n",
        "            # 512 neuron hidden layer\n",
        "            tf.keras.layers.Dense(512, activation='relu'),\n",
        "            tf.keras.layers.Dense(num_classes, activation='softmax')\n",
        "        ])\n",
        "        \n",
        "        return model12\n",
        "        \n",
        "        ## model 9: waaay overfit...acc: .11 / .0786\n",
        "    \n",
        "    \n",
        " \n",
        "################### model 13: model 2 + 4*dense ################\n",
        " \n",
        "    elif (suffix==13):\n",
        "        print('model13')\n",
        " \n",
        "        model13 = tf.keras.models.Sequential([\n",
        "            # Note the input shape is the desired size of the image 150x150 with 3 bytes color\n",
        "            # This is the first convolution\n",
        "            tf.keras.layers.Conv2D(32, (3,3), activation='relu', input_shape=input_shape),\n",
        "            tf.keras.layers.MaxPooling2D(2, 2),\n",
        "            # The second convolution\n",
        "            tf.keras.layers.Conv2D(64, (3,3), activation='relu'),\n",
        "            tf.keras.layers.MaxPooling2D(2,2),\n",
        "            # The third convolution\n",
        "        #    tf.keras.layers.Conv2D(128, (3,3), activation='relu'),\n",
        "        #    tf.keras.layers.MaxPooling2D(2,2),\n",
        "            # The fourth convolution\n",
        "            tf.keras.layers.Conv2D(64, (3,3), activation='relu'),\n",
        "            tf.keras.layers.MaxPooling2D(2,2),\n",
        "            # Flatten the results to feed into a DNN\n",
        "            tf.keras.layers.Flatten(),\n",
        "            tf.keras.layers.Dropout(0.5),\n",
        "            # 512 neuron hidden layer\n",
        "            tf.keras.layers.Dense(512, activation='relu'),\n",
        "            tf.keras.layers.Dense(num_classes, activation='softmax')\n",
        "        ])\n",
        "        return model13\n",
        "\n",
        "        \n",
        "    elif suffix==16:\n",
        "        print('model' , suffix)\n",
        "################### model 6: pare down m5, since it crashes the pc ################\n",
        "# two conv layers before pooling\n",
        "\n",
        "\n",
        " \n",
        "        model16 = tf.keras.models.Sequential([\n",
        "            # Note the input shape is the desired size of the image 150x150 with 3 bytes color\n",
        "            # This is the first convolution\n",
        "            tf.keras.layers.Conv2D(32, (3,3), activation='relu', input_shape=input_shape),\n",
        "            tf.keras.layers.Conv2D(32, (3,3), activation='relu'),\n",
        "            tf.keras.layers.MaxPooling2D(2, 2),\n",
        "            # The second convolution\n",
        "        #    tf.keras.layers.Conv2D(64, (3,3), activation='relu'),\n",
        "        #    tf.keras.layers.MaxPooling2D(2,2),\n",
        "            # The third convolution\n",
        "            tf.keras.layers.Conv2D(64, (3,3), activation='relu'),\n",
        "            tf.keras.layers.Conv2D(64, (3,3), activation='relu'),\n",
        "            tf.keras.layers.MaxPooling2D(2,2),\n",
        "            # The fourth convolution\n",
        "        #    tf.keras.layers.Conv2D(256, (3,3), activation='relu'),\n",
        "        #    tf.keras.layers.Conv2D(256, (3,3), activation='relu'),\n",
        "        #    tf.keras.layers.MaxPooling2D(2,2),\n",
        "            # Flatten the results to feed into a DNN\n",
        "            tf.keras.layers.Flatten(),\n",
        "            tf.keras.layers.Dropout(0.5),\n",
        "            # 512 neuron hidden layer\n",
        "            tf.keras.layers.Dense(128, activation='relu'),\n",
        "            tf.keras.layers.Dense(num_classes, activation='softmax')\n",
        "        ])\n",
        "        \n",
        "        return model16\n",
        "\n",
        "    elif suffix==101:\n",
        "        # model 1 w/no dropout\n",
        "        print('model101')\n",
        "    \n",
        "        model = tf.keras.models.Sequential([\n",
        "            # Note the input shape is the desired size of the image 150x150 with 3 bytes color\n",
        "            # This is the first convolution\n",
        "            tf.keras.layers.Conv2D(32, (3,3), activation='relu', input_shape=input_shape),\n",
        "            tf.keras.layers.MaxPooling2D(2, 2),\n",
        "            # The second convolution\n",
        "        #    tf.keras.layers.Conv2D(64, (3,3), activation='relu'),\n",
        "        #    tf.keras.layers.MaxPooling2D(2,2),\n",
        "            # The third convolution\n",
        "        #    tf.keras.layers.Conv2D(128, (3,3), activation='relu'),\n",
        "        #    tf.keras.layers.MaxPooling2D(2,2),\n",
        "            # The fourth convolution\n",
        "            tf.keras.layers.Conv2D(64, (3,3), activation='relu'),\n",
        "            tf.keras.layers.MaxPooling2D(2,2),\n",
        "            # Flatten the results to feed into a DNN\n",
        "            tf.keras.layers.Flatten(),\n",
        "            #tf.keras.layers.Dropout(0.5),\n",
        "            # 512 neuron hidden layer\n",
        "            tf.keras.layers.Dense(128, activation='relu'),\n",
        "            tf.keras.layers.Dense(num_classes, activation='softmax')\n",
        "        ])\n",
        "        return model\n",
        "\n",
        "\n",
        "\n",
        "    else:\n",
        "        print('did not find suffix')\n",
        "\n",
        "    \n",
        "################################ END MODEL DEFINITION #####################\n",
        "\n",
        "\n",
        "\n",
        "\n",
        "\n",
        "\n",
        "\n",
        "\n",
        "\n",
        "\n",
        "\n",
        "\n"
      ],
      "execution_count": 0,
      "outputs": []
    },
    {
      "cell_type": "code",
      "metadata": {
        "id": "D_05CmFIj3GQ",
        "colab_type": "code",
        "colab": {}
      },
      "source": [
        ""
      ],
      "execution_count": 0,
      "outputs": []
    },
    {
      "cell_type": "markdown",
      "metadata": {
        "id": "9CdLfWxVknuP",
        "colab_type": "text"
      },
      "source": [
        "## x20ProcessModel.py\n",
        "\n",
        "compile and fit model \n",
        "\n",
        "==> return model and history object\n"
      ]
    },
    {
      "cell_type": "code",
      "metadata": {
        "id": "FM_gOtyLj3Pt",
        "colab_type": "code",
        "colab": {}
      },
      "source": [
        "\n",
        "\n",
        "def processModel(model, suffix, num_epochs, \n",
        "                 xoptimizer, \n",
        "                 train_generator, validation_generator,\n",
        "                 batch_size,\n",
        "                 callbacks=None):\n",
        "    \n",
        "    model.compile(loss = 'categorical_crossentropy', optimizer=xoptimizer, metrics=['accuracy'])\n",
        "    \n",
        "    \n",
        "    \n",
        "    # calculate step sizes    \n",
        "    #batch_size = 32\n",
        "    steps_per_epoch = int(train_generator.samples / batch_size)\n",
        "    validation_steps = int(validation_generator.samples / batch_size)\n",
        "    test_steps = int(test_generator.samples / batch_size)\n",
        "    \n",
        "    \n",
        "    #es = getEarlyStopping()\n",
        "    ## notation epock1d20 ...epochs 1 dotdotdot 20 ==> 1 thru 20\n",
        "    history  = model.fit(train_generator, epochs=num_epochs, \n",
        "                         validation_data = validation_generator,\n",
        "                         steps_per_epoch=steps_per_epoch,\n",
        "                         validation_steps=validation_steps,\n",
        "                         batch_size=batch_size,\n",
        "                         verbose = 1, callbacks=callbacks)\n",
        "    # plot History\n",
        "    #plotModelHistory(history, suffix)\n",
        "\n",
        "    return model, history\n",
        "\n",
        "\n"
      ],
      "execution_count": 0,
      "outputs": []
    },
    {
      "cell_type": "code",
      "metadata": {
        "id": "SHRuoNyr8_sy",
        "colab_type": "code",
        "colab": {}
      },
      "source": [
        " "
      ],
      "execution_count": 0,
      "outputs": []
    },
    {
      "cell_type": "markdown",
      "metadata": {
        "id": "SeQAS0bxj-wQ",
        "colab_type": "text"
      },
      "source": [
        "##formatLR()\n",
        "Format the learning rate as a string for use in the saved information label names"
      ]
    },
    {
      "cell_type": "code",
      "metadata": {
        "id": "d2DHk2sw4aGC",
        "colab_type": "code",
        "colab": {}
      },
      "source": [
        " \n",
        "\n",
        "\n",
        "def formatLR(lr):\n",
        "    if lr == .001:\n",
        "        return 'LR3'\n",
        "    elif lr == .0001:\n",
        "        return 'LR4'\n",
        "    elif lr == 1e-05:\n",
        "        return 'LR5'\n",
        "    elif lr == 1e-06:\n",
        "        return 'LR6'\n",
        "    elif lr == 1e-07:\n",
        "        return 'LR7'\n",
        "    elif lr == 1e-08:\n",
        "        return 'LR8'\n",
        "    elif lr == .1:\n",
        "        return 'LR1'\n",
        "    elif lr == 0.01:\n",
        "        return 'LR2'\n",
        "    elif lr == 0.0005:\n",
        "        return 'LR5e4'        \n",
        "        \n",
        "    else:\n",
        "        return  'LR' + str(lr)\n",
        "\n",
        "\n",
        "#formatLR(learning_rate)"
      ],
      "execution_count": 0,
      "outputs": []
    },
    {
      "cell_type": "markdown",
      "metadata": {
        "id": "EgTHJlHtk8Jo",
        "colab_type": "text"
      },
      "source": [
        "# main.py"
      ]
    },
    {
      "cell_type": "markdown",
      "metadata": {
        "id": "3LoDCWTNb-_R",
        "colab_type": "text"
      },
      "source": [
        "## Directory Paths"
      ]
    },
    {
      "cell_type": "code",
      "metadata": {
        "id": "Hk3afcDRfmhS",
        "colab_type": "code",
        "outputId": "632610a5-17f8-426e-c24e-c1341bc09111",
        "colab": {
          "base_uri": "https://localhost:8080/",
          "height": 36
        }
      },
      "source": [
        "path = \"/content/gdrive/My Drive/Capstone2/data/\"\n",
        "srcdir = path + 'apparel-images-dataset\\\\'\n",
        "\n",
        "trainingdir = path + 'apparelSmallTrain'\n",
        "testdir = path + 'apparelSmallTest'\n",
        "validdir = path + 'apparelSmallValidate'\n",
        "print(trainingdir)"
      ],
      "execution_count": 14,
      "outputs": [
        {
          "output_type": "stream",
          "text": [
            "/content/gdrive/My Drive/Capstone2/data/apparelSmallTrain\n"
          ],
          "name": "stdout"
        }
      ]
    },
    {
      "cell_type": "code",
      "metadata": {
        "id": "1dkG9qeubMh2",
        "colab_type": "code",
        "colab": {}
      },
      "source": [
        "\n",
        "def getHistoryPath():\n",
        "    #history_path = 'C:\\\\Users\\\\rozoe\\\\jy\\\\ch10ML\\\\tensorflow\\\\capstone2\\\\history\\\\'\n",
        "    history_path = \"/content/gdrive/My Drive/Capstone2/history/\"\n",
        "    return history_path  \n"
      ],
      "execution_count": 0,
      "outputs": []
    },
    {
      "cell_type": "markdown",
      "metadata": {
        "id": "y-Krft1_cG4h",
        "colab_type": "text"
      },
      "source": [
        "## Parameters"
      ]
    },
    {
      "cell_type": "code",
      "metadata": {
        "id": "_Fg6Mm6Rf8X5",
        "colab_type": "code",
        "outputId": "27614de2-9f2c-4b6a-bc9b-05885565a3e7",
        "colab": {
          "base_uri": "https://localhost:8080/",
          "height": 36
        }
      },
      "source": [
        "\n",
        "# =============================================================================\n",
        "# inLine Parameters\n",
        "# =============================================================================\n",
        "\n",
        "num_classes = 10\n",
        "num_epochs = 250\n",
        "epochs = num_epochs\n",
        "\n",
        "#batch_size for model.fit\n",
        "batch_size = 32  \n",
        "\n",
        "print(num_classes,  num_epochs, batch_size)"
      ],
      "execution_count": 16,
      "outputs": [
        {
          "output_type": "stream",
          "text": [
            "10 250 32\n"
          ],
          "name": "stdout"
        }
      ]
    },
    {
      "cell_type": "markdown",
      "metadata": {
        "id": "bfjvrHnhcN71",
        "colab_type": "text"
      },
      "source": [
        "## Callbacks\n"
      ]
    },
    {
      "cell_type": "code",
      "metadata": {
        "id": "qhaav8NGmim3",
        "colab_type": "code",
        "outputId": "aa7663ee-c036-4d25-db23-17772cf759dd",
        "colab": {
          "base_uri": "https://localhost:8080/",
          "height": 36
        }
      },
      "source": [
        "# =============================================================================\n",
        "# Callbacks\n",
        "# =============================================================================\n",
        "\n",
        "es = EarlyStopping(monitor='val_loss', mode='min', verbose=1, patience=8,\n",
        "                   restore_best_weights=True)\n",
        "\n",
        "# drop-based learning rate\n",
        "#https://machinelearningmastery.com/using-learning-rate-schedules-deep-learning-models-python-keras/\n",
        "\n",
        "def step_decay(epoch):\n",
        "\tinitial_lrate = 0.0005\n",
        "\tdrop = 0.5\n",
        "\tepochs_drop = 10.0\n",
        "\t#epochs_drop = 5.0\n",
        "\tlrate = initial_lrate * math.pow(drop, math.floor((1+epoch)/epochs_drop))\n",
        "\treturn lrate\n",
        "\n",
        "# learning ratee schedule callback\n",
        "lrate = LearningRateScheduler(step_decay)\n",
        "\n",
        "#Callbacks for using step decay learning rate scheduler\n",
        "#callbacks = [es, lrate]\n",
        "\n",
        "# Default callback for Early Stopping\n",
        "callbacks = [es]\n",
        "\n",
        "print(callbacks)\n",
        " \n"
      ],
      "execution_count": 17,
      "outputs": [
        {
          "output_type": "stream",
          "text": [
            "[<tensorflow.python.keras.callbacks.EarlyStopping object at 0x7f59798b5710>]\n"
          ],
          "name": "stdout"
        }
      ]
    },
    {
      "cell_type": "markdown",
      "metadata": {
        "id": "Rn19g007g3ju",
        "colab_type": "text"
      },
      "source": [
        "##RunMe"
      ]
    },
    {
      "cell_type": "code",
      "metadata": {
        "id": "tZc-jhOKlaV8",
        "colab_type": "code",
        "outputId": "f8586b95-79e4-473f-eac4-5b6d2c95ead4",
        "colab": {
          "base_uri": "https://localhost:8080/",
          "height": 36
        }
      },
      "source": [
        "history_path = getHistoryPath()\n",
        "print(history_path)"
      ],
      "execution_count": 18,
      "outputs": [
        {
          "output_type": "stream",
          "text": [
            "/content/gdrive/My Drive/Capstone2/history/\n"
          ],
          "name": "stdout"
        }
      ]
    },
    {
      "cell_type": "markdown",
      "metadata": {
        "id": "JtX02WPUoBNL",
        "colab_type": "text"
      },
      "source": [
        "### Set parms for looping\n",
        "\n",
        "NOTE: we do two sets of parms, since LR is depending on optimizer....ideally this should be a dictionary, but for now we are doing multiple runs."
      ]
    },
    {
      "cell_type": "code",
      "metadata": {
        "id": "Ox6S9ViRbZHq",
        "colab_type": "code",
        "outputId": "cd1b44ad-b654-4a62-cac0-a8863970796f",
        "colab": {
          "base_uri": "https://localhost:8080/",
          "height": 36
        }
      },
      "source": [
        "# set parms for looping.\n",
        "\n",
        "# all values\n",
        "#optnames = ['Adam', 'amsgrad', 'Sgd', 'sgdStep']\n",
        "suffixes = [1, 3, 6, 7, 8]\n",
        "\n",
        "\n",
        "\n",
        "# RUN 1\n",
        "optnames = ['amsgrad']\n",
        "learning_rates = [.001,0.0001]\n",
        "pixels = [150, 300]\n",
        "\n",
        " \n",
        "\n",
        "\n",
        "\n",
        "# RUN 2 -- we limite the LRs and pixels based on RUN 1 results\n",
        "#optnames = ['Sgd']\n",
        "#learning_rates = [.01, .1]\n",
        "#pixels = [150]\n",
        "\n",
        "# SAMPLE RUN\n",
        "\n",
        "suffixes = [1, 3]\n",
        "optnames = ['amsgrad']\n",
        "learning_rates = [.001]\n",
        "pixels = [150]\n",
        "\n",
        "print(optnames, learning_rates, suffixes, pixels)\n"
      ],
      "execution_count": 19,
      "outputs": [
        {
          "output_type": "stream",
          "text": [
            "['amsgrad'] [0.001] [1, 3] [150]\n"
          ],
          "name": "stdout"
        }
      ]
    },
    {
      "cell_type": "markdown",
      "metadata": {
        "id": "o-RvtZcxMp0h",
        "colab_type": "text"
      },
      "source": [
        "### Verify run list"
      ]
    },
    {
      "cell_type": "code",
      "metadata": {
        "id": "xnt3aRoqjdbM",
        "colab_type": "code",
        "outputId": "36e5e037-7d09-42e4-cbd7-823ffa5e2179",
        "colab": {
          "base_uri": "https://localhost:8080/",
          "height": 54
        }
      },
      "source": [
        "# Verify run list before kicking off lengthy loop\n",
        "\n",
        "for optname in optnames:\n",
        "    for learning_rate in learning_rates:\n",
        "        for suffix in suffixes:\n",
        "            for pixel in pixels:\n",
        "                #setPixels(pixel, pixel)\n",
        "                lrFormatted = formatLR(learning_rate)\n",
        "\n",
        "\n",
        "                # Label saved objects with model suffix and image size\n",
        "                saveInfo = 'M' + str(suffix) + 'Pix' + str(pixel) + lrFormatted + optname\n",
        "                print('SaveInfo: ', saveInfo)"
      ],
      "execution_count": 20,
      "outputs": [
        {
          "output_type": "stream",
          "text": [
            "SaveInfo:  M1Pix150LR3amsgrad\n",
            "SaveInfo:  M3Pix150LR3amsgrad\n"
          ],
          "name": "stdout"
        }
      ]
    },
    {
      "cell_type": "markdown",
      "metadata": {
        "id": "BX_fHDqWMx8u",
        "colab_type": "text"
      },
      "source": [
        "### Loop through models: define, train, evaluate,  save results"
      ]
    },
    {
      "cell_type": "code",
      "metadata": {
        "id": "5Ccpamp2zfJN",
        "colab_type": "code",
        "outputId": "6592df14-78aa-48e4-b0f5-75841a4c97ec",
        "colab": {
          "base_uri": "https://localhost:8080/",
          "height": 996
        }
      },
      "source": [
        "# =============================================================================\n",
        "# Run Models\n",
        "# =============================================================================\n",
        "\n",
        " \n",
        "for optname in optnames:\n",
        "    for learning_rate in learning_rates:\n",
        "        for suffix in suffixes:\n",
        "            for pixel in pixels:\n",
        "\n",
        "                input_shape, target_size = setPixels(pixel, pixel)\n",
        "                lrFormatted = formatLR(learning_rate)\n",
        "\n",
        " \n",
        "                # Label saved objects with model suffix and image size\n",
        "                saveInfo = 'M' + str(suffix) + 'Pix' + str(pixel) + lrFormatted + optname\n",
        "                print('SaveInfo: ', saveInfo)\n",
        "\n",
        "                # get parm-specific details\n",
        "\n",
        "                train_generator, validation_generator = dataGenerators(target_size)\n",
        "\n",
        "                test_generator = testDataGenerator(target_size)\n",
        "\n",
        "                xoptimizer = getOptimizer(optname, learning_rate, epochs) \n",
        "\n",
        "\n",
        "\n",
        "                # Define Model; the suffix indicates which model\n",
        "                model = make_model(suffix, num_classes, input_shape)\n",
        "                model.summary()\n",
        "\n",
        "                # Compile and train model\n",
        "                model, history = processModel(model, saveInfo, 250, \n",
        "                                            xoptimizer, \n",
        "                                            train_generator, validation_generator,\n",
        "                                            batch_size,\n",
        "                                            callbacks=callbacks)\n",
        "\n",
        "\n",
        "                print('*** pickling history ***')\n",
        "                pickleHist(history, history_path + 'history' + saveInfo)\n",
        "                #pickleHist(history, history_path + 'historyLR1e4Epochs21d30Model' + str(suffix))\n",
        "\n",
        "\n",
        "                print('*** plotting/saving history figures ***')\n",
        "                # plot History\n",
        "                #plotModelHistory(history, saveInfo)\n",
        "                plotSaveModelHistory(history, saveInfo, history_path)\n",
        "\n",
        "                print('*** evaluating Model ***')\n",
        "                # Model Evaluation\n",
        "                test_steps = int(test_generator.samples / batch_size)\n",
        "                eval_output = model.evaluate(test_generator, steps=test_steps)         \n",
        "                print(eval_output)\n",
        "\n",
        "                # Save Evaluation information\n",
        "                evalfile = history_path + 'eval' + saveInfo\n",
        "                print(evalfile)\n",
        "                #pickleEval(eval_output, history_path + 'eval' + str(suffix))\n",
        "                pickleEval(eval_output, evalfile)\n",
        "\n",
        "                print('*** saving model  ***')\n",
        "                # Save the entire model as a SavedModel.\n",
        "                savedmodeldir = '/content/gdrive/My Drive/Capstone2/saved_model/'\n",
        "\n",
        "                #!mkdir -p savedmodeldir\n",
        "                #!mkdir -p '/content/gdrive/My Drive/Capstone2/saved_model'\n",
        "                modelpath =  savedmodeldir + 'model' + saveInfo\n",
        "                model.save(modelpath)\n",
        "\n",
        "\n"
      ],
      "execution_count": 22,
      "outputs": [
        {
          "output_type": "stream",
          "text": [
            "SaveInfo:  M1Pix150LR3amsgrad\n",
            "Found 5055 images belonging to 10 classes.\n",
            "Found 1092 images belonging to 10 classes.\n",
            "Found 1095 images belonging to 10 classes.\n",
            "model1\n",
            "Model: \"sequential_1\"\n",
            "_________________________________________________________________\n",
            "Layer (type)                 Output Shape              Param #   \n",
            "=================================================================\n",
            "conv2d_2 (Conv2D)            (None, 148, 148, 32)      896       \n",
            "_________________________________________________________________\n",
            "max_pooling2d_2 (MaxPooling2 (None, 74, 74, 32)        0         \n",
            "_________________________________________________________________\n",
            "conv2d_3 (Conv2D)            (None, 72, 72, 64)        18496     \n",
            "_________________________________________________________________\n",
            "max_pooling2d_3 (MaxPooling2 (None, 36, 36, 64)        0         \n",
            "_________________________________________________________________\n",
            "flatten_1 (Flatten)          (None, 82944)             0         \n",
            "_________________________________________________________________\n",
            "dropout_1 (Dropout)          (None, 82944)             0         \n",
            "_________________________________________________________________\n",
            "dense_2 (Dense)              (None, 128)               10616960  \n",
            "_________________________________________________________________\n",
            "dense_3 (Dense)              (None, 10)                1290      \n",
            "=================================================================\n",
            "Total params: 10,637,642\n",
            "Trainable params: 10,637,642\n",
            "Non-trainable params: 0\n",
            "_________________________________________________________________\n",
            "Epoch 1/250\n",
            " 75/157 [=============>................] - ETA: 10:46 - loss: 1.7388 - accuracy: 0.4050"
          ],
          "name": "stdout"
        },
        {
          "output_type": "error",
          "ename": "KeyboardInterrupt",
          "evalue": "ignored",
          "traceback": [
            "\u001b[0;31m---------------------------------------------------------------------------\u001b[0m",
            "\u001b[0;31mKeyboardInterrupt\u001b[0m                         Traceback (most recent call last)",
            "\u001b[0;32m<ipython-input-22-306ce4ae9531>\u001b[0m in \u001b[0;36m<module>\u001b[0;34m()\u001b[0m\n\u001b[1;32m     36\u001b[0m                                             \u001b[0mtrain_generator\u001b[0m\u001b[0;34m,\u001b[0m \u001b[0mvalidation_generator\u001b[0m\u001b[0;34m,\u001b[0m\u001b[0;34m\u001b[0m\u001b[0;34m\u001b[0m\u001b[0m\n\u001b[1;32m     37\u001b[0m                                             \u001b[0mbatch_size\u001b[0m\u001b[0;34m,\u001b[0m\u001b[0;34m\u001b[0m\u001b[0;34m\u001b[0m\u001b[0m\n\u001b[0;32m---> 38\u001b[0;31m                                             callbacks=callbacks)\n\u001b[0m\u001b[1;32m     39\u001b[0m \u001b[0;34m\u001b[0m\u001b[0m\n\u001b[1;32m     40\u001b[0m \u001b[0;34m\u001b[0m\u001b[0m\n",
            "\u001b[0;32m<ipython-input-12-a0e10edb9367>\u001b[0m in \u001b[0;36mprocessModel\u001b[0;34m(model, suffix, num_epochs, xoptimizer, train_generator, validation_generator, batch_size, callbacks)\u001b[0m\n\u001b[1;32m     25\u001b[0m                          \u001b[0mvalidation_steps\u001b[0m\u001b[0;34m=\u001b[0m\u001b[0mvalidation_steps\u001b[0m\u001b[0;34m,\u001b[0m\u001b[0;34m\u001b[0m\u001b[0;34m\u001b[0m\u001b[0m\n\u001b[1;32m     26\u001b[0m                          \u001b[0mbatch_size\u001b[0m\u001b[0;34m=\u001b[0m\u001b[0mbatch_size\u001b[0m\u001b[0;34m,\u001b[0m\u001b[0;34m\u001b[0m\u001b[0;34m\u001b[0m\u001b[0m\n\u001b[0;32m---> 27\u001b[0;31m                          verbose = 1, callbacks=callbacks)\n\u001b[0m\u001b[1;32m     28\u001b[0m     \u001b[0;31m# plot History\u001b[0m\u001b[0;34m\u001b[0m\u001b[0;34m\u001b[0m\u001b[0;34m\u001b[0m\u001b[0m\n\u001b[1;32m     29\u001b[0m     \u001b[0;31m#plotModelHistory(history, suffix)\u001b[0m\u001b[0;34m\u001b[0m\u001b[0;34m\u001b[0m\u001b[0;34m\u001b[0m\u001b[0m\n",
            "\u001b[0;32m/usr/local/lib/python3.6/dist-packages/tensorflow/python/keras/engine/training.py\u001b[0m in \u001b[0;36m_method_wrapper\u001b[0;34m(self, *args, **kwargs)\u001b[0m\n\u001b[1;32m     64\u001b[0m   \u001b[0;32mdef\u001b[0m \u001b[0m_method_wrapper\u001b[0m\u001b[0;34m(\u001b[0m\u001b[0mself\u001b[0m\u001b[0;34m,\u001b[0m \u001b[0;34m*\u001b[0m\u001b[0margs\u001b[0m\u001b[0;34m,\u001b[0m \u001b[0;34m**\u001b[0m\u001b[0mkwargs\u001b[0m\u001b[0;34m)\u001b[0m\u001b[0;34m:\u001b[0m\u001b[0;34m\u001b[0m\u001b[0;34m\u001b[0m\u001b[0m\n\u001b[1;32m     65\u001b[0m     \u001b[0;32mif\u001b[0m \u001b[0;32mnot\u001b[0m \u001b[0mself\u001b[0m\u001b[0;34m.\u001b[0m\u001b[0m_in_multi_worker_mode\u001b[0m\u001b[0;34m(\u001b[0m\u001b[0;34m)\u001b[0m\u001b[0;34m:\u001b[0m  \u001b[0;31m# pylint: disable=protected-access\u001b[0m\u001b[0;34m\u001b[0m\u001b[0;34m\u001b[0m\u001b[0m\n\u001b[0;32m---> 66\u001b[0;31m       \u001b[0;32mreturn\u001b[0m \u001b[0mmethod\u001b[0m\u001b[0;34m(\u001b[0m\u001b[0mself\u001b[0m\u001b[0;34m,\u001b[0m \u001b[0;34m*\u001b[0m\u001b[0margs\u001b[0m\u001b[0;34m,\u001b[0m \u001b[0;34m**\u001b[0m\u001b[0mkwargs\u001b[0m\u001b[0;34m)\u001b[0m\u001b[0;34m\u001b[0m\u001b[0;34m\u001b[0m\u001b[0m\n\u001b[0m\u001b[1;32m     67\u001b[0m \u001b[0;34m\u001b[0m\u001b[0m\n\u001b[1;32m     68\u001b[0m     \u001b[0;31m# Running inside `run_distribute_coordinator` already.\u001b[0m\u001b[0;34m\u001b[0m\u001b[0;34m\u001b[0m\u001b[0;34m\u001b[0m\u001b[0m\n",
            "\u001b[0;32m/usr/local/lib/python3.6/dist-packages/tensorflow/python/keras/engine/training.py\u001b[0m in \u001b[0;36mfit\u001b[0;34m(self, x, y, batch_size, epochs, verbose, callbacks, validation_split, validation_data, shuffle, class_weight, sample_weight, initial_epoch, steps_per_epoch, validation_steps, validation_batch_size, validation_freq, max_queue_size, workers, use_multiprocessing)\u001b[0m\n\u001b[1;32m    846\u001b[0m                 batch_size=batch_size):\n\u001b[1;32m    847\u001b[0m               \u001b[0mcallbacks\u001b[0m\u001b[0;34m.\u001b[0m\u001b[0mon_train_batch_begin\u001b[0m\u001b[0;34m(\u001b[0m\u001b[0mstep\u001b[0m\u001b[0;34m)\u001b[0m\u001b[0;34m\u001b[0m\u001b[0;34m\u001b[0m\u001b[0m\n\u001b[0;32m--> 848\u001b[0;31m               \u001b[0mtmp_logs\u001b[0m \u001b[0;34m=\u001b[0m \u001b[0mtrain_function\u001b[0m\u001b[0;34m(\u001b[0m\u001b[0miterator\u001b[0m\u001b[0;34m)\u001b[0m\u001b[0;34m\u001b[0m\u001b[0;34m\u001b[0m\u001b[0m\n\u001b[0m\u001b[1;32m    849\u001b[0m               \u001b[0;31m# Catch OutOfRangeError for Datasets of unknown size.\u001b[0m\u001b[0;34m\u001b[0m\u001b[0;34m\u001b[0m\u001b[0;34m\u001b[0m\u001b[0m\n\u001b[1;32m    850\u001b[0m               \u001b[0;31m# This blocks until the batch has finished executing.\u001b[0m\u001b[0;34m\u001b[0m\u001b[0;34m\u001b[0m\u001b[0;34m\u001b[0m\u001b[0m\n",
            "\u001b[0;32m/usr/local/lib/python3.6/dist-packages/tensorflow/python/eager/def_function.py\u001b[0m in \u001b[0;36m__call__\u001b[0;34m(self, *args, **kwds)\u001b[0m\n\u001b[1;32m    578\u001b[0m         \u001b[0mxla_context\u001b[0m\u001b[0;34m.\u001b[0m\u001b[0mExit\u001b[0m\u001b[0;34m(\u001b[0m\u001b[0;34m)\u001b[0m\u001b[0;34m\u001b[0m\u001b[0;34m\u001b[0m\u001b[0m\n\u001b[1;32m    579\u001b[0m     \u001b[0;32melse\u001b[0m\u001b[0;34m:\u001b[0m\u001b[0;34m\u001b[0m\u001b[0;34m\u001b[0m\u001b[0m\n\u001b[0;32m--> 580\u001b[0;31m       \u001b[0mresult\u001b[0m \u001b[0;34m=\u001b[0m \u001b[0mself\u001b[0m\u001b[0;34m.\u001b[0m\u001b[0m_call\u001b[0m\u001b[0;34m(\u001b[0m\u001b[0;34m*\u001b[0m\u001b[0margs\u001b[0m\u001b[0;34m,\u001b[0m \u001b[0;34m**\u001b[0m\u001b[0mkwds\u001b[0m\u001b[0;34m)\u001b[0m\u001b[0;34m\u001b[0m\u001b[0;34m\u001b[0m\u001b[0m\n\u001b[0m\u001b[1;32m    581\u001b[0m \u001b[0;34m\u001b[0m\u001b[0m\n\u001b[1;32m    582\u001b[0m     \u001b[0;32mif\u001b[0m \u001b[0mtracing_count\u001b[0m \u001b[0;34m==\u001b[0m \u001b[0mself\u001b[0m\u001b[0;34m.\u001b[0m\u001b[0m_get_tracing_count\u001b[0m\u001b[0;34m(\u001b[0m\u001b[0;34m)\u001b[0m\u001b[0;34m:\u001b[0m\u001b[0;34m\u001b[0m\u001b[0;34m\u001b[0m\u001b[0m\n",
            "\u001b[0;32m/usr/local/lib/python3.6/dist-packages/tensorflow/python/eager/def_function.py\u001b[0m in \u001b[0;36m_call\u001b[0;34m(self, *args, **kwds)\u001b[0m\n\u001b[1;32m    609\u001b[0m       \u001b[0;31m# In this case we have created variables on the first call, so we run the\u001b[0m\u001b[0;34m\u001b[0m\u001b[0;34m\u001b[0m\u001b[0;34m\u001b[0m\u001b[0m\n\u001b[1;32m    610\u001b[0m       \u001b[0;31m# defunned version which is guaranteed to never create variables.\u001b[0m\u001b[0;34m\u001b[0m\u001b[0;34m\u001b[0m\u001b[0;34m\u001b[0m\u001b[0m\n\u001b[0;32m--> 611\u001b[0;31m       \u001b[0;32mreturn\u001b[0m \u001b[0mself\u001b[0m\u001b[0;34m.\u001b[0m\u001b[0m_stateless_fn\u001b[0m\u001b[0;34m(\u001b[0m\u001b[0;34m*\u001b[0m\u001b[0margs\u001b[0m\u001b[0;34m,\u001b[0m \u001b[0;34m**\u001b[0m\u001b[0mkwds\u001b[0m\u001b[0;34m)\u001b[0m  \u001b[0;31m# pylint: disable=not-callable\u001b[0m\u001b[0;34m\u001b[0m\u001b[0;34m\u001b[0m\u001b[0m\n\u001b[0m\u001b[1;32m    612\u001b[0m     \u001b[0;32melif\u001b[0m \u001b[0mself\u001b[0m\u001b[0;34m.\u001b[0m\u001b[0m_stateful_fn\u001b[0m \u001b[0;32mis\u001b[0m \u001b[0;32mnot\u001b[0m \u001b[0;32mNone\u001b[0m\u001b[0;34m:\u001b[0m\u001b[0;34m\u001b[0m\u001b[0;34m\u001b[0m\u001b[0m\n\u001b[1;32m    613\u001b[0m       \u001b[0;31m# Release the lock early so that multiple threads can perform the call\u001b[0m\u001b[0;34m\u001b[0m\u001b[0;34m\u001b[0m\u001b[0;34m\u001b[0m\u001b[0m\n",
            "\u001b[0;32m/usr/local/lib/python3.6/dist-packages/tensorflow/python/eager/function.py\u001b[0m in \u001b[0;36m__call__\u001b[0;34m(self, *args, **kwargs)\u001b[0m\n\u001b[1;32m   2418\u001b[0m     \u001b[0;32mwith\u001b[0m \u001b[0mself\u001b[0m\u001b[0;34m.\u001b[0m\u001b[0m_lock\u001b[0m\u001b[0;34m:\u001b[0m\u001b[0;34m\u001b[0m\u001b[0;34m\u001b[0m\u001b[0m\n\u001b[1;32m   2419\u001b[0m       \u001b[0mgraph_function\u001b[0m\u001b[0;34m,\u001b[0m \u001b[0margs\u001b[0m\u001b[0;34m,\u001b[0m \u001b[0mkwargs\u001b[0m \u001b[0;34m=\u001b[0m \u001b[0mself\u001b[0m\u001b[0;34m.\u001b[0m\u001b[0m_maybe_define_function\u001b[0m\u001b[0;34m(\u001b[0m\u001b[0margs\u001b[0m\u001b[0;34m,\u001b[0m \u001b[0mkwargs\u001b[0m\u001b[0;34m)\u001b[0m\u001b[0;34m\u001b[0m\u001b[0;34m\u001b[0m\u001b[0m\n\u001b[0;32m-> 2420\u001b[0;31m     \u001b[0;32mreturn\u001b[0m \u001b[0mgraph_function\u001b[0m\u001b[0;34m.\u001b[0m\u001b[0m_filtered_call\u001b[0m\u001b[0;34m(\u001b[0m\u001b[0margs\u001b[0m\u001b[0;34m,\u001b[0m \u001b[0mkwargs\u001b[0m\u001b[0;34m)\u001b[0m  \u001b[0;31m# pylint: disable=protected-access\u001b[0m\u001b[0;34m\u001b[0m\u001b[0;34m\u001b[0m\u001b[0m\n\u001b[0m\u001b[1;32m   2421\u001b[0m \u001b[0;34m\u001b[0m\u001b[0m\n\u001b[1;32m   2422\u001b[0m   \u001b[0;34m@\u001b[0m\u001b[0mproperty\u001b[0m\u001b[0;34m\u001b[0m\u001b[0;34m\u001b[0m\u001b[0m\n",
            "\u001b[0;32m/usr/local/lib/python3.6/dist-packages/tensorflow/python/eager/function.py\u001b[0m in \u001b[0;36m_filtered_call\u001b[0;34m(self, args, kwargs)\u001b[0m\n\u001b[1;32m   1663\u001b[0m          if isinstance(t, (ops.Tensor,\n\u001b[1;32m   1664\u001b[0m                            resource_variable_ops.BaseResourceVariable))),\n\u001b[0;32m-> 1665\u001b[0;31m         self.captured_inputs)\n\u001b[0m\u001b[1;32m   1666\u001b[0m \u001b[0;34m\u001b[0m\u001b[0m\n\u001b[1;32m   1667\u001b[0m   \u001b[0;32mdef\u001b[0m \u001b[0m_call_flat\u001b[0m\u001b[0;34m(\u001b[0m\u001b[0mself\u001b[0m\u001b[0;34m,\u001b[0m \u001b[0margs\u001b[0m\u001b[0;34m,\u001b[0m \u001b[0mcaptured_inputs\u001b[0m\u001b[0;34m,\u001b[0m \u001b[0mcancellation_manager\u001b[0m\u001b[0;34m=\u001b[0m\u001b[0;32mNone\u001b[0m\u001b[0;34m)\u001b[0m\u001b[0;34m:\u001b[0m\u001b[0;34m\u001b[0m\u001b[0;34m\u001b[0m\u001b[0m\n",
            "\u001b[0;32m/usr/local/lib/python3.6/dist-packages/tensorflow/python/eager/function.py\u001b[0m in \u001b[0;36m_call_flat\u001b[0;34m(self, args, captured_inputs, cancellation_manager)\u001b[0m\n\u001b[1;32m   1744\u001b[0m       \u001b[0;31m# No tape is watching; skip to running the function.\u001b[0m\u001b[0;34m\u001b[0m\u001b[0;34m\u001b[0m\u001b[0;34m\u001b[0m\u001b[0m\n\u001b[1;32m   1745\u001b[0m       return self._build_call_outputs(self._inference_function.call(\n\u001b[0;32m-> 1746\u001b[0;31m           ctx, args, cancellation_manager=cancellation_manager))\n\u001b[0m\u001b[1;32m   1747\u001b[0m     forward_backward = self._select_forward_and_backward_functions(\n\u001b[1;32m   1748\u001b[0m         \u001b[0margs\u001b[0m\u001b[0;34m,\u001b[0m\u001b[0;34m\u001b[0m\u001b[0;34m\u001b[0m\u001b[0m\n",
            "\u001b[0;32m/usr/local/lib/python3.6/dist-packages/tensorflow/python/eager/function.py\u001b[0m in \u001b[0;36mcall\u001b[0;34m(self, ctx, args, cancellation_manager)\u001b[0m\n\u001b[1;32m    596\u001b[0m               \u001b[0minputs\u001b[0m\u001b[0;34m=\u001b[0m\u001b[0margs\u001b[0m\u001b[0;34m,\u001b[0m\u001b[0;34m\u001b[0m\u001b[0;34m\u001b[0m\u001b[0m\n\u001b[1;32m    597\u001b[0m               \u001b[0mattrs\u001b[0m\u001b[0;34m=\u001b[0m\u001b[0mattrs\u001b[0m\u001b[0;34m,\u001b[0m\u001b[0;34m\u001b[0m\u001b[0;34m\u001b[0m\u001b[0m\n\u001b[0;32m--> 598\u001b[0;31m               ctx=ctx)\n\u001b[0m\u001b[1;32m    599\u001b[0m         \u001b[0;32melse\u001b[0m\u001b[0;34m:\u001b[0m\u001b[0;34m\u001b[0m\u001b[0;34m\u001b[0m\u001b[0m\n\u001b[1;32m    600\u001b[0m           outputs = execute.execute_with_cancellation(\n",
            "\u001b[0;32m/usr/local/lib/python3.6/dist-packages/tensorflow/python/eager/execute.py\u001b[0m in \u001b[0;36mquick_execute\u001b[0;34m(op_name, num_outputs, inputs, attrs, ctx, name)\u001b[0m\n\u001b[1;32m     58\u001b[0m     \u001b[0mctx\u001b[0m\u001b[0;34m.\u001b[0m\u001b[0mensure_initialized\u001b[0m\u001b[0;34m(\u001b[0m\u001b[0;34m)\u001b[0m\u001b[0;34m\u001b[0m\u001b[0;34m\u001b[0m\u001b[0m\n\u001b[1;32m     59\u001b[0m     tensors = pywrap_tfe.TFE_Py_Execute(ctx._handle, device_name, op_name,\n\u001b[0;32m---> 60\u001b[0;31m                                         inputs, attrs, num_outputs)\n\u001b[0m\u001b[1;32m     61\u001b[0m   \u001b[0;32mexcept\u001b[0m \u001b[0mcore\u001b[0m\u001b[0;34m.\u001b[0m\u001b[0m_NotOkStatusException\u001b[0m \u001b[0;32mas\u001b[0m \u001b[0me\u001b[0m\u001b[0;34m:\u001b[0m\u001b[0;34m\u001b[0m\u001b[0;34m\u001b[0m\u001b[0m\n\u001b[1;32m     62\u001b[0m     \u001b[0;32mif\u001b[0m \u001b[0mname\u001b[0m \u001b[0;32mis\u001b[0m \u001b[0;32mnot\u001b[0m \u001b[0;32mNone\u001b[0m\u001b[0;34m:\u001b[0m\u001b[0;34m\u001b[0m\u001b[0;34m\u001b[0m\u001b[0m\n",
            "\u001b[0;31mKeyboardInterrupt\u001b[0m: "
          ]
        }
      ]
    },
    {
      "cell_type": "markdown",
      "metadata": {
        "id": "W7ciDYlHmD7O",
        "colab_type": "text"
      },
      "source": [
        "# Compare Model Results\n",
        "\n",
        "Retrieve the information for the processed models, and compare results, using Holdout data accuracy as the metric."
      ]
    },
    {
      "cell_type": "markdown",
      "metadata": {
        "id": "qW_6l1c2N35L",
        "colab_type": "text"
      },
      "source": [
        "## Setup parms"
      ]
    },
    {
      "cell_type": "code",
      "metadata": {
        "id": "Fa2ujEUamKhW",
        "colab_type": "code",
        "colab": {
          "base_uri": "https://localhost:8080/",
          "height": 36
        },
        "outputId": "e7544420-1c48-454b-d031-c6acf553c0b6"
      },
      "source": [
        "# all options\n",
        "#optnames = ['Adam', 'amsgrad', 'Sgd', 'sgdStep']\n",
        "learning_rates = [0.01, .001, .0001]\n",
        "suffixes = [1, 3, 6, 7, 8]\n",
        "pixels = [150, 300]\n",
        "\n",
        "# use  a subset of options\n",
        "optnames = ['Sgd','amsgrad']\n",
        "\n",
        "print(optnames, learning_rates, suffixes, pixels)\n",
        "\n",
        "history_path = getHistoryPath()"
      ],
      "execution_count": 23,
      "outputs": [
        {
          "output_type": "stream",
          "text": [
            "['Sgd', 'amsgrad'] [0.01, 0.001, 0.0001] [1, 3, 6, 7, 8] [150, 300]\n"
          ],
          "name": "stdout"
        }
      ]
    },
    {
      "cell_type": "markdown",
      "metadata": {
        "id": "oIhyIfLHN9yp",
        "colab_type": "text"
      },
      "source": [
        "### Create data frame to hold results"
      ]
    },
    {
      "cell_type": "code",
      "metadata": {
        "id": "NuNFg9OfbWF9",
        "colab_type": "code",
        "colab": {
          "base_uri": "https://localhost:8080/",
          "height": 258
        },
        "outputId": "e7a8cbf8-c186-4ec6-c599-018997f6bec5"
      },
      "source": [
        "# Generate dataframe to hold results...will use for plotting\n",
        "\n",
        "import pandas as pd\n",
        "\n",
        "df_accuracy = pd.DataFrame({'optimizer': [], 'lr': [], 'pixels': []})\n",
        "\n",
        "for optname in optnames:\n",
        "    for learning_rate in learning_rates:\n",
        "        for pixel in pixels:\n",
        "            df_accuracy = df_accuracy.append(pd.Series([optname, learning_rate, pixel ],\n",
        "                                                       index=df_accuracy.columns), \n",
        "                                             ignore_index=True)\n",
        "\n",
        "xrows = len(df_accuracy)\n",
        "xlist = [None] * len(df_accuracy)\n",
        "\n",
        "for suffix in suffixes:\n",
        "    model_name = 'M' + str(suffix)\n",
        "    df_accuracy[model_name] = xlist\n",
        "\n",
        "print(df_accuracy)\n"
      ],
      "execution_count": 24,
      "outputs": [
        {
          "output_type": "stream",
          "text": [
            "   optimizer      lr  pixels    M1    M3    M6    M7    M8\n",
            "0        Sgd  0.0100   150.0  None  None  None  None  None\n",
            "1        Sgd  0.0100   300.0  None  None  None  None  None\n",
            "2        Sgd  0.0010   150.0  None  None  None  None  None\n",
            "3        Sgd  0.0010   300.0  None  None  None  None  None\n",
            "4        Sgd  0.0001   150.0  None  None  None  None  None\n",
            "5        Sgd  0.0001   300.0  None  None  None  None  None\n",
            "6    amsgrad  0.0100   150.0  None  None  None  None  None\n",
            "7    amsgrad  0.0100   300.0  None  None  None  None  None\n",
            "8    amsgrad  0.0010   150.0  None  None  None  None  None\n",
            "9    amsgrad  0.0010   300.0  None  None  None  None  None\n",
            "10   amsgrad  0.0001   150.0  None  None  None  None  None\n",
            "11   amsgrad  0.0001   300.0  None  None  None  None  None\n"
          ],
          "name": "stdout"
        }
      ]
    },
    {
      "cell_type": "markdown",
      "metadata": {
        "id": "gXGVzZlLOCkX",
        "colab_type": "text"
      },
      "source": [
        "### Populate results table"
      ]
    },
    {
      "cell_type": "code",
      "metadata": {
        "id": "4t5MAzv9aqy3",
        "colab_type": "code",
        "colab": {
          "base_uri": "https://localhost:8080/",
          "height": 1000
        },
        "outputId": "df48bc28-b6c9-454f-f4e9-9915b8c8dde1"
      },
      "source": [
        "# populate results table by retrieving evaluation information from pickled files\n",
        "\n",
        "import pickle\n",
        "import matplotlib.pyplot as plt\n",
        "\n",
        "# loop through all combinations\n",
        "for optname in optnames:\n",
        "    for learning_rate in learning_rates:\n",
        "        for suffix in suffixes:\n",
        "            for pixel in pixels:\n",
        " \n",
        "                lrFormatted = formatLR(learning_rate)\n",
        "                model_name = 'M' + str(suffix)\n",
        "\n",
        "\n",
        "                # generate Label format for saved objects with model suffix and image size\n",
        "                saveInfo = model_name + 'Pix' + str(pixel) + lrFormatted + optname\n",
        "                print('SaveInfo: ', saveInfo)\n",
        "\n",
        "                # generate format used for Saved Evaluation information\n",
        "\n",
        "                evalfile = history_path + 'eval' + saveInfo + '.pkl'\n",
        "                print('EvalFile:', evalfile)\n",
        " \n",
        "\n",
        "                try:\n",
        "                    with open(evalfile, 'rb') as handle:\n",
        "                        b = pickle.load(handle)\n",
        "                except:\n",
        "                    print('EXCEPTION: {0} does not exist '.format(evalfile))\n",
        "                    break\n",
        "\n",
        "                with open(evalfile, 'rb') as handle:\n",
        "                    eval_info = pickle.load(handle)\n",
        "\n",
        "                print('eval_info: ', eval_info)\n",
        "\n",
        "                # update results table with accuracy for corresponding experiment  \n",
        "                df_accuracy.loc[(df_accuracy['optimizer'] == optname) & \n",
        "                                (df_accuracy['lr'] == learning_rate) & \n",
        "                                (df_accuracy['pixels'] == pixel),\n",
        "                                model_name] = eval_info[1]\n",
        "\n",
        " \n"
      ],
      "execution_count": 25,
      "outputs": [
        {
          "output_type": "stream",
          "text": [
            "SaveInfo:  M1Pix150LR2Sgd\n",
            "EvalFile: /content/gdrive/My Drive/Capstone2/history/evalM1Pix150LR2Sgd.pkl\n",
            "eval_info:  [0.31547391414642334, 0.8878676295280457]\n",
            "SaveInfo:  M1Pix300LR2Sgd\n",
            "EvalFile: /content/gdrive/My Drive/Capstone2/history/evalM1Pix300LR2Sgd.pkl\n",
            "EXCEPTION: /content/gdrive/My Drive/Capstone2/history/evalM1Pix300LR2Sgd.pkl does not exist \n",
            "SaveInfo:  M3Pix150LR2Sgd\n",
            "EvalFile: /content/gdrive/My Drive/Capstone2/history/evalM3Pix150LR2Sgd.pkl\n",
            "eval_info:  [0.20603372156620026, 0.9227941036224365]\n",
            "SaveInfo:  M3Pix300LR2Sgd\n",
            "EvalFile: /content/gdrive/My Drive/Capstone2/history/evalM3Pix300LR2Sgd.pkl\n",
            "EXCEPTION: /content/gdrive/My Drive/Capstone2/history/evalM3Pix300LR2Sgd.pkl does not exist \n",
            "SaveInfo:  M6Pix150LR2Sgd\n",
            "EvalFile: /content/gdrive/My Drive/Capstone2/history/evalM6Pix150LR2Sgd.pkl\n",
            "eval_info:  [0.3256545662879944, 0.8795955777168274]\n",
            "SaveInfo:  M6Pix300LR2Sgd\n",
            "EvalFile: /content/gdrive/My Drive/Capstone2/history/evalM6Pix300LR2Sgd.pkl\n",
            "EXCEPTION: /content/gdrive/My Drive/Capstone2/history/evalM6Pix300LR2Sgd.pkl does not exist \n",
            "SaveInfo:  M7Pix150LR2Sgd\n",
            "EvalFile: /content/gdrive/My Drive/Capstone2/history/evalM7Pix150LR2Sgd.pkl\n",
            "eval_info:  [0.16160985827445984, 0.9448529481887817]\n",
            "SaveInfo:  M7Pix300LR2Sgd\n",
            "EvalFile: /content/gdrive/My Drive/Capstone2/history/evalM7Pix300LR2Sgd.pkl\n",
            "EXCEPTION: /content/gdrive/My Drive/Capstone2/history/evalM7Pix300LR2Sgd.pkl does not exist \n",
            "SaveInfo:  M8Pix150LR2Sgd\n",
            "EvalFile: /content/gdrive/My Drive/Capstone2/history/evalM8Pix150LR2Sgd.pkl\n",
            "eval_info:  [0.18311801552772522, 0.9420955777168274]\n",
            "SaveInfo:  M8Pix300LR2Sgd\n",
            "EvalFile: /content/gdrive/My Drive/Capstone2/history/evalM8Pix300LR2Sgd.pkl\n",
            "eval_info:  [0.18852195143699646, 0.935661792755127]\n",
            "SaveInfo:  M1Pix150LR3Sgd\n",
            "EvalFile: /content/gdrive/My Drive/Capstone2/history/evalM1Pix150LR3Sgd.pkl\n",
            "EXCEPTION: /content/gdrive/My Drive/Capstone2/history/evalM1Pix150LR3Sgd.pkl does not exist \n",
            "SaveInfo:  M3Pix150LR3Sgd\n",
            "EvalFile: /content/gdrive/My Drive/Capstone2/history/evalM3Pix150LR3Sgd.pkl\n",
            "EXCEPTION: /content/gdrive/My Drive/Capstone2/history/evalM3Pix150LR3Sgd.pkl does not exist \n",
            "SaveInfo:  M6Pix150LR3Sgd\n",
            "EvalFile: /content/gdrive/My Drive/Capstone2/history/evalM6Pix150LR3Sgd.pkl\n",
            "EXCEPTION: /content/gdrive/My Drive/Capstone2/history/evalM6Pix150LR3Sgd.pkl does not exist \n",
            "SaveInfo:  M7Pix150LR3Sgd\n",
            "EvalFile: /content/gdrive/My Drive/Capstone2/history/evalM7Pix150LR3Sgd.pkl\n",
            "EXCEPTION: /content/gdrive/My Drive/Capstone2/history/evalM7Pix150LR3Sgd.pkl does not exist \n",
            "SaveInfo:  M8Pix150LR3Sgd\n",
            "EvalFile: /content/gdrive/My Drive/Capstone2/history/evalM8Pix150LR3Sgd.pkl\n",
            "EXCEPTION: /content/gdrive/My Drive/Capstone2/history/evalM8Pix150LR3Sgd.pkl does not exist \n",
            "SaveInfo:  M1Pix150LR4Sgd\n",
            "EvalFile: /content/gdrive/My Drive/Capstone2/history/evalM1Pix150LR4Sgd.pkl\n",
            "EXCEPTION: /content/gdrive/My Drive/Capstone2/history/evalM1Pix150LR4Sgd.pkl does not exist \n",
            "SaveInfo:  M3Pix150LR4Sgd\n",
            "EvalFile: /content/gdrive/My Drive/Capstone2/history/evalM3Pix150LR4Sgd.pkl\n",
            "EXCEPTION: /content/gdrive/My Drive/Capstone2/history/evalM3Pix150LR4Sgd.pkl does not exist \n",
            "SaveInfo:  M6Pix150LR4Sgd\n",
            "EvalFile: /content/gdrive/My Drive/Capstone2/history/evalM6Pix150LR4Sgd.pkl\n",
            "EXCEPTION: /content/gdrive/My Drive/Capstone2/history/evalM6Pix150LR4Sgd.pkl does not exist \n",
            "SaveInfo:  M7Pix150LR4Sgd\n",
            "EvalFile: /content/gdrive/My Drive/Capstone2/history/evalM7Pix150LR4Sgd.pkl\n",
            "EXCEPTION: /content/gdrive/My Drive/Capstone2/history/evalM7Pix150LR4Sgd.pkl does not exist \n",
            "SaveInfo:  M8Pix150LR4Sgd\n",
            "EvalFile: /content/gdrive/My Drive/Capstone2/history/evalM8Pix150LR4Sgd.pkl\n",
            "EXCEPTION: /content/gdrive/My Drive/Capstone2/history/evalM8Pix150LR4Sgd.pkl does not exist \n",
            "SaveInfo:  M1Pix150LR2amsgrad\n",
            "EvalFile: /content/gdrive/My Drive/Capstone2/history/evalM1Pix150LR2amsgrad.pkl\n",
            "EXCEPTION: /content/gdrive/My Drive/Capstone2/history/evalM1Pix150LR2amsgrad.pkl does not exist \n",
            "SaveInfo:  M3Pix150LR2amsgrad\n",
            "EvalFile: /content/gdrive/My Drive/Capstone2/history/evalM3Pix150LR2amsgrad.pkl\n",
            "EXCEPTION: /content/gdrive/My Drive/Capstone2/history/evalM3Pix150LR2amsgrad.pkl does not exist \n",
            "SaveInfo:  M6Pix150LR2amsgrad\n",
            "EvalFile: /content/gdrive/My Drive/Capstone2/history/evalM6Pix150LR2amsgrad.pkl\n",
            "EXCEPTION: /content/gdrive/My Drive/Capstone2/history/evalM6Pix150LR2amsgrad.pkl does not exist \n",
            "SaveInfo:  M7Pix150LR2amsgrad\n",
            "EvalFile: /content/gdrive/My Drive/Capstone2/history/evalM7Pix150LR2amsgrad.pkl\n",
            "EXCEPTION: /content/gdrive/My Drive/Capstone2/history/evalM7Pix150LR2amsgrad.pkl does not exist \n",
            "SaveInfo:  M8Pix150LR2amsgrad\n",
            "EvalFile: /content/gdrive/My Drive/Capstone2/history/evalM8Pix150LR2amsgrad.pkl\n",
            "EXCEPTION: /content/gdrive/My Drive/Capstone2/history/evalM8Pix150LR2amsgrad.pkl does not exist \n",
            "SaveInfo:  M1Pix150LR3amsgrad\n",
            "EvalFile: /content/gdrive/My Drive/Capstone2/history/evalM1Pix150LR3amsgrad.pkl\n",
            "eval_info:  [0.26562657952308655, 0.9181985259056091]\n",
            "SaveInfo:  M1Pix300LR3amsgrad\n",
            "EvalFile: /content/gdrive/My Drive/Capstone2/history/evalM1Pix300LR3amsgrad.pkl\n",
            "eval_info:  [0.26272550225257874, 0.9090073704719543]\n",
            "SaveInfo:  M3Pix150LR3amsgrad\n",
            "EvalFile: /content/gdrive/My Drive/Capstone2/history/evalM3Pix150LR3amsgrad.pkl\n",
            "eval_info:  [0.14346623420715332, 0.9540441036224365]\n",
            "SaveInfo:  M3Pix300LR3amsgrad\n",
            "EvalFile: /content/gdrive/My Drive/Capstone2/history/evalM3Pix300LR3amsgrad.pkl\n",
            "eval_info:  [0.17778673768043518, 0.9402573704719543]\n",
            "SaveInfo:  M6Pix150LR3amsgrad\n",
            "EvalFile: /content/gdrive/My Drive/Capstone2/history/evalM6Pix150LR3amsgrad.pkl\n",
            "eval_info:  [0.2197801172733307, 0.9273896813392639]\n",
            "SaveInfo:  M6Pix300LR3amsgrad\n",
            "EvalFile: /content/gdrive/My Drive/Capstone2/history/evalM6Pix300LR3amsgrad.pkl\n",
            "eval_info:  [0.24501530826091766, 0.908088207244873]\n",
            "SaveInfo:  M7Pix150LR3amsgrad\n",
            "EvalFile: /content/gdrive/My Drive/Capstone2/history/evalM7Pix150LR3amsgrad.pkl\n",
            "eval_info:  [0.17134642601013184, 0.9448529481887817]\n",
            "SaveInfo:  M7Pix300LR3amsgrad\n",
            "EvalFile: /content/gdrive/My Drive/Capstone2/history/evalM7Pix300LR3amsgrad.pkl\n",
            "eval_info:  [0.17486771941184998, 0.9430146813392639]\n",
            "SaveInfo:  M8Pix150LR3amsgrad\n",
            "EvalFile: /content/gdrive/My Drive/Capstone2/history/evalM8Pix150LR3amsgrad.pkl\n",
            "eval_info:  [0.15057942271232605, 0.951286792755127]\n",
            "SaveInfo:  M8Pix300LR3amsgrad\n",
            "EvalFile: /content/gdrive/My Drive/Capstone2/history/evalM8Pix300LR3amsgrad.pkl\n",
            "eval_info:  [0.2355654090642929, 0.9338235259056091]\n",
            "SaveInfo:  M1Pix150LR4amsgrad\n",
            "EvalFile: /content/gdrive/My Drive/Capstone2/history/evalM1Pix150LR4amsgrad.pkl\n",
            "EXCEPTION: /content/gdrive/My Drive/Capstone2/history/evalM1Pix150LR4amsgrad.pkl does not exist \n",
            "SaveInfo:  M3Pix150LR4amsgrad\n",
            "EvalFile: /content/gdrive/My Drive/Capstone2/history/evalM3Pix150LR4amsgrad.pkl\n",
            "eval_info:  [0.1965916007757187, 0.9292279481887817]\n",
            "SaveInfo:  M3Pix300LR4amsgrad\n",
            "EvalFile: /content/gdrive/My Drive/Capstone2/history/evalM3Pix300LR4amsgrad.pkl\n",
            "EXCEPTION: /content/gdrive/My Drive/Capstone2/history/evalM3Pix300LR4amsgrad.pkl does not exist \n",
            "SaveInfo:  M6Pix150LR4amsgrad\n",
            "EvalFile: /content/gdrive/My Drive/Capstone2/history/evalM6Pix150LR4amsgrad.pkl\n",
            "EXCEPTION: /content/gdrive/My Drive/Capstone2/history/evalM6Pix150LR4amsgrad.pkl does not exist \n",
            "SaveInfo:  M7Pix150LR4amsgrad\n",
            "EvalFile: /content/gdrive/My Drive/Capstone2/history/evalM7Pix150LR4amsgrad.pkl\n",
            "eval_info:  [0.1555176079273224, 0.9430146813392639]\n",
            "SaveInfo:  M7Pix300LR4amsgrad\n",
            "EvalFile: /content/gdrive/My Drive/Capstone2/history/evalM7Pix300LR4amsgrad.pkl\n",
            "EXCEPTION: /content/gdrive/My Drive/Capstone2/history/evalM7Pix300LR4amsgrad.pkl does not exist \n",
            "SaveInfo:  M8Pix150LR4amsgrad\n",
            "EvalFile: /content/gdrive/My Drive/Capstone2/history/evalM8Pix150LR4amsgrad.pkl\n",
            "EXCEPTION: /content/gdrive/My Drive/Capstone2/history/evalM8Pix150LR4amsgrad.pkl does not exist \n"
          ],
          "name": "stdout"
        }
      ]
    },
    {
      "cell_type": "markdown",
      "metadata": {
        "id": "Wh3lMjkXOKTX",
        "colab_type": "text"
      },
      "source": [
        "### Print results table"
      ]
    },
    {
      "cell_type": "code",
      "metadata": {
        "id": "OIAc61SdqA44",
        "colab_type": "code",
        "colab": {
          "base_uri": "https://localhost:8080/",
          "height": 258
        },
        "outputId": "53e77b53-c896-4928-b551-b1cd0ea22e72"
      },
      "source": [
        "# print results table to show which combinations we actually ran...\n",
        "print(df_accuracy)"
      ],
      "execution_count": 26,
      "outputs": [
        {
          "output_type": "stream",
          "text": [
            "   optimizer      lr  pixels        M1        M3        M6        M7        M8\n",
            "0        Sgd  0.0100   150.0  0.887868  0.922794  0.879596  0.944853  0.942096\n",
            "1        Sgd  0.0100   300.0      None      None      None      None  0.935662\n",
            "2        Sgd  0.0010   150.0      None      None      None      None      None\n",
            "3        Sgd  0.0010   300.0      None      None      None      None      None\n",
            "4        Sgd  0.0001   150.0      None      None      None      None      None\n",
            "5        Sgd  0.0001   300.0      None      None      None      None      None\n",
            "6    amsgrad  0.0100   150.0      None      None      None      None      None\n",
            "7    amsgrad  0.0100   300.0      None      None      None      None      None\n",
            "8    amsgrad  0.0010   150.0  0.918199  0.954044   0.92739  0.944853  0.951287\n",
            "9    amsgrad  0.0010   300.0  0.909007  0.940257  0.908088  0.943015  0.933824\n",
            "10   amsgrad  0.0001   150.0      None  0.929228      None  0.943015      None\n",
            "11   amsgrad  0.0001   300.0      None      None      None      None      None\n"
          ],
          "name": "stdout"
        }
      ]
    },
    {
      "cell_type": "markdown",
      "metadata": {
        "id": "KBBKBeX8ORl2",
        "colab_type": "text"
      },
      "source": [
        "## Make Plots"
      ]
    },
    {
      "cell_type": "markdown",
      "metadata": {
        "id": "_Imw02h_OUC_",
        "colab_type": "text"
      },
      "source": [
        "### Plot: Accuracy for Optimizer vs model"
      ]
    },
    {
      "cell_type": "code",
      "metadata": {
        "id": "y1bcabE0Crtq",
        "colab_type": "code",
        "colab": {
          "base_uri": "https://localhost:8080/",
          "height": 754
        },
        "outputId": "70d6051b-b2b1-4507-e943-28a4a0cb4fcd"
      },
      "source": [
        "# plot optimizer vs model for pixels = 150 (and best lr/optimizer)\n",
        "\n",
        "df = df_accuracy\n",
        "#df_filtered = pd.DataFrame(df.loc[(df.pixels==150)]  )\n",
        "\n",
        "\n",
        "df_filtered = pd.DataFrame( df.loc[(((df.optimizer=='amsgrad') & (df.lr == .0010)) |\n",
        "                      ((df.optimizer == 'Sgd') & (df.lr == .01))) &\n",
        "                      (df.pixels == 150)\n",
        "                      ]) [['optimizer','M1','M3','M6','M7','M8']]\n",
        "\n",
        "\n",
        "\n",
        "print('df_filtered \\n', df_filtered)\n",
        "\n",
        "\n",
        "melted = pd.melt(df_filtered, id_vars='optimizer', var_name='model',value_name='accuracy')\n",
        "print('melted \\n', melted)\n",
        "\n",
        "import seaborn as sns\n",
        "sns.catplot(x=\"model\", y=\"accuracy\", hue=\"optimizer\", kind=\"bar\", data=melted);\n",
        "\n",
        "plt.title('Holdout Accuracy by Model and Optimizer')"
      ],
      "execution_count": 27,
      "outputs": [
        {
          "output_type": "stream",
          "text": [
            "df_filtered \n",
            "   optimizer        M1        M3        M6        M7        M8\n",
            "0       Sgd  0.887868  0.922794  0.879596  0.944853  0.942096\n",
            "8   amsgrad  0.918199  0.954044   0.92739  0.944853  0.951287\n",
            "melted \n",
            "   optimizer model  accuracy\n",
            "0       Sgd    M1  0.887868\n",
            "1   amsgrad    M1  0.918199\n",
            "2       Sgd    M3  0.922794\n",
            "3   amsgrad    M3  0.954044\n",
            "4       Sgd    M6  0.879596\n",
            "5   amsgrad    M6   0.92739\n",
            "6       Sgd    M7  0.944853\n",
            "7   amsgrad    M7  0.944853\n",
            "8       Sgd    M8  0.942096\n",
            "9   amsgrad    M8  0.951287\n"
          ],
          "name": "stdout"
        },
        {
          "output_type": "stream",
          "text": [
            "/usr/local/lib/python3.6/dist-packages/statsmodels/tools/_testing.py:19: FutureWarning: pandas.util.testing is deprecated. Use the functions in the public API at pandas.testing instead.\n",
            "  import pandas.util.testing as tm\n"
          ],
          "name": "stderr"
        },
        {
          "output_type": "execute_result",
          "data": {
            "text/plain": [
              "Text(0.5, 1.0, 'Holdout Accuracy by Model and Optimizer')"
            ]
          },
          "metadata": {
            "tags": []
          },
          "execution_count": 27
        },
        {
          "output_type": "display_data",
          "data": {
            "image/png": "[encoded data removed]",
            "text/plain": [
              "<Figure size 440x360 with 1 Axes>"
            ]
          },
          "metadata": {
            "tags": [],
            "needs_background": "light"
          }
        }
      ]
    },
    {
      "cell_type": "markdown",
      "metadata": {
        "id": "mmCwUeCyj76t",
        "colab_type": "text"
      },
      "source": [
        "==> Amsgrad is better (or the same) than Sgd for all models in this case. \n",
        "\n",
        "*Therefore, we use Amsgrad results for subsequent analysis*"
      ]
    },
    {
      "cell_type": "markdown",
      "metadata": {
        "id": "iKM95LkaOdAY",
        "colab_type": "text"
      },
      "source": [
        "### Plot: Accuracy vs Image Size"
      ]
    },
    {
      "cell_type": "code",
      "metadata": {
        "id": "J_CsWDFWSG1Y",
        "colab_type": "code",
        "colab": {
          "base_uri": "https://localhost:8080/",
          "height": 369
        },
        "outputId": "507ce8f9-4988-451b-ddd7-311c5a75ee35"
      },
      "source": [
        "# Plot accuracy vs image size (optimizer = Amsgrad)\n",
        "\n",
        "#rename data frame for more efficient typing\n",
        "df = df_accuracy\n",
        "df_filtered = pd.DataFrame(df.loc[(df.optimizer=='amsgrad') & (df.lr == .0010)])\n",
        "\n",
        "print(df_filtered)\n",
        " \n",
        "# multiple line plot\n",
        "#plt.plot( 'pixels', 'M1', data=df_filtered, marker='o', markerfacecolor='blue', markersize=12, color='skyblue', linewidth=4)\n",
        "plt.plot( 'pixels', 'M1', data=df_filtered, marker='o', markerfacecolor='blue', markersize=None, color='blue', linewidth=2)\n",
        "plt.plot( 'pixels', 'M3', data=df_filtered, marker='o', color='green', linewidth=2)\n",
        "plt.plot( 'pixels', 'M6', data=df_filtered, marker='o', color='black', linewidth=2, linestyle='solid' )\n",
        "plt.plot( 'pixels', 'M7', data=df_filtered, marker='o', color='brown', linewidth=2, linestyle='solid' )\n",
        "plt.plot( 'pixels', 'M8', data=df_filtered, marker='o', color='orange', linewidth=2, linestyle='solid')\n",
        "#plt.plot( 'pixels', 'M8', data=df_filtered, marker='', color='orange', linewidth=2, linestyle='dashed', label=\"toto\")\n",
        "\n",
        "plt.title('Holdout Accuracy vs Image Size ')\n",
        "plt.xlabel('Image Size (pixels)')\n",
        "plt.ylabel('Holdout Accuracy')\n",
        "plt.legend()\n",
        "\n",
        "\n"
      ],
      "execution_count": 28,
      "outputs": [
        {
          "output_type": "stream",
          "text": [
            "  optimizer     lr  pixels        M1        M3        M6        M7        M8\n",
            "8   amsgrad  0.001   150.0  0.918199  0.954044   0.92739  0.944853  0.951287\n",
            "9   amsgrad  0.001   300.0  0.909007  0.940257  0.908088  0.943015  0.933824\n"
          ],
          "name": "stdout"
        },
        {
          "output_type": "execute_result",
          "data": {
            "text/plain": [
              "<matplotlib.legend.Legend at 0x7f585c3394a8>"
            ]
          },
          "metadata": {
            "tags": []
          },
          "execution_count": 28
        },
        {
          "output_type": "display_data",
          "data": {
            "image/png": "[encoded data removed]",
            "text/plain": [
              "<Figure size 432x288 with 1 Axes>"
            ]
          },
          "metadata": {
            "tags": [],
            "needs_background": "light"
          }
        }
      ]
    },
    {
      "cell_type": "markdown",
      "metadata": {
        "id": "h6H53nYRh_DP",
        "colab_type": "text"
      },
      "source": [
        "==> Accuracy is better for the smaller image size"
      ]
    },
    {
      "cell_type": "markdown",
      "metadata": {
        "id": "Q3ok_sRuOqx-",
        "colab_type": "text"
      },
      "source": [
        "### Plot: Accuracy vs Learning Rate"
      ]
    },
    {
      "cell_type": "code",
      "metadata": {
        "id": "5ii17DKWvCAq",
        "colab_type": "code",
        "colab": {
          "base_uri": "https://localhost:8080/",
          "height": 355
        },
        "outputId": "45232637-c33c-4229-cbb2-6c6db3441bbe"
      },
      "source": [
        "# Plot accuracy vs learning rate (optimizer = Amsgrad)\n",
        "\n",
        "df = df_accuracy\n",
        "df_filtered = pd.DataFrame(df.loc[(df.optimizer=='amsgrad') & (df.pixels==150)])\n",
        "\n",
        "print(df_filtered)\n",
        "xval = 'lr'\n",
        "\n",
        "# multiple line plot\n",
        "plt.plot( xval, 'M1', data=df_filtered, marker='o', markerfacecolor='blue', markersize=None, color='blue', linewidth=2)\n",
        "plt.plot( xval, 'M3', data=df_filtered, marker='o', color='green', linewidth=2)\n",
        "plt.plot( xval, 'M6', data=df_filtered, marker='o', color='black', linewidth=2, linestyle='solid' )\n",
        "plt.plot( xval, 'M7', data=df_filtered, marker='o', color='brown', linewidth=2, linestyle='solid' )\n",
        "plt.plot( xval, 'M8', data=df_filtered, marker='o', color='orange', linewidth=2, linestyle='solid')\n",
        "#plt.plot( xval, 'M8', data=df_filtered, marker='', color='orange', linewidth=2, linestyle='dashed', label=\"toto\")\n",
        "\n",
        "plt.legend(loc='lower center')\n",
        "plt.title('Holdout Accuracy vs LR (opt=Amsgrad)')\n",
        "plt.xlabel = ('Learning Rate')\n",
        "plt.ylabel = ('Holdout Accuracy')\n",
        "\n"
      ],
      "execution_count": 29,
      "outputs": [
        {
          "output_type": "stream",
          "text": [
            "   optimizer      lr  pixels        M1        M3       M6        M7        M8\n",
            "6    amsgrad  0.0100   150.0      None      None     None      None      None\n",
            "8    amsgrad  0.0010   150.0  0.918199  0.954044  0.92739  0.944853  0.951287\n",
            "10   amsgrad  0.0001   150.0      None  0.929228     None  0.943015      None\n"
          ],
          "name": "stdout"
        },
        {
          "output_type": "display_data",
          "data": {
            "image/png": "[encoded data removed]",
            "text/plain": [
              "<Figure size 432x288 with 1 Axes>"
            ]
          },
          "metadata": {
            "tags": [],
            "needs_background": "light"
          }
        }
      ]
    },
    {
      "cell_type": "markdown",
      "metadata": {
        "id": "4jzlfw5kjTX3",
        "colab_type": "text"
      },
      "source": [
        "==>  the lower learning rate of 1e-4 (.0001) is worse than 1e-3 (.001)"
      ]
    },
    {
      "cell_type": "code",
      "metadata": {
        "id": "TeuhZY31vBDL",
        "colab_type": "code",
        "colab": {}
      },
      "source": [
        ""
      ],
      "execution_count": 0,
      "outputs": []
    },
    {
      "cell_type": "markdown",
      "metadata": {
        "id": "PzhHHHPZO8US",
        "colab_type": "text"
      },
      "source": [
        "# Best Model -- Todo\n",
        "\n",
        "* Confusion Matrix\n",
        "* Example of mis-Classified images"
      ]
    },
    {
      "cell_type": "code",
      "metadata": {
        "id": "rEclC1_SPJ1m",
        "colab_type": "code",
        "colab": {}
      },
      "source": [
        ""
      ],
      "execution_count": 0,
      "outputs": []
    }
  ]
}