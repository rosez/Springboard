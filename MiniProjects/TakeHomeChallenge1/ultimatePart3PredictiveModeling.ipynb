{
 "cells": [
  {
   "cell_type": "markdown",
   "metadata": {},
   "source": [
    "# Part 3 - Predictive Modeling\n",
    "\n",
    "Ultimate is interested in predicting rider retention. To help explore this question, we have\n",
    "provided a sample dataset of a cohort of users who signed up for an Ultimate account inJanuary 2014. The data was pulled several months later; we consider a user retained if they\n",
    "were “active” (i.e. took a trip) in the preceding 30 days."
   ]
  },
  {
   "cell_type": "markdown",
   "metadata": {},
   "source": [
    "## Data Description"
   ]
  },
  {
   "cell_type": "code",
   "execution_count": 1,
   "metadata": {},
   "outputs": [],
   "source": [
    "# Data description\n",
    "# ● city: city this user signed up in\n",
    "# ● phone: primary device for this user\n",
    "# ● signup_date: date of account registration; in the form ‘YYYYMMDD’\n",
    "# ● last_trip_date: the last time this user completed a trip; in the form ‘YYYYMMDD’\n",
    "# ● avg_dist: the average distance in miles per trip taken in the first 30 days after signup\n",
    "# ● avg_rating_by_driver: the rider’s average rating over all of their trips\n",
    "# ● avg_rating_of_driver: the rider’s average rating of their drivers over all of their trips\n",
    "# ● surge_pct: the percent of trips taken with surge multiplier > 1\n",
    "# ● avg_surge: The average surge multiplier over all of this user’s trips\n",
    "# ● trips_in_first_30_days: the number of trips this user took in the first 30 days after\n",
    "# signing up\n",
    "# ● ultimate_black_user: TRUE if the user took an Ultimate Black in their first 30 days;\n",
    "# FALSE otherwise\n",
    "# ● weekday_pct: the percent of the user’s trips occurring during a weekday"
   ]
  },
  {
   "cell_type": "markdown",
   "metadata": {},
   "source": [
    "# Solution Summary\n",
    "\n",
    "We generate three different models and compare the outcomes:\n",
    "\n",
    "1. Light Gradient Boost (lgb)\n",
    "    * use grid search to find best parameters\n",
    "    * use epochs for training model\n",
    "2. SVM/SVC -- support vector classifier\n",
    "    * straightforward implementation\n",
    "3. DNN -- deep Neural Network\n",
    "    * experiment with a few different architectures\n",
    "\n",
    "\n",
    "Outcome Summary:\n",
    "\n",
    "    The lgb model performs the best, with an f1-score of .7874 vs an f1 of .7043 for DNN and an f1 of 0.6908 for SVC\n",
    "\n",
    "    \n",
    "\n",
    "* **NOTE**: we started the jupyter notebook with tensorflow environment, then switched to Python 3 kernel...it seems jy is doing something strange with the paths, and not finding modules otherwise\n"
   ]
  },
  {
   "cell_type": "markdown",
   "metadata": {},
   "source": [
    "# Solution"
   ]
  },
  {
   "cell_type": "code",
   "execution_count": 2,
   "metadata": {},
   "outputs": [],
   "source": [
    "import json\n",
    "from datetime import datetime\n",
    "import pandas as pd\n",
    "import seaborn as sns\n",
    "import matplotlib.pyplot as plt\n",
    "import numpy as np"
   ]
  },
  {
   "cell_type": "code",
   "execution_count": 3,
   "metadata": {},
   "outputs": [],
   "source": [
    "# modeling packages\n",
    "\n",
    "### ML model modules   ###\n",
    "import lightgbm as lgb "
   ]
  },
  {
   "cell_type": "code",
   "execution_count": 4,
   "metadata": {},
   "outputs": [
    {
     "name": "stderr",
     "output_type": "stream",
     "text": [
      "C:\\Users\\rozoe\\Anaconda3\\envs\\tensorflow\\lib\\site-packages\\sklearn\\utils\\deprecation.py:144: FutureWarning: The sklearn.tree.export module is  deprecated in version 0.22 and will be removed in version 0.24. The corresponding classes / functions should instead be imported from sklearn.tree. Anything that cannot be imported from sklearn.tree is now part of the private API.\n",
      "  warnings.warn(message, FutureWarning)\n"
     ]
    }
   ],
   "source": [
    "### sklearn model-selection modules   ###\n",
    "from sklearn.model_selection import train_test_split\n",
    "from sklearn.metrics import f1_score\n",
    "from sklearn.metrics import accuracy_score \n",
    "\n",
    "from sklearn.metrics import confusion_matrix\n",
    "\n",
    "from sklearn.model_selection import cross_val_score, GridSearchCV, RandomizedSearchCV\n",
    "from sklearn.metrics import roc_curve, auc\n",
    "from sklearn.metrics import roc_auc_score\n",
    "\n",
    "\n",
    "\n",
    " \n",
    "from sklearn import tree\n",
    "from sklearn.tree.export import export_text\n",
    "\n",
    "\n",
    "from sklearn import preprocessing\n",
    "\n",
    "# auxilliary modules\n",
    "\n",
    "from datetime import datetime\n",
    "import time"
   ]
  },
  {
   "cell_type": "code",
   "execution_count": 5,
   "metadata": {},
   "outputs": [
    {
     "name": "stderr",
     "output_type": "stream",
     "text": [
      "Using TensorFlow backend.\n",
      "C:\\Users\\rozoe\\Anaconda3\\envs\\tensorflow\\lib\\site-packages\\tensorflow\\python\\framework\\dtypes.py:516: FutureWarning: Passing (type, 1) or '1type' as a synonym of type is deprecated; in a future version of numpy, it will be understood as (type, (1,)) / '(1,)type'.\n",
      "  _np_qint8 = np.dtype([(\"qint8\", np.int8, 1)])\n",
      "C:\\Users\\rozoe\\Anaconda3\\envs\\tensorflow\\lib\\site-packages\\tensorflow\\python\\framework\\dtypes.py:517: FutureWarning: Passing (type, 1) or '1type' as a synonym of type is deprecated; in a future version of numpy, it will be understood as (type, (1,)) / '(1,)type'.\n",
      "  _np_quint8 = np.dtype([(\"quint8\", np.uint8, 1)])\n",
      "C:\\Users\\rozoe\\Anaconda3\\envs\\tensorflow\\lib\\site-packages\\tensorflow\\python\\framework\\dtypes.py:518: FutureWarning: Passing (type, 1) or '1type' as a synonym of type is deprecated; in a future version of numpy, it will be understood as (type, (1,)) / '(1,)type'.\n",
      "  _np_qint16 = np.dtype([(\"qint16\", np.int16, 1)])\n",
      "C:\\Users\\rozoe\\Anaconda3\\envs\\tensorflow\\lib\\site-packages\\tensorflow\\python\\framework\\dtypes.py:519: FutureWarning: Passing (type, 1) or '1type' as a synonym of type is deprecated; in a future version of numpy, it will be understood as (type, (1,)) / '(1,)type'.\n",
      "  _np_quint16 = np.dtype([(\"quint16\", np.uint16, 1)])\n",
      "C:\\Users\\rozoe\\Anaconda3\\envs\\tensorflow\\lib\\site-packages\\tensorflow\\python\\framework\\dtypes.py:520: FutureWarning: Passing (type, 1) or '1type' as a synonym of type is deprecated; in a future version of numpy, it will be understood as (type, (1,)) / '(1,)type'.\n",
      "  _np_qint32 = np.dtype([(\"qint32\", np.int32, 1)])\n",
      "C:\\Users\\rozoe\\Anaconda3\\envs\\tensorflow\\lib\\site-packages\\tensorflow\\python\\framework\\dtypes.py:525: FutureWarning: Passing (type, 1) or '1type' as a synonym of type is deprecated; in a future version of numpy, it will be understood as (type, (1,)) / '(1,)type'.\n",
      "  np_resource = np.dtype([(\"resource\", np.ubyte, 1)])\n",
      "C:\\Users\\rozoe\\Anaconda3\\envs\\tensorflow\\lib\\site-packages\\tensorboard\\compat\\tensorflow_stub\\dtypes.py:541: FutureWarning: Passing (type, 1) or '1type' as a synonym of type is deprecated; in a future version of numpy, it will be understood as (type, (1,)) / '(1,)type'.\n",
      "  _np_qint8 = np.dtype([(\"qint8\", np.int8, 1)])\n",
      "C:\\Users\\rozoe\\Anaconda3\\envs\\tensorflow\\lib\\site-packages\\tensorboard\\compat\\tensorflow_stub\\dtypes.py:542: FutureWarning: Passing (type, 1) or '1type' as a synonym of type is deprecated; in a future version of numpy, it will be understood as (type, (1,)) / '(1,)type'.\n",
      "  _np_quint8 = np.dtype([(\"quint8\", np.uint8, 1)])\n",
      "C:\\Users\\rozoe\\Anaconda3\\envs\\tensorflow\\lib\\site-packages\\tensorboard\\compat\\tensorflow_stub\\dtypes.py:543: FutureWarning: Passing (type, 1) or '1type' as a synonym of type is deprecated; in a future version of numpy, it will be understood as (type, (1,)) / '(1,)type'.\n",
      "  _np_qint16 = np.dtype([(\"qint16\", np.int16, 1)])\n",
      "C:\\Users\\rozoe\\Anaconda3\\envs\\tensorflow\\lib\\site-packages\\tensorboard\\compat\\tensorflow_stub\\dtypes.py:544: FutureWarning: Passing (type, 1) or '1type' as a synonym of type is deprecated; in a future version of numpy, it will be understood as (type, (1,)) / '(1,)type'.\n",
      "  _np_quint16 = np.dtype([(\"quint16\", np.uint16, 1)])\n",
      "C:\\Users\\rozoe\\Anaconda3\\envs\\tensorflow\\lib\\site-packages\\tensorboard\\compat\\tensorflow_stub\\dtypes.py:545: FutureWarning: Passing (type, 1) or '1type' as a synonym of type is deprecated; in a future version of numpy, it will be understood as (type, (1,)) / '(1,)type'.\n",
      "  _np_qint32 = np.dtype([(\"qint32\", np.int32, 1)])\n",
      "C:\\Users\\rozoe\\Anaconda3\\envs\\tensorflow\\lib\\site-packages\\tensorboard\\compat\\tensorflow_stub\\dtypes.py:550: FutureWarning: Passing (type, 1) or '1type' as a synonym of type is deprecated; in a future version of numpy, it will be understood as (type, (1,)) / '(1,)type'.\n",
      "  np_resource = np.dtype([(\"resource\", np.ubyte, 1)])\n"
     ]
    }
   ],
   "source": [
    "import keras\n",
    "from keras.layers import Dense\n",
    "from keras.models import Sequential\n",
    "\n",
    "from keras.callbacks import EarlyStopping"
   ]
  },
  {
   "cell_type": "code",
   "execution_count": 6,
   "metadata": {},
   "outputs": [
    {
     "data": {
      "text/plain": [
       "[{'city': \"King's Landing\",\n",
       "  'trips_in_first_30_days': 4,\n",
       "  'signup_date': '2014-01-25',\n",
       "  'avg_rating_of_driver': 4.7,\n",
       "  'avg_surge': 1.1,\n",
       "  'last_trip_date': '2014-06-17',\n",
       "  'phone': 'iPhone',\n",
       "  'surge_pct': 15.4,\n",
       "  'ultimate_black_user': True,\n",
       "  'weekday_pct': 46.2,\n",
       "  'avg_dist': 3.67,\n",
       "  'avg_rating_by_driver': 5.0},\n",
       " {'city': 'Astapor',\n",
       "  'trips_in_first_30_days': 0,\n",
       "  'signup_date': '2014-01-29',\n",
       "  'avg_rating_of_driver': 5.0,\n",
       "  'avg_surge': 1.0,\n",
       "  'last_trip_date': '2014-05-05',\n",
       "  'phone': 'Android',\n",
       "  'surge_pct': 0.0,\n",
       "  'ultimate_black_user': False,\n",
       "  'weekday_pct': 50.0,\n",
       "  'avg_dist': 8.26,\n",
       "  'avg_rating_by_driver': 5.0}]"
      ]
     },
     "execution_count": 6,
     "metadata": {},
     "output_type": "execute_result"
    }
   ],
   "source": [
    "with open('ultimate_data_challenge.json', 'r') as json_file:\n",
    "    json_trips = json.load(json_file)\n",
    "json_trips[:2]"
   ]
  },
  {
   "cell_type": "code",
   "execution_count": 7,
   "metadata": {},
   "outputs": [
    {
     "data": {
      "text/html": [
       "<div>\n",
       "<style scoped>\n",
       "    .dataframe tbody tr th:only-of-type {\n",
       "        vertical-align: middle;\n",
       "    }\n",
       "\n",
       "    .dataframe tbody tr th {\n",
       "        vertical-align: top;\n",
       "    }\n",
       "\n",
       "    .dataframe thead th {\n",
       "        text-align: right;\n",
       "    }\n",
       "</style>\n",
       "<table border=\"1\" class=\"dataframe\">\n",
       "  <thead>\n",
       "    <tr style=\"text-align: right;\">\n",
       "      <th></th>\n",
       "      <th>city</th>\n",
       "      <th>trips_in_first_30_days</th>\n",
       "      <th>signup_date</th>\n",
       "      <th>avg_rating_of_driver</th>\n",
       "      <th>avg_surge</th>\n",
       "      <th>last_trip_date</th>\n",
       "      <th>phone</th>\n",
       "      <th>surge_pct</th>\n",
       "      <th>ultimate_black_user</th>\n",
       "      <th>weekday_pct</th>\n",
       "      <th>avg_dist</th>\n",
       "      <th>avg_rating_by_driver</th>\n",
       "    </tr>\n",
       "  </thead>\n",
       "  <tbody>\n",
       "    <tr>\n",
       "      <th>0</th>\n",
       "      <td>King's Landing</td>\n",
       "      <td>4</td>\n",
       "      <td>2014-01-25</td>\n",
       "      <td>4.7</td>\n",
       "      <td>1.10</td>\n",
       "      <td>2014-06-17</td>\n",
       "      <td>iPhone</td>\n",
       "      <td>15.4</td>\n",
       "      <td>True</td>\n",
       "      <td>46.2</td>\n",
       "      <td>3.67</td>\n",
       "      <td>5.0</td>\n",
       "    </tr>\n",
       "    <tr>\n",
       "      <th>1</th>\n",
       "      <td>Astapor</td>\n",
       "      <td>0</td>\n",
       "      <td>2014-01-29</td>\n",
       "      <td>5.0</td>\n",
       "      <td>1.00</td>\n",
       "      <td>2014-05-05</td>\n",
       "      <td>Android</td>\n",
       "      <td>0.0</td>\n",
       "      <td>False</td>\n",
       "      <td>50.0</td>\n",
       "      <td>8.26</td>\n",
       "      <td>5.0</td>\n",
       "    </tr>\n",
       "    <tr>\n",
       "      <th>2</th>\n",
       "      <td>Astapor</td>\n",
       "      <td>3</td>\n",
       "      <td>2014-01-06</td>\n",
       "      <td>4.3</td>\n",
       "      <td>1.00</td>\n",
       "      <td>2014-01-07</td>\n",
       "      <td>iPhone</td>\n",
       "      <td>0.0</td>\n",
       "      <td>False</td>\n",
       "      <td>100.0</td>\n",
       "      <td>0.77</td>\n",
       "      <td>5.0</td>\n",
       "    </tr>\n",
       "    <tr>\n",
       "      <th>3</th>\n",
       "      <td>King's Landing</td>\n",
       "      <td>9</td>\n",
       "      <td>2014-01-10</td>\n",
       "      <td>4.6</td>\n",
       "      <td>1.14</td>\n",
       "      <td>2014-06-29</td>\n",
       "      <td>iPhone</td>\n",
       "      <td>20.0</td>\n",
       "      <td>True</td>\n",
       "      <td>80.0</td>\n",
       "      <td>2.36</td>\n",
       "      <td>4.9</td>\n",
       "    </tr>\n",
       "    <tr>\n",
       "      <th>4</th>\n",
       "      <td>Winterfell</td>\n",
       "      <td>14</td>\n",
       "      <td>2014-01-27</td>\n",
       "      <td>4.4</td>\n",
       "      <td>1.19</td>\n",
       "      <td>2014-03-15</td>\n",
       "      <td>Android</td>\n",
       "      <td>11.8</td>\n",
       "      <td>False</td>\n",
       "      <td>82.4</td>\n",
       "      <td>3.13</td>\n",
       "      <td>4.9</td>\n",
       "    </tr>\n",
       "    <tr>\n",
       "      <th>...</th>\n",
       "      <td>...</td>\n",
       "      <td>...</td>\n",
       "      <td>...</td>\n",
       "      <td>...</td>\n",
       "      <td>...</td>\n",
       "      <td>...</td>\n",
       "      <td>...</td>\n",
       "      <td>...</td>\n",
       "      <td>...</td>\n",
       "      <td>...</td>\n",
       "      <td>...</td>\n",
       "      <td>...</td>\n",
       "    </tr>\n",
       "    <tr>\n",
       "      <th>49995</th>\n",
       "      <td>King's Landing</td>\n",
       "      <td>0</td>\n",
       "      <td>2014-01-25</td>\n",
       "      <td>5.0</td>\n",
       "      <td>1.00</td>\n",
       "      <td>2014-06-05</td>\n",
       "      <td>iPhone</td>\n",
       "      <td>0.0</td>\n",
       "      <td>False</td>\n",
       "      <td>100.0</td>\n",
       "      <td>5.63</td>\n",
       "      <td>4.2</td>\n",
       "    </tr>\n",
       "    <tr>\n",
       "      <th>49996</th>\n",
       "      <td>Astapor</td>\n",
       "      <td>1</td>\n",
       "      <td>2014-01-24</td>\n",
       "      <td>NaN</td>\n",
       "      <td>1.00</td>\n",
       "      <td>2014-01-25</td>\n",
       "      <td>iPhone</td>\n",
       "      <td>0.0</td>\n",
       "      <td>False</td>\n",
       "      <td>0.0</td>\n",
       "      <td>0.00</td>\n",
       "      <td>4.0</td>\n",
       "    </tr>\n",
       "    <tr>\n",
       "      <th>49997</th>\n",
       "      <td>Winterfell</td>\n",
       "      <td>0</td>\n",
       "      <td>2014-01-31</td>\n",
       "      <td>5.0</td>\n",
       "      <td>1.00</td>\n",
       "      <td>2014-05-22</td>\n",
       "      <td>Android</td>\n",
       "      <td>0.0</td>\n",
       "      <td>True</td>\n",
       "      <td>100.0</td>\n",
       "      <td>3.86</td>\n",
       "      <td>5.0</td>\n",
       "    </tr>\n",
       "    <tr>\n",
       "      <th>49998</th>\n",
       "      <td>Astapor</td>\n",
       "      <td>2</td>\n",
       "      <td>2014-01-14</td>\n",
       "      <td>3.0</td>\n",
       "      <td>1.00</td>\n",
       "      <td>2014-01-15</td>\n",
       "      <td>iPhone</td>\n",
       "      <td>0.0</td>\n",
       "      <td>False</td>\n",
       "      <td>100.0</td>\n",
       "      <td>4.58</td>\n",
       "      <td>3.5</td>\n",
       "    </tr>\n",
       "    <tr>\n",
       "      <th>49999</th>\n",
       "      <td>Astapor</td>\n",
       "      <td>0</td>\n",
       "      <td>2014-01-18</td>\n",
       "      <td>NaN</td>\n",
       "      <td>1.00</td>\n",
       "      <td>2014-04-20</td>\n",
       "      <td>Android</td>\n",
       "      <td>0.0</td>\n",
       "      <td>False</td>\n",
       "      <td>0.0</td>\n",
       "      <td>3.49</td>\n",
       "      <td>5.0</td>\n",
       "    </tr>\n",
       "  </tbody>\n",
       "</table>\n",
       "<p>50000 rows × 12 columns</p>\n",
       "</div>"
      ],
      "text/plain": [
       "                 city  trips_in_first_30_days signup_date  \\\n",
       "0      King's Landing                       4  2014-01-25   \n",
       "1             Astapor                       0  2014-01-29   \n",
       "2             Astapor                       3  2014-01-06   \n",
       "3      King's Landing                       9  2014-01-10   \n",
       "4          Winterfell                      14  2014-01-27   \n",
       "...               ...                     ...         ...   \n",
       "49995  King's Landing                       0  2014-01-25   \n",
       "49996         Astapor                       1  2014-01-24   \n",
       "49997      Winterfell                       0  2014-01-31   \n",
       "49998         Astapor                       2  2014-01-14   \n",
       "49999         Astapor                       0  2014-01-18   \n",
       "\n",
       "       avg_rating_of_driver  avg_surge last_trip_date    phone  surge_pct  \\\n",
       "0                       4.7       1.10     2014-06-17   iPhone       15.4   \n",
       "1                       5.0       1.00     2014-05-05  Android        0.0   \n",
       "2                       4.3       1.00     2014-01-07   iPhone        0.0   \n",
       "3                       4.6       1.14     2014-06-29   iPhone       20.0   \n",
       "4                       4.4       1.19     2014-03-15  Android       11.8   \n",
       "...                     ...        ...            ...      ...        ...   \n",
       "49995                   5.0       1.00     2014-06-05   iPhone        0.0   \n",
       "49996                   NaN       1.00     2014-01-25   iPhone        0.0   \n",
       "49997                   5.0       1.00     2014-05-22  Android        0.0   \n",
       "49998                   3.0       1.00     2014-01-15   iPhone        0.0   \n",
       "49999                   NaN       1.00     2014-04-20  Android        0.0   \n",
       "\n",
       "       ultimate_black_user  weekday_pct  avg_dist  avg_rating_by_driver  \n",
       "0                     True         46.2      3.67                   5.0  \n",
       "1                    False         50.0      8.26                   5.0  \n",
       "2                    False        100.0      0.77                   5.0  \n",
       "3                     True         80.0      2.36                   4.9  \n",
       "4                    False         82.4      3.13                   4.9  \n",
       "...                    ...          ...       ...                   ...  \n",
       "49995                False        100.0      5.63                   4.2  \n",
       "49996                False          0.0      0.00                   4.0  \n",
       "49997                 True        100.0      3.86                   5.0  \n",
       "49998                False        100.0      4.58                   3.5  \n",
       "49999                False          0.0      3.49                   5.0  \n",
       "\n",
       "[50000 rows x 12 columns]"
      ]
     },
     "execution_count": 7,
     "metadata": {},
     "output_type": "execute_result"
    }
   ],
   "source": [
    "trips = pd.DataFrame(json_trips)\n",
    "trips"
   ]
  },
  {
   "cell_type": "code",
   "execution_count": 8,
   "metadata": {},
   "outputs": [
    {
     "name": "stdout",
     "output_type": "stream",
     "text": [
      "<class 'pandas.core.frame.DataFrame'>\n",
      "RangeIndex: 50000 entries, 0 to 49999\n",
      "Data columns (total 14 columns):\n",
      " #   Column                  Non-Null Count  Dtype         \n",
      "---  ------                  --------------  -----         \n",
      " 0   city                    50000 non-null  object        \n",
      " 1   trips_in_first_30_days  50000 non-null  int64         \n",
      " 2   signup_date             50000 non-null  object        \n",
      " 3   avg_rating_of_driver    41878 non-null  float64       \n",
      " 4   avg_surge               50000 non-null  float64       \n",
      " 5   last_trip_date          50000 non-null  object        \n",
      " 6   phone                   49604 non-null  object        \n",
      " 7   surge_pct               50000 non-null  float64       \n",
      " 8   ultimate_black_user     50000 non-null  bool          \n",
      " 9   weekday_pct             50000 non-null  float64       \n",
      " 10  avg_dist                50000 non-null  float64       \n",
      " 11  avg_rating_by_driver    49799 non-null  float64       \n",
      " 12  signup_dt               50000 non-null  datetime64[ns]\n",
      " 13  last_trip_dt            50000 non-null  datetime64[ns]\n",
      "dtypes: bool(1), datetime64[ns](2), float64(6), int64(1), object(4)\n",
      "memory usage: 5.0+ MB\n"
     ]
    }
   ],
   "source": [
    "# change dates to dt objects\n",
    "\n",
    "trips['signup_dt'] = pd.to_datetime(trips.signup_date)\n",
    "trips['last_trip_dt'] = pd.to_datetime(trips.last_trip_date)\n",
    "trips.info()"
   ]
  },
  {
   "cell_type": "code",
   "execution_count": 9,
   "metadata": {},
   "outputs": [
    {
     "data": {
      "text/plain": [
       "0"
      ]
     },
     "execution_count": 9,
     "metadata": {},
     "output_type": "execute_result"
    }
   ],
   "source": [
    "trips.phone.fillna('unknown',inplace=True) \n",
    "trips.phone.isnull().sum()"
   ]
  },
  {
   "cell_type": "code",
   "execution_count": 10,
   "metadata": {},
   "outputs": [
    {
     "name": "stdout",
     "output_type": "stream",
     "text": [
      "<class 'pandas.core.frame.DataFrame'>\n",
      "RangeIndex: 50000 entries, 0 to 49999\n",
      "Data columns (total 14 columns):\n",
      " #   Column                  Non-Null Count  Dtype         \n",
      "---  ------                  --------------  -----         \n",
      " 0   city                    50000 non-null  object        \n",
      " 1   trips_in_first_30_days  50000 non-null  int64         \n",
      " 2   signup_date             50000 non-null  object        \n",
      " 3   avg_rating_of_driver    50000 non-null  float64       \n",
      " 4   avg_surge               50000 non-null  float64       \n",
      " 5   last_trip_date          50000 non-null  object        \n",
      " 6   phone                   50000 non-null  object        \n",
      " 7   surge_pct               50000 non-null  float64       \n",
      " 8   ultimate_black_user     50000 non-null  bool          \n",
      " 9   weekday_pct             50000 non-null  float64       \n",
      " 10  avg_dist                50000 non-null  float64       \n",
      " 11  avg_rating_by_driver    50000 non-null  float64       \n",
      " 12  signup_dt               50000 non-null  datetime64[ns]\n",
      " 13  last_trip_dt            50000 non-null  datetime64[ns]\n",
      "dtypes: bool(1), datetime64[ns](2), float64(6), int64(1), object(4)\n",
      "memory usage: 5.0+ MB\n"
     ]
    }
   ],
   "source": [
    "trips.avg_rating_by_driver.fillna(trips.avg_rating_by_driver.mean(),inplace=True)\n",
    "trips.avg_rating_of_driver.fillna(trips.avg_rating_of_driver.mean(),inplace=True)\n",
    "trips.info()"
   ]
  },
  {
   "cell_type": "code",
   "execution_count": 11,
   "metadata": {},
   "outputs": [
    {
     "data": {
      "text/html": [
       "<div>\n",
       "<style scoped>\n",
       "    .dataframe tbody tr th:only-of-type {\n",
       "        vertical-align: middle;\n",
       "    }\n",
       "\n",
       "    .dataframe tbody tr th {\n",
       "        vertical-align: top;\n",
       "    }\n",
       "\n",
       "    .dataframe thead th {\n",
       "        text-align: right;\n",
       "    }\n",
       "</style>\n",
       "<table border=\"1\" class=\"dataframe\">\n",
       "  <thead>\n",
       "    <tr style=\"text-align: right;\">\n",
       "      <th></th>\n",
       "      <th>city</th>\n",
       "      <th>trips_in_first_30_days</th>\n",
       "      <th>signup_date</th>\n",
       "      <th>avg_rating_of_driver</th>\n",
       "      <th>avg_surge</th>\n",
       "      <th>last_trip_date</th>\n",
       "      <th>phone</th>\n",
       "      <th>surge_pct</th>\n",
       "      <th>ultimate_black_user</th>\n",
       "      <th>weekday_pct</th>\n",
       "      <th>avg_dist</th>\n",
       "      <th>avg_rating_by_driver</th>\n",
       "      <th>signup_dt</th>\n",
       "      <th>last_trip_dt</th>\n",
       "      <th>label</th>\n",
       "    </tr>\n",
       "  </thead>\n",
       "  <tbody>\n",
       "    <tr>\n",
       "      <th>0</th>\n",
       "      <td>King's Landing</td>\n",
       "      <td>4</td>\n",
       "      <td>2014-01-25</td>\n",
       "      <td>4.700000</td>\n",
       "      <td>1.10</td>\n",
       "      <td>2014-06-17</td>\n",
       "      <td>iPhone</td>\n",
       "      <td>15.4</td>\n",
       "      <td>True</td>\n",
       "      <td>46.2</td>\n",
       "      <td>3.67</td>\n",
       "      <td>5.0</td>\n",
       "      <td>2014-01-25</td>\n",
       "      <td>2014-06-17</td>\n",
       "      <td>1</td>\n",
       "    </tr>\n",
       "    <tr>\n",
       "      <th>1</th>\n",
       "      <td>Astapor</td>\n",
       "      <td>0</td>\n",
       "      <td>2014-01-29</td>\n",
       "      <td>5.000000</td>\n",
       "      <td>1.00</td>\n",
       "      <td>2014-05-05</td>\n",
       "      <td>Android</td>\n",
       "      <td>0.0</td>\n",
       "      <td>False</td>\n",
       "      <td>50.0</td>\n",
       "      <td>8.26</td>\n",
       "      <td>5.0</td>\n",
       "      <td>2014-01-29</td>\n",
       "      <td>2014-05-05</td>\n",
       "      <td>0</td>\n",
       "    </tr>\n",
       "    <tr>\n",
       "      <th>2</th>\n",
       "      <td>Astapor</td>\n",
       "      <td>3</td>\n",
       "      <td>2014-01-06</td>\n",
       "      <td>4.300000</td>\n",
       "      <td>1.00</td>\n",
       "      <td>2014-01-07</td>\n",
       "      <td>iPhone</td>\n",
       "      <td>0.0</td>\n",
       "      <td>False</td>\n",
       "      <td>100.0</td>\n",
       "      <td>0.77</td>\n",
       "      <td>5.0</td>\n",
       "      <td>2014-01-06</td>\n",
       "      <td>2014-01-07</td>\n",
       "      <td>0</td>\n",
       "    </tr>\n",
       "    <tr>\n",
       "      <th>3</th>\n",
       "      <td>King's Landing</td>\n",
       "      <td>9</td>\n",
       "      <td>2014-01-10</td>\n",
       "      <td>4.600000</td>\n",
       "      <td>1.14</td>\n",
       "      <td>2014-06-29</td>\n",
       "      <td>iPhone</td>\n",
       "      <td>20.0</td>\n",
       "      <td>True</td>\n",
       "      <td>80.0</td>\n",
       "      <td>2.36</td>\n",
       "      <td>4.9</td>\n",
       "      <td>2014-01-10</td>\n",
       "      <td>2014-06-29</td>\n",
       "      <td>1</td>\n",
       "    </tr>\n",
       "    <tr>\n",
       "      <th>4</th>\n",
       "      <td>Winterfell</td>\n",
       "      <td>14</td>\n",
       "      <td>2014-01-27</td>\n",
       "      <td>4.400000</td>\n",
       "      <td>1.19</td>\n",
       "      <td>2014-03-15</td>\n",
       "      <td>Android</td>\n",
       "      <td>11.8</td>\n",
       "      <td>False</td>\n",
       "      <td>82.4</td>\n",
       "      <td>3.13</td>\n",
       "      <td>4.9</td>\n",
       "      <td>2014-01-27</td>\n",
       "      <td>2014-03-15</td>\n",
       "      <td>0</td>\n",
       "    </tr>\n",
       "    <tr>\n",
       "      <th>...</th>\n",
       "      <td>...</td>\n",
       "      <td>...</td>\n",
       "      <td>...</td>\n",
       "      <td>...</td>\n",
       "      <td>...</td>\n",
       "      <td>...</td>\n",
       "      <td>...</td>\n",
       "      <td>...</td>\n",
       "      <td>...</td>\n",
       "      <td>...</td>\n",
       "      <td>...</td>\n",
       "      <td>...</td>\n",
       "      <td>...</td>\n",
       "      <td>...</td>\n",
       "      <td>...</td>\n",
       "    </tr>\n",
       "    <tr>\n",
       "      <th>49995</th>\n",
       "      <td>King's Landing</td>\n",
       "      <td>0</td>\n",
       "      <td>2014-01-25</td>\n",
       "      <td>5.000000</td>\n",
       "      <td>1.00</td>\n",
       "      <td>2014-06-05</td>\n",
       "      <td>iPhone</td>\n",
       "      <td>0.0</td>\n",
       "      <td>False</td>\n",
       "      <td>100.0</td>\n",
       "      <td>5.63</td>\n",
       "      <td>4.2</td>\n",
       "      <td>2014-01-25</td>\n",
       "      <td>2014-06-05</td>\n",
       "      <td>1</td>\n",
       "    </tr>\n",
       "    <tr>\n",
       "      <th>49996</th>\n",
       "      <td>Astapor</td>\n",
       "      <td>1</td>\n",
       "      <td>2014-01-24</td>\n",
       "      <td>4.601559</td>\n",
       "      <td>1.00</td>\n",
       "      <td>2014-01-25</td>\n",
       "      <td>iPhone</td>\n",
       "      <td>0.0</td>\n",
       "      <td>False</td>\n",
       "      <td>0.0</td>\n",
       "      <td>0.00</td>\n",
       "      <td>4.0</td>\n",
       "      <td>2014-01-24</td>\n",
       "      <td>2014-01-25</td>\n",
       "      <td>0</td>\n",
       "    </tr>\n",
       "    <tr>\n",
       "      <th>49997</th>\n",
       "      <td>Winterfell</td>\n",
       "      <td>0</td>\n",
       "      <td>2014-01-31</td>\n",
       "      <td>5.000000</td>\n",
       "      <td>1.00</td>\n",
       "      <td>2014-05-22</td>\n",
       "      <td>Android</td>\n",
       "      <td>0.0</td>\n",
       "      <td>True</td>\n",
       "      <td>100.0</td>\n",
       "      <td>3.86</td>\n",
       "      <td>5.0</td>\n",
       "      <td>2014-01-31</td>\n",
       "      <td>2014-05-22</td>\n",
       "      <td>0</td>\n",
       "    </tr>\n",
       "    <tr>\n",
       "      <th>49998</th>\n",
       "      <td>Astapor</td>\n",
       "      <td>2</td>\n",
       "      <td>2014-01-14</td>\n",
       "      <td>3.000000</td>\n",
       "      <td>1.00</td>\n",
       "      <td>2014-01-15</td>\n",
       "      <td>iPhone</td>\n",
       "      <td>0.0</td>\n",
       "      <td>False</td>\n",
       "      <td>100.0</td>\n",
       "      <td>4.58</td>\n",
       "      <td>3.5</td>\n",
       "      <td>2014-01-14</td>\n",
       "      <td>2014-01-15</td>\n",
       "      <td>0</td>\n",
       "    </tr>\n",
       "    <tr>\n",
       "      <th>49999</th>\n",
       "      <td>Astapor</td>\n",
       "      <td>0</td>\n",
       "      <td>2014-01-18</td>\n",
       "      <td>4.601559</td>\n",
       "      <td>1.00</td>\n",
       "      <td>2014-04-20</td>\n",
       "      <td>Android</td>\n",
       "      <td>0.0</td>\n",
       "      <td>False</td>\n",
       "      <td>0.0</td>\n",
       "      <td>3.49</td>\n",
       "      <td>5.0</td>\n",
       "      <td>2014-01-18</td>\n",
       "      <td>2014-04-20</td>\n",
       "      <td>0</td>\n",
       "    </tr>\n",
       "  </tbody>\n",
       "</table>\n",
       "<p>50000 rows × 15 columns</p>\n",
       "</div>"
      ],
      "text/plain": [
       "                 city  trips_in_first_30_days signup_date  \\\n",
       "0      King's Landing                       4  2014-01-25   \n",
       "1             Astapor                       0  2014-01-29   \n",
       "2             Astapor                       3  2014-01-06   \n",
       "3      King's Landing                       9  2014-01-10   \n",
       "4          Winterfell                      14  2014-01-27   \n",
       "...               ...                     ...         ...   \n",
       "49995  King's Landing                       0  2014-01-25   \n",
       "49996         Astapor                       1  2014-01-24   \n",
       "49997      Winterfell                       0  2014-01-31   \n",
       "49998         Astapor                       2  2014-01-14   \n",
       "49999         Astapor                       0  2014-01-18   \n",
       "\n",
       "       avg_rating_of_driver  avg_surge last_trip_date    phone  surge_pct  \\\n",
       "0                  4.700000       1.10     2014-06-17   iPhone       15.4   \n",
       "1                  5.000000       1.00     2014-05-05  Android        0.0   \n",
       "2                  4.300000       1.00     2014-01-07   iPhone        0.0   \n",
       "3                  4.600000       1.14     2014-06-29   iPhone       20.0   \n",
       "4                  4.400000       1.19     2014-03-15  Android       11.8   \n",
       "...                     ...        ...            ...      ...        ...   \n",
       "49995              5.000000       1.00     2014-06-05   iPhone        0.0   \n",
       "49996              4.601559       1.00     2014-01-25   iPhone        0.0   \n",
       "49997              5.000000       1.00     2014-05-22  Android        0.0   \n",
       "49998              3.000000       1.00     2014-01-15   iPhone        0.0   \n",
       "49999              4.601559       1.00     2014-04-20  Android        0.0   \n",
       "\n",
       "       ultimate_black_user  weekday_pct  avg_dist  avg_rating_by_driver  \\\n",
       "0                     True         46.2      3.67                   5.0   \n",
       "1                    False         50.0      8.26                   5.0   \n",
       "2                    False        100.0      0.77                   5.0   \n",
       "3                     True         80.0      2.36                   4.9   \n",
       "4                    False         82.4      3.13                   4.9   \n",
       "...                    ...          ...       ...                   ...   \n",
       "49995                False        100.0      5.63                   4.2   \n",
       "49996                False          0.0      0.00                   4.0   \n",
       "49997                 True        100.0      3.86                   5.0   \n",
       "49998                False        100.0      4.58                   3.5   \n",
       "49999                False          0.0      3.49                   5.0   \n",
       "\n",
       "       signup_dt last_trip_dt  label  \n",
       "0     2014-01-25   2014-06-17      1  \n",
       "1     2014-01-29   2014-05-05      0  \n",
       "2     2014-01-06   2014-01-07      0  \n",
       "3     2014-01-10   2014-06-29      1  \n",
       "4     2014-01-27   2014-03-15      0  \n",
       "...          ...          ...    ...  \n",
       "49995 2014-01-25   2014-06-05      1  \n",
       "49996 2014-01-24   2014-01-25      0  \n",
       "49997 2014-01-31   2014-05-22      0  \n",
       "49998 2014-01-14   2014-01-15      0  \n",
       "49999 2014-01-18   2014-04-20      0  \n",
       "\n",
       "[50000 rows x 15 columns]"
      ]
     },
     "execution_count": 11,
     "metadata": {},
     "output_type": "execute_result"
    }
   ],
   "source": [
    "trips['label'] = (pd.to_datetime(trips.last_trip_date.max()) - trips.last_trip_dt).dt.days <= 30 \n",
    "trips['label'] = trips['label'].astype(int)\n",
    "trips\n",
    "\n",
    " "
   ]
  },
  {
   "cell_type": "code",
   "execution_count": null,
   "metadata": {},
   "outputs": [],
   "source": []
  },
  {
   "cell_type": "markdown",
   "metadata": {},
   "source": [
    "# format data"
   ]
  },
  {
   "cell_type": "code",
   "execution_count": 12,
   "metadata": {},
   "outputs": [
    {
     "data": {
      "text/html": [
       "<div>\n",
       "<style scoped>\n",
       "    .dataframe tbody tr th:only-of-type {\n",
       "        vertical-align: middle;\n",
       "    }\n",
       "\n",
       "    .dataframe tbody tr th {\n",
       "        vertical-align: top;\n",
       "    }\n",
       "\n",
       "    .dataframe thead th {\n",
       "        text-align: right;\n",
       "    }\n",
       "</style>\n",
       "<table border=\"1\" class=\"dataframe\">\n",
       "  <thead>\n",
       "    <tr style=\"text-align: right;\">\n",
       "      <th></th>\n",
       "      <th>city</th>\n",
       "      <th>trips_in_first_30_days</th>\n",
       "      <th>avg_rating_of_driver</th>\n",
       "      <th>avg_surge</th>\n",
       "      <th>phone</th>\n",
       "      <th>surge_pct</th>\n",
       "      <th>ultimate_black_user</th>\n",
       "      <th>weekday_pct</th>\n",
       "      <th>avg_dist</th>\n",
       "      <th>avg_rating_by_driver</th>\n",
       "      <th>label</th>\n",
       "    </tr>\n",
       "  </thead>\n",
       "  <tbody>\n",
       "    <tr>\n",
       "      <th>0</th>\n",
       "      <td>King's Landing</td>\n",
       "      <td>4</td>\n",
       "      <td>4.700000</td>\n",
       "      <td>1.10</td>\n",
       "      <td>iPhone</td>\n",
       "      <td>15.4</td>\n",
       "      <td>True</td>\n",
       "      <td>46.2</td>\n",
       "      <td>3.67</td>\n",
       "      <td>5.0</td>\n",
       "      <td>1</td>\n",
       "    </tr>\n",
       "    <tr>\n",
       "      <th>1</th>\n",
       "      <td>Astapor</td>\n",
       "      <td>0</td>\n",
       "      <td>5.000000</td>\n",
       "      <td>1.00</td>\n",
       "      <td>Android</td>\n",
       "      <td>0.0</td>\n",
       "      <td>False</td>\n",
       "      <td>50.0</td>\n",
       "      <td>8.26</td>\n",
       "      <td>5.0</td>\n",
       "      <td>0</td>\n",
       "    </tr>\n",
       "    <tr>\n",
       "      <th>2</th>\n",
       "      <td>Astapor</td>\n",
       "      <td>3</td>\n",
       "      <td>4.300000</td>\n",
       "      <td>1.00</td>\n",
       "      <td>iPhone</td>\n",
       "      <td>0.0</td>\n",
       "      <td>False</td>\n",
       "      <td>100.0</td>\n",
       "      <td>0.77</td>\n",
       "      <td>5.0</td>\n",
       "      <td>0</td>\n",
       "    </tr>\n",
       "    <tr>\n",
       "      <th>3</th>\n",
       "      <td>King's Landing</td>\n",
       "      <td>9</td>\n",
       "      <td>4.600000</td>\n",
       "      <td>1.14</td>\n",
       "      <td>iPhone</td>\n",
       "      <td>20.0</td>\n",
       "      <td>True</td>\n",
       "      <td>80.0</td>\n",
       "      <td>2.36</td>\n",
       "      <td>4.9</td>\n",
       "      <td>1</td>\n",
       "    </tr>\n",
       "    <tr>\n",
       "      <th>4</th>\n",
       "      <td>Winterfell</td>\n",
       "      <td>14</td>\n",
       "      <td>4.400000</td>\n",
       "      <td>1.19</td>\n",
       "      <td>Android</td>\n",
       "      <td>11.8</td>\n",
       "      <td>False</td>\n",
       "      <td>82.4</td>\n",
       "      <td>3.13</td>\n",
       "      <td>4.9</td>\n",
       "      <td>0</td>\n",
       "    </tr>\n",
       "    <tr>\n",
       "      <th>...</th>\n",
       "      <td>...</td>\n",
       "      <td>...</td>\n",
       "      <td>...</td>\n",
       "      <td>...</td>\n",
       "      <td>...</td>\n",
       "      <td>...</td>\n",
       "      <td>...</td>\n",
       "      <td>...</td>\n",
       "      <td>...</td>\n",
       "      <td>...</td>\n",
       "      <td>...</td>\n",
       "    </tr>\n",
       "    <tr>\n",
       "      <th>49995</th>\n",
       "      <td>King's Landing</td>\n",
       "      <td>0</td>\n",
       "      <td>5.000000</td>\n",
       "      <td>1.00</td>\n",
       "      <td>iPhone</td>\n",
       "      <td>0.0</td>\n",
       "      <td>False</td>\n",
       "      <td>100.0</td>\n",
       "      <td>5.63</td>\n",
       "      <td>4.2</td>\n",
       "      <td>1</td>\n",
       "    </tr>\n",
       "    <tr>\n",
       "      <th>49996</th>\n",
       "      <td>Astapor</td>\n",
       "      <td>1</td>\n",
       "      <td>4.601559</td>\n",
       "      <td>1.00</td>\n",
       "      <td>iPhone</td>\n",
       "      <td>0.0</td>\n",
       "      <td>False</td>\n",
       "      <td>0.0</td>\n",
       "      <td>0.00</td>\n",
       "      <td>4.0</td>\n",
       "      <td>0</td>\n",
       "    </tr>\n",
       "    <tr>\n",
       "      <th>49997</th>\n",
       "      <td>Winterfell</td>\n",
       "      <td>0</td>\n",
       "      <td>5.000000</td>\n",
       "      <td>1.00</td>\n",
       "      <td>Android</td>\n",
       "      <td>0.0</td>\n",
       "      <td>True</td>\n",
       "      <td>100.0</td>\n",
       "      <td>3.86</td>\n",
       "      <td>5.0</td>\n",
       "      <td>0</td>\n",
       "    </tr>\n",
       "    <tr>\n",
       "      <th>49998</th>\n",
       "      <td>Astapor</td>\n",
       "      <td>2</td>\n",
       "      <td>3.000000</td>\n",
       "      <td>1.00</td>\n",
       "      <td>iPhone</td>\n",
       "      <td>0.0</td>\n",
       "      <td>False</td>\n",
       "      <td>100.0</td>\n",
       "      <td>4.58</td>\n",
       "      <td>3.5</td>\n",
       "      <td>0</td>\n",
       "    </tr>\n",
       "    <tr>\n",
       "      <th>49999</th>\n",
       "      <td>Astapor</td>\n",
       "      <td>0</td>\n",
       "      <td>4.601559</td>\n",
       "      <td>1.00</td>\n",
       "      <td>Android</td>\n",
       "      <td>0.0</td>\n",
       "      <td>False</td>\n",
       "      <td>0.0</td>\n",
       "      <td>3.49</td>\n",
       "      <td>5.0</td>\n",
       "      <td>0</td>\n",
       "    </tr>\n",
       "  </tbody>\n",
       "</table>\n",
       "<p>50000 rows × 11 columns</p>\n",
       "</div>"
      ],
      "text/plain": [
       "                 city  trips_in_first_30_days  avg_rating_of_driver  \\\n",
       "0      King's Landing                       4              4.700000   \n",
       "1             Astapor                       0              5.000000   \n",
       "2             Astapor                       3              4.300000   \n",
       "3      King's Landing                       9              4.600000   \n",
       "4          Winterfell                      14              4.400000   \n",
       "...               ...                     ...                   ...   \n",
       "49995  King's Landing                       0              5.000000   \n",
       "49996         Astapor                       1              4.601559   \n",
       "49997      Winterfell                       0              5.000000   \n",
       "49998         Astapor                       2              3.000000   \n",
       "49999         Astapor                       0              4.601559   \n",
       "\n",
       "       avg_surge    phone  surge_pct  ultimate_black_user  weekday_pct  \\\n",
       "0           1.10   iPhone       15.4                 True         46.2   \n",
       "1           1.00  Android        0.0                False         50.0   \n",
       "2           1.00   iPhone        0.0                False        100.0   \n",
       "3           1.14   iPhone       20.0                 True         80.0   \n",
       "4           1.19  Android       11.8                False         82.4   \n",
       "...          ...      ...        ...                  ...          ...   \n",
       "49995       1.00   iPhone        0.0                False        100.0   \n",
       "49996       1.00   iPhone        0.0                False          0.0   \n",
       "49997       1.00  Android        0.0                 True        100.0   \n",
       "49998       1.00   iPhone        0.0                False        100.0   \n",
       "49999       1.00  Android        0.0                False          0.0   \n",
       "\n",
       "       avg_dist  avg_rating_by_driver  label  \n",
       "0          3.67                   5.0      1  \n",
       "1          8.26                   5.0      0  \n",
       "2          0.77                   5.0      0  \n",
       "3          2.36                   4.9      1  \n",
       "4          3.13                   4.9      0  \n",
       "...         ...                   ...    ...  \n",
       "49995      5.63                   4.2      1  \n",
       "49996      0.00                   4.0      0  \n",
       "49997      3.86                   5.0      0  \n",
       "49998      4.58                   3.5      0  \n",
       "49999      3.49                   5.0      0  \n",
       "\n",
       "[50000 rows x 11 columns]"
      ]
     },
     "execution_count": 12,
     "metadata": {},
     "output_type": "execute_result"
    }
   ],
   "source": [
    "dataset = trips.copy(deep=True)\n",
    "\n",
    "\n",
    "# drop last_trip_date, since it is directly correlated to the label)\n",
    "# also sign_up date since it is not extensible, and particlar to this cohort of data.  Although we could potentially\n",
    "## extract generalized information from it, such as day of week.\n",
    "\n",
    "drop_columns = ['signup_dt', 'last_trip_dt', 'last_trip_date', 'signup_date']\n",
    "\n",
    "dataset.drop(drop_columns, axis=1, inplace=True)\n",
    "dataset\n"
   ]
  },
  {
   "cell_type": "code",
   "execution_count": 13,
   "metadata": {},
   "outputs": [
    {
     "data": {
      "text/plain": [
       "city                              object\n",
       "trips_in_first_30_days             int64\n",
       "signup_date                       object\n",
       "avg_rating_of_driver             float64\n",
       "avg_surge                        float64\n",
       "last_trip_date                    object\n",
       "phone                             object\n",
       "surge_pct                        float64\n",
       "ultimate_black_user                 bool\n",
       "weekday_pct                      float64\n",
       "avg_dist                         float64\n",
       "avg_rating_by_driver             float64\n",
       "signup_dt                 datetime64[ns]\n",
       "last_trip_dt              datetime64[ns]\n",
       "label                              int32\n",
       "dtype: object"
      ]
     },
     "execution_count": 13,
     "metadata": {},
     "output_type": "execute_result"
    }
   ],
   "source": [
    "trips.dtypes"
   ]
  },
  {
   "cell_type": "markdown",
   "metadata": {},
   "source": [
    "## Prep categorical  data "
   ]
  },
  {
   "cell_type": "code",
   "execution_count": 14,
   "metadata": {},
   "outputs": [],
   "source": [
    "#from sklearn import preprocessing\n",
    "le = preprocessing.LabelEncoder()\n",
    " \n",
    "features = []; categorical_features = []\n",
    "num_of_columns = dataset.shape[1]\n",
    " \n",
    "for i in range(0, num_of_columns):     \n",
    "    column_name = dataset.columns[i]\n",
    "    column_type = dataset[column_name].dtypes\n",
    "\n",
    "    if i != num_of_columns - 1: #skip target\n",
    "        features.append(column_name)\n",
    "\n",
    "        if column_type == 'object':\n",
    "            categorical_features.append(column_name)\n",
    "    \n",
    "    if column_type == 'object':\n",
    "        le.fit(dataset[column_name])\n",
    "        feature_classes = list(le.classes_)\n",
    "        encoded_feature = le.transform(dataset[column_name])\n",
    "        dataset[column_name] = pd.DataFrame(encoded_feature)\n"
   ]
  },
  {
   "cell_type": "code",
   "execution_count": 15,
   "metadata": {},
   "outputs": [
    {
     "name": "stdout",
     "output_type": "stream",
     "text": [
      "<class 'pandas.core.frame.DataFrame'>\n",
      "RangeIndex: 50000 entries, 0 to 49999\n",
      "Data columns (total 11 columns):\n",
      " #   Column                  Non-Null Count  Dtype  \n",
      "---  ------                  --------------  -----  \n",
      " 0   city                    50000 non-null  int32  \n",
      " 1   trips_in_first_30_days  50000 non-null  int64  \n",
      " 2   avg_rating_of_driver    50000 non-null  float64\n",
      " 3   avg_surge               50000 non-null  float64\n",
      " 4   phone                   50000 non-null  int32  \n",
      " 5   surge_pct               50000 non-null  float64\n",
      " 6   ultimate_black_user     50000 non-null  bool   \n",
      " 7   weekday_pct             50000 non-null  float64\n",
      " 8   avg_dist                50000 non-null  float64\n",
      " 9   avg_rating_by_driver    50000 non-null  float64\n",
      " 10  label                   50000 non-null  int32  \n",
      "dtypes: bool(1), float64(6), int32(3), int64(1)\n",
      "memory usage: 3.3 MB\n"
     ]
    }
   ],
   "source": [
    "dataset.info()"
   ]
  },
  {
   "cell_type": "code",
   "execution_count": null,
   "metadata": {},
   "outputs": [],
   "source": []
  },
  {
   "cell_type": "code",
   "execution_count": 16,
   "metadata": {},
   "outputs": [
    {
     "data": {
      "text/plain": [
       "(['city',\n",
       "  'trips_in_first_30_days',\n",
       "  'avg_rating_of_driver',\n",
       "  'avg_surge',\n",
       "  'phone',\n",
       "  'surge_pct',\n",
       "  'ultimate_black_user',\n",
       "  'weekday_pct',\n",
       "  'avg_dist',\n",
       "  'avg_rating_by_driver'],\n",
       " ['city', 'phone'])"
      ]
     },
     "execution_count": 16,
     "metadata": {},
     "output_type": "execute_result"
    }
   ],
   "source": [
    "features , categorical_features"
   ]
  },
  {
   "cell_type": "code",
   "execution_count": 17,
   "metadata": {},
   "outputs": [
    {
     "name": "stdout",
     "output_type": "stream",
     "text": [
      "city\n",
      "phone\n"
     ]
    }
   ],
   "source": [
    "for categorical_feature in categorical_features:\n",
    "    print(categorical_feature)\n",
    "    dataset[categorical_feature] = dataset[categorical_feature].astype('category')"
   ]
  },
  {
   "cell_type": "code",
   "execution_count": 18,
   "metadata": {},
   "outputs": [
    {
     "name": "stdout",
     "output_type": "stream",
     "text": [
      "<class 'pandas.core.frame.DataFrame'>\n",
      "RangeIndex: 50000 entries, 0 to 49999\n",
      "Data columns (total 11 columns):\n",
      " #   Column                  Non-Null Count  Dtype   \n",
      "---  ------                  --------------  -----   \n",
      " 0   city                    50000 non-null  category\n",
      " 1   trips_in_first_30_days  50000 non-null  int64   \n",
      " 2   avg_rating_of_driver    50000 non-null  float64 \n",
      " 3   avg_surge               50000 non-null  float64 \n",
      " 4   phone                   50000 non-null  category\n",
      " 5   surge_pct               50000 non-null  float64 \n",
      " 6   ultimate_black_user     50000 non-null  bool    \n",
      " 7   weekday_pct             50000 non-null  float64 \n",
      " 8   avg_dist                50000 non-null  float64 \n",
      " 9   avg_rating_by_driver    50000 non-null  float64 \n",
      " 10  label                   50000 non-null  int32   \n",
      "dtypes: bool(1), category(2), float64(6), int32(1), int64(1)\n",
      "memory usage: 3.0 MB\n"
     ]
    }
   ],
   "source": [
    "dataset.info()"
   ]
  },
  {
   "cell_type": "code",
   "execution_count": 19,
   "metadata": {},
   "outputs": [
    {
     "data": {
      "text/html": [
       "<div>\n",
       "<style scoped>\n",
       "    .dataframe tbody tr th:only-of-type {\n",
       "        vertical-align: middle;\n",
       "    }\n",
       "\n",
       "    .dataframe tbody tr th {\n",
       "        vertical-align: top;\n",
       "    }\n",
       "\n",
       "    .dataframe thead th {\n",
       "        text-align: right;\n",
       "    }\n",
       "</style>\n",
       "<table border=\"1\" class=\"dataframe\">\n",
       "  <thead>\n",
       "    <tr style=\"text-align: right;\">\n",
       "      <th></th>\n",
       "      <th>city</th>\n",
       "      <th>trips_in_first_30_days</th>\n",
       "      <th>signup_date</th>\n",
       "      <th>avg_rating_of_driver</th>\n",
       "      <th>avg_surge</th>\n",
       "      <th>last_trip_date</th>\n",
       "      <th>phone</th>\n",
       "      <th>surge_pct</th>\n",
       "      <th>ultimate_black_user</th>\n",
       "      <th>weekday_pct</th>\n",
       "      <th>avg_dist</th>\n",
       "      <th>avg_rating_by_driver</th>\n",
       "      <th>signup_dt</th>\n",
       "      <th>last_trip_dt</th>\n",
       "      <th>label</th>\n",
       "    </tr>\n",
       "  </thead>\n",
       "  <tbody>\n",
       "    <tr>\n",
       "      <th>0</th>\n",
       "      <td>King's Landing</td>\n",
       "      <td>4</td>\n",
       "      <td>2014-01-25</td>\n",
       "      <td>4.7</td>\n",
       "      <td>1.10</td>\n",
       "      <td>2014-06-17</td>\n",
       "      <td>iPhone</td>\n",
       "      <td>15.4</td>\n",
       "      <td>True</td>\n",
       "      <td>46.2</td>\n",
       "      <td>3.67</td>\n",
       "      <td>5.0</td>\n",
       "      <td>2014-01-25</td>\n",
       "      <td>2014-06-17</td>\n",
       "      <td>1</td>\n",
       "    </tr>\n",
       "    <tr>\n",
       "      <th>1</th>\n",
       "      <td>Astapor</td>\n",
       "      <td>0</td>\n",
       "      <td>2014-01-29</td>\n",
       "      <td>5.0</td>\n",
       "      <td>1.00</td>\n",
       "      <td>2014-05-05</td>\n",
       "      <td>Android</td>\n",
       "      <td>0.0</td>\n",
       "      <td>False</td>\n",
       "      <td>50.0</td>\n",
       "      <td>8.26</td>\n",
       "      <td>5.0</td>\n",
       "      <td>2014-01-29</td>\n",
       "      <td>2014-05-05</td>\n",
       "      <td>0</td>\n",
       "    </tr>\n",
       "    <tr>\n",
       "      <th>2</th>\n",
       "      <td>Astapor</td>\n",
       "      <td>3</td>\n",
       "      <td>2014-01-06</td>\n",
       "      <td>4.3</td>\n",
       "      <td>1.00</td>\n",
       "      <td>2014-01-07</td>\n",
       "      <td>iPhone</td>\n",
       "      <td>0.0</td>\n",
       "      <td>False</td>\n",
       "      <td>100.0</td>\n",
       "      <td>0.77</td>\n",
       "      <td>5.0</td>\n",
       "      <td>2014-01-06</td>\n",
       "      <td>2014-01-07</td>\n",
       "      <td>0</td>\n",
       "    </tr>\n",
       "    <tr>\n",
       "      <th>3</th>\n",
       "      <td>King's Landing</td>\n",
       "      <td>9</td>\n",
       "      <td>2014-01-10</td>\n",
       "      <td>4.6</td>\n",
       "      <td>1.14</td>\n",
       "      <td>2014-06-29</td>\n",
       "      <td>iPhone</td>\n",
       "      <td>20.0</td>\n",
       "      <td>True</td>\n",
       "      <td>80.0</td>\n",
       "      <td>2.36</td>\n",
       "      <td>4.9</td>\n",
       "      <td>2014-01-10</td>\n",
       "      <td>2014-06-29</td>\n",
       "      <td>1</td>\n",
       "    </tr>\n",
       "    <tr>\n",
       "      <th>4</th>\n",
       "      <td>Winterfell</td>\n",
       "      <td>14</td>\n",
       "      <td>2014-01-27</td>\n",
       "      <td>4.4</td>\n",
       "      <td>1.19</td>\n",
       "      <td>2014-03-15</td>\n",
       "      <td>Android</td>\n",
       "      <td>11.8</td>\n",
       "      <td>False</td>\n",
       "      <td>82.4</td>\n",
       "      <td>3.13</td>\n",
       "      <td>4.9</td>\n",
       "      <td>2014-01-27</td>\n",
       "      <td>2014-03-15</td>\n",
       "      <td>0</td>\n",
       "    </tr>\n",
       "  </tbody>\n",
       "</table>\n",
       "</div>"
      ],
      "text/plain": [
       "             city  trips_in_first_30_days signup_date  avg_rating_of_driver  \\\n",
       "0  King's Landing                       4  2014-01-25                   4.7   \n",
       "1         Astapor                       0  2014-01-29                   5.0   \n",
       "2         Astapor                       3  2014-01-06                   4.3   \n",
       "3  King's Landing                       9  2014-01-10                   4.6   \n",
       "4      Winterfell                      14  2014-01-27                   4.4   \n",
       "\n",
       "   avg_surge last_trip_date    phone  surge_pct  ultimate_black_user  \\\n",
       "0       1.10     2014-06-17   iPhone       15.4                 True   \n",
       "1       1.00     2014-05-05  Android        0.0                False   \n",
       "2       1.00     2014-01-07   iPhone        0.0                False   \n",
       "3       1.14     2014-06-29   iPhone       20.0                 True   \n",
       "4       1.19     2014-03-15  Android       11.8                False   \n",
       "\n",
       "   weekday_pct  avg_dist  avg_rating_by_driver  signup_dt last_trip_dt  label  \n",
       "0         46.2      3.67                   5.0 2014-01-25   2014-06-17      1  \n",
       "1         50.0      8.26                   5.0 2014-01-29   2014-05-05      0  \n",
       "2        100.0      0.77                   5.0 2014-01-06   2014-01-07      0  \n",
       "3         80.0      2.36                   4.9 2014-01-10   2014-06-29      1  \n",
       "4         82.4      3.13                   4.9 2014-01-27   2014-03-15      0  "
      ]
     },
     "execution_count": 19,
     "metadata": {},
     "output_type": "execute_result"
    }
   ],
   "source": [
    "trips.head()"
   ]
  },
  {
   "cell_type": "code",
   "execution_count": null,
   "metadata": {},
   "outputs": [],
   "source": []
  },
  {
   "cell_type": "code",
   "execution_count": 20,
   "metadata": {},
   "outputs": [
    {
     "data": {
      "text/html": [
       "<div>\n",
       "<style scoped>\n",
       "    .dataframe tbody tr th:only-of-type {\n",
       "        vertical-align: middle;\n",
       "    }\n",
       "\n",
       "    .dataframe tbody tr th {\n",
       "        vertical-align: top;\n",
       "    }\n",
       "\n",
       "    .dataframe thead th {\n",
       "        text-align: right;\n",
       "    }\n",
       "</style>\n",
       "<table border=\"1\" class=\"dataframe\">\n",
       "  <thead>\n",
       "    <tr style=\"text-align: right;\">\n",
       "      <th></th>\n",
       "      <th>city</th>\n",
       "      <th>trips_in_first_30_days</th>\n",
       "      <th>avg_rating_of_driver</th>\n",
       "      <th>avg_surge</th>\n",
       "      <th>phone</th>\n",
       "      <th>surge_pct</th>\n",
       "      <th>ultimate_black_user</th>\n",
       "      <th>weekday_pct</th>\n",
       "      <th>avg_dist</th>\n",
       "      <th>avg_rating_by_driver</th>\n",
       "      <th>label</th>\n",
       "    </tr>\n",
       "  </thead>\n",
       "  <tbody>\n",
       "    <tr>\n",
       "      <th>0</th>\n",
       "      <td>1</td>\n",
       "      <td>4</td>\n",
       "      <td>4.7</td>\n",
       "      <td>1.10</td>\n",
       "      <td>1</td>\n",
       "      <td>15.4</td>\n",
       "      <td>True</td>\n",
       "      <td>46.2</td>\n",
       "      <td>3.67</td>\n",
       "      <td>5.0</td>\n",
       "      <td>1</td>\n",
       "    </tr>\n",
       "    <tr>\n",
       "      <th>1</th>\n",
       "      <td>0</td>\n",
       "      <td>0</td>\n",
       "      <td>5.0</td>\n",
       "      <td>1.00</td>\n",
       "      <td>0</td>\n",
       "      <td>0.0</td>\n",
       "      <td>False</td>\n",
       "      <td>50.0</td>\n",
       "      <td>8.26</td>\n",
       "      <td>5.0</td>\n",
       "      <td>0</td>\n",
       "    </tr>\n",
       "    <tr>\n",
       "      <th>2</th>\n",
       "      <td>0</td>\n",
       "      <td>3</td>\n",
       "      <td>4.3</td>\n",
       "      <td>1.00</td>\n",
       "      <td>1</td>\n",
       "      <td>0.0</td>\n",
       "      <td>False</td>\n",
       "      <td>100.0</td>\n",
       "      <td>0.77</td>\n",
       "      <td>5.0</td>\n",
       "      <td>0</td>\n",
       "    </tr>\n",
       "    <tr>\n",
       "      <th>3</th>\n",
       "      <td>1</td>\n",
       "      <td>9</td>\n",
       "      <td>4.6</td>\n",
       "      <td>1.14</td>\n",
       "      <td>1</td>\n",
       "      <td>20.0</td>\n",
       "      <td>True</td>\n",
       "      <td>80.0</td>\n",
       "      <td>2.36</td>\n",
       "      <td>4.9</td>\n",
       "      <td>1</td>\n",
       "    </tr>\n",
       "    <tr>\n",
       "      <th>4</th>\n",
       "      <td>2</td>\n",
       "      <td>14</td>\n",
       "      <td>4.4</td>\n",
       "      <td>1.19</td>\n",
       "      <td>0</td>\n",
       "      <td>11.8</td>\n",
       "      <td>False</td>\n",
       "      <td>82.4</td>\n",
       "      <td>3.13</td>\n",
       "      <td>4.9</td>\n",
       "      <td>0</td>\n",
       "    </tr>\n",
       "  </tbody>\n",
       "</table>\n",
       "</div>"
      ],
      "text/plain": [
       "  city  trips_in_first_30_days  avg_rating_of_driver  avg_surge phone  \\\n",
       "0    1                       4                   4.7       1.10     1   \n",
       "1    0                       0                   5.0       1.00     0   \n",
       "2    0                       3                   4.3       1.00     1   \n",
       "3    1                       9                   4.6       1.14     1   \n",
       "4    2                      14                   4.4       1.19     0   \n",
       "\n",
       "   surge_pct  ultimate_black_user  weekday_pct  avg_dist  \\\n",
       "0       15.4                 True         46.2      3.67   \n",
       "1        0.0                False         50.0      8.26   \n",
       "2        0.0                False        100.0      0.77   \n",
       "3       20.0                 True         80.0      2.36   \n",
       "4       11.8                False         82.4      3.13   \n",
       "\n",
       "   avg_rating_by_driver  label  \n",
       "0                   5.0      1  \n",
       "1                   5.0      0  \n",
       "2                   5.0      0  \n",
       "3                   4.9      1  \n",
       "4                   4.9      0  "
      ]
     },
     "execution_count": 20,
     "metadata": {},
     "output_type": "execute_result"
    }
   ],
   "source": [
    "dataset.head()"
   ]
  },
  {
   "cell_type": "markdown",
   "metadata": {},
   "source": [
    "# split test/train data\n"
   ]
  },
  {
   "cell_type": "code",
   "execution_count": 21,
   "metadata": {},
   "outputs": [
    {
     "data": {
      "text/plain": [
       "array([[0, 0, 5.0, ..., 100.0, 0.52, 4.5],\n",
       "       [2, 0, 5.0, ..., 100.0, 9.67, 4.5],\n",
       "       [0, 0, 4.5, ..., 0.0, 8.14, 3.0],\n",
       "       ...,\n",
       "       [1, 1, 4.601559291274655, ..., 100.0, 6.33, 5.0],\n",
       "       [2, 6, 3.8, ..., 50.0, 2.39, 4.8],\n",
       "       [2, 0, 4.6, ..., 85.7, 4.86, 4.4]], dtype=object)"
      ]
     },
     "execution_count": 21,
     "metadata": {},
     "output_type": "execute_result"
    }
   ],
   "source": [
    "test_size = 0.3\n",
    "\n",
    "y = dataset.label.values\n",
    "X = dataset.drop('label', axis=1).values\n",
    "\n",
    "X_train, X_test, y_train, y_test= train_test_split(X, y, test_size=test_size, random_state=22)\n",
    "X_test"
   ]
  },
  {
   "cell_type": "code",
   "execution_count": 22,
   "metadata": {},
   "outputs": [
    {
     "data": {
      "text/plain": [
       "numpy.ndarray"
      ]
     },
     "execution_count": 22,
     "metadata": {},
     "output_type": "execute_result"
    }
   ],
   "source": [
    "type(X_train)\n"
   ]
  },
  {
   "cell_type": "code",
   "execution_count": null,
   "metadata": {},
   "outputs": [],
   "source": []
  },
  {
   "cell_type": "markdown",
   "metadata": {},
   "source": [
    "# LightGradientBoost (lgb) Model"
   ]
  },
  {
   "cell_type": "markdown",
   "metadata": {},
   "source": [
    "## Hypertune to find best parms"
   ]
  },
  {
   "cell_type": "code",
   "execution_count": 23,
   "metadata": {},
   "outputs": [
    {
     "data": {
      "text/plain": [
       "{'boosting_type': ['gbdt'],\n",
       " 'max_depth': [7],\n",
       " 'num_leaves': [20, 30, 40, 50, 60, 70, 80, 90, 100, 110, 120, 130, 140],\n",
       " 'learning_rate': [0.049999999999999996,\n",
       "  0.0645774832507442,\n",
       "  0.08340502686000295,\n",
       "  0.10772173450159415,\n",
       "  0.1391279701103562,\n",
       "  0.17969068319023135,\n",
       "  0.2320794416806389,\n",
       "  0.2997421251594704,\n",
       "  0.38713184134056344,\n",
       "  0.5],\n",
       " 'subsample_for_bin': [20000,\n",
       "  40000,\n",
       "  60000,\n",
       "  80000,\n",
       "  100000,\n",
       "  120000,\n",
       "  140000,\n",
       "  160000,\n",
       "  180000,\n",
       "  200000,\n",
       "  220000,\n",
       "  240000,\n",
       "  260000,\n",
       "  280000],\n",
       " 'min_child_samples': [20, 70, 120, 170, 220, 270, 320, 370, 420, 470],\n",
       " 'colsample_bytree': [0.6,\n",
       "  0.6444444444444444,\n",
       "  0.6888888888888889,\n",
       "  0.7333333333333333,\n",
       "  0.7777777777777778,\n",
       "  0.8222222222222222,\n",
       "  0.8666666666666667,\n",
       "  0.9111111111111111,\n",
       "  0.9555555555555555,\n",
       "  1.0],\n",
       " 'subsample': [0.5,\n",
       "  0.5555555555555556,\n",
       "  0.6111111111111112,\n",
       "  0.6666666666666666,\n",
       "  0.7222222222222222,\n",
       "  0.7777777777777778,\n",
       "  0.8333333333333333,\n",
       "  0.8888888888888888,\n",
       "  0.9444444444444444,\n",
       "  1.0],\n",
       " 'n_estimators': [25, 50, 75]}"
      ]
     },
     "execution_count": 23,
     "metadata": {},
     "output_type": "execute_result"
    }
   ],
   "source": [
    "n_iter = 50\n",
    "param_grid = {\n",
    "    'boosting_type': ['gbdt'],\n",
    "    'max_depth' : [7],\n",
    "    'num_leaves': list(range(20, 150, 10)),  \n",
    "    'learning_rate': list(np.logspace(np.log10(0.05), np.log10(0.5), base = 10, num = 10)),  \n",
    "    'subsample_for_bin': list(range(20000, 300000, 20000)),   \n",
    "    'min_child_samples': list(range(20, 500, 50)),\n",
    "#    'reg_alpha': list(np.linspace(0, 1, 10)),\n",
    "#    'reg_lambda': list(np.linspace(0, 1,10)),\n",
    "    'colsample_bytree': list(np.linspace(0.6, 1, 10)),\n",
    "    'subsample': list(np.linspace(0.5, 1, 10)),\n",
    "    'n_estimators' : [25, 50, 75]\n",
    "}   \n",
    "param_grid"
   ]
  },
  {
   "cell_type": "code",
   "execution_count": 24,
   "metadata": {},
   "outputs": [
    {
     "data": {
      "text/plain": [
       "(['city',\n",
       "  'trips_in_first_30_days',\n",
       "  'avg_rating_of_driver',\n",
       "  'avg_surge',\n",
       "  'phone',\n",
       "  'surge_pct',\n",
       "  'ultimate_black_user',\n",
       "  'weekday_pct',\n",
       "  'avg_dist',\n",
       "  'avg_rating_by_driver'],\n",
       " ['city', 'phone'])"
      ]
     },
     "execution_count": 24,
     "metadata": {},
     "output_type": "execute_result"
    }
   ],
   "source": [
    " features, categorical_features"
   ]
  },
  {
   "cell_type": "code",
   "execution_count": 25,
   "metadata": {},
   "outputs": [
    {
     "name": "stdout",
     "output_type": "stream",
     "text": [
      "Time elapsed:  62.23664379119873\n"
     ]
    }
   ],
   "source": [
    "lgbm = lgb.LGBMClassifier()\n",
    "cv_clf = RandomizedSearchCV(estimator=lgbm,\n",
    "                    param_distributions=param_grid,\n",
    "                    cv=5,\n",
    "                    n_iter=n_iter,\n",
    "                    refit=True,\n",
    "                    return_train_score=False,\n",
    "                    scoring = 'roc_auc',   # changed from 'accuracy'\n",
    "#                    scoring = 'f1',   # changed from 'accuracy'\n",
    "                    random_state=1)\n",
    "\n",
    "\n",
    "## Perform the parameter search\n",
    "\n",
    "starttime = time.time() \n",
    "cv_clf.fit(X_train, y_train\n",
    "           ,feature_name = features\n",
    "#           ,categorical_feature=categorical_features\n",
    "          )\n",
    "endtime = time.time()\n",
    "print(\"Time elapsed: \", endtime - starttime)\n"
   ]
  },
  {
   "cell_type": "code",
   "execution_count": 26,
   "metadata": {},
   "outputs": [
    {
     "name": "stdout",
     "output_type": "stream",
     "text": [
      "*** Best CLF ****\n",
      "LGBMClassifier(boosting_type='gbdt', class_weight=None, colsample_bytree=0.6,\n",
      "               importance_type='split', learning_rate=0.2997421251594704,\n",
      "               max_depth=7, min_child_samples=170, min_child_weight=0.001,\n",
      "               min_split_gain=0.0, n_estimators=50, n_jobs=-1, num_leaves=110,\n",
      "               objective=None, random_state=None, reg_alpha=0.0, reg_lambda=0.0,\n",
      "               silent=True, subsample=0.5, subsample_for_bin=20000,\n",
      "               subsample_freq=0)\n",
      "*** Cross Validate Scores ****\n",
      "[0.79057143 0.784      0.78657143 0.785      0.78157143]\n",
      "*** Results ****\n",
      "    mean_fit_time  std_fit_time  mean_score_time  std_score_time  \\\n",
      "0        0.256418      0.026727         0.027603        0.000488   \n",
      "1        0.287620      0.081776         0.023003        0.002758   \n",
      "2        0.202613      0.014208         0.023403        0.006378   \n",
      "3        0.218618      0.027601         0.026601        0.001629   \n",
      "4        0.257419      0.039198         0.020603        0.001854   \n",
      "5        0.254217      0.101473         0.022005        0.002279   \n",
      "6        0.248617      0.022818         0.021402        0.001855   \n",
      "7        0.143810      0.004119         0.017202        0.001470   \n",
      "8        0.233017      0.036592         0.029003        0.002898   \n",
      "9        0.187412      0.072019         0.019403        0.001496   \n",
      "10       0.202014      0.020728         0.021204        0.002041   \n",
      "11       0.222616      0.026638         0.021002        0.000633   \n",
      "12       0.137409      0.024810         0.019402        0.001496   \n",
      "13       0.156812      0.011374         0.017801        0.000400   \n",
      "14       0.244018      0.058141         0.021202        0.002040   \n",
      "15       0.198615      0.015920         0.024002        0.002828   \n",
      "16       0.188614      0.021566         0.022402        0.002059   \n",
      "17       0.292222      0.030389         0.024002        0.002968   \n",
      "18       0.145609      0.014774         0.018802        0.001720   \n",
      "19       0.225616      0.045737         0.021202        0.002994   \n",
      "20       0.198614      0.005004         0.026402        0.007685   \n",
      "21       0.137410      0.016884         0.018802        0.002713   \n",
      "22       0.190413      0.003500         0.023803        0.004309   \n",
      "23       0.188813      0.027593         0.023402        0.002417   \n",
      "24       0.137809      0.021961         0.023002        0.007072   \n",
      "25       0.189814      0.021795         0.020603        0.001855   \n",
      "26       0.199613      0.008039         0.021002        0.003035   \n",
      "27       0.177011      0.020995         0.022002        0.003033   \n",
      "28       0.143810      0.004262         0.020002        0.001897   \n",
      "29       0.326224      0.059104         0.036803        0.010907   \n",
      "30       0.214215      0.036801         0.027402        0.003137   \n",
      "31       0.339225      0.030593         0.026802        0.002400   \n",
      "32       0.293621      0.058253         0.035805        0.012058   \n",
      "33       0.126208      0.003868         0.018202        0.001833   \n",
      "34       0.318022      0.015192         0.028003        0.006663   \n",
      "35       0.224215      0.011461         0.024803        0.003869   \n",
      "36       0.397429      0.086254         0.026603        0.003382   \n",
      "37       0.214815      0.019785         0.021403        0.001496   \n",
      "38       0.212415      0.008477         0.026604        0.004800   \n",
      "39       0.150810      0.003187         0.020004        0.003467   \n",
      "40       0.250619      0.095239         0.026003        0.002896   \n",
      "41       0.262018      0.023384         0.026402        0.004079   \n",
      "42       0.131009      0.001415         0.017801        0.001166   \n",
      "43       0.199215      0.019815         0.022201        0.002316   \n",
      "44       0.204416      0.037838         0.024002        0.004604   \n",
      "45       0.149809      0.010720         0.017402        0.001496   \n",
      "46       0.245817      0.009284         0.029804        0.005741   \n",
      "47       0.218815      0.016702         0.023002        0.002448   \n",
      "48       0.169013      0.021139         0.022002        0.002098   \n",
      "49       0.246016      0.042884         0.022204        0.001166   \n",
      "\n",
      "   param_subsample_for_bin param_subsample param_num_leaves  \\\n",
      "0                   200000        0.944444              130   \n",
      "1                   160000        0.944444              110   \n",
      "2                   140000               1               60   \n",
      "3                    80000             0.5              140   \n",
      "4                   120000        0.611111               40   \n",
      "5                   120000        0.611111              130   \n",
      "6                    40000        0.888889              110   \n",
      "7                   260000             0.5               70   \n",
      "8                   280000        0.944444               60   \n",
      "9                   220000               1               60   \n",
      "10                  240000        0.611111              140   \n",
      "11                  140000        0.944444               20   \n",
      "12                  260000             0.5               60   \n",
      "13                  180000        0.777778              100   \n",
      "14                  280000             0.5               70   \n",
      "15                  260000        0.611111               20   \n",
      "16                   20000             0.5              110   \n",
      "17                  180000        0.555556              100   \n",
      "18                  220000               1               40   \n",
      "19                   80000        0.555556               80   \n",
      "20                  260000        0.888889               50   \n",
      "21                   20000        0.555556              100   \n",
      "22                   40000        0.777778               90   \n",
      "23                  280000        0.722222              110   \n",
      "24                  160000               1              140   \n",
      "25                  140000        0.888889               80   \n",
      "26                  180000        0.888889               40   \n",
      "27                  160000        0.555556               20   \n",
      "28                  120000        0.777778               90   \n",
      "29                  160000        0.722222              140   \n",
      "30                  200000             0.5               40   \n",
      "31                   60000        0.833333               80   \n",
      "32                  160000        0.666667               90   \n",
      "33                  220000        0.777778              140   \n",
      "34                   80000        0.777778               90   \n",
      "35                  260000        0.944444               20   \n",
      "36                  180000               1               90   \n",
      "37                  240000        0.555556              120   \n",
      "38                  220000        0.555556               80   \n",
      "39                  140000             0.5              110   \n",
      "40                   80000        0.944444              120   \n",
      "41                   40000        0.888889               40   \n",
      "42                  200000        0.833333               70   \n",
      "43                  200000        0.777778               40   \n",
      "44                  260000        0.611111               40   \n",
      "45                  100000             0.5               70   \n",
      "46                   40000             0.5               70   \n",
      "47                  180000        0.833333               70   \n",
      "48                  180000               1              110   \n",
      "49                  220000               1               60   \n",
      "\n",
      "   param_n_estimators param_min_child_samples param_max_depth  ...  \\\n",
      "0                  50                      70               7  ...   \n",
      "1                  25                     420               7  ...   \n",
      "2                  25                      70               7  ...   \n",
      "3                  75                     470               7  ...   \n",
      "4                  50                      70               7  ...   \n",
      "5                  50                      70               7  ...   \n",
      "6                  50                     170               7  ...   \n",
      "7                  25                     320               7  ...   \n",
      "8                  75                     270               7  ...   \n",
      "9                  25                      70               7  ...   \n",
      "10                 50                     370               7  ...   \n",
      "11                 75                     120               7  ...   \n",
      "12                 25                     420               7  ...   \n",
      "13                 25                     220               7  ...   \n",
      "14                 50                     420               7  ...   \n",
      "15                 75                     170               7  ...   \n",
      "16                 50                     170               7  ...   \n",
      "17                 75                     270               7  ...   \n",
      "18                 25                     270               7  ...   \n",
      "19                 50                     220               7  ...   \n",
      "20                 50                     120               7  ...   \n",
      "21                 25                     470               7  ...   \n",
      "22                 50                     320               7  ...   \n",
      "23                 50                     270               7  ...   \n",
      "24                 25                     270               7  ...   \n",
      "25                 50                     370               7  ...   \n",
      "26                 50                     120               7  ...   \n",
      "27                 50                     320               7  ...   \n",
      "28                 25                     420               7  ...   \n",
      "29                 75                     320               7  ...   \n",
      "30                 75                     470               7  ...   \n",
      "31                 75                      20               7  ...   \n",
      "32                 75                      70               7  ...   \n",
      "33                 25                     470               7  ...   \n",
      "34                 75                     170               7  ...   \n",
      "35                 75                     170               7  ...   \n",
      "36                 75                      20               7  ...   \n",
      "37                 50                     270               7  ...   \n",
      "38                 75                     320               7  ...   \n",
      "39                 25                     170               7  ...   \n",
      "40                 75                     370               7  ...   \n",
      "41                 75                     120               7  ...   \n",
      "42                 25                     270               7  ...   \n",
      "43                 50                     220               7  ...   \n",
      "44                 50                      20               7  ...   \n",
      "45                 25                     320               7  ...   \n",
      "46                 75                     270               7  ...   \n",
      "47                 50                      20               7  ...   \n",
      "48                 50                     370               7  ...   \n",
      "49                 50                     220               7  ...   \n",
      "\n",
      "   param_boosting_type                                             params  \\\n",
      "0                 gbdt  {'subsample_for_bin': 200000, 'subsample': 0.9...   \n",
      "1                 gbdt  {'subsample_for_bin': 160000, 'subsample': 0.9...   \n",
      "2                 gbdt  {'subsample_for_bin': 140000, 'subsample': 1.0...   \n",
      "3                 gbdt  {'subsample_for_bin': 80000, 'subsample': 0.5,...   \n",
      "4                 gbdt  {'subsample_for_bin': 120000, 'subsample': 0.6...   \n",
      "5                 gbdt  {'subsample_for_bin': 120000, 'subsample': 0.6...   \n",
      "6                 gbdt  {'subsample_for_bin': 40000, 'subsample': 0.88...   \n",
      "7                 gbdt  {'subsample_for_bin': 260000, 'subsample': 0.5...   \n",
      "8                 gbdt  {'subsample_for_bin': 280000, 'subsample': 0.9...   \n",
      "9                 gbdt  {'subsample_for_bin': 220000, 'subsample': 1.0...   \n",
      "10                gbdt  {'subsample_for_bin': 240000, 'subsample': 0.6...   \n",
      "11                gbdt  {'subsample_for_bin': 140000, 'subsample': 0.9...   \n",
      "12                gbdt  {'subsample_for_bin': 260000, 'subsample': 0.5...   \n",
      "13                gbdt  {'subsample_for_bin': 180000, 'subsample': 0.7...   \n",
      "14                gbdt  {'subsample_for_bin': 280000, 'subsample': 0.5...   \n",
      "15                gbdt  {'subsample_for_bin': 260000, 'subsample': 0.6...   \n",
      "16                gbdt  {'subsample_for_bin': 20000, 'subsample': 0.5,...   \n",
      "17                gbdt  {'subsample_for_bin': 180000, 'subsample': 0.5...   \n",
      "18                gbdt  {'subsample_for_bin': 220000, 'subsample': 1.0...   \n",
      "19                gbdt  {'subsample_for_bin': 80000, 'subsample': 0.55...   \n",
      "20                gbdt  {'subsample_for_bin': 260000, 'subsample': 0.8...   \n",
      "21                gbdt  {'subsample_for_bin': 20000, 'subsample': 0.55...   \n",
      "22                gbdt  {'subsample_for_bin': 40000, 'subsample': 0.77...   \n",
      "23                gbdt  {'subsample_for_bin': 280000, 'subsample': 0.7...   \n",
      "24                gbdt  {'subsample_for_bin': 160000, 'subsample': 1.0...   \n",
      "25                gbdt  {'subsample_for_bin': 140000, 'subsample': 0.8...   \n",
      "26                gbdt  {'subsample_for_bin': 180000, 'subsample': 0.8...   \n",
      "27                gbdt  {'subsample_for_bin': 160000, 'subsample': 0.5...   \n",
      "28                gbdt  {'subsample_for_bin': 120000, 'subsample': 0.7...   \n",
      "29                gbdt  {'subsample_for_bin': 160000, 'subsample': 0.7...   \n",
      "30                gbdt  {'subsample_for_bin': 200000, 'subsample': 0.5...   \n",
      "31                gbdt  {'subsample_for_bin': 60000, 'subsample': 0.83...   \n",
      "32                gbdt  {'subsample_for_bin': 160000, 'subsample': 0.6...   \n",
      "33                gbdt  {'subsample_for_bin': 220000, 'subsample': 0.7...   \n",
      "34                gbdt  {'subsample_for_bin': 80000, 'subsample': 0.77...   \n",
      "35                gbdt  {'subsample_for_bin': 260000, 'subsample': 0.9...   \n",
      "36                gbdt  {'subsample_for_bin': 180000, 'subsample': 1.0...   \n",
      "37                gbdt  {'subsample_for_bin': 240000, 'subsample': 0.5...   \n",
      "38                gbdt  {'subsample_for_bin': 220000, 'subsample': 0.5...   \n",
      "39                gbdt  {'subsample_for_bin': 140000, 'subsample': 0.5...   \n",
      "40                gbdt  {'subsample_for_bin': 80000, 'subsample': 0.94...   \n",
      "41                gbdt  {'subsample_for_bin': 40000, 'subsample': 0.88...   \n",
      "42                gbdt  {'subsample_for_bin': 200000, 'subsample': 0.8...   \n",
      "43                gbdt  {'subsample_for_bin': 200000, 'subsample': 0.7...   \n",
      "44                gbdt  {'subsample_for_bin': 260000, 'subsample': 0.6...   \n",
      "45                gbdt  {'subsample_for_bin': 100000, 'subsample': 0.5...   \n",
      "46                gbdt  {'subsample_for_bin': 40000, 'subsample': 0.5,...   \n",
      "47                gbdt  {'subsample_for_bin': 180000, 'subsample': 0.8...   \n",
      "48                gbdt  {'subsample_for_bin': 180000, 'subsample': 1.0...   \n",
      "49                gbdt  {'subsample_for_bin': 220000, 'subsample': 1.0...   \n",
      "\n",
      "   split0_test_score split1_test_score  split2_test_score  split3_test_score  \\\n",
      "0           0.848713          0.846107           0.844976           0.847526   \n",
      "1           0.853029          0.850233           0.848094           0.852975   \n",
      "2           0.852989          0.848514           0.847281           0.851380   \n",
      "3           0.858805          0.855474           0.851684           0.857690   \n",
      "4           0.856140          0.851478           0.851003           0.854279   \n",
      "5           0.856797          0.852487           0.848345           0.851784   \n",
      "6           0.854866          0.850257           0.849275           0.854114   \n",
      "7           0.849867          0.846933           0.843755           0.849804   \n",
      "8           0.856083          0.856056           0.852655           0.857956   \n",
      "9           0.857018          0.852029           0.850514           0.857082   \n",
      "10          0.854406          0.850349           0.849658           0.854167   \n",
      "11          0.855324          0.851248           0.850264           0.855655   \n",
      "12          0.854853          0.851438           0.850235           0.854702   \n",
      "13          0.856096          0.851471           0.849612           0.855706   \n",
      "14          0.851239          0.847119           0.845868           0.850020   \n",
      "15          0.858098          0.854559           0.853425           0.857551   \n",
      "16          0.858250          0.855104           0.854213           0.858001   \n",
      "17          0.854398          0.850577           0.849751           0.854773   \n",
      "18          0.850929          0.847211           0.846469           0.852591   \n",
      "19          0.856294          0.853069           0.851340           0.855765   \n",
      "20          0.858081          0.853736           0.852953           0.858202   \n",
      "21          0.848442          0.844030           0.842101           0.848860   \n",
      "22          0.855189          0.852106           0.849554           0.855606   \n",
      "23          0.855736          0.855598           0.852338           0.857525   \n",
      "24          0.855777          0.852418           0.850324           0.856834   \n",
      "25          0.856285          0.853349           0.851481           0.856761   \n",
      "26          0.856096          0.851556           0.851321           0.854858   \n",
      "27          0.856197          0.853327           0.851101           0.858111   \n",
      "28          0.847260          0.845340           0.840661           0.846901   \n",
      "29          0.855974          0.851834           0.849984           0.855593   \n",
      "30          0.858482          0.853631           0.852151           0.857868   \n",
      "31          0.857664          0.854917           0.851681           0.856134   \n",
      "32          0.859613          0.855563           0.852689           0.856112   \n",
      "33          0.853301          0.850920           0.847788           0.853282   \n",
      "34          0.855567          0.850880           0.850283           0.854385   \n",
      "35          0.856428          0.852566           0.851300           0.856318   \n",
      "36          0.857419          0.853264           0.851638           0.854627   \n",
      "37          0.855050          0.851327           0.849716           0.855082   \n",
      "38          0.858498          0.853493           0.851797           0.856339   \n",
      "39          0.856264          0.851642           0.849551           0.854638   \n",
      "40          0.854050          0.851471           0.850921           0.853282   \n",
      "41          0.857673          0.853489           0.853664           0.855920   \n",
      "42          0.854800          0.851166           0.850105           0.854953   \n",
      "43          0.854996          0.851066           0.849267           0.854878   \n",
      "44          0.857792          0.853693           0.853769           0.856801   \n",
      "45          0.853396          0.849529           0.847659           0.852974   \n",
      "46          0.855952          0.853302           0.850976           0.856228   \n",
      "47          0.857971          0.853655           0.851771           0.855137   \n",
      "48          0.856577          0.855177           0.849880           0.857562   \n",
      "49          0.853149          0.849069           0.847283           0.852470   \n",
      "\n",
      "    split4_test_score  mean_test_score  std_test_score  rank_test_score  \n",
      "0            0.840683         0.845601        0.002765               48  \n",
      "1            0.847578         0.850382        0.002317               41  \n",
      "2            0.847185         0.849470        0.002322               44  \n",
      "3            0.850703         0.854871        0.003204                4  \n",
      "4            0.849281         0.852436        0.002451               26  \n",
      "5            0.845404         0.850963        0.003868               39  \n",
      "6            0.848443         0.851391        0.002605               36  \n",
      "7            0.843805         0.846833        0.002709               47  \n",
      "8            0.850721         0.854694        0.002622                7  \n",
      "9            0.850993         0.853527        0.002918               17  \n",
      "10           0.848263         0.851369        0.002477               37  \n",
      "11           0.849878         0.852474        0.002505               25  \n",
      "12           0.848445         0.851935        0.002509               33  \n",
      "13           0.848308         0.852239        0.003157               28  \n",
      "14           0.845140         0.847877        0.002366               46  \n",
      "15           0.852282         0.855183        0.002280                2  \n",
      "16           0.851097         0.855333        0.002641                1  \n",
      "17           0.848646         0.851629        0.002493               35  \n",
      "18           0.845709         0.848582        0.002690               45  \n",
      "19           0.849641         0.853222        0.002541               20  \n",
      "20           0.851009         0.854796        0.002872                5  \n",
      "21           0.842637         0.845214        0.002879               49  \n",
      "22           0.849664         0.852424        0.002597               27  \n",
      "23           0.851306         0.854501        0.002314                8  \n",
      "24           0.847290         0.852528        0.003504               23  \n",
      "25           0.849833         0.853542        0.002681               16  \n",
      "26           0.848953         0.852557        0.002582               22  \n",
      "27           0.849774         0.853702        0.003099               15  \n",
      "28           0.841069         0.844246        0.002838               50  \n",
      "29           0.848999         0.852477        0.002852               24  \n",
      "30           0.849349         0.854296        0.003458               11  \n",
      "31           0.851113         0.854302        0.002533               10  \n",
      "32           0.851930         0.855182        0.002736                3  \n",
      "33           0.847830         0.850624        0.002456               40  \n",
      "34           0.849247         0.852073        0.002456               30  \n",
      "35           0.850774         0.853477        0.002435               19  \n",
      "36           0.850645         0.853518        0.002379               18  \n",
      "37           0.848703         0.851976        0.002658               32  \n",
      "38           0.849915         0.854009        0.003082               12  \n",
      "39           0.848731         0.852165        0.002892               29  \n",
      "40           0.846348         0.851214        0.002689               38  \n",
      "41           0.850793         0.854308        0.002339                9  \n",
      "42           0.849269         0.852058        0.002379               31  \n",
      "43           0.848473         0.851736        0.002746               34  \n",
      "44           0.851531         0.854717        0.002276                6  \n",
      "45           0.846565         0.850025        0.002752               42  \n",
      "46           0.849312         0.853154        0.002713               21  \n",
      "47           0.851465         0.854000        0.002391               13  \n",
      "48           0.850254         0.853890        0.003214               14  \n",
      "49           0.846834         0.849761        0.002608               43  \n",
      "\n",
      "[50 rows x 22 columns]\n"
     ]
    }
   ],
   "source": [
    "## Get the results\n",
    "results = pd.DataFrame(cv_clf.cv_results_)\n",
    "best_clf = cv_clf.best_estimator_\n",
    "cvs = cross_val_score(best_clf, X_train, y_train, cv=5)\n",
    "\n",
    "print ('*** Best CLF ****')\n",
    "print(best_clf)\n",
    "print ('*** Cross Validate Scores ****')\n",
    "print(cvs)\n",
    "print ('*** Results ****')\n",
    "print(results)"
   ]
  },
  {
   "cell_type": "markdown",
   "metadata": {},
   "source": [
    "# train best clf"
   ]
  },
  {
   "cell_type": "code",
   "execution_count": 27,
   "metadata": {},
   "outputs": [
    {
     "data": {
      "text/plain": [
       "LGBMClassifier(boosting_type='gbdt', class_weight=None, colsample_bytree=0.6,\n",
       "               importance_type='split', learning_rate=0.2997421251594704,\n",
       "               max_depth=7, min_child_samples=170, min_child_weight=0.001,\n",
       "               min_split_gain=0.0, n_estimators=50, n_jobs=-1, num_leaves=110,\n",
       "               objective=None, random_state=None, reg_alpha=0.0, reg_lambda=0.0,\n",
       "               silent=True, subsample=0.5, subsample_for_bin=20000,\n",
       "               subsample_freq=0)"
      ]
     },
     "execution_count": 27,
     "metadata": {},
     "output_type": "execute_result"
    }
   ],
   "source": [
    "best_clf.fit(X_train, y_train\n",
    "           ,feature_name = features\n",
    "#           ,categorical_feature=categorical_features\n",
    "            )\n"
   ]
  },
  {
   "cell_type": "code",
   "execution_count": 28,
   "metadata": {},
   "outputs": [
    {
     "data": {
      "text/plain": [
       "<matplotlib.axes._subplots.AxesSubplot at 0x2dc619bd748>"
      ]
     },
     "execution_count": 28,
     "metadata": {},
     "output_type": "execute_result"
    },
    {
     "data": {
      "image/png": "[encoded data removed]",
      "text/plain": [
       "<Figure size 432x288 with 1 Axes>"
      ]
     },
     "metadata": {
      "needs_background": "light"
     },
     "output_type": "display_data"
    }
   ],
   "source": [
    "lgb.plot_importance(best_clf)  #n_iter=50"
   ]
  },
  {
   "cell_type": "code",
   "execution_count": 29,
   "metadata": {},
   "outputs": [],
   "source": [
    "#graph = lgb.create_tree_digraph(best_clf, tree_index=0,filename='best0')\n",
    "#graph.render(view=True)"
   ]
  },
  {
   "cell_type": "code",
   "execution_count": 30,
   "metadata": {},
   "outputs": [],
   "source": [
    "# graph = lgb.create_tree_digraph(best_clf, tree_index=22,filename='best0')\n",
    "# graph.render(view=True)"
   ]
  },
  {
   "cell_type": "markdown",
   "metadata": {},
   "source": [
    "## find best threshold"
   ]
  },
  {
   "cell_type": "code",
   "execution_count": 31,
   "metadata": {},
   "outputs": [
    {
     "name": "stdout",
     "output_type": "stream",
     "text": [
      "Threshold:  0.15\n",
      "f1 Score:  0.6853840702175218\n",
      "Threshold:  0.16\n",
      "f1 Score:  0.6911301464492954\n",
      "Threshold:  0.17\n",
      "f1 Score:  0.6970733348284368\n",
      "Threshold:  0.18000000000000002\n",
      "f1 Score:  0.7018610598096319\n",
      "Threshold:  0.19000000000000003\n",
      "f1 Score:  0.7071673535260382\n",
      "Threshold:  0.20000000000000004\n",
      "f1 Score:  0.7117127653353604\n",
      "Threshold:  0.21000000000000005\n",
      "f1 Score:  0.7164842985499511\n",
      "Threshold:  0.22000000000000006\n",
      "f1 Score:  0.7199087963518541\n",
      "Threshold:  0.23000000000000007\n",
      "f1 Score:  0.7239110569600974\n",
      "Threshold:  0.24000000000000007\n",
      "f1 Score:  0.7271212588707189\n",
      "Threshold:  0.2500000000000001\n",
      "f1 Score:  0.7301517896183397\n",
      "Threshold:  0.2600000000000001\n",
      "f1 Score:  0.7336562509893311\n",
      "Threshold:  0.27000000000000013\n",
      "f1 Score:  0.7366900933859631\n",
      "Threshold:  0.28000000000000014\n",
      "f1 Score:  0.7396717048594182\n",
      "Threshold:  0.29000000000000015\n",
      "f1 Score:  0.7417148869016307\n",
      "Threshold:  0.30000000000000016\n",
      "f1 Score:  0.7441349705500648\n",
      "Threshold:  0.31000000000000016\n",
      "f1 Score:  0.7455102934734998\n",
      "Threshold:  0.3200000000000002\n",
      "f1 Score:  0.746516777380344\n",
      "Threshold:  0.3300000000000002\n",
      "f1 Score:  0.747331451001997\n",
      "Threshold:  0.3400000000000002\n",
      "f1 Score:  0.7486363478442137\n",
      "Threshold:  0.3500000000000002\n",
      "f1 Score:  0.7492370830264128\n",
      "Threshold:  0.3600000000000002\n",
      "f1 Score:  0.7497697484945094\n",
      "Threshold:  0.3700000000000002\n",
      "f1 Score:  0.7498837583604565\n",
      "Threshold:  0.3800000000000002\n",
      "f1 Score:  0.749016635992927\n",
      "Threshold:  0.39000000000000024\n",
      "f1 Score:  0.7485235144002916\n",
      "Threshold:  0.40000000000000024\n",
      "f1 Score:  0.7482803016369322\n",
      "Threshold:  0.41000000000000025\n",
      "f1 Score:  0.747735708982925\n",
      "Threshold:  0.42000000000000026\n",
      "f1 Score:  0.7469482513292894\n",
      "Threshold:  0.43000000000000027\n",
      "f1 Score:  0.7451336130324677\n",
      "Threshold:  0.4400000000000003\n",
      "f1 Score:  0.7434235608082348\n",
      "Threshold:  0.4500000000000003\n",
      "f1 Score:  0.7423694933497347\n",
      "Threshold:  0.4600000000000003\n",
      "f1 Score:  0.7406919019547006\n",
      "Threshold:  0.4700000000000003\n",
      "f1 Score:  0.7397153136242766\n",
      "Threshold:  0.4800000000000003\n",
      "f1 Score:  0.7379283182355258\n",
      "Threshold:  0.4900000000000003\n",
      "f1 Score:  0.7364239462916616\n"
     ]
    },
    {
     "data": {
      "image/png": "[encoded data removed]",
      "text/plain": [
       "<Figure size 432x288 with 1 Axes>"
      ]
     },
     "metadata": {
      "needs_background": "light"
     },
     "output_type": "display_data"
    },
    {
     "name": "stdout",
     "output_type": "stream",
     "text": [
      "Best threshold, f1_score: 0.370, 0.750 \n"
     ]
    }
   ],
   "source": [
    "\n",
    "ytrainprob = best_clf.predict_proba(X_train)[:,1]\n",
    " \n",
    "thresharray = np.arange(0.15, 0.5, 0.01)\n",
    "thresh_list = list(thresharray)\n",
    "\n",
    "f1array = [] \n",
    "for threshold in thresh_list:\n",
    "    print(\"Threshold: \", threshold) \n",
    "    \n",
    "    ypred = ytrainprob > threshold\n",
    "\n",
    "    f1 = f1_score(y_train, ypred)\n",
    "    f1array.append(f1)\n",
    "    print('f1 Score: ', f1)\n",
    "\n",
    "\n",
    "index = np.argmax(f1array)  \n",
    "\n",
    "best_threshold = thresharray[index]\n",
    "best_f1 = f1array[index]\n",
    "\n",
    "plt.scatter(thresharray, f1array)\n",
    "plt.title('f1 score vs threshold')\n",
    "plt.xlabel('proba threshold')\n",
    "plt.ylabel('f1 score')\n",
    "plt.axvline(best_threshold, color='green')\n",
    "plt.axhline(best_f1, color='green')\n",
    "plt.show()\n",
    "\n",
    "print('Best threshold, f1_score: {t:.3f}, {f:.3f} '.format(t=best_threshold, f=best_f1)  )   \n",
    " "
   ]
  },
  {
   "cell_type": "markdown",
   "metadata": {},
   "source": [
    "# run model on Test data"
   ]
  },
  {
   "cell_type": "code",
   "execution_count": 32,
   "metadata": {},
   "outputs": [
    {
     "name": "stdout",
     "output_type": "stream",
     "text": [
      "f1 Test Score:  0.7281098275573414\n"
     ]
    }
   ],
   "source": [
    "ytestprob = best_clf.predict_proba(X_test)[:,1]\n",
    "\n",
    "ytestpred = ytestprob > best_threshold\n",
    "\n",
    "f1Test = f1_score(y_test, ytestpred)\n",
    "\n",
    "print('f1 Test Score: ', f1Test)\n",
    "\n"
   ]
  },
  {
   "cell_type": "code",
   "execution_count": 33,
   "metadata": {},
   "outputs": [
    {
     "data": {
      "text/plain": [
       "(5632, 6314)"
      ]
     },
     "execution_count": 33,
     "metadata": {},
     "output_type": "execute_result"
    }
   ],
   "source": [
    "sum(y_test), sum (ytestpred)"
   ]
  },
  {
   "cell_type": "code",
   "execution_count": 34,
   "metadata": {},
   "outputs": [
    {
     "data": {
      "text/plain": [
       "15000"
      ]
     },
     "execution_count": 34,
     "metadata": {},
     "output_type": "execute_result"
    }
   ],
   "source": [
    "len(y_test)"
   ]
  },
  {
   "cell_type": "code",
   "execution_count": 35,
   "metadata": {},
   "outputs": [
    {
     "data": {
      "text/plain": [
       "0.7834666666666666"
      ]
     },
     "execution_count": 35,
     "metadata": {},
     "output_type": "execute_result"
    }
   ],
   "source": [
    "# Accuracy\n",
    "np.mean(y_test == ytestpred)"
   ]
  },
  {
   "cell_type": "markdown",
   "metadata": {},
   "source": [
    "# SVM.SVC"
   ]
  },
  {
   "cell_type": "markdown",
   "metadata": {},
   "source": [
    "reference: \n",
    "https://scikit-learn.org/stable/modules/generated/sklearn.svm.SVC.html"
   ]
  },
  {
   "cell_type": "code",
   "execution_count": 36,
   "metadata": {},
   "outputs": [
    {
     "data": {
      "text/plain": [
       "Pipeline(memory=None,\n",
       "         steps=[('standardscaler',\n",
       "                 StandardScaler(copy=True, with_mean=True, with_std=True)),\n",
       "                ('svc',\n",
       "                 SVC(C=1.0, break_ties=False, cache_size=200, class_weight=None,\n",
       "                     coef0=0.0, decision_function_shape='ovr', degree=3,\n",
       "                     gamma='auto', kernel='rbf', max_iter=-1, probability=True,\n",
       "                     random_state=None, shrinking=True, tol=0.001,\n",
       "                     verbose=False))],\n",
       "         verbose=False)"
      ]
     },
     "execution_count": 36,
     "metadata": {},
     "output_type": "execute_result"
    }
   ],
   "source": [
    "# run with probability, rather classification\n",
    "\n",
    "import numpy as np\n",
    "from sklearn.pipeline import make_pipeline\n",
    "from sklearn.preprocessing import StandardScaler\n",
    "\n",
    "from sklearn.svm import SVC\n",
    "clf = make_pipeline(StandardScaler(), SVC(gamma='auto', probability=True))\n",
    "clf.fit(X_train, y_train)"
   ]
  },
  {
   "cell_type": "code",
   "execution_count": 37,
   "metadata": {},
   "outputs": [
    {
     "data": {
      "text/plain": [
       "array([[0.91397155, 0.08602845],\n",
       "       [0.64395127, 0.35604873],\n",
       "       [0.79867348, 0.20132652],\n",
       "       ...,\n",
       "       [0.56049928, 0.43950072],\n",
       "       [0.13933408, 0.86066592],\n",
       "       [0.21233904, 0.78766096]])"
      ]
     },
     "execution_count": 37,
     "metadata": {},
     "output_type": "execute_result"
    }
   ],
   "source": [
    "clf_predict_proba = clf.predict_proba(X_test)\n",
    "clf_predict_proba"
   ]
  },
  {
   "cell_type": "code",
   "execution_count": 38,
   "metadata": {},
   "outputs": [
    {
     "name": "stdout",
     "output_type": "stream",
     "text": [
      "f1 Test Score:  0.6954880460183355\n"
     ]
    }
   ],
   "source": [
    "predBoolSvc = clf_predict_proba[:,1] > best_threshold\n",
    "\n",
    "f1svc = f1_score(y_test, predBoolSvc)\n",
    "print('f1 Test Score: ', f1svc)"
   ]
  },
  {
   "cell_type": "markdown",
   "metadata": {},
   "source": [
    "==> f1 score for svm (0.691) is  worse than that for lgbm (.726)"
   ]
  },
  {
   "cell_type": "markdown",
   "metadata": {},
   "source": [
    "# Deep Learning Model"
   ]
  },
  {
   "cell_type": "code",
   "execution_count": 39,
   "metadata": {},
   "outputs": [],
   "source": [
    "from keras.utils import to_categorical"
   ]
  },
  {
   "cell_type": "code",
   "execution_count": 40,
   "metadata": {},
   "outputs": [
    {
     "data": {
      "text/plain": [
       "array([[1., 0.],\n",
       "       [1., 0.],\n",
       "       [1., 0.],\n",
       "       ...,\n",
       "       [1., 0.],\n",
       "       [0., 1.],\n",
       "       [0., 1.]], dtype=float32)"
      ]
     },
     "execution_count": 40,
     "metadata": {},
     "output_type": "execute_result"
    }
   ],
   "source": [
    "target = to_categorical(y_train)\n",
    "target"
   ]
  },
  {
   "cell_type": "code",
   "execution_count": 41,
   "metadata": {},
   "outputs": [],
   "source": [
    "n_cols = X_train.shape[1]"
   ]
  },
  {
   "cell_type": "code",
   "execution_count": 42,
   "metadata": {},
   "outputs": [],
   "source": [
    "# model 0\n",
    "m0 = Sequential()\n",
    "\n",
    "m0.add(Dense(16, activation='relu', input_shape = (n_cols,)))\n",
    "m0.add(Dense(16, activation='relu'))\n",
    "# model.add(Dense(32, activation='relu', input_shape = (n_cols,)))\n",
    "m0.add(Dense(2, activation='softmax'))\n",
    "\n"
   ]
  },
  {
   "cell_type": "code",
   "execution_count": 43,
   "metadata": {},
   "outputs": [],
   "source": [
    "# model 1\n",
    "m1 = Sequential()\n",
    "\n",
    "m1.add(Dense(32, activation='relu', input_shape = (n_cols,)))\n",
    "m1.add(Dense(32, activation='relu'))\n",
    "# model.add(Dense(32, activation='relu', input_shape = (n_cols,)))\n",
    "m1.add(Dense(2, activation='softmax'))\n",
    "\n"
   ]
  },
  {
   "cell_type": "code",
   "execution_count": 44,
   "metadata": {},
   "outputs": [],
   "source": [
    "# model 2\n",
    "m2 = Sequential()\n",
    "\n",
    "m2.add(Dense(50, activation='relu', input_shape = (n_cols,)))\n",
    "m2.add(Dense(50, activation='relu'))\n",
    "\n",
    "# model.add(Dense(32, activation='relu', input_shape = (n_cols,)))\n",
    "m2.add(Dense(2, activation='softmax'))\n",
    "\n"
   ]
  },
  {
   "cell_type": "code",
   "execution_count": 45,
   "metadata": {},
   "outputs": [],
   "source": [
    "# model 3\n",
    "m3 = Sequential()\n",
    "\n",
    "m3.add(Dense(32, activation='relu', input_shape = (n_cols,)))\n",
    "m3.add(Dense(50, activation='relu'))\n",
    " \n",
    "# model.add(Dense(32, activation='relu', input_shape = (n_cols,)))\n",
    "m3.add(Dense(2, activation='softmax'))\n",
    "\n"
   ]
  },
  {
   "cell_type": "code",
   "execution_count": 46,
   "metadata": {},
   "outputs": [],
   "source": [
    "# model 4\n",
    "m4 = Sequential()\n",
    "\n",
    "m4.add(Dense(50, activation='relu', input_shape = (n_cols,)))\n",
    "\n",
    "m4.add(Dense(32, activation='relu'))\n",
    "# model.add(Dense(32, activation='relu', input_shape = (n_cols,)))\n",
    "m4.add(Dense(2, activation='softmax'))\n",
    "\n"
   ]
  },
  {
   "cell_type": "code",
   "execution_count": 47,
   "metadata": {},
   "outputs": [],
   "source": [
    "# model 5\n",
    "m5 = Sequential()\n",
    "\n",
    "m5.add(Dense(50, activation='relu', input_shape = (n_cols,)))\n",
    "m5.add(Dense(50, activation='relu'))\n",
    "m5.add(Dense(32, activation='relu'))\n",
    "# model.add(Dense(32, activation='relu', input_shape = (n_cols,)))\n",
    "m5.add(Dense(2, activation='softmax'))\n",
    "\n"
   ]
  },
  {
   "cell_type": "code",
   "execution_count": 48,
   "metadata": {},
   "outputs": [],
   "source": [
    "# model 6\n",
    "m6 = Sequential()\n",
    "\n",
    "m6.add(Dense(50, activation='relu', input_shape = (n_cols,)))\n",
    "m6.add(Dense(50, activation='relu'))\n",
    "m6.add(Dense(50, activation='relu'))\n",
    "m6.add(Dense(32, activation='relu'))\n",
    "# model.add(Dense(32, activation='relu', input_shape = (n_cols,)))\n",
    "m6.add(Dense(2, activation='softmax'))\n",
    "\n"
   ]
  },
  {
   "cell_type": "code",
   "execution_count": 49,
   "metadata": {},
   "outputs": [],
   "source": [
    "# model 7\n",
    "m7 = Sequential()\n",
    "\n",
    "m7.add(Dense(50, activation='relu', input_shape = (n_cols,)))\n",
    "m7.add(Dense(100, activation='relu'))\n",
    "m7.add(Dense(100, activation='relu'))\n",
    "m7.add(Dense(32, activation='relu'))\n",
    "# model.add(Dense(32, activation='relu', input_shape = (n_cols,)))\n",
    "m7.add(Dense(2, activation='softmax'))\n",
    "\n"
   ]
  },
  {
   "cell_type": "code",
   "execution_count": 50,
   "metadata": {},
   "outputs": [],
   "source": [
    "# model 8\n",
    "m8 = Sequential()\n",
    "\n",
    "m8.add(Dense(50, activation='relu', input_shape = (n_cols,)))\n",
    "m8.add(Dense(100, activation='relu'))\n",
    "m8.add(Dense(100, activation='relu'))\n",
    "m8.add(Dense(100, activation='relu'))\n",
    "m8.add(Dense(32, activation='relu'))\n",
    "# model.add(Dense(32, activation='relu', input_shape = (n_cols,)))\n",
    "m8.add(Dense(2, activation='softmax'))\n"
   ]
  },
  {
   "cell_type": "code",
   "execution_count": 51,
   "metadata": {},
   "outputs": [
    {
     "name": "stdout",
     "output_type": "stream",
     "text": [
      "Model: \"sequential_8\"\n",
      "_________________________________________________________________\n",
      "Layer (type)                 Output Shape              Param #   \n",
      "=================================================================\n",
      "dense_25 (Dense)             (None, 50)                550       \n",
      "_________________________________________________________________\n",
      "dense_26 (Dense)             (None, 100)               5100      \n",
      "_________________________________________________________________\n",
      "dense_27 (Dense)             (None, 100)               10100     \n",
      "_________________________________________________________________\n",
      "dense_28 (Dense)             (None, 32)                3232      \n",
      "_________________________________________________________________\n",
      "dense_29 (Dense)             (None, 2)                 66        \n",
      "=================================================================\n",
      "Total params: 19,048\n",
      "Trainable params: 19,048\n",
      "Non-trainable params: 0\n",
      "_________________________________________________________________\n"
     ]
    }
   ],
   "source": [
    "m7.summary()"
   ]
  },
  {
   "cell_type": "code",
   "execution_count": 52,
   "metadata": {},
   "outputs": [],
   "source": [
    "def dnnModel(model, X_train, target, y_test, best_threshold, num_epochs=10):\n",
    "    \n",
    "    model.compile(optimizer='adam', loss='categorical_crossentropy', metrics=(['accuracy']))\n",
    "    #h1 = model.fit(X_train, target, batch_size=100)\n",
    "    #h1 = model.fit(X_train, target, batch_size=None, epochs=100, steps_per_epoch=5 )\n",
    "    \n",
    "    \n",
    "    h1 = model.fit(X_train, target, batch_size=None, epochs=num_epochs, steps_per_epoch=5,  \n",
    "                   validation_split=0.1, validation_steps = 1,\n",
    "                   callbacks=[es],\n",
    "                   verbose=False\n",
    "                  )\n",
    "    \n",
    "    \n",
    "    print(h1.history)\n",
    "    \n",
    "    predictions = model.predict(X_test)\n",
    " \n",
    "    \n",
    "    predBool = predictions[:,1] > best_threshold\n",
    " \n",
    "    f1DNN = f1_score(y_test, predBool)\n",
    "    print('f1 Test Score: ', f1DNN)\n",
    "    return f1DNN\n",
    "    "
   ]
  },
  {
   "cell_type": "code",
   "execution_count": 53,
   "metadata": {},
   "outputs": [],
   "source": [
    "es = EarlyStopping(monitor='val_loss', mode='min', verbose=1, patience=5,\n",
    "                   restore_best_weights=True)"
   ]
  },
  {
   "cell_type": "code",
   "execution_count": 54,
   "metadata": {},
   "outputs": [
    {
     "name": "stdout",
     "output_type": "stream",
     "text": [
      "Model: \"sequential_2\"\n",
      "_________________________________________________________________\n",
      "Layer (type)                 Output Shape              Param #   \n",
      "=================================================================\n",
      "dense_4 (Dense)              (None, 32)                352       \n",
      "_________________________________________________________________\n",
      "dense_5 (Dense)              (None, 32)                1056      \n",
      "_________________________________________________________________\n",
      "dense_6 (Dense)              (None, 2)                 66        \n",
      "=================================================================\n",
      "Total params: 1,474\n",
      "Trainable params: 1,474\n",
      "Non-trainable params: 0\n",
      "_________________________________________________________________\n",
      "None\n",
      "WARNING:tensorflow:From C:\\Users\\rozoe\\Anaconda3\\envs\\tensorflow\\lib\\site-packages\\keras\\backend\\tensorflow_backend.py:422: The name tf.global_variables is deprecated. Please use tf.compat.v1.global_variables instead.\n",
      "\n",
      "{'val_loss': [1.846315860748291, 1.5131551027297974, 1.6260898113250732, 0.8131711483001709, 0.8870733976364136, 0.6835383176803589, 0.7451121807098389, 0.6711806654930115, 0.6609532237052917, 0.6272690892219543, 0.6386562585830688, 0.615469217300415, 0.6151034235954285, 0.6096413731575012, 0.6061453819274902, 0.600709080696106, 0.5975947380065918, 0.5955579876899719, 0.5920147895812988, 0.5902764201164246, 0.588783323764801, 0.5867076516151428, 0.5853327512741089, 0.5837458968162537, 0.5822380781173706, 0.5809617042541504, 0.5797117948532104, 0.5784309506416321, 0.5773198008537292, 0.5762081742286682, 0.5751603841781616, 0.5741535425186157, 0.5731427669525146, 0.5723475813865662, 0.571727454662323, 0.5708576440811157, 0.5697652697563171, 0.569085419178009, 0.5684853792190552, 0.5675836205482483, 0.5668267011642456, 0.5662943720817566, 0.5656669735908508, 0.5649229884147644, 0.5642411112785339, 0.5634770393371582, 0.5627601742744446, 0.5621629953384399, 0.5616939663887024, 0.5612921714782715, 0.5609176754951477, 0.5605729222297668, 0.5603909492492676, 0.5600894093513489, 0.5595499277114868, 0.5592445731163025, 0.558844804763794, 0.5585340261459351, 0.5582020878791809, 0.5576460361480713, 0.5572665929794312, 0.556879997253418, 0.5564640164375305, 0.5560729503631592, 0.5557411909103394, 0.5554084777832031, 0.5551040172576904, 0.5547438263893127, 0.5544209480285645, 0.5541296601295471, 0.553922176361084, 0.5536193251609802, 0.5533187985420227, 0.5530588626861572, 0.5527735948562622, 0.5524120330810547, 0.5521291494369507, 0.5518841743469238, 0.5515791773796082, 0.5513603091239929, 0.5511574149131775, 0.5509642362594604, 0.550757646560669, 0.5505335330963135, 0.550327479839325, 0.5500844120979309, 0.5498641729354858, 0.549653172492981, 0.5494480133056641, 0.5491867661476135, 0.5488914847373962, 0.5486704707145691, 0.5484327077865601, 0.5481988191604614, 0.5479073524475098, 0.5475654602050781, 0.5473911762237549, 0.5471256971359253, 0.5469406843185425, 0.5466504096984863, 0.5463364720344543, 0.5459954142570496, 0.5459299087524414, 0.5458141565322876, 0.5457020998001099, 0.5456131100654602, 0.5455127358436584, 0.5454245209693909, 0.5452699661254883, 0.5451321005821228, 0.5449765920639038, 0.5448459982872009, 0.54466313123703, 0.5445063710212708, 0.5443013906478882, 0.5441643595695496, 0.5439854264259338, 0.5437659621238708, 0.5436723828315735, 0.5435610413551331, 0.543387770652771, 0.5430641174316406, 0.5428779125213623, 0.5428035855293274, 0.5425418019294739, 0.5425545573234558, 0.5423632264137268, 0.5422050952911377, 0.5420888662338257, 0.5419194102287292, 0.5416548252105713, 0.5415604114532471, 0.5414360761642456, 0.5412579774856567, 0.5411777496337891, 0.5410501956939697, 0.5409508347511292, 0.5408182740211487, 0.5406765341758728, 0.5405577421188354, 0.5404068231582642, 0.5402247905731201, 0.5400930047035217, 0.5400128960609436, 0.5399700999259949, 0.5398918390274048, 0.5398072600364685, 0.5397360920906067, 0.5396245718002319, 0.5394893884658813, 0.5395339131355286, 0.5394294857978821, 0.5393458604812622, 0.53928542137146, 0.5391956567764282, 0.539118230342865, 0.5391044020652771, 0.5390074253082275, 0.538922905921936, 0.5388148427009583, 0.5387668609619141, 0.5386199951171875, 0.5386272072792053, 0.5384954810142517, 0.5383113622665405, 0.5382156372070312, 0.5380960702896118, 0.5379714965820312, 0.5378268957138062, 0.5377322435379028, 0.5376927852630615, 0.5375556945800781, 0.537431001663208, 0.5373795628547668, 0.5372195839881897, 0.5371242165565491, 0.5370575189590454, 0.5370079874992371, 0.5368485450744629, 0.5367481112480164, 0.536644697189331, 0.5365345478057861, 0.5364411473274231, 0.536320149898529, 0.5361637473106384, 0.536055326461792, 0.5358909368515015, 0.5357541441917419, 0.5356674194335938, 0.5355167984962463, 0.535423755645752, 0.5352799296379089, 0.5351369380950928, 0.5350362062454224, 0.5348992943763733, 0.5348150730133057, 0.5346018075942993, 0.5346001386642456, 0.5345247983932495, 0.5343776941299438, 0.5342448949813843, 0.5341874361038208, 0.5340615510940552, 0.533940315246582, 0.5339198708534241, 0.533760130405426, 0.5336184501647949, 0.5335878133773804, 0.5335747003555298, 0.5334171056747437, 0.5332909226417542, 0.5332664251327515, 0.5332106351852417, 0.5331804752349854, 0.5330889821052551, 0.5330145359039307, 0.5330228209495544, 0.5328278541564941, 0.5328063368797302, 0.5327882766723633, 0.5327081680297852, 0.5326429605484009, 0.5324744582176208, 0.5325332283973694, 0.532346248626709, 0.5321518182754517, 0.5321756601333618, 0.5321621298789978, 0.5319583415985107, 0.5318045616149902, 0.531790554523468, 0.5317690372467041, 0.5316634178161621, 0.5315755605697632, 0.5315881967544556, 0.5315341949462891, 0.5314717888832092, 0.5314905643463135, 0.5314077138900757, 0.5313122272491455, 0.5311246514320374, 0.5311589241027832, 0.53114253282547, 0.5310977101325989, 0.5310614705085754, 0.5309833884239197, 0.530972421169281, 0.5308840274810791, 0.5308545827865601, 0.5308226346969604], 'val_accuracy': [0.4502857029438019, 0.6048571467399597, 0.6211428642272949, 0.6274285912513733, 0.4957142770290375, 0.6174286007881165, 0.6522856950759888, 0.6625714302062988, 0.6380000114440918, 0.6677142977714539, 0.6714285612106323, 0.6779999732971191, 0.6791428327560425, 0.6837142705917358, 0.6842857003211975, 0.6911428570747375, 0.693142831325531, 0.6942856907844543, 0.701714277267456, 0.7011428475379944, 0.7037143111228943, 0.7062857151031494, 0.7071428298950195, 0.7088571190834045, 0.7097142934799194, 0.7108571529388428, 0.7108571529388428, 0.7114285826683044, 0.7128571271896362, 0.7128571271896362, 0.7134285569190979, 0.7134285569190979, 0.7131428718566895, 0.7134285569190979, 0.7145714163780212, 0.7151428461074829, 0.7157142758369446, 0.7165714502334595, 0.7179999947547913, 0.7185714244842529, 0.7185714244842529, 0.7185714244842529, 0.7197142839431763, 0.7200000286102295, 0.7197142839431763, 0.7191428542137146, 0.7197142839431763, 0.7200000286102295, 0.7205714583396912, 0.7214285731315613, 0.7217142581939697, 0.7222856879234314, 0.722000002861023, 0.7214285731315613, 0.7214285731315613, 0.7211428284645081, 0.7222856879234314, 0.7217142581939697, 0.7217142581939697, 0.722000002861023, 0.7217142581939697, 0.7214285731315613, 0.722000002861023, 0.723714292049408, 0.723714292049408, 0.7242857217788696, 0.7262856960296631, 0.7268571257591248, 0.7277143001556396, 0.7274285554885864, 0.7282857298851013, 0.7277143001556396, 0.7274285554885864, 0.7279999852180481, 0.7282857298851013, 0.7282857298851013, 0.728857159614563, 0.7277143001556396, 0.7279999852180481, 0.7274285554885864, 0.7277143001556396, 0.7277143001556396, 0.7282857298851013, 0.7291428446769714, 0.7297142744064331, 0.7297142744064331, 0.728857159614563, 0.728857159614563, 0.728857159614563, 0.7297142744064331, 0.730571448802948, 0.730571448802948, 0.730571448802948, 0.7319999933242798, 0.7317143082618713, 0.7317143082618713, 0.7308571338653564, 0.7308571338653564, 0.730571448802948, 0.7302857041358948, 0.7302857041358948, 0.7308571338653564, 0.7308571338653564, 0.7300000190734863, 0.730571448802948, 0.730571448802948, 0.7311428785324097, 0.7314285635948181, 0.7308571338653564, 0.7311428785324097, 0.730571448802948, 0.7308571338653564, 0.7308571338653564, 0.730571448802948, 0.7319999933242798, 0.732285737991333, 0.732285737991333, 0.7328571677207947, 0.7328571677207947, 0.732285737991333, 0.7317143082618713, 0.7328571677207947, 0.7319999933242798, 0.7325714230537415, 0.7334285974502563, 0.7334285974502563, 0.7334285974502563, 0.7331428527832031, 0.7331428527832031, 0.7334285974502563, 0.7345714569091797, 0.7351428866386414, 0.7348571419715881, 0.7348571419715881, 0.7354285717010498, 0.7351428866386414, 0.7345714569091797, 0.7342857122421265, 0.734000027179718, 0.7345714569091797, 0.7342857122421265, 0.7342857122421265, 0.734000027179718, 0.7334285974502563, 0.7331428527832031, 0.7328571677207947, 0.7325714230537415, 0.732285737991333, 0.7328571677207947, 0.7331428527832031, 0.7331428527832031, 0.7331428527832031, 0.7328571677207947, 0.7331428527832031, 0.7331428527832031, 0.7334285974502563, 0.7334285974502563, 0.7325714230537415, 0.732285737991333, 0.7331428527832031, 0.7325714230537415, 0.7328571677207947, 0.7331428527832031, 0.7334285974502563, 0.734000027179718, 0.734000027179718, 0.734000027179718, 0.7351428866386414, 0.7354285717010498, 0.7357142567634583, 0.7351428866386414, 0.7354285717010498, 0.7357142567634583, 0.7357142567634583, 0.7351428866386414, 0.7357142567634583, 0.7357142567634583, 0.7357142567634583, 0.7362856864929199, 0.7351428866386414, 0.7354285717010498, 0.7351428866386414, 0.7354285717010498, 0.7357142567634583, 0.7354285717010498, 0.7351428866386414, 0.7345714569091797, 0.7342857122421265, 0.7342857122421265, 0.734000027179718, 0.7334285974502563, 0.7334285974502563, 0.7337142825126648, 0.7348571419715881, 0.7345714569091797, 0.7345714569091797, 0.7345714569091797, 0.7348571419715881, 0.7345714569091797, 0.7345714569091797, 0.7348571419715881, 0.7351428866386414, 0.7348571419715881, 0.7354285717010498, 0.7354285717010498, 0.7357142567634583, 0.7360000014305115, 0.7365714311599731, 0.7368571162223816, 0.7365714311599731, 0.7371428608894348, 0.7374285459518433, 0.7374285459518433, 0.7371428608894348, 0.7371428608894348, 0.7374285459518433, 0.7374285459518433, 0.7379999756813049, 0.7377142906188965, 0.7374285459518433, 0.7374285459518433, 0.7374285459518433, 0.7374285459518433, 0.7371428608894348, 0.7374285459518433, 0.7374285459518433, 0.7371428608894348, 0.7368571162223816, 0.7360000014305115, 0.7360000014305115, 0.7360000014305115, 0.7362856864929199, 0.7362856864929199, 0.7365714311599731, 0.7362856864929199, 0.7360000014305115, 0.7362856864929199, 0.7362856864929199, 0.7362856864929199, 0.7362856864929199, 0.7362856864929199, 0.7360000014305115, 0.7360000014305115, 0.7354285717010498, 0.7360000014305115, 0.7360000014305115, 0.7362856864929199, 0.7365714311599731, 0.7362856864929199, 0.7365714311599731], 'loss': [4.764666986465454, 1.2850595474243165, 1.6717615842819213, 1.3105539321899413, 0.7270374536514282, 0.8503758430480957, 0.660839295387268, 0.7130425453186036, 0.6335113286972046, 0.6446887969970703, 0.617491614818573, 0.6179535984992981, 0.6073601484298706, 0.6026371717453003, 0.5995211124420166, 0.5951486825942993, 0.5927373886108398, 0.5898762702941894, 0.5873594641685486, 0.5852515697479248, 0.5832047462463379, 0.5813708305358887, 0.579673957824707, 0.5780510067939758, 0.5765092134475708, 0.5750430345535278, 0.5736330389976502, 0.5722805142402649, 0.5709628939628602, 0.569731342792511, 0.5685806751251221, 0.5674520611763001, 0.5663226842880249, 0.5652245998382568, 0.5641950368881226, 0.5632425546646118, 0.5623448729515076, 0.5614853501319885, 0.5606640815734864, 0.5598772644996644, 0.5591148138046265, 0.5583771228790283, 0.5576603651046753, 0.5569465041160584, 0.5562067866325379, 0.5554025292396545, 0.5545840501785279, 0.5538685321807861, 0.5532185554504394, 0.5525945425033569, 0.551984179019928, 0.551379919052124, 0.5507820606231689, 0.5502015948295593, 0.5496396422386169, 0.549086844921112, 0.5485361218452454, 0.5479873299598694, 0.547446322441101, 0.5469082355499267, 0.5463779687881469, 0.5458584427833557, 0.5453489542007446, 0.5448484301567078, 0.5443618297576904, 0.5438759326934814, 0.5433897972106934, 0.5429205536842346, 0.5424561381340027, 0.5420077085494995, 0.5415707111358643, 0.5411383986473084, 0.5407114386558532, 0.5403016209602356, 0.5399050831794738, 0.5395259380340576, 0.5391638159751893, 0.5388092756271362, 0.538460886478424, 0.5381170034408569, 0.5377808690071106, 0.5374514937400818, 0.537125563621521, 0.536794126033783, 0.5364663958549499, 0.536155903339386, 0.5358593821525574, 0.5355639457702637, 0.5352700471878051, 0.534979236125946, 0.5346902132034301, 0.5343997001647949, 0.5341114163398742, 0.533823835849762, 0.5335365414619446, 0.5332437515258789, 0.5329553008079528, 0.5326826095581054, 0.5324156880378723, 0.5321333527565002, 0.531817889213562, 0.5315195798873902, 0.5312342762947082, 0.5309718966484069, 0.5307317018508911, 0.5305065631866455, 0.5302844405174255, 0.5300652503967285, 0.529850697517395, 0.5296414852142334, 0.5294357180595398, 0.5292347192764282, 0.5290386199951171, 0.5288457751274109, 0.5286577343940735, 0.5284741878509521, 0.5282915115356446, 0.5281074404716491, 0.5279226422309875, 0.5277369737625122, 0.5275503158569336, 0.5273622870445251, 0.527178168296814, 0.5269976377487182, 0.526820969581604, 0.5266458511352539, 0.5264723658561706, 0.526304292678833, 0.5261361479759217, 0.5259688019752502, 0.5258012652397156, 0.525632667541504, 0.5254655718803406, 0.525306761264801, 0.5251520037651062, 0.5250005841255188, 0.5248528957366944, 0.5247080326080322, 0.5245654821395874, 0.5244247674942016, 0.5242868423461914, 0.5241479635238647, 0.5240108966827393, 0.5238773226737976, 0.5237476348876953, 0.523621141910553, 0.5234977602958679, 0.5233766198158264, 0.5232550740242005, 0.5231379270553589, 0.523025393486023, 0.5229135751724243, 0.5228050351142883, 0.5226988315582275, 0.522596025466919, 0.52249675989151, 0.5223995804786682, 0.5223038911819458, 0.5222062587738037, 0.5221087336540222, 0.5220126271247864, 0.5219140768051147, 0.5218109488487244, 0.5216997146606446, 0.5215863466262818, 0.5214754462242126, 0.5213655948638916, 0.5212570071220398, 0.5211487054824829, 0.5210439920425415, 0.5209443211555481, 0.5208465218544006, 0.5207486748695374, 0.5206535339355469, 0.5205595970153809, 0.5204634666442871, 0.5203664302825928, 0.5202704668045044, 0.5201738119125366, 0.520078182220459, 0.5199815511703492, 0.51988365650177, 0.5197851896286011, 0.5196848154067993, 0.5195824265480041, 0.5194793224334717, 0.5193763375282288, 0.5192726254463196, 0.5191674113273621, 0.5190614104270935, 0.5189541578292847, 0.5188466310501099, 0.5187414526939392, 0.5186365604400635, 0.5185339212417602, 0.5184291005134583, 0.5183229804039001, 0.5182193279266357, 0.5181187152862549, 0.5180198311805725, 0.5179218173027038, 0.5178257942199707, 0.5177332758903503, 0.5176416516304017, 0.5175539374351501, 0.5174683213233948, 0.5173825263977051, 0.5172981262207031, 0.5172147035598755, 0.5171308755874634, 0.5170487046241761, 0.5169713854789734, 0.5168905854225159, 0.5168126225471497, 0.5167373895645142, 0.5166644811630249, 0.5165929198265076, 0.5165241122245788, 0.516456687450409, 0.5163885235786438, 0.5163192033767701, 0.5162512302398682, 0.5161849379539489, 0.5161170244216919, 0.5160458564758301, 0.5159646272659302, 0.5158851385116577, 0.515809428691864, 0.5157372951507568, 0.5156639099121094, 0.5155963063240051, 0.5155260443687439, 0.515457272529602, 0.5153930068016053, 0.5153350353240966, 0.5152808904647828, 0.5152259945869446, 0.5151707291603088, 0.5151201248168945, 0.515065050125122, 0.5150132536888122, 0.5149597883224487, 0.5149052262306213, 0.5148510098457336, 0.5147972583770752, 0.5147413372993469, 0.5146855354309082, 0.5146313190460206, 0.5145769119262695, 0.5145212769508362], 'accuracy': [0.4319746, 0.5440889, 0.60022223, 0.61998093, 0.60292065, 0.5091873, 0.65252066, 0.6539365, 0.6694476, 0.64897776, 0.67862225, 0.67718095, 0.686546, 0.68949205, 0.6870476, 0.6937397, 0.697454, 0.6969524, 0.70010793, 0.7033016, 0.7037714, 0.70596826, 0.7081968, 0.7092254, 0.7107365, 0.7126984, 0.7138857, 0.7145841, 0.7154349, 0.7163873, 0.7172254, 0.71812063, 0.71871746, 0.71956825, 0.7196571, 0.7203746, 0.72113013, 0.72213966, 0.72232383, 0.7224444, 0.7226349, 0.7226159, 0.7230667, 0.723473, 0.72386664, 0.7241333, 0.72439367, 0.7244127, 0.7247937, 0.7251682, 0.72575235, 0.7260063, 0.72599363, 0.726019, 0.72616506, 0.72616506, 0.72659045, 0.7273333, 0.7277524, 0.7281968, 0.72865397, 0.7292508, 0.72980314, 0.7298794, 0.73, 0.7302349, 0.7303746, 0.7305524, 0.7307365, 0.73081267, 0.73097146, 0.7313397, 0.7313206, 0.73165077, 0.7317333, 0.73187935, 0.7320381, 0.7321905, 0.73248255, 0.732654, 0.73275554, 0.7328762, 0.73319364, 0.73354286, 0.73377144, 0.7339746, 0.73422223, 0.7343365, 0.7342794, 0.7343492, 0.73445714, 0.73464125, 0.73479366, 0.73504764, 0.7353206, 0.73561907, 0.73567617, 0.73612696, 0.73629206, 0.7364063, 0.7366857, 0.7376635, 0.7376127, 0.73782855, 0.7379873, 0.7380508, 0.73821586, 0.7382603, 0.7385968, 0.738946, 0.7389968, 0.73888886, 0.7389714, 0.7391619, 0.73932064, 0.7395238, 0.7395936, 0.7395619, 0.73955554, 0.7395238, 0.7393968, 0.73970795, 0.739873, 0.7400635, 0.74, 0.7400572, 0.7400381, 0.7401143, 0.7403746, 0.74048257, 0.7406286, 0.7407873, 0.7408635, 0.74102855, 0.741073, 0.7411302, 0.7413333, 0.7415048, 0.74165714, 0.74147934, 0.7415175, 0.7416381, 0.7415873, 0.7415556, 0.7415556, 0.7415365, 0.7415238, 0.7417143, 0.7417206, 0.741873, 0.74203175, 0.7421397, 0.7421714, 0.7421651, 0.74224764, 0.74241906, 0.7423746, 0.74233013, 0.74230474, 0.74241906, 0.74240637, 0.74231744, 0.7423365, 0.7423873, 0.74266666, 0.74288255, 0.74306667, 0.7429968, 0.74316823, 0.7431492, 0.743054, 0.7430159, 0.7432318, 0.7432508, 0.7432889, 0.7434413, 0.7433778, 0.7433651, 0.74352384, 0.7434857, 0.7436, 0.74372065, 0.7438032, 0.7438286, 0.74373335, 0.743854, 0.7438667, 0.74410796, 0.74421585, 0.7442921, 0.74452066, 0.7444762, 0.74459046, 0.74455875, 0.7444762, 0.7445524, 0.74460953, 0.74456507, 0.74483174, 0.74498415, 0.7450984, 0.7451619, 0.7452508, 0.7453397, 0.7452952, 0.7453016, 0.7454032, 0.7454857, 0.74551743, 0.7457841, 0.74587303, 0.7461143, 0.74628574, 0.7463746, 0.7463937, 0.7465587, 0.74671745, 0.74669844, 0.74674284, 0.7467746, 0.7469016, 0.7469714, 0.7469714, 0.747054, 0.74716824, 0.7471746, 0.7472317, 0.7472635, 0.74737775, 0.7474349, 0.74753016, 0.7474794, 0.74761903, 0.74798095, 0.74819684, 0.74839365, 0.748273, 0.74821585, 0.74821585, 0.74821585, 0.74822223, 0.74801904, 0.74795556, 0.7481079, 0.74820954, 0.74824125, 0.74817145, 0.7483302, 0.7484508, 0.7484254]}\n"
     ]
    },
    {
     "name": "stdout",
     "output_type": "stream",
     "text": [
      "f1 Test Score:  0.6694615700780928\n",
      "Model: \"sequential_3\"\n",
      "_________________________________________________________________\n",
      "Layer (type)                 Output Shape              Param #   \n",
      "=================================================================\n",
      "dense_7 (Dense)              (None, 50)                550       \n",
      "_________________________________________________________________\n",
      "dense_8 (Dense)              (None, 50)                2550      \n",
      "_________________________________________________________________\n",
      "dense_9 (Dense)              (None, 2)                 102       \n",
      "=================================================================\n",
      "Total params: 3,202\n",
      "Trainable params: 3,202\n",
      "Non-trainable params: 0\n",
      "_________________________________________________________________\n",
      "None\n",
      "Restoring model weights from the end of the best epoch\n",
      "Epoch 00161: early stopping\n",
      "{'val_loss': [1.5767626762390137, 0.7859771251678467, 0.7931116819381714, 0.7553560137748718, 0.7047459483146667, 0.6285358667373657, 0.6140586733818054, 0.6138846278190613, 0.602087676525116, 0.5986506938934326, 0.5887881517410278, 0.587607204914093, 0.583710253238678, 0.5806742906570435, 0.5773559808731079, 0.575330376625061, 0.5733283162117004, 0.5713804364204407, 0.5696678161621094, 0.5681291222572327, 0.5666009187698364, 0.5652796626091003, 0.5639240145683289, 0.5625036954879761, 0.5611673593521118, 0.5597836375236511, 0.5583449602127075, 0.5569299459457397, 0.5553876757621765, 0.5542363524436951, 0.5529890656471252, 0.5521130561828613, 0.5513463020324707, 0.5500845909118652, 0.5489898324012756, 0.5481462478637695, 0.5472748875617981, 0.5461467504501343, 0.5448395013809204, 0.5436815619468689, 0.5425738096237183, 0.5409156084060669, 0.5402249097824097, 0.5395095348358154, 0.5385043025016785, 0.5377585887908936, 0.5369206666946411, 0.5360806584358215, 0.5355730652809143, 0.5349301695823669, 0.5345107913017273, 0.5342285633087158, 0.5338432192802429, 0.5337460041046143, 0.533636212348938, 0.5331759452819824, 0.5326583981513977, 0.532504141330719, 0.53233402967453, 0.5318585634231567, 0.5316568613052368, 0.5315065979957581, 0.5312814712524414, 0.5311705470085144, 0.5310300588607788, 0.5308367609977722, 0.5306639075279236, 0.5304494500160217, 0.530202329158783, 0.5300614237785339, 0.5299400687217712, 0.5299605131149292, 0.5297909379005432, 0.5295916199684143, 0.5293384194374084, 0.5293049812316895, 0.5292646884918213, 0.5290420055389404, 0.5288867950439453, 0.5287625193595886, 0.5291456580162048, 0.5287219882011414, 0.5284309983253479, 0.5281573534011841, 0.5280848741531372, 0.5279067158699036, 0.5278199315071106, 0.5277946591377258, 0.5277829170227051, 0.5275812149047852, 0.5274907350540161, 0.527425229549408, 0.527334988117218, 0.5273825526237488, 0.5273227691650391, 0.5274065732955933, 0.5271202325820923, 0.527356743812561, 0.5270358324050903, 0.5272065997123718, 0.5269151329994202, 0.5271665453910828, 0.5268440246582031, 0.5266809463500977, 0.5269101858139038, 0.5269078612327576, 0.5265452265739441, 0.526580274105072, 0.526491641998291, 0.5265268087387085, 0.5265628695487976, 0.5263724327087402, 0.5264237523078918, 0.5266520977020264, 0.5261608958244324, 0.5261542797088623, 0.5263473987579346, 0.5262389183044434, 0.526078999042511, 0.5259845852851868, 0.5261812806129456, 0.5258128046989441, 0.5261094570159912, 0.5259404182434082, 0.5257527828216553, 0.5259315967559814, 0.5257497429847717, 0.5254664421081543, 0.5255263447761536, 0.5256060361862183, 0.5254138112068176, 0.525313675403595, 0.5251684188842773, 0.5252403616905212, 0.5251052975654602, 0.5250994563102722, 0.5251246094703674, 0.5249354243278503, 0.5251128673553467, 0.5250095725059509, 0.5251181721687317, 0.5253308415412903, 0.5248033404350281, 0.5242373943328857, 0.5240594148635864, 0.5243596434593201, 0.5237356424331665, 0.5235502123832703, 0.5236184597015381, 0.5233733057975769, 0.5231638550758362, 0.5232047438621521, 0.5229495763778687, 0.5230357646942139, 0.5227954387664795, 0.522479236125946, 0.5232672691345215, 0.5231339335441589, 0.5227238535881042, 0.5228391289710999, 0.5225072503089905], 'val_accuracy': [0.49885714054107666, 0.5908571481704712, 0.6251428723335266, 0.583142876625061, 0.6522856950759888, 0.6880000233650208, 0.6988571286201477, 0.6877142786979675, 0.6988571286201477, 0.6925714015960693, 0.7099999785423279, 0.6991428732872009, 0.7111428380012512, 0.7059999704360962, 0.7085714340209961, 0.7105714082717896, 0.7111428380012512, 0.7139999866485596, 0.7165714502334595, 0.7168571352958679, 0.7154285907745361, 0.7151428461074829, 0.7145714163780212, 0.7137143015861511, 0.7157142758369446, 0.7182857394218445, 0.7197142839431763, 0.7217142581939697, 0.722000002861023, 0.7251428365707397, 0.7245714068412781, 0.723714292049408, 0.7245714068412781, 0.7239999771118164, 0.7245714068412781, 0.7231428623199463, 0.7211428284645081, 0.7214285731315613, 0.722000002861023, 0.7228571176528931, 0.725428581237793, 0.7262856960296631, 0.7282857298851013, 0.7328571677207947, 0.7317143082618713, 0.7331428527832031, 0.7314285635948181, 0.7319999933242798, 0.732285737991333, 0.734000027179718, 0.732285737991333, 0.732285737991333, 0.7342857122421265, 0.7328571677207947, 0.7334285974502563, 0.7345714569091797, 0.7351428866386414, 0.7365714311599731, 0.7331428527832031, 0.7342857122421265, 0.7337142825126648, 0.7337142825126648, 0.7334285974502563, 0.7337142825126648, 0.7345714569091797, 0.7345714569091797, 0.7345714569091797, 0.7360000014305115, 0.7362856864929199, 0.7360000014305115, 0.7360000014305115, 0.7345714569091797, 0.7357142567634583, 0.7354285717010498, 0.7362856864929199, 0.7371428608894348, 0.7382857203483582, 0.7371428608894348, 0.7379999756813049, 0.7368571162223816, 0.7357142567634583, 0.7374285459518433, 0.7374285459518433, 0.7382857203483582, 0.7365714311599731, 0.7368571162223816, 0.7371428608894348, 0.7362856864929199, 0.7362856864929199, 0.7365714311599731, 0.7362856864929199, 0.7362856864929199, 0.7365714311599731, 0.7360000014305115, 0.7357142567634583, 0.7360000014305115, 0.7348571419715881, 0.7360000014305115, 0.7345714569091797, 0.7354285717010498, 0.7342857122421265, 0.7368571162223816, 0.7354285717010498, 0.734000027179718, 0.7357142567634583, 0.7357142567634583, 0.7354285717010498, 0.7357142567634583, 0.7360000014305115, 0.7357142567634583, 0.7360000014305115, 0.7360000014305115, 0.7362856864929199, 0.7385714054107666, 0.7377142906188965, 0.7368571162223816, 0.7385714054107666, 0.7371428608894348, 0.7371428608894348, 0.7391428351402283, 0.7365714311599731, 0.7379999756813049, 0.7371428608894348, 0.7385714054107666, 0.7382857203483582, 0.7374285459518433, 0.7365714311599731, 0.7368571162223816, 0.7374285459518433, 0.7371428608894348, 0.7371428608894348, 0.7385714054107666, 0.7382857203483582, 0.7388571500778198, 0.7374285459518433, 0.7371428608894348, 0.7374285459518433, 0.7377142906188965, 0.7391428351402283, 0.7342857122421265, 0.7397142648696899, 0.7388571500778198, 0.7385714054107666, 0.7357142567634583, 0.7371428608894348, 0.7379999756813049, 0.7377142906188965, 0.7382857203483582, 0.7405714392662048, 0.7382857203483582, 0.7391428351402283, 0.7400000095367432, 0.7388571500778198, 0.7400000095367432, 0.7397142648696899, 0.7397142648696899, 0.7385714054107666, 0.7397142648696899, 0.7400000095367432, 0.7394285798072815, 0.7411428689956665], 'loss': [1.957146906852722, 1.2524389743804931, 0.9134463667869568, 0.7263536572456359, 0.671257758140564, 0.6581682562828064, 0.6304821491241455, 0.6102396488189697, 0.5969631433486938, 0.5901383042335511, 0.5862023949623107, 0.5818503618240356, 0.5779591202735901, 0.5749134182929992, 0.5718013405799866, 0.5694382309913635, 0.5672159910202026, 0.5649993896484375, 0.5628671050071716, 0.5608588695526123, 0.5589291453361511, 0.5570855259895324, 0.5553405404090881, 0.5536885619163513, 0.5521168351173401, 0.5506057977676392, 0.5491469383239747, 0.5477097392082214, 0.5462756276130676, 0.544862425327301, 0.5435022830963134, 0.5422435641288758, 0.5410064458847046, 0.5398257493972778, 0.538675582408905, 0.5375761270523072, 0.5365043163299561, 0.5354605197906495, 0.5343239665031433, 0.5329997658729553, 0.5317715883255005, 0.5306098699569702, 0.5295493960380554, 0.5286970973014832, 0.5278539419174194, 0.5270594596862793, 0.5263423919677734, 0.5257012009620666, 0.5251125216484069, 0.524599266052246, 0.5241026759147644, 0.523592472076416, 0.5231473565101623, 0.5227073550224304, 0.5222995758056641, 0.5218928098678589, 0.521502149105072, 0.5211284041404725, 0.520767080783844, 0.5204090476036072, 0.5200492858886718, 0.5197284460067749, 0.5194023251533508, 0.5191333889961243, 0.5188926935195923, 0.5185919046401978, 0.5182987689971924, 0.5180121302604676, 0.5177261114120484, 0.5174514174461364, 0.5171737313270569, 0.5168797016143799, 0.5166139841079712, 0.5163575887680054, 0.5161167621612549, 0.5158815145492553, 0.5156558871269226, 0.5154228568077087, 0.5152112245559692, 0.5149866223335267, 0.514848256111145, 0.5147052764892578, 0.5144078254699707, 0.5141703009605407, 0.5139705419540406, 0.5137930512428284, 0.513619351387024, 0.5134515285491943, 0.5132944107055664, 0.5131305456161499, 0.5129804372787475, 0.5128293991088867, 0.5126772403717041, 0.5125258088111877, 0.51238853931427, 0.5122520923614502, 0.5121030211448669, 0.5119882702827454, 0.5118541598320008, 0.511686360836029, 0.5115392327308654, 0.511420464515686, 0.5113897681236267, 0.5111801028251648, 0.5110268712043762, 0.5108838677406311, 0.5107875943183899, 0.5106232523918152, 0.5105159282684326, 0.510365891456604, 0.5102227449417114, 0.5101436018943787, 0.5100089550018311, 0.5098513722419739, 0.509821081161499, 0.5095476031303405, 0.5094497084617615, 0.5092792868614197, 0.5091791272163391, 0.5090082049369812, 0.5088976860046387, 0.508847439289093, 0.5087235808372498, 0.5085157155990601, 0.5083791851997376, 0.5082696199417114, 0.5083702802658081, 0.5081839919090271, 0.5080427408218384, 0.5078201174736023, 0.5076854228973389, 0.5075591564178467, 0.5074107408523559, 0.5073014736175537, 0.507154393196106, 0.5070120453834533, 0.5068801164627075, 0.5067464113235474, 0.5066256761550904, 0.5066299319267273, 0.5067556977272034, 0.5062186241149902, 0.506038498878479, 0.5058239221572876, 0.5054950714111328, 0.5053682088851928, 0.505168080329895, 0.5048668861389161, 0.5046967506408692, 0.504658329486847, 0.5044379234313965, 0.5041644930839538, 0.5041203498840332, 0.5039358496665954, 0.5036586284637451, 0.5035611033439636, 0.5035161972045898, 0.5033249616622925, 0.5029231905937195, 0.5027619481086731, 0.502810251712799], 'accuracy': [0.5861016, 0.51221585, 0.61358094, 0.6035492, 0.63856506, 0.6713587, 0.6695492, 0.6931365, 0.699746, 0.7028762, 0.70455235, 0.7090222, 0.70963174, 0.7126095, 0.7141333, 0.71516824, 0.7169778, 0.71788573, 0.7193143, 0.7199302, 0.72153014, 0.7224572, 0.72294605, 0.72380954, 0.7246095, 0.7256508, 0.7268127, 0.72779685, 0.7288254, 0.7300381, 0.730927, 0.73226666, 0.7334286, 0.7346857, 0.73506033, 0.73589844, 0.736254, 0.7367111, 0.73698413, 0.73715556, 0.73779047, 0.7379492, 0.7392127, 0.74016505, 0.74097145, 0.74146664, 0.7421651, 0.74203175, 0.7426286, 0.74285716, 0.7430222, 0.7433714, 0.7434349, 0.7440381, 0.7440571, 0.74479365, 0.74503493, 0.7453587, 0.74542856, 0.745581, 0.7457841, 0.74606985, 0.7459365, 0.74608886, 0.74625397, 0.74646986, 0.74648887, 0.7466095, 0.7465968, 0.7464191, 0.7464127, 0.74691427, 0.74691427, 0.74675554, 0.7470476, 0.74695235, 0.74730796, 0.7475365, 0.74804443, 0.7482476, 0.7479238, 0.7479619, 0.7482476, 0.7483302, 0.7486857, 0.7485016, 0.7487429, 0.7491873, 0.74901587, 0.74924445, 0.749327, 0.7493968, 0.7494984, 0.74954283, 0.74947935, 0.74964446, 0.7495238, 0.7497714, 0.7497968, 0.7499365, 0.7500064, 0.75012064, 0.74987304, 0.75, 0.75011426, 0.74990475, 0.74967617, 0.7498032, 0.74991745, 0.74967617, 0.7497841, 0.74954283, 0.7500127, 0.7499746, 0.7502286, 0.750654, 0.75092065, 0.75116825, 0.7512571, 0.75180954, 0.751873, 0.7516254, 0.7518349, 0.75177145, 0.7517143, 0.7516571, 0.75142854, 0.7516825, 0.7517397, 0.7517079, 0.75135875, 0.7514222, 0.7515619, 0.7515111, 0.75144124, 0.75154287, 0.7515175, 0.7515619, 0.7519175, 0.75160635, 0.7518984, 0.7516571, 0.7515302, 0.7517651, 0.7517143, 0.7523365, 0.7523873, 0.7525016, 0.7525778, 0.75267935, 0.75284445, 0.7527238, 0.7527746, 0.7529524, 0.7529333, 0.7527746, 0.7534159, 0.7533841, 0.75313014, 0.75307304, 0.7534603]}\n"
     ]
    },
    {
     "name": "stdout",
     "output_type": "stream",
     "text": [
      "f1 Test Score:  0.6793224777023158\n",
      "Model: \"sequential_4\"\n",
      "_________________________________________________________________\n",
      "Layer (type)                 Output Shape              Param #   \n",
      "=================================================================\n",
      "dense_10 (Dense)             (None, 32)                352       \n",
      "_________________________________________________________________\n",
      "dense_11 (Dense)             (None, 50)                1650      \n",
      "_________________________________________________________________\n",
      "dense_12 (Dense)             (None, 2)                 102       \n",
      "=================================================================\n",
      "Total params: 2,104\n",
      "Trainable params: 2,104\n",
      "Non-trainable params: 0\n",
      "_________________________________________________________________\n",
      "None\n",
      "{'val_loss': [4.8668951988220215, 1.1546475887298584, 2.156000852584839, 1.767730474472046, 0.7889981865882874, 1.0142676830291748, 0.6600515246391296, 0.784390389919281, 0.6436452865600586, 0.6746829748153687, 0.6273765563964844, 0.6432910561561584, 0.6196826100349426, 0.6173227429389954, 0.6137434244155884, 0.6055497527122498, 0.6014392375946045, 0.5988098978996277, 0.5965353846549988, 0.5952428579330444, 0.5942264795303345, 0.593463659286499, 0.5928208827972412, 0.5920011401176453, 0.5908534526824951, 0.5896324515342712, 0.5886614322662354, 0.5878500938415527, 0.5869682431221008, 0.5862061381340027, 0.5855119228363037, 0.5847912430763245, 0.5842821598052979, 0.5835680961608887, 0.5825225710868835, 0.5816541314125061, 0.581030011177063, 0.5803115367889404, 0.5796100497245789, 0.5789772272109985, 0.5783137083053589, 0.5776744484901428, 0.576994001865387, 0.5763022303581238, 0.5756469964981079, 0.5749970078468323, 0.574366569519043, 0.5737809538841248, 0.5731707215309143, 0.5721333622932434, 0.5715442895889282, 0.5705141425132751, 0.5703628063201904, 0.5695561170578003, 0.5687952637672424, 0.5682352185249329, 0.5676194429397583, 0.5669074654579163, 0.5661945343017578, 0.5655825138092041, 0.5649954080581665, 0.5644574761390686, 0.5638869404792786, 0.5633140206336975, 0.562763512134552, 0.5622197985649109, 0.5617071390151978, 0.5612316727638245, 0.5608415603637695, 0.5601518750190735, 0.5597261190414429, 0.5594253540039062, 0.558803915977478, 0.558259129524231, 0.5578434467315674, 0.5573348999023438, 0.5569080710411072, 0.5565139651298523, 0.556046724319458, 0.555556058883667, 0.554976761341095, 0.5544267892837524, 0.5539271831512451, 0.5535192489624023, 0.553084135055542, 0.5526396632194519, 0.5522195100784302, 0.5517488718032837, 0.5513302087783813, 0.550558865070343, 0.5499905943870544, 0.5499470233917236, 0.5493342876434326, 0.5492708086967468, 0.5489384531974792, 0.5488541722297668, 0.5485164523124695, 0.5482633709907532, 0.5479085445404053, 0.547558605670929, 0.5472283959388733, 0.5469469428062439, 0.5465280413627625, 0.5460720062255859, 0.5458503365516663, 0.5456392765045166, 0.5453986525535583, 0.5452069044113159, 0.5449478626251221, 0.54472416639328, 0.5444886684417725, 0.5442668795585632, 0.5440700650215149, 0.5438171625137329, 0.5434990525245667, 0.543326735496521, 0.5431192517280579, 0.542784571647644, 0.5425874590873718, 0.5423806309700012, 0.5422380566596985, 0.5420315861701965, 0.5417287349700928, 0.5416920781135559, 0.5414748787879944, 0.5412889122962952, 0.54130619764328, 0.5410336256027222, 0.5407792925834656, 0.540534496307373, 0.5403703451156616, 0.54024738073349, 0.5400906205177307, 0.5399389863014221, 0.5397837162017822, 0.5396846532821655, 0.5395699143409729, 0.5393660068511963, 0.5392770171165466, 0.5391404032707214, 0.5389995574951172, 0.5388162136077881, 0.5386291742324829, 0.5386048555374146, 0.5384342670440674, 0.5383133888244629, 0.5382740497589111, 0.538155198097229, 0.538026750087738, 0.5381457805633545, 0.5376854538917542, 0.5376903414726257, 0.5375807881355286, 0.5375707745552063, 0.5374549627304077, 0.5372844338417053, 0.5371208786964417, 0.5370821952819824, 0.5368897318840027, 0.5374101400375366, 0.5369049310684204, 0.536979615688324, 0.5372030138969421, 0.5368723273277283, 0.5363031625747681, 0.5361284017562866, 0.5361815690994263, 0.5360292792320251, 0.5358715653419495, 0.5357171297073364, 0.5357697606086731, 0.5356716513633728, 0.5354505777359009, 0.5352427363395691, 0.5352035760879517, 0.5348947048187256, 0.53510582447052, 0.535625159740448, 0.5351758599281311, 0.5342631340026855, 0.5342057943344116, 0.534472644329071, 0.5338872075080872, 0.5335713624954224, 0.5333125591278076, 0.5330936312675476, 0.532849133014679, 0.5326053500175476, 0.5323838591575623, 0.5323338508605957, 0.5321425199508667, 0.5319211483001709, 0.5317525863647461, 0.5315523743629456, 0.5313432812690735, 0.5313165187835693, 0.5309996604919434, 0.5307625532150269, 0.5308197736740112, 0.5304868221282959, 0.5302890539169312, 0.530177116394043, 0.5299618244171143, 0.5295302867889404, 0.5292189121246338, 0.5292143225669861, 0.5288644433021545, 0.5286692380905151, 0.52848219871521, 0.5284405946731567, 0.5281108617782593, 0.5278222560882568, 0.5279598236083984, 0.5276559591293335, 0.5272663831710815, 0.5268773436546326, 0.527692437171936, 0.5266488194465637, 0.5263639688491821, 0.526134192943573, 0.5260217785835266, 0.526114284992218, 0.5260748863220215, 0.5253149271011353, 0.5250744223594666, 0.5255159139633179, 0.5247833132743835, 0.524376630783081, 0.5244793891906738, 0.5239222049713135, 0.5234834551811218, 0.5237507820129395, 0.5231809616088867, 0.5230311751365662, 0.5229254961013794, 0.5229349732398987, 0.522121250629425, 0.5219656825065613, 0.5227697491645813, 0.5216585993766785, 0.521361768245697, 0.5214861035346985, 0.5211350321769714, 0.5206412672996521, 0.5207180380821228, 0.5204639434814453, 0.5199475288391113, 0.5201138854026794, 0.5197027325630188, 0.5193604826927185], 'val_accuracy': [0.3711428642272949, 0.5320000052452087, 0.519428551197052, 0.6088571548461914, 0.650857150554657, 0.5128571391105652, 0.670285701751709, 0.6460000276565552, 0.6759999990463257, 0.6268571615219116, 0.6859999895095825, 0.6734285950660706, 0.6888571381568909, 0.6848571300506592, 0.6777142882347107, 0.6857143044471741, 0.6888571381568909, 0.6837142705917358, 0.6842857003211975, 0.6848571300506592, 0.6880000233650208, 0.6891428828239441, 0.6880000233650208, 0.6874285936355591, 0.6857143044471741, 0.6874285936355591, 0.6874285936355591, 0.6894285678863525, 0.6891428828239441, 0.6911428570747375, 0.6919999718666077, 0.6934285759925842, 0.6928571462631226, 0.6922857165336609, 0.6934285759925842, 0.6945714354515076, 0.693142831325531, 0.6945714354515076, 0.6957142949104309, 0.696571409702301, 0.6980000138282776, 0.6985714435577393, 0.699999988079071, 0.7011428475379944, 0.701714277267456, 0.7028571367263794, 0.701714277267456, 0.7022857069969177, 0.7031428813934326, 0.7051428556442261, 0.7054286003112793, 0.7074285745620728, 0.7097142934799194, 0.7065714001655579, 0.7091428637504578, 0.7099999785423279, 0.7097142934799194, 0.7114285826683044, 0.7114285826683044, 0.7122856974601746, 0.7139999866485596, 0.7148571610450745, 0.7148571610450745, 0.7157142758369446, 0.7162857055664062, 0.7151428461074829, 0.7168571352958679, 0.7168571352958679, 0.7171428799629211, 0.7191428542137146, 0.7197142839431763, 0.7200000286102295, 0.7208571434020996, 0.722000002861023, 0.7228571176528931, 0.7231428623199463, 0.7228571176528931, 0.7234285473823547, 0.723714292049408, 0.7239999771118164, 0.7225714325904846, 0.7248571515083313, 0.7242857217788696, 0.7242857217788696, 0.7242857217788696, 0.723714292049408, 0.725428581237793, 0.7257142663002014, 0.7257142663002014, 0.7260000109672546, 0.7268571257591248, 0.7274285554885864, 0.7260000109672546, 0.7265714406967163, 0.7262856960296631, 0.7257142663002014, 0.7257142663002014, 0.7265714406967163, 0.7268571257591248, 0.7268571257591248, 0.7285714149475098, 0.7282857298851013, 0.7285714149475098, 0.7294285893440247, 0.7294285893440247, 0.730571448802948, 0.7302857041358948, 0.7297142744064331, 0.730571448802948, 0.730571448802948, 0.7291428446769714, 0.7308571338653564, 0.7308571338653564, 0.730571448802948, 0.7300000190734863, 0.7294285893440247, 0.7308571338653564, 0.7308571338653564, 0.730571448802948, 0.7311428785324097, 0.732285737991333, 0.7328571677207947, 0.7319999933242798, 0.7337142825126648, 0.7337142825126648, 0.7351428866386414, 0.7348571419715881, 0.7345714569091797, 0.7345714569091797, 0.7348571419715881, 0.7348571419715881, 0.7360000014305115, 0.7348571419715881, 0.7360000014305115, 0.734000027179718, 0.7360000014305115, 0.7362856864929199, 0.7360000014305115, 0.7354285717010498, 0.7360000014305115, 0.7360000014305115, 0.7360000014305115, 0.7351428866386414, 0.7354285717010498, 0.7351428866386414, 0.7345714569091797, 0.7342857122421265, 0.7351428866386414, 0.7354285717010498, 0.7351428866386414, 0.7348571419715881, 0.7345714569091797, 0.7360000014305115, 0.7357142567634583, 0.7360000014305115, 0.7345714569091797, 0.7351428866386414, 0.7360000014305115, 0.7348571419715881, 0.7377142906188965, 0.7365714311599731, 0.7365714311599731, 0.7371428608894348, 0.7377142906188965, 0.7365714311599731, 0.7374285459518433, 0.7365714311599731, 0.7368571162223816, 0.7368571162223816, 0.7362856864929199, 0.7365714311599731, 0.7371428608894348, 0.7357142567634583, 0.7357142567634583, 0.7365714311599731, 0.7382857203483582, 0.7377142906188965, 0.7374285459518433, 0.7385714054107666, 0.7388571500778198, 0.7388571500778198, 0.7388571500778198, 0.7374285459518433, 0.7385714054107666, 0.7374285459518433, 0.7379999756813049, 0.7379999756813049, 0.7374285459518433, 0.7379999756813049, 0.7385714054107666, 0.7377142906188965, 0.7379999756813049, 0.7377142906188965, 0.7382857203483582, 0.7385714054107666, 0.7394285798072815, 0.7379999756813049, 0.7388571500778198, 0.7400000095367432, 0.7385714054107666, 0.7391428351402283, 0.7400000095367432, 0.7394285798072815, 0.7397142648696899, 0.7385714054107666, 0.7391428351402283, 0.7385714054107666, 0.7385714054107666, 0.7397142648696899, 0.7394285798072815, 0.741428554058075, 0.7405714392662048, 0.7400000095367432, 0.7397142648696899, 0.7394285798072815, 0.7402856945991516, 0.7422857284545898, 0.7400000095367432, 0.7405714392662048, 0.7405714392662048, 0.7417142987251282, 0.7419999837875366, 0.7417142987251282, 0.7434285879135132, 0.7434285879135132, 0.7428571581840515, 0.7451428771018982, 0.7445714473724365, 0.7434285879135132, 0.7462857365608215, 0.7440000176429749, 0.7451428771018982, 0.7454285621643066, 0.7451428771018982, 0.7445714473724365, 0.7442857027053833, 0.74657142162323, 0.7454285621643066, 0.7425714135169983, 0.7437142729759216, 0.7459999918937683, 0.741428554058075, 0.7417142987251282, 0.7485714554786682, 0.741428554058075, 0.7408571243286133, 0.7477142810821533, 0.741428554058075, 0.7419999837875366, 0.7480000257492065], 'loss': [8.250161743164062, 2.8291444540023805, 1.6182052612304687, 2.0847145318984985, 1.3271819353103638, 0.808693265914917, 0.9150356531143189, 0.6772594213485718, 0.7197080731391907, 0.6349123597145081, 0.643556535243988, 0.6222142100334167, 0.6156556129455566, 0.6097844481468201, 0.6020537137985229, 0.5994565725326538, 0.5945152163505554, 0.5921854853630066, 0.5904630303382874, 0.5890593886375427, 0.5877198934555053, 0.5863266706466674, 0.5851195454597473, 0.584191083908081, 0.583214795589447, 0.5823105812072754, 0.581489098072052, 0.5806586027145386, 0.5798680663108826, 0.5790941596031189, 0.5783273696899414, 0.5775426983833313, 0.5767484307289124, 0.5759684443473816, 0.5752231478691101, 0.5744737982749939, 0.573741364479065, 0.573040223121643, 0.5723478317260742, 0.5716674208641053, 0.5709992527961731, 0.5703383445739746, 0.5696827530860901, 0.5690301299095154, 0.5683791995048523, 0.5677283644676209, 0.5670808672904968, 0.5664404511451722, 0.5657996416091919, 0.5651265144348144, 0.5642361998558044, 0.5635084509849548, 0.5625439405441284, 0.5618450999259949, 0.5611059427261352, 0.5604440331459045, 0.559764289855957, 0.5591076135635376, 0.5584482312202453, 0.5578072547912598, 0.5571687579154968, 0.5565382719039917, 0.5559184789657593, 0.5553077697753906, 0.5547091364860535, 0.5541207551956177, 0.5535385966300964, 0.5529260277748108, 0.552232563495636, 0.551616108417511, 0.5510719418525696, 0.5505228996276855, 0.5499756574630738, 0.5494320392608643, 0.5488974452018738, 0.5483726024627685, 0.5478590250015258, 0.5473492622375489, 0.5468346238136291, 0.5463045120239258, 0.5457474589347839, 0.5452011942863464, 0.5446722626686096, 0.5441437363624573, 0.5436442494392395, 0.5431650638580322, 0.5426905274391174, 0.5422138452529908, 0.5417460918426513, 0.5412224173545838, 0.540637731552124, 0.540053915977478, 0.5395313501358032, 0.5390405774116516, 0.5385676741600036, 0.5380938053131104, 0.5376250982284546, 0.537157166004181, 0.5366905212402344, 0.5362212896347046, 0.5357300043106079, 0.5352770209312439, 0.5348635911941528, 0.5344258785247803, 0.5340001106262207, 0.5336084008216858, 0.5332195520401001, 0.5328305840492249, 0.532445204257965, 0.5320725679397583, 0.5317123651504516, 0.5313608407974243, 0.531016719341278, 0.5306802749633789, 0.5303486227989197, 0.530026912689209, 0.5297110438346863, 0.5294037699699402, 0.5290913343429565, 0.5287943482398987, 0.5285333514213562, 0.5282740831375122, 0.5279758691787719, 0.5277085900306702, 0.5274471759796142, 0.5271907329559327, 0.5269373536109925, 0.5266981720924377, 0.5264624953269958, 0.5262286901473999, 0.5260015249252319, 0.5257756590843201, 0.5255567550659179, 0.5253290414810181, 0.5251283168792724, 0.525039267539978, 0.5247359871864319, 0.5245068430900574, 0.5242905259132385, 0.5240737915039062, 0.5238670349121094, 0.5236714482307434, 0.5234705448150635, 0.5232897877693177, 0.5230906367301941, 0.5229078531265259, 0.522727119922638, 0.5225391626358032, 0.522352421283722, 0.522193968296051, 0.5221016526222229, 0.5218697190284729, 0.5217031240463257, 0.5215304613113403, 0.5213623642921448, 0.5212109327316284, 0.5210546135902405, 0.5209218502044678, 0.52073894739151, 0.5205963492393494, 0.5206674337387085, 0.5203956961631775, 0.5202143073081971, 0.5200412154197693, 0.5198497176170349, 0.5196241855621337, 0.5194184184074402, 0.5192283511161804, 0.51905517578125, 0.5188836574554443, 0.51872878074646, 0.5185810446739196, 0.5184365272521972, 0.5182894825935364, 0.5181469440460205, 0.5180182218551636, 0.5182725071907044, 0.5183527588844299, 0.5179540276527405, 0.5176108360290528, 0.5173276782035827, 0.5171004295349121, 0.5169102311134338, 0.5166762232780456, 0.516482925415039, 0.5162652850151062, 0.5160618782043457, 0.5158757925033569, 0.5156724095344544, 0.5154876232147216, 0.5152837991714477, 0.5150933027267456, 0.5148916125297547, 0.514696991443634, 0.5145011901855469, 0.5143489241600037, 0.5141316652297974, 0.5139151096343995, 0.5138036489486695, 0.513547396659851, 0.5133367657661438, 0.5132433533668518, 0.5129203915596008, 0.5128381490707398, 0.5125840902328491, 0.512349009513855, 0.5121627807617187, 0.511905062198639, 0.5117054939270019, 0.5114953279495239, 0.5115084052085876, 0.5112950444221497, 0.5109971642494202, 0.510686194896698, 0.5104692101478576, 0.5102194786071778, 0.5101562380790711, 0.5102080225944519, 0.5097548246383667, 0.509399127960205, 0.5091498613357544, 0.5089344382286072, 0.5086342573165894, 0.5084905028343201, 0.5081127762794495, 0.5080384850502014, 0.5076966404914856, 0.5073909044265748, 0.5073043227195739, 0.5068011403083801, 0.5065499901771545, 0.5064870357513428, 0.5059774279594421, 0.5057893991470337, 0.5057597398757935, 0.5051384449005127, 0.5051127433776855, 0.5045854210853576, 0.5044623017311096, 0.5042503356933594, 0.503762423992157, 0.503727376461029, 0.5031744122505188, 0.5030220031738282, 0.502926504611969, 0.5023671150207519, 0.5022162914276123, 0.5020689606666565, 0.5015569448471069, 0.501514220237732], 'accuracy': [0.37692064, 0.4156889, 0.5097587, 0.55457145, 0.6217524, 0.6214857, 0.5417968, 0.67193013, 0.66333336, 0.67651427, 0.66485715, 0.68688256, 0.6882667, 0.6885333, 0.6910095, 0.69053966, 0.6927238, 0.689327, 0.69048256, 0.6901778, 0.692546, 0.6942857, 0.6965587, 0.69665396, 0.69732064, 0.698673, 0.6993524, 0.69961905, 0.6997841, 0.700127, 0.7005714, 0.70118093, 0.70172065, 0.7024762, 0.7029143, 0.7041905, 0.70476824, 0.7052444, 0.7056127, 0.7065143, 0.70751745, 0.70795554, 0.708419, 0.7087873, 0.7091175, 0.7092381, 0.7099365, 0.7109333, 0.71154284, 0.7122857, 0.7143937, 0.71530795, 0.7163175, 0.7167365, 0.71747303, 0.7182159, 0.71896505, 0.7194222, 0.7197397, 0.7203556, 0.72088253, 0.7215365, 0.7222476, 0.72323173, 0.7234794, 0.7239746, 0.72440636, 0.7250095, 0.72569525, 0.72659683, 0.7272508, 0.72784126, 0.72803175, 0.7283238, 0.7286349, 0.729073, 0.72931427, 0.7296254, 0.7301143, 0.7306857, 0.7313524, 0.73190475, 0.73227304, 0.7323809, 0.7326286, 0.73273015, 0.7330476, 0.7332762, 0.7336444, 0.73400635, 0.7347302, 0.7347175, 0.7347238, 0.7347175, 0.73549205, 0.73572063, 0.7356381, 0.7360635, 0.73627937, 0.7363492, 0.7366921, 0.737073, 0.7375238, 0.73779047, 0.738273, 0.7387683, 0.7391619, 0.73930156, 0.7394603, 0.7396762, 0.7398159, 0.74016505, 0.74041903, 0.7406857, 0.740927, 0.74093336, 0.7410667, 0.7411302, 0.7412508, 0.7410794, 0.74116826, 0.74144125, 0.7415238, 0.7414603, 0.7415111, 0.7416381, 0.7415365, 0.741727, 0.7418984, 0.74198097, 0.74209523, 0.7422095, 0.7423428, 0.74252063, 0.7425651, 0.7423428, 0.7425905, 0.74267936, 0.74266034, 0.7427937, 0.74289525, 0.74310476, 0.74326986, 0.7434286, 0.7436, 0.7437841, 0.7440889, 0.74413335, 0.7444825, 0.7447048, 0.74481905, 0.7451238, 0.7453206, 0.7455302, 0.7457714, 0.74591744, 0.74605715, 0.74626666, 0.74626034, 0.7462159, 0.7461841, 0.74654603, 0.74686986, 0.74692065, 0.7469968, 0.7470476, 0.74733335, 0.7474413, 0.7475365, 0.7474984, 0.7477397, 0.74772066, 0.7476635, 0.74775237, 0.74777776, 0.74780315, 0.7471619, 0.74678093, 0.74719363, 0.747473, 0.74775237, 0.74759364, 0.74776506, 0.74822223, 0.74813336, 0.74824125, 0.7483619, 0.74861586, 0.7485524, 0.7487873, 0.7489143, 0.7489143, 0.7490984, 0.74906665, 0.74905396, 0.74925715, 0.74944764, 0.7494159, 0.74949205, 0.749581, 0.7493778, 0.7496381, 0.7494159, 0.7497841, 0.74968255, 0.74968886, 0.7499809, 0.7498159, 0.74986035, 0.7500191, 0.7502095, 0.75033015, 0.75013334, 0.7502349, 0.750254, 0.7504762, 0.75053334, 0.7508762, 0.7508254, 0.7510159, 0.7513397, 0.75137776, 0.75134605, 0.751473, 0.75158095, 0.7521778, 0.7519746, 0.7521651, 0.7528889, 0.75260955, 0.7531746, 0.7536889, 0.7538413, 0.7541016, 0.75448257, 0.75490797, 0.75502855, 0.7554984, 0.7557905, 0.75584126, 0.7564127, 0.7563365, 0.7571746, 0.7569524, 0.7567619, 0.75766987, 0.75749207, 0.75774604, 0.7583111, 0.7578794]}\n"
     ]
    },
    {
     "name": "stdout",
     "output_type": "stream",
     "text": [
      "f1 Test Score:  0.6834670947030498\n",
      "Model: \"sequential_5\"\n",
      "_________________________________________________________________\n",
      "Layer (type)                 Output Shape              Param #   \n",
      "=================================================================\n",
      "dense_13 (Dense)             (None, 50)                550       \n",
      "_________________________________________________________________\n",
      "dense_14 (Dense)             (None, 32)                1632      \n",
      "_________________________________________________________________\n",
      "dense_15 (Dense)             (None, 2)                 66        \n",
      "=================================================================\n",
      "Total params: 2,248\n",
      "Trainable params: 2,248\n",
      "Non-trainable params: 0\n",
      "_________________________________________________________________\n",
      "None\n",
      "Restoring model weights from the end of the best epoch\n",
      "Epoch 00182: early stopping\n",
      "{'val_loss': [4.222135066986084, 1.8209881782531738, 1.1214498281478882, 0.9653484225273132, 0.8206468820571899, 0.8151196241378784, 0.7407863140106201, 0.7031225562095642, 0.6798639297485352, 0.6426764726638794, 0.6223025918006897, 0.6003140211105347, 0.594042956829071, 0.5897596478462219, 0.5858913064002991, 0.5830556750297546, 0.5803871154785156, 0.5799307823181152, 0.5792272090911865, 0.5781906247138977, 0.5770972967147827, 0.5754713416099548, 0.5745468139648438, 0.573712944984436, 0.5728909373283386, 0.5717909932136536, 0.5704895257949829, 0.569202721118927, 0.5679700970649719, 0.5670068860054016, 0.5656888484954834, 0.564167857170105, 0.5633912086486816, 0.5625466704368591, 0.5605453252792358, 0.5595757961273193, 0.5581389665603638, 0.5569176077842712, 0.5558527708053589, 0.554816484451294, 0.5540492534637451, 0.5528891682624817, 0.551858127117157, 0.5511461496353149, 0.5502460598945618, 0.549339771270752, 0.5484857559204102, 0.5477042198181152, 0.5469713807106018, 0.5462808609008789, 0.5455881953239441, 0.5448240041732788, 0.5442076325416565, 0.5435442328453064, 0.5429221987724304, 0.5424143075942993, 0.5418224334716797, 0.5412798523902893, 0.5407339334487915, 0.5403497815132141, 0.5399150252342224, 0.5394781231880188, 0.5390360951423645, 0.5386204123497009, 0.5382106304168701, 0.5379049181938171, 0.5374642610549927, 0.537091076374054, 0.5367762446403503, 0.5364304780960083, 0.5361371040344238, 0.5357751250267029, 0.5354974269866943, 0.5352938175201416, 0.5348285436630249, 0.5345075130462646, 0.5345062017440796, 0.5342721939086914, 0.5341305732727051, 0.5338252782821655, 0.5335049033164978, 0.5332996249198914, 0.5330330729484558, 0.5328989028930664, 0.5326917767524719, 0.5325168967247009, 0.532422661781311, 0.532233476638794, 0.5320210456848145, 0.5318189859390259, 0.5315285325050354, 0.5315136313438416, 0.5312235355377197, 0.5308401584625244, 0.5306836366653442, 0.530616044998169, 0.5304684042930603, 0.5302332043647766, 0.5302785634994507, 0.5300812721252441, 0.5299022197723389, 0.5297293663024902, 0.5296476483345032, 0.5293928980827332, 0.5291292667388916, 0.5291013121604919, 0.5290727615356445, 0.5289294719696045, 0.5288501977920532, 0.5286394953727722, 0.528752326965332, 0.5285701155662537, 0.5285679697990417, 0.5283382534980774, 0.528192937374115, 0.5280238389968872, 0.5278541445732117, 0.5278988480567932, 0.5276671051979065, 0.5275081396102905, 0.5275099873542786, 0.5275205373764038, 0.5274636745452881, 0.5274218320846558, 0.5273650884628296, 0.5272030830383301, 0.5271862149238586, 0.5270974636077881, 0.5268181562423706, 0.5267228484153748, 0.5268926620483398, 0.5269577503204346, 0.5266680717468262, 0.5264294147491455, 0.5263463258743286, 0.5264458060264587, 0.5264208912849426, 0.5263718962669373, 0.5262664556503296, 0.5262739062309265, 0.5262603759765625, 0.5262848734855652, 0.52643883228302, 0.5265496969223022, 0.5260920524597168, 0.5258651375770569, 0.5258845686912537, 0.5260298848152161, 0.5255809426307678, 0.525550127029419, 0.5255764722824097, 0.5254470109939575, 0.5252841114997864, 0.5253399014472961, 0.5252758860588074, 0.525097668170929, 0.5250232219696045, 0.5250800848007202, 0.5248392224311829, 0.5247498750686646, 0.5245843529701233, 0.5245670080184937, 0.524558424949646, 0.5243229269981384, 0.5243021845817566, 0.5244220495223999, 0.5243250727653503, 0.5241110920906067, 0.5241637229919434, 0.5240576267242432, 0.5240129828453064, 0.5238823294639587, 0.5238857269287109, 0.5238421559333801, 0.5236704349517822, 0.523579478263855, 0.5235742330551147, 0.5238972306251526, 0.5235912203788757, 0.5237749218940735, 0.5237729549407959, 0.5239514708518982], 'val_accuracy': [0.6182857155799866, 0.6182857155799866, 0.5428571701049805, 0.4925714433193207, 0.6537142992019653, 0.6539999842643738, 0.6425714492797852, 0.6691428422927856, 0.6631428599357605, 0.6665714383125305, 0.6748571395874023, 0.6731428503990173, 0.675428569316864, 0.6814285516738892, 0.6848571300506592, 0.6851428747177124, 0.6851428747177124, 0.6868571639060974, 0.6877142786979675, 0.6899999976158142, 0.6922857165336609, 0.6954285502433777, 0.694857120513916, 0.693142831325531, 0.6977142691612244, 0.7005714178085327, 0.7045714259147644, 0.7068571448326111, 0.7097142934799194, 0.7105714082717896, 0.7145714163780212, 0.7142857313156128, 0.7157142758369446, 0.7157142758369446, 0.7165714502334595, 0.7217142581939697, 0.7234285473823547, 0.7234285473823547, 0.7251428365707397, 0.7251428365707397, 0.725428581237793, 0.725428581237793, 0.727142870426178, 0.727142870426178, 0.7279999852180481, 0.7282857298851013, 0.728857159614563, 0.7277143001556396, 0.7274285554885864, 0.7274285554885864, 0.7282857298851013, 0.7282857298851013, 0.7291428446769714, 0.7279999852180481, 0.7294285893440247, 0.7302857041358948, 0.7314285635948181, 0.7317143082618713, 0.7311428785324097, 0.732285737991333, 0.7319999933242798, 0.7317143082618713, 0.7314285635948181, 0.7319999933242798, 0.7331428527832031, 0.734000027179718, 0.7345714569091797, 0.7351428866386414, 0.7360000014305115, 0.7354285717010498, 0.7365714311599731, 0.7377142906188965, 0.7362856864929199, 0.7368571162223816, 0.7371428608894348, 0.7360000014305115, 0.7354285717010498, 0.7342857122421265, 0.7334285974502563, 0.734000027179718, 0.7331428527832031, 0.7331428527832031, 0.734000027179718, 0.7337142825126648, 0.7334285974502563, 0.7331428527832031, 0.7348571419715881, 0.7345714569091797, 0.7342857122421265, 0.7345714569091797, 0.7360000014305115, 0.7365714311599731, 0.7368571162223816, 0.7382857203483582, 0.7385714054107666, 0.7391428351402283, 0.7400000095367432, 0.7397142648696899, 0.7391428351402283, 0.7382857203483582, 0.7388571500778198, 0.7397142648696899, 0.7402856945991516, 0.7405714392662048, 0.7411428689956665, 0.7411428689956665, 0.7419999837875366, 0.741428554058075, 0.7422857284545898, 0.741428554058075, 0.7402856945991516, 0.7408571243286133, 0.7400000095367432, 0.7402856945991516, 0.7408571243286133, 0.7405714392662048, 0.7411428689956665, 0.7402856945991516, 0.7408571243286133, 0.7405714392662048, 0.7405714392662048, 0.7408571243286133, 0.7411428689956665, 0.7411428689956665, 0.7405714392662048, 0.7411428689956665, 0.741428554058075, 0.7411428689956665, 0.7402856945991516, 0.7402856945991516, 0.7419999837875366, 0.7417142987251282, 0.7417142987251282, 0.7417142987251282, 0.7425714135169983, 0.7422857284545898, 0.7428571581840515, 0.7437142729759216, 0.7434285879135132, 0.7440000176429749, 0.7437142729759216, 0.7437142729759216, 0.74314284324646, 0.74314284324646, 0.7428571581840515, 0.7419999837875366, 0.7405714392662048, 0.7417142987251282, 0.7425714135169983, 0.7417142987251282, 0.7417142987251282, 0.7422857284545898, 0.7419999837875366, 0.7422857284545898, 0.7437142729759216, 0.7442857027053833, 0.7440000176429749, 0.7445714473724365, 0.7434285879135132, 0.7422857284545898, 0.74314284324646, 0.7437142729759216, 0.7440000176429749, 0.7434285879135132, 0.7440000176429749, 0.7434285879135132, 0.7428571581840515, 0.7442857027053833, 0.74314284324646, 0.7428571581840515, 0.7442857027053833, 0.7428571581840515, 0.74314284324646, 0.74314284324646, 0.7440000176429749, 0.7428571581840515, 0.7422857284545898, 0.7419999837875366, 0.7428571581840515, 0.7437142729759216, 0.7434285879135132, 0.7419999837875366], 'loss': [6.119571304321289, 3.2255056858062745, 1.3609587669372558, 1.2407151699066161, 0.822096073627472, 0.8543727278709412, 0.7417389988899231, 0.7391319274902344, 0.6759414672851562, 0.6649054169654847, 0.6309521198272705, 0.618573009967804, 0.6008084177970886, 0.5924293756484985, 0.5891347885131836, 0.5843866109848023, 0.5807057857513428, 0.5784273743629456, 0.5765764832496643, 0.5747109532356263, 0.5730470657348633, 0.5715499758720398, 0.5701823592185974, 0.5688488960266114, 0.5675415396690369, 0.566263735294342, 0.5649674296379089, 0.5635811924934387, 0.5621024370193481, 0.5607420206069946, 0.559243667125702, 0.5579244256019592, 0.5566753268241882, 0.5555311441421509, 0.5539493322372436, 0.5524649381637573, 0.5511138558387756, 0.5498565673828125, 0.5486020445823669, 0.5473894119262696, 0.5462565779685974, 0.545143985748291, 0.5440674066543579, 0.5430136442184448, 0.541981291770935, 0.5409709334373474, 0.5399781465530396, 0.5389973163604737, 0.538035774230957, 0.5370769143104553, 0.5361399531364441, 0.5352302193641663, 0.534354293346405, 0.5335489749908447, 0.5327732563018799, 0.5320182323455811, 0.5313028454780578, 0.5306272864341736, 0.5299808382987976, 0.5293686628341675, 0.5287857055664062, 0.5282275438308716, 0.5276924848556519, 0.5271637439727783, 0.5266348600387574, 0.5261171340942383, 0.5256116628646851, 0.5251171946525574, 0.5246457695960999, 0.5242050051689148, 0.5237942337989807, 0.5234070539474487, 0.5230429530143738, 0.5226980447769165, 0.5223626613616943, 0.5220229506492615, 0.5217175364494324, 0.521426796913147, 0.5211398720741272, 0.5208656668663025, 0.5206033825874329, 0.5203470110893249, 0.520100474357605, 0.5198614120483398, 0.5196304440498352, 0.5194070100784302, 0.5191868424415589, 0.5189720988273621, 0.5187617659568786, 0.5185577392578125, 0.5183578252792358, 0.518161392211914, 0.5179656505584717, 0.5177747368812561, 0.5175868391990661, 0.517405116558075, 0.5172282218933105, 0.5170622110366822, 0.5168869137763977, 0.5167153120040894, 0.5165469408035278, 0.5163833975791932, 0.5162226319313049, 0.5160521745681763, 0.5158820748329163, 0.5157269954681396, 0.5155662775039673, 0.515402889251709, 0.5152435421943664, 0.5150798201560974, 0.5149247527122498, 0.5147671699523926, 0.5146116614341736, 0.514462161064148, 0.5143102645874024, 0.5141630649566651, 0.5140154480934143, 0.5138683557510376, 0.5137179017066955, 0.5135703325271607, 0.5134232997894287, 0.513279938697815, 0.5131386876106262, 0.5129917740821839, 0.5128494501113892, 0.5127096772193909, 0.512567663192749, 0.512432336807251, 0.512285304069519, 0.5121744036674499, 0.5120418548583985, 0.5119059205055236, 0.51176518201828, 0.5116243839263916, 0.5114960432052612, 0.5113597631454467, 0.5112277746200562, 0.5110996723175049, 0.5109672784805298, 0.5108360648155212, 0.5107022643089294, 0.5105731844902038, 0.510431969165802, 0.5103362917900085, 0.5101998805999756, 0.5100620865821839, 0.5099303245544433, 0.5098190546035767, 0.5096728801727295, 0.5095342636108399, 0.5094015955924988, 0.5092819690704345, 0.5091654539108277, 0.5090392827987671, 0.5089042067527771, 0.5087769746780395, 0.5086559772491455, 0.5085341095924377, 0.5084065556526184, 0.5083366394042969, 0.5082332730293274, 0.5081176161766052, 0.5079586029052734, 0.5078873872756958, 0.5077742457389831, 0.5076383352279663, 0.5075186491012573, 0.5074097394943238, 0.5073112726211548, 0.5072192788124085, 0.5071226596832276, 0.5070235133171082, 0.5069237589836121, 0.5068324208259583, 0.5067361354827881, 0.5066447377204895, 0.5065471410751343, 0.506497573852539, 0.5064128041267395, 0.5063481450080871, 0.5062642335891724, 0.5061978459358215], 'accuracy': [0.61991745, 0.59744126, 0.6166603, 0.49706033, 0.60841906, 0.638927, 0.65107304, 0.6042984, 0.66323173, 0.6639302, 0.67061585, 0.6756508, 0.6768571, 0.68017775, 0.68478096, 0.68986034, 0.6914222, 0.69289523, 0.6961333, 0.6977841, 0.70033014, 0.7031429, 0.7054222, 0.7081905, 0.7100635, 0.71166986, 0.7127175, 0.7142286, 0.71655875, 0.7182095, 0.7196254, 0.7192889, 0.7207619, 0.7211365, 0.7219238, 0.7230413, 0.72359365, 0.72485715, 0.7256, 0.7266794, 0.7270984, 0.72826666, 0.7290159, 0.72976506, 0.72973967, 0.7306476, 0.7311302, 0.7318984, 0.7328063, 0.73358095, 0.7342984, 0.7351683, 0.73573333, 0.7359619, 0.7362413, 0.7367873, 0.73732066, 0.7378603, 0.73849523, 0.73906666, 0.7399746, 0.74030477, 0.7404381, 0.74078095, 0.74120635, 0.7413778, 0.74184763, 0.7421206, 0.7423365, 0.74270475, 0.743073, 0.74325716, 0.74325716, 0.7432635, 0.74373966, 0.743854, 0.74399364, 0.7440444, 0.74417144, 0.7443048, 0.74457777, 0.7449524, 0.74502224, 0.74503493, 0.74526983, 0.74547935, 0.7455429, 0.74542856, 0.7455302, 0.7459111, 0.74630475, 0.7463937, 0.7466032, 0.7466349, 0.74667937, 0.7468, 0.74693334, 0.7470667, 0.747073, 0.7473143, 0.7473968, 0.7474159, 0.7474286, 0.74734604, 0.7473968, 0.7475238, 0.7476127, 0.7478222, 0.7479746, 0.7482476, 0.748273, 0.7483048, 0.7486857, 0.7486603, 0.7487556, 0.7489714, 0.7491111, 0.74929523, 0.74910474, 0.74929523, 0.74944127, 0.7494222, 0.7494159, 0.7493397, 0.7494159, 0.7495238, 0.74972063, 0.74987936, 0.7498476, 0.74967617, 0.74988574, 0.7499365, 0.7499936, 0.7499238, 0.7502095, 0.7502222, 0.75029206, 0.75038093, 0.7503492, 0.75027937, 0.75034285, 0.75029844, 0.75032383, 0.75046986, 0.7504, 0.7507619, 0.75051427, 0.7505968, 0.750927, 0.7508444, 0.7510984, 0.7510159, 0.7512, 0.7511238, 0.75115556, 0.75120634, 0.75118095, 0.7508762, 0.750673, 0.7506603, 0.75097775, 0.7510222, 0.7512, 0.75111747, 0.75132066, 0.75144124, 0.75139046, 0.75132066, 0.75141585, 0.751454, 0.7514349, 0.75139683, 0.7515048, 0.75156826, 0.7515492, 0.7515492, 0.7516508, 0.7515492, 0.75164443, 0.7515365, 0.7515302, 0.7514984]}\n"
     ]
    },
    {
     "name": "stdout",
     "output_type": "stream",
     "text": [
      "f1 Test Score:  0.6732673267326733\n",
      "Model: \"sequential_6\"\n",
      "_________________________________________________________________\n",
      "Layer (type)                 Output Shape              Param #   \n",
      "=================================================================\n",
      "dense_16 (Dense)             (None, 50)                550       \n",
      "_________________________________________________________________\n",
      "dense_17 (Dense)             (None, 50)                2550      \n",
      "_________________________________________________________________\n",
      "dense_18 (Dense)             (None, 32)                1632      \n",
      "_________________________________________________________________\n",
      "dense_19 (Dense)             (None, 2)                 66        \n",
      "=================================================================\n",
      "Total params: 4,798\n",
      "Trainable params: 4,798\n",
      "Non-trainable params: 0\n",
      "_________________________________________________________________\n",
      "None\n",
      "Restoring model weights from the end of the best epoch\n",
      "Epoch 00157: early stopping\n",
      "{'val_loss': [1.089558482170105, 0.8957498669624329, 0.7864908576011658, 0.7121832966804504, 0.657961368560791, 0.6352345943450928, 0.6192454099655151, 0.6091161370277405, 0.5977070927619934, 0.5937586426734924, 0.5882281064987183, 0.584026038646698, 0.5811988115310669, 0.5787460803985596, 0.5766054391860962, 0.5735525488853455, 0.5720095634460449, 0.5699313879013062, 0.5671762824058533, 0.5645216703414917, 0.5617551803588867, 0.5592802166938782, 0.5568209886550903, 0.5550740361213684, 0.552872359752655, 0.5511061549186707, 0.5495309233665466, 0.5482564568519592, 0.5466746091842651, 0.5455575585365295, 0.5447421669960022, 0.5442092418670654, 0.5447205305099487, 0.5430313348770142, 0.5431545972824097, 0.5415384769439697, 0.5410279035568237, 0.5403903722763062, 0.5399503111839294, 0.5385452508926392, 0.5377430319786072, 0.5367299914360046, 0.5361769795417786, 0.5348688960075378, 0.5342764854431152, 0.5336249470710754, 0.5324267745018005, 0.5320509076118469, 0.5312665104866028, 0.5307668447494507, 0.5294904708862305, 0.5282929539680481, 0.5275562405586243, 0.526697039604187, 0.5259703397750854, 0.5250886082649231, 0.524506688117981, 0.5242449641227722, 0.5232129096984863, 0.5224881768226624, 0.521954357624054, 0.521647572517395, 0.5214253067970276, 0.5210996866226196, 0.5201982259750366, 0.5196129679679871, 0.5189894437789917, 0.5187693238258362, 0.519517183303833, 0.5176637768745422, 0.5177348256111145, 0.5180938243865967, 0.517367422580719, 0.5162354707717896, 0.5155472755432129, 0.5153160095214844, 0.5149893760681152, 0.5147349834442139, 0.5142582058906555, 0.5145153999328613, 0.5134515762329102, 0.5131453275680542, 0.5128920078277588, 0.5133710503578186, 0.5169602632522583, 0.5154635906219482, 0.5125678181648254, 0.5114896893501282, 0.5110982656478882, 0.511128842830658, 0.5110113024711609, 0.5107136368751526, 0.5104028582572937, 0.5100724101066589, 0.5099126100540161, 0.509787917137146, 0.509409487247467, 0.5090410709381104, 0.5091676115989685, 0.5087502002716064, 0.5086421370506287, 0.5092927813529968, 0.5124903917312622, 0.5110364556312561, 0.5079684257507324, 0.5082381367683411, 0.5090411305427551, 0.5081481337547302, 0.507006049156189, 0.5077461004257202, 0.5083016753196716, 0.5070472955703735, 0.5065726041793823, 0.5064435601234436, 0.5066459774971008, 0.5063571333885193, 0.5086760520935059, 0.5063522458076477, 0.5055170655250549, 0.5074716210365295, 0.505524754524231, 0.505096971988678, 0.5065338015556335, 0.5054520964622498, 0.5050709247589111, 0.5049819946289062, 0.505200207233429, 0.5082548260688782, 0.5042310953140259, 0.5046630501747131, 0.5053545832633972, 0.5040749311447144, 0.5040919184684753, 0.5050371885299683, 0.5036796927452087, 0.5035082697868347, 0.503372073173523, 0.5034157633781433, 0.5100258588790894, 0.5031486749649048, 0.5055418610572815, 0.5036006569862366, 0.5028985142707825, 0.5040566921234131, 0.5031132698059082, 0.5026137232780457, 0.5022624731063843, 0.5029205679893494, 0.5023571848869324, 0.5022749304771423, 0.5022222995758057, 0.5019278526306152, 0.506496250629425, 0.5034400820732117, 0.5033907294273376, 0.5022667646408081, 0.5047407150268555], 'val_accuracy': [0.521142840385437, 0.6274285912513733, 0.5377143025398254, 0.6208571195602417, 0.5902857184410095, 0.6348571181297302, 0.6734285950660706, 0.6539999842643738, 0.6762857437133789, 0.6782857179641724, 0.6785714030265808, 0.6851428747177124, 0.691428542137146, 0.696571409702301, 0.6985714435577393, 0.7002857327461243, 0.7031428813934326, 0.7074285745620728, 0.7091428637504578, 0.7108571529388428, 0.7145714163780212, 0.7165714502334595, 0.7179999947547913, 0.7194285988807678, 0.7208571434020996, 0.7231428623199463, 0.7257142663002014, 0.7285714149475098, 0.7302857041358948, 0.7300000190734863, 0.730571448802948, 0.7325714230537415, 0.7279999852180481, 0.7328571677207947, 0.734000027179718, 0.732285737991333, 0.7314285635948181, 0.7345714569091797, 0.7357142567634583, 0.7342857122421265, 0.7348571419715881, 0.7342857122421265, 0.7360000014305115, 0.7379999756813049, 0.7397142648696899, 0.7379999756813049, 0.7377142906188965, 0.7382857203483582, 0.7377142906188965, 0.7385714054107666, 0.7402856945991516, 0.7417142987251282, 0.7411428689956665, 0.7402856945991516, 0.7437142729759216, 0.7428571581840515, 0.741428554058075, 0.7417142987251282, 0.7425714135169983, 0.7425714135169983, 0.7419999837875366, 0.7419999837875366, 0.7417142987251282, 0.7400000095367432, 0.7422857284545898, 0.7451428771018982, 0.7468571662902832, 0.7425714135169983, 0.7451428771018982, 0.7468571662902832, 0.7437142729759216, 0.7411428689956665, 0.7422857284545898, 0.7471428513526917, 0.75, 0.75, 0.7474285960197449, 0.7468571662902832, 0.7505714297294617, 0.7457143068313599, 0.751714289188385, 0.7505714297294617, 0.7491428852081299, 0.7497143149375916, 0.7468571662902832, 0.7454285621643066, 0.7514285445213318, 0.75342857837677, 0.7554285526275635, 0.7554285526275635, 0.7540000081062317, 0.7557142972946167, 0.7557142972946167, 0.7548571228981018, 0.7537142634391785, 0.7537142634391785, 0.7542856931686401, 0.755142867565155, 0.755142867565155, 0.75685715675354, 0.7545714378356934, 0.7548571228981018, 0.7480000257492065, 0.7508571147918701, 0.75685715675354, 0.7574285864830017, 0.7562857270240784, 0.7565714120864868, 0.7577142715454102, 0.7577142715454102, 0.7565714120864868, 0.7571428418159485, 0.7577142715454102, 0.758571445941925, 0.7571428418159485, 0.758571445941925, 0.7548571228981018, 0.7571428418159485, 0.7591428756713867, 0.7565714120864868, 0.7588571310043335, 0.7594285607337952, 0.7557142972946167, 0.7594285607337952, 0.7548571228981018, 0.7548571228981018, 0.758571445941925, 0.7545714378356934, 0.7591428756713867, 0.7588571310043335, 0.7562857270240784, 0.7565714120864868, 0.7594285607337952, 0.755142867565155, 0.7602857351303101, 0.75685715675354, 0.7574285864830017, 0.7599999904632568, 0.7531428337097168, 0.7580000162124634, 0.7580000162124634, 0.7620000243186951, 0.7574285864830017, 0.75685715675354, 0.758571445941925, 0.7599999904632568, 0.7599999904632568, 0.7591428756713867, 0.7594285607337952, 0.758571445941925, 0.758571445941925, 0.7620000243186951, 0.7554285526275635, 0.7594285607337952, 0.7574285864830017, 0.7602857351303101, 0.7571428418159485], 'loss': [1.6227642059326173, 0.9570769429206848, 0.8136101961135864, 0.7278499841690064, 0.6794962048530578, 0.6409077763557434, 0.6188594818115234, 0.6054007768630981, 0.5964310765266418, 0.5902215600013733, 0.5850998163223267, 0.5807845115661621, 0.577397882938385, 0.5740444898605347, 0.5714077234268189, 0.5688165664672852, 0.5662193417549133, 0.5636614680290222, 0.5609119772911072, 0.558024549484253, 0.5549089908599854, 0.5520138740539551, 0.549440324306488, 0.547037136554718, 0.5447119951248169, 0.5424561142921448, 0.5403213620185852, 0.5382534027099609, 0.536398196220398, 0.5348082423210144, 0.5334910154342651, 0.5323530435562134, 0.5322345852851867, 0.5312080144882202, 0.530089271068573, 0.5293568968772888, 0.5285046458244324, 0.5277861833572388, 0.5269895315170288, 0.5260577917098999, 0.524778401851654, 0.5237325191497803, 0.5226499557495117, 0.5215540170669556, 0.5204833388328552, 0.5194158554077148, 0.5182263016700744, 0.5167085886001587, 0.5150393962860107, 0.5146214485168457, 0.5131434082984925, 0.511779499053955, 0.5105857968330383, 0.5094314813613892, 0.5083734154701233, 0.5073691725730896, 0.5063270211219788, 0.505571973323822, 0.5060826778411865, 0.5043592929840088, 0.5033704161643981, 0.5024935722351074, 0.5017098903656005, 0.5009765386581421, 0.5003535330295563, 0.49975202679634095, 0.499073725938797, 0.49847949743270875, 0.4985819339752197, 0.4986752152442932, 0.4977042615413666, 0.49680185317993164, 0.49623973965644835, 0.4958419442176819, 0.4953387439250946, 0.49463033080101015, 0.49435678124427795, 0.4936773478984833, 0.49350745677948, 0.49332243800163267, 0.4927533507347107, 0.49210235476493835, 0.49166752099990846, 0.49154981374740603, 0.49536686539649966, 0.49320501685142515, 0.4920803189277649, 0.4909036457538605, 0.4902230203151703, 0.4897115647792816, 0.48933345079421997, 0.4889666736125946, 0.48864272236824036, 0.48833736777305603, 0.48805644512176516, 0.48776775598526, 0.48750707507133484, 0.4872404098510742, 0.48702065348625184, 0.48678110241889955, 0.486539888381958, 0.48661489486694337, 0.4888372004032135, 0.4869660556316376, 0.487361341714859, 0.4867503046989441, 0.48586872816085813, 0.4855764627456665, 0.4854873061180115, 0.4851090431213379, 0.4845263183116913, 0.48443804383277894, 0.4840929448604584, 0.4838411271572113, 0.48349782824516296, 0.4835006058216095, 0.48399474620819094, 0.48471413254737855, 0.48299846053123474, 0.48315123915672303, 0.4835589945316315, 0.4823190748691559, 0.4823455810546875, 0.4829255938529968, 0.48232902884483336, 0.481493616104126, 0.48171310424804686, 0.4831444561481476, 0.4826921820640564, 0.4811312198638916, 0.48207629323005674, 0.48092110753059386, 0.48069401979446413, 0.4811453342437744, 0.48078871369361875, 0.48014395833015444, 0.47986410856246947, 0.47989898920059204, 0.4816460132598877, 0.48413594365119933, 0.4811739921569824, 0.48059043288230896, 0.4806199252605438, 0.47953195571899415, 0.479167640209198, 0.4790616810321808, 0.4786426484584808, 0.4787022352218628, 0.47848169803619384, 0.4781946182250977, 0.47805687189102175, 0.47804884910583495, 0.4790185451507568, 0.48266518115997314, 0.4786651313304901, 0.4804884195327759, 0.4781902372837067], 'accuracy': [0.529873, 0.57280636, 0.5729333, 0.5755111, 0.61735237, 0.62441903, 0.6539556, 0.67501587, 0.6811492, 0.6868063, 0.6899809, 0.69539684, 0.70110476, 0.70511746, 0.7068127, 0.70935875, 0.7118032, 0.71483177, 0.7179682, 0.7218159, 0.7254286, 0.7272698, 0.7291873, 0.7304254, 0.7316127, 0.73293334, 0.7347111, 0.7361524, 0.73692065, 0.73775876, 0.73822856, 0.7390159, 0.7381778, 0.73839366, 0.7392635, 0.7398222, 0.7405016, 0.740654, 0.74137145, 0.741873, 0.74200636, 0.74268574, 0.7425651, 0.7429651, 0.74373335, 0.74416506, 0.7447492, 0.74549204, 0.7463492, 0.7466032, 0.7480254, 0.7483238, 0.7493651, 0.7502603, 0.75086987, 0.7510857, 0.75238097, 0.75267935, 0.75415874, 0.7546476, 0.7552952, 0.75580955, 0.75627303, 0.7570286, 0.7575492, 0.7584762, 0.75919366, 0.7595873, 0.7596889, 0.76003176, 0.7608318, 0.7612381, 0.7614159, 0.76156825, 0.7618349, 0.7623429, 0.76278096, 0.76265395, 0.76321906, 0.7637778, 0.7640254, 0.7638159, 0.7640064, 0.76445717, 0.76177776, 0.76303494, 0.7639937, 0.7652762, 0.7654921, 0.76584125, 0.76595557, 0.76640636, 0.76664126, 0.7667492, 0.766927, 0.7673587, 0.767346, 0.7676191, 0.7676064, 0.7675238, 0.76790476, 0.7675619, 0.7659619, 0.7670032, 0.76671743, 0.7671683, 0.76789206, 0.7682032, 0.7682857, 0.76858413, 0.7687365, 0.7685143, 0.7686667, 0.7691365, 0.7690222, 0.76892066, 0.76937145, 0.76850796, 0.76942855, 0.7697524, 0.76915556, 0.76956826, 0.769873, 0.76946664, 0.77026665, 0.76979685, 0.76956826, 0.77003807, 0.7695365, 0.7701841, 0.77065396, 0.7703492, 0.77043176, 0.77111113, 0.7705778, 0.77116823, 0.7711809, 0.77088886, 0.77045715, 0.7677905, 0.77039367, 0.7710032, 0.77088255, 0.7714349, 0.7718032, 0.7713841, 0.772, 0.77208257, 0.77165717, 0.77209526, 0.77216506, 0.77195555, 0.77170795, 0.7687238, 0.7716635, 0.7709397, 0.77195555]}\n"
     ]
    },
    {
     "name": "stdout",
     "output_type": "stream",
     "text": [
      "f1 Test Score:  0.699138991389914\n",
      "Model: \"sequential_7\"\n",
      "_________________________________________________________________\n",
      "Layer (type)                 Output Shape              Param #   \n",
      "=================================================================\n",
      "dense_20 (Dense)             (None, 50)                550       \n",
      "_________________________________________________________________\n",
      "dense_21 (Dense)             (None, 50)                2550      \n",
      "_________________________________________________________________\n",
      "dense_22 (Dense)             (None, 50)                2550      \n",
      "_________________________________________________________________\n",
      "dense_23 (Dense)             (None, 32)                1632      \n",
      "_________________________________________________________________\n",
      "dense_24 (Dense)             (None, 2)                 66        \n",
      "=================================================================\n",
      "Total params: 7,348\n",
      "Trainable params: 7,348\n",
      "Non-trainable params: 0\n",
      "_________________________________________________________________\n",
      "None\n",
      "Restoring model weights from the end of the best epoch\n",
      "Epoch 00094: early stopping\n",
      "{'val_loss': [0.6353083848953247, 0.6220958828926086, 0.6013148427009583, 0.5876713395118713, 0.5844674706459045, 0.5828171968460083, 0.5797717571258545, 0.5755612254142761, 0.5731899738311768, 0.5710619688034058, 0.5676407814025879, 0.5655227899551392, 0.5645909309387207, 0.5628482699394226, 0.5610488653182983, 0.5587567687034607, 0.5565726161003113, 0.5548660159111023, 0.5533865094184875, 0.5500373840332031, 0.5490866303443909, 0.5471259355545044, 0.5441036224365234, 0.5470900535583496, 0.5422174334526062, 0.5410190224647522, 0.5405194163322449, 0.5389987826347351, 0.5379334092140198, 0.5369586944580078, 0.5378613471984863, 0.5356124043464661, 0.5362314581871033, 0.537465512752533, 0.5341153740882874, 0.5332118272781372, 0.5330265164375305, 0.5337932109832764, 0.5342786908149719, 0.5324658155441284, 0.53194260597229, 0.5335009098052979, 0.5343421697616577, 0.5320605635643005, 0.5310261845588684, 0.5310658812522888, 0.5321402549743652, 0.5306686162948608, 0.530331552028656, 0.5302503108978271, 0.5298573970794678, 0.5297357439994812, 0.5390828847885132, 0.5335437059402466, 0.5313757061958313, 0.5298022627830505, 0.5289252996444702, 0.5287643074989319, 0.5284771919250488, 0.5285120010375977, 0.5287845730781555, 0.5283747315406799, 0.5313377380371094, 0.5276674628257751, 0.5279730558395386, 0.5320011377334595, 0.5274107456207275, 0.5279098153114319, 0.5292215943336487, 0.5274848341941833, 0.527349591255188, 0.5334239602088928, 0.529437243938446, 0.526739239692688, 0.5275676250457764, 0.5261436104774475, 0.5286180377006531, 0.5261804461479187, 0.5262781381607056, 0.5304725766181946, 0.5257748961448669, 0.5260735750198364, 0.5276964902877808, 0.5253249406814575, 0.5256944894790649, 0.5319467186927795, 0.5256596803665161, 0.5253342390060425, 0.5248409509658813, 0.5261440873146057, 0.5251374840736389, 0.5273686647415161, 0.5251963138580322, 0.5303466320037842], 'val_accuracy': [0.677142858505249, 0.6845714449882507, 0.6797142624855042, 0.682285726070404, 0.6905714273452759, 0.6934285759925842, 0.6962857246398926, 0.6980000138282776, 0.702571451663971, 0.7051428556442261, 0.7059999704360962, 0.7031428813934326, 0.7082856893539429, 0.7128571271896362, 0.7174285650253296, 0.7211428284645081, 0.7239999771118164, 0.7262856960296631, 0.7274285554885864, 0.7285714149475098, 0.7265714406967163, 0.727142870426178, 0.7300000190734863, 0.7282857298851013, 0.7342857122421265, 0.732285737991333, 0.7319999933242798, 0.734000027179718, 0.7348571419715881, 0.7345714569091797, 0.7342857122421265, 0.7342857122421265, 0.7377142906188965, 0.7314285635948181, 0.7360000014305115, 0.7374285459518433, 0.7388571500778198, 0.7394285798072815, 0.7397142648696899, 0.7391428351402283, 0.7394285798072815, 0.7405714392662048, 0.7314285635948181, 0.7377142906188965, 0.7391428351402283, 0.7397142648696899, 0.7400000095367432, 0.7402856945991516, 0.7368571162223816, 0.7402856945991516, 0.7402856945991516, 0.7379999756813049, 0.7362856864929199, 0.7391428351402283, 0.7400000095367432, 0.7402856945991516, 0.7400000095367432, 0.7382857203483582, 0.7397142648696899, 0.7397142648696899, 0.7405714392662048, 0.7400000095367432, 0.7397142648696899, 0.7408571243286133, 0.7411428689956665, 0.7400000095367432, 0.7405714392662048, 0.7385714054107666, 0.7408571243286133, 0.7411428689956665, 0.7408571243286133, 0.7400000095367432, 0.7411428689956665, 0.7388571500778198, 0.7408571243286133, 0.7405714392662048, 0.7428571581840515, 0.7402856945991516, 0.7417142987251282, 0.741428554058075, 0.7402856945991516, 0.7408571243286133, 0.74314284324646, 0.7402856945991516, 0.741428554058075, 0.7411428689956665, 0.7417142987251282, 0.7422857284545898, 0.7428571581840515, 0.7425714135169983, 0.7405714392662048, 0.7374285459518433, 0.7402856945991516, 0.7397142648696899], 'loss': [0.7220475196838378, 0.6310570359230041, 0.607154381275177, 0.5919484257698059, 0.5836666345596313, 0.5798064231872558, 0.5753540992736816, 0.5717811226844788, 0.5690841317176819, 0.5659596562385559, 0.5630858182907105, 0.5605668902397156, 0.5581498742103577, 0.555784285068512, 0.553429925441742, 0.5510223269462585, 0.5484772682189941, 0.5456668019294739, 0.5429487228393555, 0.5410651922225952, 0.5383051753044128, 0.53588787317276, 0.5337533354759216, 0.5331880450248718, 0.5304841637611389, 0.5281457543373108, 0.5264647722244262, 0.5249788999557495, 0.5236282110214233, 0.5224840521812439, 0.5214828372001648, 0.5208827733993531, 0.5196897625923157, 0.5201965928077698, 0.5205656170845032, 0.518743896484375, 0.5176420688629151, 0.516813600063324, 0.5157856106758117, 0.5158519625663758, 0.5146700263023376, 0.5143134593963623, 0.516177523136139, 0.5149600267410278, 0.5141780257225037, 0.5134700179100037, 0.512607991695404, 0.5122342348098755, 0.5120388269424438, 0.5117613315582276, 0.5110102772712708, 0.5108585715293884, 0.5133050322532654, 0.5135607600212098, 0.5119726181030273, 0.5109023094177246, 0.5103713631629944, 0.5096576094627381, 0.5091175556182861, 0.5090884447097779, 0.5084705829620362, 0.5087243914604187, 0.5095530867576599, 0.5091219782829285, 0.5076603889465332, 0.5091440320014954, 0.5086949467658997, 0.5074181199073792, 0.5083077192306519, 0.5066334843635559, 0.5064899802207947, 0.5090591907501221, 0.5072617053985595, 0.5075646638870239, 0.506006407737732, 0.5057103276252747, 0.5055793285369873, 0.5048049211502075, 0.5045099377632141, 0.506066870689392, 0.5047588467597961, 0.5038619995117187, 0.5049696803092957, 0.5032116174697876, 0.5030222296714782, 0.5056155443191528, 0.5041143536567688, 0.5036983370780945, 0.5020609617233276, 0.5029195785522461, 0.5012487292289733, 0.5022761702537537, 0.5054327964782714, 0.5017771244049072], 'accuracy': [0.5650476, 0.6649841, 0.6832063, 0.6891111, 0.69859684, 0.702927, 0.706527, 0.70859045, 0.7091492, 0.71275556, 0.7156571, 0.716946, 0.7175746, 0.7197016, 0.7226476, 0.72570795, 0.7277524, 0.7296762, 0.7312889, 0.7317524, 0.7333016, 0.7347619, 0.73587304, 0.7362032, 0.73737776, 0.738927, 0.73991114, 0.74100953, 0.74182856, 0.74269843, 0.7436381, 0.74436826, 0.7453206, 0.7446794, 0.74396825, 0.746, 0.7465524, 0.7472254, 0.7478667, 0.74730796, 0.7483873, 0.7483873, 0.74709207, 0.7478984, 0.74820954, 0.7488635, 0.74903494, 0.7493016, 0.74930793, 0.7493206, 0.74966985, 0.7497778, 0.7484825, 0.74862224, 0.74946034, 0.7498349, 0.74990475, 0.7501651, 0.7503936, 0.7506032, 0.7505968, 0.7506794, 0.7508127, 0.7505714, 0.7512952, 0.75095236, 0.7510286, 0.7514667, 0.75096506, 0.75185394, 0.75199366, 0.7506159, 0.7516952, 0.7513016, 0.75243175, 0.75267303, 0.7529651, 0.75308573, 0.7534603, 0.7524762, 0.75280637, 0.7534095, 0.7530286, 0.75372696, 0.75399363, 0.75217146, 0.7529968, 0.75350475, 0.7543111, 0.75395554, 0.7545016, 0.75396824, 0.75221586, 0.7541968]}\n",
      "f1 Test Score:  0.6764821667585229\n",
      "Model: \"sequential_8\"\n",
      "_________________________________________________________________\n",
      "Layer (type)                 Output Shape              Param #   \n",
      "=================================================================\n",
      "dense_25 (Dense)             (None, 50)                550       \n",
      "_________________________________________________________________\n",
      "dense_26 (Dense)             (None, 100)               5100      \n",
      "_________________________________________________________________\n",
      "dense_27 (Dense)             (None, 100)               10100     \n",
      "_________________________________________________________________\n",
      "dense_28 (Dense)             (None, 32)                3232      \n",
      "_________________________________________________________________\n",
      "dense_29 (Dense)             (None, 2)                 66        \n",
      "=================================================================\n",
      "Total params: 19,048\n",
      "Trainable params: 19,048\n",
      "Non-trainable params: 0\n",
      "_________________________________________________________________\n",
      "None\n"
     ]
    },
    {
     "name": "stdout",
     "output_type": "stream",
     "text": [
      "Restoring model weights from the end of the best epoch\n",
      "Epoch 00082: early stopping\n",
      "{'val_loss': [1.113214373588562, 0.900466799736023, 0.7746447920799255, 0.6882971525192261, 0.6319048404693604, 0.6137747168540955, 0.5979337096214294, 0.5935583710670471, 0.583829402923584, 0.5812191367149353, 0.5797799825668335, 0.5788663625717163, 0.5763251185417175, 0.5748502612113953, 0.5724284052848816, 0.5707494616508484, 0.5688019394874573, 0.5655924081802368, 0.5645316243171692, 0.5614409446716309, 0.559557318687439, 0.558695912361145, 0.555926501750946, 0.5555023550987244, 0.5520857572555542, 0.5492383241653442, 0.5478949546813965, 0.5460858941078186, 0.5475902557373047, 0.5456744432449341, 0.542227029800415, 0.5426245927810669, 0.5400766730308533, 0.5440980792045593, 0.5380849242210388, 0.5377835631370544, 0.5368051528930664, 0.5372393131256104, 0.5360080003738403, 0.5340842008590698, 0.5379381775856018, 0.5327582955360413, 0.535075306892395, 0.5318495035171509, 0.538503110408783, 0.5365413427352905, 0.532595157623291, 0.530253529548645, 0.530709445476532, 0.5303154587745667, 0.5315006375312805, 0.5296040177345276, 0.5293654203414917, 0.5411710739135742, 0.5304471850395203, 0.5290766358375549, 0.5284333825111389, 0.5287137627601624, 0.5287413597106934, 0.528424084186554, 0.5279640555381775, 0.5283107757568359, 0.5281965732574463, 0.5276178121566772, 0.5287031531333923, 0.5296889543533325, 0.5319169759750366, 0.5304993391036987, 0.5269207954406738, 0.5287894606590271, 0.5268444418907166, 0.5298970341682434, 0.5263950228691101, 0.5263558626174927, 0.5292586088180542, 0.5319383144378662, 0.5259811878204346, 0.532475471496582, 0.5300003290176392, 0.5265365242958069, 0.5291388034820557, 0.5261459350585938], 'val_accuracy': [0.4917142987251282, 0.6294285655021667, 0.5088571310043335, 0.6368571519851685, 0.6354285478591919, 0.6782857179641724, 0.6831428408622742, 0.694857120513916, 0.6997143030166626, 0.7062857151031494, 0.7080000042915344, 0.704285740852356, 0.7074285745620728, 0.7102857232093811, 0.7128571271896362, 0.7122856974601746, 0.7137143015861511, 0.7162857055664062, 0.7179999947547913, 0.7228571176528931, 0.7211428284645081, 0.7194285988807678, 0.7188571691513062, 0.7202857136726379, 0.7214285731315613, 0.7265714406967163, 0.727142870426178, 0.7282857298851013, 0.7268571257591248, 0.728857159614563, 0.7317143082618713, 0.728857159614563, 0.7331428527832031, 0.730571448802948, 0.7351428866386414, 0.7360000014305115, 0.7354285717010498, 0.7334285974502563, 0.7337142825126648, 0.7348571419715881, 0.7379999756813049, 0.7337142825126648, 0.7314285635948181, 0.7342857122421265, 0.7337142825126648, 0.7345714569091797, 0.7362856864929199, 0.7382857203483582, 0.7351428866386414, 0.7362856864929199, 0.7348571419715881, 0.7362856864929199, 0.7374285459518433, 0.7351428866386414, 0.7368571162223816, 0.7397142648696899, 0.7402856945991516, 0.7374285459518433, 0.7377142906188965, 0.7382857203483582, 0.741428554058075, 0.7394285798072815, 0.7385714054107666, 0.7402856945991516, 0.7368571162223816, 0.7379999756813049, 0.734000027179718, 0.7357142567634583, 0.7411428689956665, 0.7411428689956665, 0.7408571243286133, 0.7374285459518433, 0.7425714135169983, 0.7411428689956665, 0.7379999756813049, 0.7405714392662048, 0.7428571581840515, 0.7368571162223816, 0.7371428608894348, 0.7428571581840515, 0.741428554058075, 0.7428571581840515], 'loss': [2.2642491817474366, 0.8604080557823182, 0.7301488161087036, 0.6627646923065186, 0.6328844904899598, 0.602209460735321, 0.5908074975013733, 0.5852683663368226, 0.5796854019165039, 0.5756688833236694, 0.5732383608818055, 0.5706248044967651, 0.5686002135276794, 0.566552460193634, 0.5645513892173767, 0.5625813126564025, 0.5604494452476502, 0.5579604625701904, 0.5553919911384583, 0.5524519920349121, 0.5498014688491821, 0.5474527716636658, 0.5448335766792297, 0.542114794254303, 0.540060567855835, 0.5376189112663269, 0.5353615164756775, 0.5328322291374207, 0.5325006961822509, 0.5297114014625549, 0.5285423278808594, 0.5267139792442321, 0.525374960899353, 0.5237133502960205, 0.5267155647277832, 0.5233099579811096, 0.5212261557579041, 0.5198832154273987, 0.5184163689613343, 0.5170555830001831, 0.516482675075531, 0.517072319984436, 0.5150505065917969, 0.5161225318908691, 0.5157889604568482, 0.5146559596061706, 0.5141309142112732, 0.512704610824585, 0.5117859363555908, 0.5109256625175476, 0.5113438129425049, 0.5102930068969727, 0.5096142172813416, 0.5115689992904663, 0.5168649196624756, 0.5134491324424744, 0.5104855895042419, 0.5094704151153564, 0.5086652755737304, 0.5080041408538818, 0.5076701521873475, 0.5074832558631897, 0.5068732976913453, 0.5068879008293152, 0.5067699432373047, 0.5076255798339844, 0.5108889222145081, 0.5068339705467224, 0.508107590675354, 0.506199312210083, 0.5072256803512574, 0.505466365814209, 0.5063770413398743, 0.5045822978019714, 0.5048794627189637, 0.5085281372070313, 0.5081228137016296, 0.5069112300872802, 0.5051581263542175, 0.5071961760520936, 0.5049086689949036, 0.5054458975791931], 'accuracy': [0.56523174, 0.5957841, 0.6081778, 0.618946, 0.664927, 0.6838413, 0.693873, 0.69774604, 0.70389205, 0.7085968, 0.71109205, 0.7118603, 0.7143238, 0.7156635, 0.71680635, 0.7183809, 0.7205905, 0.7219619, 0.7236889, 0.72507936, 0.72693336, 0.72808254, 0.72968256, 0.7309143, 0.7328, 0.73398095, 0.7356064, 0.738146, 0.73821586, 0.7398222, 0.74008256, 0.74134606, 0.7421714, 0.74326986, 0.7398984, 0.7432063, 0.74414605, 0.7451048, 0.7461143, 0.7466349, 0.7465524, 0.74565715, 0.7469968, 0.7456889, 0.7458857, 0.7470095, 0.74715555, 0.74817145, 0.74863493, 0.74904126, 0.7491556, 0.7496127, 0.75014603, 0.7487619, 0.7455365, 0.7475746, 0.74925077, 0.750254, 0.7506413, 0.7510095, 0.75156826, 0.7512635, 0.75185394, 0.7517016, 0.75177777, 0.7515492, 0.74948573, 0.75200635, 0.75177145, 0.7525841, 0.7520381, 0.75270474, 0.7528127, 0.75332063, 0.7529587, 0.75182855, 0.75135237, 0.7523619, 0.7531682, 0.75224763, 0.753327, 0.75266665]}\n",
      "f1 Test Score:  0.6746018980215539\n",
      "Model: \"sequential_9\"\n",
      "_________________________________________________________________\n",
      "Layer (type)                 Output Shape              Param #   \n",
      "=================================================================\n",
      "dense_30 (Dense)             (None, 50)                550       \n",
      "_________________________________________________________________\n",
      "dense_31 (Dense)             (None, 100)               5100      \n",
      "_________________________________________________________________\n",
      "dense_32 (Dense)             (None, 100)               10100     \n",
      "_________________________________________________________________\n",
      "dense_33 (Dense)             (None, 100)               10100     \n",
      "_________________________________________________________________\n",
      "dense_34 (Dense)             (None, 32)                3232      \n",
      "_________________________________________________________________\n",
      "dense_35 (Dense)             (None, 2)                 66        \n",
      "=================================================================\n",
      "Total params: 29,148\n",
      "Trainable params: 29,148\n",
      "Non-trainable params: 0\n",
      "_________________________________________________________________\n",
      "None\n",
      "Restoring model weights from the end of the best epoch\n",
      "Epoch 00057: early stopping\n",
      "{'val_loss': [0.8055586814880371, 0.6734717488288879, 0.652246356010437, 0.6037834882736206, 0.6018850207328796, 0.6034336090087891, 0.5906375646591187, 0.5881157517433167, 0.5863409638404846, 0.5820832848548889, 0.5776005387306213, 0.5758602619171143, 0.5725108981132507, 0.5704724192619324, 0.567409098148346, 0.5649742484092712, 0.5609375834465027, 0.5584439039230347, 0.5594465136528015, 0.5558014512062073, 0.5542353391647339, 0.5521294474601746, 0.5488278865814209, 0.5491431951522827, 0.5457131862640381, 0.5437480807304382, 0.5427250266075134, 0.543038547039032, 0.5401400327682495, 0.5396846532821655, 0.549045741558075, 0.5452122688293457, 0.5370143055915833, 0.5399640202522278, 0.5383779406547546, 0.5353868007659912, 0.53383469581604, 0.5333663821220398, 0.5330632925033569, 0.5327067375183105, 0.5322937369346619, 0.5320309996604919, 0.5376688241958618, 0.5311073064804077, 0.5345205068588257, 0.5307331085205078, 0.5331642627716064, 0.5323358178138733, 0.5298494696617126, 0.5295456051826477, 0.5331785678863525, 0.5291670560836792, 0.52943354845047, 0.5362035632133484, 0.5299022197723389, 0.5326921939849854, 0.5306035876274109], 'val_accuracy': [0.6288571357727051, 0.5425714254379272, 0.6345714330673218, 0.6828571557998657, 0.6642857193946838, 0.6734285950660706, 0.6899999976158142, 0.6888571381568909, 0.6971428394317627, 0.7022857069969177, 0.7054286003112793, 0.7071428298950195, 0.7068571448326111, 0.7080000042915344, 0.7142857313156128, 0.7125714421272278, 0.7154285907745361, 0.7168571352958679, 0.7194285988807678, 0.7188571691513062, 0.7214285731315613, 0.722000002861023, 0.7251428365707397, 0.725428581237793, 0.727142870426178, 0.7294285893440247, 0.7285714149475098, 0.7294285893440247, 0.7291428446769714, 0.7308571338653564, 0.7211428284645081, 0.7262856960296631, 0.7291428446769714, 0.7328571677207947, 0.7334285974502563, 0.7368571162223816, 0.7319999933242798, 0.7331428527832031, 0.7351428866386414, 0.7365714311599731, 0.7368571162223816, 0.7379999756813049, 0.7351428866386414, 0.7362856864929199, 0.7328571677207947, 0.7385714054107666, 0.7388571500778198, 0.7385714054107666, 0.7391428351402283, 0.7377142906188965, 0.7377142906188965, 0.7411428689956665, 0.7391428351402283, 0.7360000014305115, 0.7357142567634583, 0.7362856864929199, 0.7354285717010498], 'loss': [1.5221196055412292, 0.9263424158096314, 0.7229405760765075, 0.670120120048523, 0.6264119148254395, 0.6122070550918579, 0.6001016616821289, 0.5919199109077453, 0.586487638950348, 0.5817848682403565, 0.5760057210922241, 0.5717092514038086, 0.5678776383399964, 0.5640197992324829, 0.5602368354797364, 0.5563402056694031, 0.552146828174591, 0.54944326877594, 0.5468430042266845, 0.5437535524368287, 0.540108060836792, 0.5374000668525696, 0.5352640390396118, 0.5328375697135925, 0.5310676336288452, 0.5287768840789795, 0.5272176265716553, 0.5255843162536621, 0.5245364427566528, 0.5226663589477539, 0.5234031438827514, 0.5303369641304017, 0.524494731426239, 0.5213872194290161, 0.5199507594108581, 0.5183969855308532, 0.5169403553009033, 0.5160945892333985, 0.515310776233673, 0.5145260095596313, 0.5137034773826599, 0.5134199619293213, 0.5151212692260743, 0.5145679473876953, 0.5137559771537781, 0.5138226866722106, 0.5133764386177063, 0.5108647108078003, 0.5117075443267822, 0.5095181941986084, 0.5104795932769776, 0.5102888584136963, 0.5082859992980957, 0.5109957337379456, 0.5097042202949524, 0.5104836106300354, 0.5088288068771363], 'accuracy': [0.52083176, 0.62307936, 0.5519429, 0.6310921, 0.65593016, 0.64537776, 0.69027936, 0.6801016, 0.6979111, 0.69449526, 0.7049143, 0.71001905, 0.71089524, 0.7148191, 0.7177333, 0.719854, 0.7224762, 0.7256063, 0.7273206, 0.7296508, 0.7318032, 0.73315555, 0.73440635, 0.7360381, 0.7375873, 0.738946, 0.7394095, 0.7402667, 0.74080634, 0.74191743, 0.74125713, 0.7389778, 0.74164444, 0.741727, 0.7435746, 0.7437968, 0.7452952, 0.7449778, 0.7455302, 0.7457524, 0.7465651, 0.7463619, 0.7453397, 0.74633014, 0.74645716, 0.74669844, 0.7464254, 0.7474286, 0.7478603, 0.7481651, 0.7477143, 0.74862224, 0.7489778, 0.7477397, 0.7485651, 0.7484825, 0.74920636]}\n"
     ]
    },
    {
     "name": "stdout",
     "output_type": "stream",
     "text": [
      "f1 Test Score:  0.6696464851686306\n"
     ]
    },
    {
     "data": {
      "text/plain": [
       "[0.6694615700780928,\n",
       " 0.6793224777023158,\n",
       " 0.6834670947030498,\n",
       " 0.6732673267326733,\n",
       " 0.699138991389914,\n",
       " 0.6764821667585229,\n",
       " 0.6746018980215539,\n",
       " 0.6696464851686306]"
      ]
     },
     "execution_count": 54,
     "metadata": {},
     "output_type": "execute_result"
    }
   ],
   "source": [
    "num_epochs = 250\n",
    "dnn_results = []\n",
    "\n",
    "#for model in [m1, m2]:\n",
    "for model in [m1, m2, m3, m4, m5, m6, m7, m8]:\n",
    "    \n",
    "    print(model.summary())\n",
    "    f1 = dnnModel(model, X_train, target, y_test, best_threshold, num_epochs)\n",
    "    dnn_results.append(f1)\n",
    "dnn_results"
   ]
  },
  {
   "cell_type": "code",
   "execution_count": 55,
   "metadata": {},
   "outputs": [
    {
     "data": {
      "text/plain": [
       "[0.6694615700780928,\n",
       " 0.6793224777023158,\n",
       " 0.6834670947030498,\n",
       " 0.6732673267326733,\n",
       " 0.699138991389914,\n",
       " 0.6764821667585229,\n",
       " 0.6746018980215539,\n",
       " 0.6696464851686306]"
      ]
     },
     "execution_count": 55,
     "metadata": {},
     "output_type": "execute_result"
    }
   ],
   "source": [
    "# 250 epochs\n",
    "dnn_results"
   ]
  },
  {
   "cell_type": "code",
   "execution_count": 56,
   "metadata": {},
   "outputs": [
    {
     "data": {
      "text/plain": [
       "(4, 0.699138991389914)"
      ]
     },
     "execution_count": 56,
     "metadata": {},
     "output_type": "execute_result"
    }
   ],
   "source": [
    "# best DNN model, f1 score\n",
    "\n",
    "f1_best_dnn = max(dnn_results)\n",
    "best_dnn_model = np.argmax(dnn_results)\n",
    "best_dnn_model, f1_best_dnn"
   ]
  },
  {
   "cell_type": "markdown",
   "metadata": {},
   "source": [
    "==> the best DNN model (f1=0.704) is not as good as the lgb model  (f1=0.743)"
   ]
  },
  {
   "cell_type": "code",
   "execution_count": 57,
   "metadata": {},
   "outputs": [
    {
     "name": "stdout",
     "output_type": "stream",
     "text": [
      "f1 Test Score:  0.6793224777023158\n"
     ]
    }
   ],
   "source": [
    "# evaluate best model\n",
    "\n",
    "best_model = m2\n",
    "\n",
    "predictions_dnn = best_model.predict(X_test)\n",
    "\n",
    "\n",
    "predBoolDnn = predictions_dnn[:,1] > best_threshold\n",
    "\n",
    "f1DNN = f1_score(y_test, predBoolDnn)\n",
    "print('f1 Test Score: ', f1DNN)\n",
    "\n",
    "\n",
    "\n"
   ]
  },
  {
   "cell_type": "markdown",
   "metadata": {},
   "source": [
    "# Compare Confusion Matrixes for Models"
   ]
  },
  {
   "cell_type": "code",
   "execution_count": 58,
   "metadata": {},
   "outputs": [],
   "source": [
    "def plot_confusion (y_test, y_pred, model_label):\n",
    "    from sklearn.metrics import confusion_matrix \n",
    "    import seaborn as sns\n",
    "    cf_matrix = confusion_matrix(y_test, y_pred)\n",
    "    print(cf_matrix)\n",
    "\n",
    "\n",
    "    fig = plt.figure(figsize = (7, 7))\n",
    "    sns.heatmap(cf_matrix.astype(int), annot=True,  square=True\n",
    "    #            , cmap = 'coolwarm'\n",
    "                , xticklabels = ['not retained', 'retained']\n",
    "                , yticklabels = ['not retained', 'retained']).set_title(model_label)"
   ]
  },
  {
   "cell_type": "code",
   "execution_count": 59,
   "metadata": {},
   "outputs": [
    {
     "name": "stdout",
     "output_type": "stream",
     "text": [
      "[[7403 1965]\n",
      " [1283 4349]]\n",
      "[[7743 1625]\n",
      " [1763 3869]]\n",
      "[[6930 2438]\n",
      " [1481 4151]]\n"
     ]
    },
    {
     "data": {
      "image/png": "[encoded data removed]",
      "text/plain": [
       "<Figure size 504x504 with 2 Axes>"
      ]
     },
     "metadata": {
      "needs_background": "light"
     },
     "output_type": "display_data"
    },
    {
     "data": {
      "image/png": "[encoded data removed]",
      "text/plain": [
       "<Figure size 504x504 with 2 Axes>"
      ]
     },
     "metadata": {
      "needs_background": "light"
     },
     "output_type": "display_data"
    },
    {
     "data": {
      "image/png": "[encoded data removed]",
      "text/plain": [
       "<Figure size 504x504 with 2 Axes>"
      ]
     },
     "metadata": {
      "needs_background": "light"
     },
     "output_type": "display_data"
    }
   ],
   "source": [
    "# plot models\n",
    "\n",
    "plot_confusion(y_test, ytestpred, 'lgb')\n",
    "plot_confusion(y_test, predBoolSvc, 'SVC')\n",
    "plot_confusion(y_test, predBoolDnn, 'DNN')\n"
   ]
  },
  {
   "cell_type": "code",
   "execution_count": null,
   "metadata": {},
   "outputs": [],
   "source": []
  }
 ],
 "metadata": {
  "kernelspec": {
   "display_name": "Python 3",
   "language": "python",
   "name": "python3"
  },
  "language_info": {
   "codemirror_mode": {
    "name": "ipython",
    "version": 3
   },
   "file_extension": ".py",
   "mimetype": "text/x-python",
   "name": "python",
   "nbconvert_exporter": "python",
   "pygments_lexer": "ipython3",
   "version": "3.6.10"
  }
 },
 "nbformat": 4,
 "nbformat_minor": 2
}
