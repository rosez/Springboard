{
  "nbformat": 4,
  "nbformat_minor": 0,
  "metadata": {
    "colab": {
      "name": "Capstone2.ipynb",
      "provenance": [],
      "collapsed_sections": [
        "kBxVdNN_kCSS"
      ],
      "toc_visible": true,
      "authorship_tag": "ABX9TyOd9OK0XYreHH2WqE5SdB31",
      "include_colab_link": true
    },
    "kernelspec": {
      "name": "python3",
      "display_name": "Python 3"
    },
    "accelerator": "GPU"
  },
  "cells": [
    {
      "cell_type": "markdown",
      "metadata": {
        "id": "view-in-github",
        "colab_type": "text"
      },
      "source": [
        "<a href=\"https://colab.research.google.com/github/rosez/Springboard/blob/master/Capstone2.ipynb\" target=\"_parent\"><img src=\"https://colab.research.google.com/assets/colab-badge.svg\" alt=\"Open In Colab\"/></a>"
      ]
    },
    {
      "cell_type": "code",
      "metadata": {
        "id": "Eq26_5st8vwH",
        "colab_type": "code",
        "colab": {}
      },
      "source": [
        ""
      ],
      "execution_count": 0,
      "outputs": []
    },
    {
      "cell_type": "markdown",
      "metadata": {
        "id": "9ZBVebo0szGi",
        "colab_type": "text"
      },
      "source": [
        ""
      ]
    },
    {
      "cell_type": "markdown",
      "metadata": {
        "id": "enrAzW-7s1YC",
        "colab_type": "text"
      },
      "source": [
        "# Capstone2 : Apparel Images\n",
        "\n",
        "Evaluate various models and image sizes for apparel dataset:\n",
        "\n",
        "* Specify model suffix (in **main** section)\n",
        "\n",
        " \n",
        "\n",
        "        > Models are defined in **x10MakeModel** section\n",
        "\n",
        "\n",
        "\n",
        "\n",
        "* Specify image size in **x000setup** section\n",
        "\n",
        "\n",
        "\n",
        "**NOTE:**  Initial Models: 1, 2, 6 (some other were defined when having resources issues due to complexity and use of large image size(494))\n",
        "\n"
      ]
    },
    {
      "cell_type": "markdown",
      "metadata": {
        "id": "toRRBYhe5IHC",
        "colab_type": "text"
      },
      "source": [
        "# Import tf to find out version\n",
        "\n"
      ]
    },
    {
      "cell_type": "markdown",
      "metadata": {
        "id": "o_lXAubn8PnP",
        "colab_type": "text"
      },
      "source": [
        ""
      ]
    },
    {
      "cell_type": "code",
      "metadata": {
        "id": "tSarfeWVVGrF",
        "colab_type": "code",
        "colab": {}
      },
      "source": [
        "import tensorflow as tf\n"
      ],
      "execution_count": 0,
      "outputs": []
    },
    {
      "cell_type": "code",
      "metadata": {
        "id": "MbyCdt455hJW",
        "colab_type": "code",
        "outputId": "09b7d56c-4d5a-4dcd-a608-1ecede2c244b",
        "colab": {
          "base_uri": "https://localhost:8080/",
          "height": 34
        }
      },
      "source": [
        "print(tf.__version__)"
      ],
      "execution_count": 2,
      "outputs": [
        {
          "output_type": "stream",
          "text": [
            "2.2.0-rc3\n"
          ],
          "name": "stdout"
        }
      ]
    },
    {
      "cell_type": "code",
      "metadata": {
        "id": "dX9jxMP2Vwjm",
        "colab_type": "code",
        "colab": {
          "base_uri": "https://localhost:8080/",
          "height": 34
        },
        "outputId": "8ff977ff-e074-421b-b602-b05318b39ad3"
      },
      "source": [
        "tf.test.gpu_device_name()"
      ],
      "execution_count": 3,
      "outputs": [
        {
          "output_type": "execute_result",
          "data": {
            "text/plain": [
              "'/device:GPU:0'"
            ]
          },
          "metadata": {
            "tags": []
          },
          "execution_count": 3
        }
      ]
    },
    {
      "cell_type": "markdown",
      "metadata": {
        "id": "yqs9OPua5h-l",
        "colab_type": "text"
      },
      "source": [
        "# Connect to Google drive\n"
      ]
    },
    {
      "cell_type": "code",
      "metadata": {
        "id": "VpESIZO1VrW5",
        "colab_type": "code",
        "outputId": "53d1da89-1ae6-4f53-a7a2-93452602810f",
        "colab": {
          "base_uri": "https://localhost:8080/",
          "height": 122
        }
      },
      "source": [
        "from google.colab import drive\n",
        "drive.mount('/content/gdrive')"
      ],
      "execution_count": 4,
      "outputs": [
        {
          "output_type": "stream",
          "text": [
            "Go to this URL in a browser: https://accounts.google.com/o/oauth2/auth?client_id=947318989803-6bn6qk8qdgf4n4g3pfee6491hc0brc4i.apps.googleusercontent.com&redirect_uri=urn%3aietf%3awg%3aoauth%3a2.0%3aoob&response_type=code&scope=email%20https%3a%2f%2fwww.googleapis.com%2fauth%2fdocs.test%20https%3a%2f%2fwww.googleapis.com%2fauth%2fdrive%20https%3a%2f%2fwww.googleapis.com%2fauth%2fdrive.photos.readonly%20https%3a%2f%2fwww.googleapis.com%2fauth%2fpeopleapi.readonly\n",
            "\n",
            "Enter your authorization code:\n",
            "··········\n",
            "Mounted at /content/gdrive\n"
          ],
          "name": "stdout"
        }
      ]
    },
    {
      "cell_type": "code",
      "metadata": {
        "id": "wfLsFW9Qehgt",
        "colab_type": "code",
        "outputId": "c4c4a158-a549-4718-f831-5d31fc6529c1",
        "colab": {
          "base_uri": "https://localhost:8080/",
          "height": 34
        }
      },
      "source": [
        "!ls \"/content/gdrive/My Drive/Capstone2/data/\""
      ],
      "execution_count": 5,
      "outputs": [
        {
          "output_type": "stream",
          "text": [
            "apparelSmallTest  apparelSmallTrain  apparelSmallValidate  capstone2.ipynb\n"
          ],
          "name": "stdout"
        }
      ]
    },
    {
      "cell_type": "markdown",
      "metadata": {
        "id": "Hbw2iJMo-7Lf",
        "colab_type": "text"
      },
      "source": [
        "# Moving on ...done with CoLab stuf"
      ]
    },
    {
      "cell_type": "markdown",
      "metadata": {
        "id": "5YenQ_jSjQXs",
        "colab_type": "text"
      },
      "source": [
        "## From x000setup.py\n",
        "\n"
      ]
    },
    {
      "cell_type": "code",
      "metadata": {
        "id": "nQBsl1_OexB3",
        "colab_type": "code",
        "colab": {}
      },
      "source": [
        "import os\n",
        "\n",
        "import tensorflow as tf\n",
        "\n",
        "import matplotlib.pyplot as plt\n",
        "\n",
        " \n",
        "from tensorflow.keras.callbacks import EarlyStopping\n"
      ],
      "execution_count": 0,
      "outputs": []
    },
    {
      "cell_type": "markdown",
      "metadata": {
        "id": "3LoDCWTNb-_R",
        "colab_type": "text"
      },
      "source": [
        "## Directory Paths"
      ]
    },
    {
      "cell_type": "code",
      "metadata": {
        "id": "Hk3afcDRfmhS",
        "colab_type": "code",
        "outputId": "0930614c-5871-4c51-b9fa-4df3ff7dd37d",
        "colab": {
          "base_uri": "https://localhost:8080/",
          "height": 34
        }
      },
      "source": [
        "path = \"/content/gdrive/My Drive/Capstone2/data/\"\n",
        "srcdir = path + 'apparel-images-dataset\\\\'\n",
        "\n",
        "trainingdir = path + 'apparelSmallTrain'\n",
        "testdir = path + 'apparelSmallTest'\n",
        "validdir = path + 'apparelSmallValidate'\n",
        "print(trainingdir)"
      ],
      "execution_count": 7,
      "outputs": [
        {
          "output_type": "stream",
          "text": [
            "/content/gdrive/My Drive/Capstone2/data/apparelSmallTrain\n"
          ],
          "name": "stdout"
        }
      ]
    },
    {
      "cell_type": "code",
      "metadata": {
        "id": "1dkG9qeubMh2",
        "colab_type": "code",
        "colab": {}
      },
      "source": [
        "\n",
        "def getHistoryPath():\n",
        "    #history_path = 'C:\\\\Users\\\\rozoe\\\\jy\\\\ch10ML\\\\tensorflow\\\\capstone2\\\\history\\\\'\n",
        "    history_path = \"/content/gdrive/My Drive/Capstone2/history/\"\n",
        "    return history_path  \n"
      ],
      "execution_count": 0,
      "outputs": []
    },
    {
      "cell_type": "markdown",
      "metadata": {
        "id": "y-Krft1_cG4h",
        "colab_type": "text"
      },
      "source": [
        "## Parameters"
      ]
    },
    {
      "cell_type": "code",
      "metadata": {
        "id": "_Fg6Mm6Rf8X5",
        "colab_type": "code",
        "colab": {
          "base_uri": "https://localhost:8080/",
          "height": 34
        },
        "outputId": "03d8405c-06ec-49e5-d585-3bca43ded12f"
      },
      "source": [
        "\n",
        "# =============================================================================\n",
        "# inLine Parameters\n",
        "# =============================================================================\n",
        "\n",
        "\n",
        "\n",
        "num_classes = 10\n",
        "num_epochs = 100\n",
        "epochs = num_epochs\n",
        "\n",
        "# input image dimensions\n",
        "img_rows, img_cols = 150, 150\n",
        "input_shape = (img_rows, img_cols, 3)\n",
        "\n",
        "# learning_rate\n",
        "\n",
        "#learning_rate = 0.001\n",
        "learning_rate = 0.0001\n",
        "\n",
        "#batch_size for model.fit\n",
        "batch_size = 32  \n",
        "    \n",
        "\n",
        "\n",
        "\n",
        "target_size = input_shape[:2]\n",
        "\n",
        " \n",
        "xoptimizer = tf.keras.optimizers.Adam(learning_rate=learning_rate)\n",
        " \n",
        "print(num_classes, input_shape, learning_rate, num_epochs, batch_size)"
      ],
      "execution_count": 11,
      "outputs": [
        {
          "output_type": "stream",
          "text": [
            "10 (150, 150, 3) 0.0001 100 32\n"
          ],
          "name": "stdout"
        }
      ]
    },
    {
      "cell_type": "code",
      "metadata": {
        "id": "acOzt8yNmdn-",
        "colab_type": "code",
        "colab": {}
      },
      "source": [
        ""
      ],
      "execution_count": 0,
      "outputs": []
    },
    {
      "cell_type": "markdown",
      "metadata": {
        "id": "bfjvrHnhcN71",
        "colab_type": "text"
      },
      "source": [
        "## Callbacks\n"
      ]
    },
    {
      "cell_type": "code",
      "metadata": {
        "id": "qhaav8NGmim3",
        "colab_type": "code",
        "colab": {}
      },
      "source": [
        "# =============================================================================\n",
        "# Callbacks\n",
        "# =============================================================================\n",
        "\n",
        "es = EarlyStopping(monitor='val_loss', mode='min', verbose=1, patience=8,\n",
        "                   restore_best_weights=True)\n",
        "\n",
        "callbacks = [es]\n"
      ],
      "execution_count": 0,
      "outputs": []
    },
    {
      "cell_type": "code",
      "metadata": {
        "id": "ioZ8CKgS1sKX",
        "colab_type": "code",
        "colab": {}
      },
      "source": [
        ""
      ],
      "execution_count": 0,
      "outputs": []
    },
    {
      "cell_type": "markdown",
      "metadata": {
        "id": "PRZDnaqwbfhD",
        "colab_type": "text"
      },
      "source": [
        "# Function Definitions"
      ]
    },
    {
      "cell_type": "markdown",
      "metadata": {
        "id": "x_0llShGbyx-",
        "colab_type": "text"
      },
      "source": [
        "## Data Generators"
      ]
    },
    {
      "cell_type": "code",
      "metadata": {
        "id": "0L0pPTEy058y",
        "colab_type": "code",
        "colab": {}
      },
      "source": [
        "def dataGenerators(target_size):\n",
        "    #!!import tensorflow as tf\n",
        "    import keras_preprocessing\n",
        "    from keras_preprocessing import image\n",
        "    from keras_preprocessing.image import ImageDataGenerator\n",
        "    \n",
        "    TRAINING_DIR = trainingdir\n",
        "    training_datagen = ImageDataGenerator(\n",
        "          rescale = 1./255,\n",
        "    \t  rotation_range=40,\n",
        "          width_shift_range=0.2,\n",
        "          height_shift_range=0.2,\n",
        "          shear_range=0.2,\n",
        "          zoom_range=0.2,\n",
        "          horizontal_flip=True,\n",
        "          fill_mode='nearest')\n",
        "    \n",
        "    \n",
        "    VALIDATION_DIR = validdir\n",
        "    validation_datagen = ImageDataGenerator(rescale = 1./255)\n",
        "\n",
        "    \n",
        "    train_generator = training_datagen.flow_from_directory(\n",
        "    \tTRAINING_DIR,\n",
        "    \ttarget_size=target_size,\n",
        "        color_mode='rgb',\n",
        "    \tclass_mode='categorical'\n",
        "    )\n",
        "    \n",
        "    validation_generator = validation_datagen.flow_from_directory(\n",
        "    \tVALIDATION_DIR,\n",
        "    \ttarget_size=target_size,\n",
        "        color_mode='rgb',\n",
        "    \tclass_mode='categorical'\n",
        "    )\n",
        "\n",
        "    \n",
        "    return train_generator, validation_generator\n",
        "    \n",
        "\n",
        "\n",
        "def testDataGenerator(target_size):\n",
        "    #!!import tensorflow as tf\n",
        "    import keras_preprocessing\n",
        "    from keras_preprocessing import image\n",
        "    from keras_preprocessing.image import ImageDataGenerator\n",
        "    \n",
        " \n",
        "    TEST_DIR = testdir\n",
        "    test_datagen = ImageDataGenerator(rescale = 1./255)\n",
        "    \n",
        "    \n",
        "    test_generator = test_datagen.flow_from_directory(\n",
        "    \tTEST_DIR,\n",
        "    \ttarget_size=target_size,\n",
        "        color_mode='rgb',\n",
        "    \tclass_mode='categorical'\n",
        "    )\n",
        "    \n",
        "    return test_generator\n",
        "\n",
        "\n",
        "    "
      ],
      "execution_count": 0,
      "outputs": []
    },
    {
      "cell_type": "markdown",
      "metadata": {
        "id": "1scb-zLWji2L",
        "colab_type": "text"
      },
      "source": [
        "## from pickle, plot\n"
      ]
    },
    {
      "cell_type": "code",
      "metadata": {
        "id": "cNgly19aityg",
        "colab_type": "code",
        "colab": {}
      },
      "source": [
        "\n",
        "\n",
        "def pickleHist(history, filename):\n",
        "    import pickle\n",
        " \n",
        "    pfilename = filename + '.pkl'\n",
        "    with open(pfilename, 'wb') as file_pi:\n",
        "            pickle.dump(history.history, file_pi)\n",
        "\n",
        "\n",
        "\n",
        "def pickleEval(eval_output, filename):\n",
        "    import pickle\n",
        " \n",
        "    pfilename = filename + '.pkl'\n",
        "    with open(pfilename, 'wb') as file_pi:\n",
        "            pickle.dump(eval_output, file_pi)           \n",
        "        \n",
        "def plotModelHistory(history, suffix):\n",
        "# Plot training & validation accuracy values\n",
        "    plt.plot(history.history['accuracy'])\n",
        "    plt.plot(history.history['val_accuracy'])\n",
        "    plt.title('Model{0} accuracy'.format(suffix))\n",
        "    plt.ylabel('Accuracy')\n",
        "    plt.xlabel('Epoch')\n",
        "    plt.legend(['Train', 'Test'], loc='upper left')\n",
        "    plt.show()\n",
        "    \n",
        "    # Plot training & validation loss values\n",
        "    plt.plot(history.history['loss'])\n",
        "    plt.plot(history.history['val_loss'])\n",
        "    plt.title('Model{0} loss'.format(suffix))\n",
        "    plt.ylabel('Loss')\n",
        "    plt.xlabel('Epoch')\n",
        "    plt.legend(['Train', 'Test'], loc='upper left')\n",
        "    plt.show()\n",
        "\n",
        "\n",
        "def plotSaveModelHistory(history, saveInfo, history_path):\n",
        "# Plot training & validation accuracy values\n",
        "    plt.plot(history.history['accuracy'])\n",
        "    plt.plot(history.history['val_accuracy'])\n",
        "    plt.title('Model{0} accuracy'.format(saveInfo))\n",
        "    plt.ylabel('Accuracy')\n",
        "    plt.xlabel('Epoch')\n",
        "    plt.legend(['Train', 'Test'], loc='upper left')\n",
        "\n",
        "    \n",
        "    savefile = history_path + 'Accuracy' + saveInfo + '.pdf'\n",
        "    plt.savefig(savefile)\n",
        "    plt.show()\n",
        " \n",
        "    \n",
        "    # Plot training & validation loss values\n",
        "    plt.plot(history.history['loss'])\n",
        "    plt.plot(history.history['val_loss'])\n",
        "    plt.title('Model{0} loss'.format(saveInfo))\n",
        "    plt.ylabel('Loss')\n",
        "    plt.xlabel('Epoch')\n",
        "    plt.legend(['Train', 'Test'], loc='upper left')\n",
        "    \n",
        "    savefile = history_path + 'Loss' + saveInfo + '.pdf'\n",
        "    plt.savefig(savefile)\n",
        "    plt.show()\n",
        "    "
      ],
      "execution_count": 0,
      "outputs": []
    },
    {
      "cell_type": "code",
      "metadata": {
        "id": "0FPVmf9Umru9",
        "colab_type": "code",
        "colab": {}
      },
      "source": [
        ""
      ],
      "execution_count": 0,
      "outputs": []
    },
    {
      "cell_type": "code",
      "metadata": {
        "id": "GOGvDpZmit_3",
        "colab_type": "code",
        "colab": {}
      },
      "source": [
        ""
      ],
      "execution_count": 0,
      "outputs": []
    },
    {
      "cell_type": "markdown",
      "metadata": {
        "id": "kBxVdNN_kCSS",
        "colab_type": "text"
      },
      "source": [
        "## x10MakeModel.py\n",
        "Make model based on suffix parameter\n"
      ]
    },
    {
      "cell_type": "code",
      "metadata": {
        "id": "Pf2rXWwOj3Ar",
        "colab_type": "code",
        "colab": {}
      },
      "source": [
        "# -*- coding: utf-8 -*-\n",
        "\"\"\"\n",
        "Created on Fri Apr 17 12:29:25 2020\n",
        "\n",
        "@author: rozoe\n",
        "\"\"\"\n",
        "\n",
        "\n",
        "\n",
        "def make_model(suffix, num_classes, input_shape):\n",
        "\n",
        "#    num_classes, input_shape, learning_rate, epochs = getGlobalParms()\n",
        "    if suffix==1:\n",
        "        print('model1')\n",
        "    \n",
        "        model = tf.keras.models.Sequential([\n",
        "            # Note the input shape is the desired size of the image 150x150 with 3 bytes color\n",
        "            # This is the first convolution\n",
        "            tf.keras.layers.Conv2D(32, (3,3), activation='relu', input_shape=input_shape),\n",
        "            tf.keras.layers.MaxPooling2D(2, 2),\n",
        "            # The second convolution\n",
        "        #    tf.keras.layers.Conv2D(64, (3,3), activation='relu'),\n",
        "        #    tf.keras.layers.MaxPooling2D(2,2),\n",
        "            # The third convolution\n",
        "        #    tf.keras.layers.Conv2D(128, (3,3), activation='relu'),\n",
        "        #    tf.keras.layers.MaxPooling2D(2,2),\n",
        "            # The fourth convolution\n",
        "            tf.keras.layers.Conv2D(64, (3,3), activation='relu'),\n",
        "            tf.keras.layers.MaxPooling2D(2,2),\n",
        "            # Flatten the results to feed into a DNN\n",
        "            tf.keras.layers.Flatten(),\n",
        "            tf.keras.layers.Dropout(0.5),\n",
        "            # 512 neuron hidden layer\n",
        "            tf.keras.layers.Dense(128, activation='relu'),\n",
        "            tf.keras.layers.Dense(num_classes, activation='softmax')\n",
        "        ])\n",
        "        return model\n",
        "\n",
        " \n",
        "\n",
        "    ################### model 2: add another conv/pool layer ################\n",
        "    # del model2\n",
        "\n",
        "    elif (suffix==2):\n",
        "        print('model2')\n",
        " \n",
        "        model2c = tf.keras.models.Sequential([\n",
        "            # Note the input shape is the desired size of the image 150x150 with 3 bytes color\n",
        "            # This is the first convolution\n",
        "            tf.keras.layers.Conv2D(32, (3,3), activation='relu', input_shape=input_shape),\n",
        "            tf.keras.layers.MaxPooling2D(2, 2),\n",
        "            # The second convolution\n",
        "            tf.keras.layers.Conv2D(64, (3,3), activation='relu'),\n",
        "            tf.keras.layers.MaxPooling2D(2,2),\n",
        "            # The third convolution\n",
        "        #    tf.keras.layers.Conv2D(128, (3,3), activation='relu'),\n",
        "        #    tf.keras.layers.MaxPooling2D(2,2),\n",
        "            # The fourth convolution\n",
        "            tf.keras.layers.Conv2D(64, (3,3), activation='relu'),\n",
        "            tf.keras.layers.MaxPooling2D(2,2),\n",
        "            # Flatten the results to feed into a DNN\n",
        "            tf.keras.layers.Flatten(),\n",
        "            tf.keras.layers.Dropout(0.5),\n",
        "            # 512 neuron hidden layer\n",
        "            tf.keras.layers.Dense(128, activation='relu'),\n",
        "            tf.keras.layers.Dense(num_classes, activation='softmax')\n",
        "        ])\n",
        "        return model2c\n",
        "\n",
        "\n",
        "################### model 3: the original overfitted model ################\n",
        "    elif (suffix==3): \n",
        "        print('model3')\n",
        "        \n",
        "\n",
        "         \n",
        "        model3 = tf.keras.models.Sequential([\n",
        "            # Note the input shape is the desired size of the image 150x150 with 3 bytes color\n",
        "            # This is the first convolution\n",
        "            tf.keras.layers.Conv2D(64, (3,3), activation='relu', input_shape=input_shape),\n",
        "            tf.keras.layers.MaxPooling2D(2, 2),\n",
        "            # The second convolution\n",
        "            tf.keras.layers.Conv2D(64, (3,3), activation='relu'),\n",
        "            tf.keras.layers.MaxPooling2D(2,2),\n",
        "            # The third convolution\n",
        "            tf.keras.layers.Conv2D(128, (3,3), activation='relu'),\n",
        "            tf.keras.layers.MaxPooling2D(2,2),\n",
        "            # The fourth convolution\n",
        "            tf.keras.layers.Conv2D(128, (3,3), activation='relu'),\n",
        "            tf.keras.layers.MaxPooling2D(2,2),\n",
        "            # Flatten the results to feed into a DNN\n",
        "            tf.keras.layers.Flatten(),\n",
        "            tf.keras.layers.Dropout(0.5),\n",
        "            # 512 neuron hidden layer\n",
        "            tf.keras.layers.Dense(512, activation='relu'),\n",
        "            tf.keras.layers.Dense(num_classes, activation='softmax')\n",
        "        ])\n",
        "        return model3\n",
        " \n",
        "\n",
        "\n",
        "################### model 4: complex model inspired by asifbala (from Ankur) ################\n",
        "    elif suffix==4:\n",
        " \n",
        "        model4 = tf.keras.models.Sequential([\n",
        "            # Note the input shape is the desired size of the image 150x150 with 3 bytes color\n",
        "            # This is the first convolution\n",
        "            tf.keras.layers.Conv2D(64, (3,3), activation='relu', input_shape=input_shape),\n",
        "            tf.keras.layers.Conv2D(64, (3,3), activation='relu'),\n",
        "            tf.keras.layers.MaxPooling2D(2, 2),\n",
        "            # The second convolution\n",
        "        #    tf.keras.layers.Conv2D(64, (3,3), activation='relu'),\n",
        "        #    tf.keras.layers.MaxPooling2D(2,2),\n",
        "            # The third convolution\n",
        "            tf.keras.layers.Conv2D(128, (3,3), activation='relu'),\n",
        "            tf.keras.layers.Conv2D(128, (3,3), activation='relu'),\n",
        "            tf.keras.layers.MaxPooling2D(2,2),\n",
        "            # The fourth convolution\n",
        "            tf.keras.layers.Conv2D(256, (3,3), activation='relu'),\n",
        "            tf.keras.layers.Conv2D(256, (3,3), activation='relu'),\n",
        "            tf.keras.layers.MaxPooling2D(2,2),\n",
        "            # Flatten the results to feed into a DNN\n",
        "            tf.keras.layers.Flatten(),\n",
        "            tf.keras.layers.Dropout(0.5),\n",
        "            # 512 neuron hidden layer\n",
        "            tf.keras.layers.Dense(512, activation='relu'),\n",
        "            tf.keras.layers.Dense(num_classes, activation='softmax')\n",
        "        ])\n",
        "        \n",
        "        return model4\n",
        " \n",
        "    elif suffix==5:\n",
        " \n",
        "################### model 5: pare down m4...too much memory ################\n",
        "# two conv layers before pooling\n",
        "        model5 = tf.keras.models.Sequential([\n",
        "            # Note the input shape is the desired size of the image 150x150 with 3 bytes color\n",
        "            # This is the first convolution\n",
        "            tf.keras.layers.Conv2D(64, (3,3), activation='relu', input_shape=input_shape),\n",
        "            tf.keras.layers.Conv2D(64, (3,3), activation='relu'),\n",
        "            tf.keras.layers.MaxPooling2D(2, 2),\n",
        "            # The second convolution\n",
        "        #    tf.keras.layers.Conv2D(64, (3,3), activation='relu'),\n",
        "        #    tf.keras.layers.MaxPooling2D(2,2),\n",
        "            # The third convolution\n",
        "            tf.keras.layers.Conv2D(128, (3,3), activation='relu'),\n",
        "            tf.keras.layers.Conv2D(128, (3,3), activation='relu'),\n",
        "            tf.keras.layers.MaxPooling2D(2,2),\n",
        "            # The fourth convolution\n",
        "        #    tf.keras.layers.Conv2D(256, (3,3), activation='relu'),\n",
        "        #    tf.keras.layers.Conv2D(256, (3,3), activation='relu'),\n",
        "        #    tf.keras.layers.MaxPooling2D(2,2),\n",
        "            # Flatten the results to feed into a DNN\n",
        "            tf.keras.layers.Flatten(),\n",
        "            tf.keras.layers.Dropout(0.5),\n",
        "            # 512 neuron hidden layer\n",
        "            tf.keras.layers.Dense(512, activation='relu'),\n",
        "            tf.keras.layers.Dense(num_classes, activation='softmax')\n",
        "        ])\n",
        "        \n",
        "     \n",
        "        return model5\n",
        "        \n",
        "    elif suffix==6:\n",
        "################### model 6: pare down m5, since it crashes the pc ################\n",
        "# two conv layers before pooling\n",
        "\n",
        " \n",
        "        model6 = tf.keras.models.Sequential([\n",
        "            # Note the input shape is the desired size of the image 150x150 with 3 bytes color\n",
        "            # This is the first convolution\n",
        "            tf.keras.layers.Conv2D(32, (3,3), activation='relu', input_shape=input_shape),\n",
        "            tf.keras.layers.Conv2D(32, (3,3), activation='relu'),\n",
        "            tf.keras.layers.MaxPooling2D(2, 2),\n",
        "            # The second convolution\n",
        "        #    tf.keras.layers.Conv2D(64, (3,3), activation='relu'),\n",
        "        #    tf.keras.layers.MaxPooling2D(2,2),\n",
        "            # The third convolution\n",
        "            tf.keras.layers.Conv2D(64, (3,3), activation='relu'),\n",
        "            tf.keras.layers.Conv2D(64, (3,3), activation='relu'),\n",
        "            tf.keras.layers.MaxPooling2D(2,2),\n",
        "            # The fourth convolution\n",
        "        #    tf.keras.layers.Conv2D(256, (3,3), activation='relu'),\n",
        "        #    tf.keras.layers.Conv2D(256, (3,3), activation='relu'),\n",
        "        #    tf.keras.layers.MaxPooling2D(2,2),\n",
        "            # Flatten the results to feed into a DNN\n",
        "            tf.keras.layers.Flatten(),\n",
        "            tf.keras.layers.Dropout(0.5),\n",
        "            # 512 neuron hidden layer\n",
        "            tf.keras.layers.Dense(512, activation='relu'),\n",
        "            tf.keras.layers.Dense(num_classes, activation='softmax')\n",
        "        ])\n",
        "        \n",
        "        return model6\n",
        "     \n",
        "    elif suffix==7:\n",
        "################### model 7: pare down even further  ################\n",
        "# redo first model, but no pooling after first step \n",
        "# ...exceeds memory during make_model()\n",
        "        model7 = tf.keras.models.Sequential([\n",
        "            # Note the input shape is the desired size of the image 150x150 with 3 bytes color\n",
        "            # This is the first convolution\n",
        "            tf.keras.layers.Conv2D(32, (3,3), activation='relu', input_shape=input_shape),\n",
        "            tf.keras.layers.Conv2D(64, (3,3), activation='relu'),\n",
        "            tf.keras.layers.MaxPooling2D(2, 2),\n",
        "            # The second convolution\n",
        "        #    tf.keras.layers.Conv2D(64, (3,3), activation='relu'),\n",
        "        #    tf.keras.layers.MaxPooling2D(2,2),\n",
        "            # The third convolution\n",
        "        #    tf.keras.layers.Conv2D(64, (3,3), activation='relu'),\n",
        "        #    tf.keras.layers.Conv2D(64, (3,3), activation='relu'),\n",
        "        #    tf.keras.layers.MaxPooling2D(2,2),\n",
        "            # The fourth convolution\n",
        "        #    tf.keras.layers.Conv2D(256, (3,3), activation='relu'),\n",
        "        #    tf.keras.layers.Conv2D(256, (3,3), activation='relu'),\n",
        "        #    tf.keras.layers.MaxPooling2D(2,2),\n",
        "            # Flatten the results to feed into a DNN\n",
        "            tf.keras.layers.Flatten(),\n",
        "            tf.keras.layers.Dropout(0.5),\n",
        "            # 512 neuron hidden layer\n",
        "            tf.keras.layers.Dense(512, activation='relu'),\n",
        "            tf.keras.layers.Dense(num_classes, activation='softmax')\n",
        "        ])\n",
        "        \n",
        "        return model7\n",
        "\n",
        "\n",
        "\n",
        "\n",
        "\n",
        " \n",
        "# =============================================================================\n",
        "#     elif suffix==10:\n",
        "# \n",
        "#     ################### model 10: change the syntax to the viz format #############\n",
        "#     # redo first model, but no pooling after first step\n",
        "#         \n",
        "#         from keras.models import Sequential\n",
        "#         from keras.layers import Conv2D\n",
        "#         from keras.layers import MaxPooling2D\n",
        "#         from keras.layers import Flatten\n",
        "#         from keras.layers import Dense\n",
        "#         from keras.layers import Dropout\n",
        "#         \n",
        "#         classifier10 = Sequential()\n",
        "#         #\n",
        "#          \n",
        "#         # Step 1 - Convolution\n",
        "#         \n",
        "#         classifier10.add(Conv2D(32, (3, 3), padding='same', input_shape = input_shape, activation = 'relu'))\n",
        "#         classifier10.add(Conv2D(32, (3, 3), activation='relu'))\n",
        "#         classifier10.add(MaxPooling2D(pool_size=(2, 2)))\n",
        "#         classifier10.add(Dropout(0.5)) # antes era 0.25\n",
        "#         # Adding a second convolutional layer\n",
        "#         classifier10.add(Conv2D(64, (3, 3), padding='same', activation = 'relu'))\n",
        "#         classifier10.add(Conv2D(64, (3, 3), activation='relu'))\n",
        "#         classifier10.add(MaxPooling2D(pool_size=(2, 2)))\n",
        "#         classifier10.add(Dropout(0.5)) # antes era 0.25\n",
        "#         # Adding a third convolutional layer\n",
        "#         ## classifier10.add(Conv2D(64, (3, 3), padding='same', activation = 'relu'))\n",
        "#         ## classifier10.add(Conv2D(64, (3, 3), activation='relu'))\n",
        "#         ## classifier10.add(MaxPooling2D(pool_size=(2, 2)))\n",
        "#         ## classifier10.add(Dropout(0.5)) # antes era 0.25\n",
        "#         # Step 3 - Flattening\n",
        "#         classifier10.add(Flatten())\n",
        "#         # Step 4 - Full connection\n",
        "#         classifier10.add(Dense(units = 512, activation = 'relu'))\n",
        "#         classifier10.add(Dropout(0.5)) \n",
        "#         classifier10.add(Dense(units = num_classes, activation = 'softmax'))\n",
        "#         \n",
        "#         classifier10.summary()\n",
        "#         \n",
        "#         classifier10.compile(optimizer = 'adam',\n",
        "#                            loss = 'categorical_crossentropy', \n",
        "#                            metrics = ['accuracy'])\n",
        "#         \n",
        "#         histEx10Epoch1d10 = classifier10.fit_generator(train_generator,\n",
        "#                                            steps_per_epoch = 100,\n",
        "#                                            epochs = 10,\n",
        "#         #                                  callbacks=[checkpointer],\n",
        "#                                            validation_data = validation_generator,\n",
        "#                                            validation_steps = 50)\n",
        "#         return classifier10\n",
        "# '''    \n",
        "# \n",
        "# \n",
        "# =============================================================================\n",
        " \n",
        "    elif suffix==8:\n",
        "        print('model 8')\n",
        "    ################### model 8: add additional layer to model 6 ################\n",
        "    # two conv layers before pooling\n",
        "    #del model8\n",
        "     \n",
        "        model8 = tf.keras.models.Sequential([\n",
        "            # Note the input shape is the desired size of the image 150x150 with 3 bytes color\n",
        "            # This is the first convolution\n",
        "            tf.keras.layers.Conv2D(32, (3,3), activation='relu', input_shape=input_shape),\n",
        "            tf.keras.layers.Conv2D(32, (3,3), activation='relu'),\n",
        "            tf.keras.layers.MaxPooling2D(2, 2),\n",
        "            # The second convolution\n",
        "        #    tf.keras.layers.Conv2D(64, (3,3), activation='relu'),\n",
        "        #    tf.keras.layers.MaxPooling2D(2,2),\n",
        "            # The third convolution\n",
        "            tf.keras.layers.Conv2D(64, (3,3), activation='relu'),\n",
        "            tf.keras.layers.Conv2D(64, (3,3), activation='relu'),\n",
        "            tf.keras.layers.MaxPooling2D(2,2),\n",
        "            # The fourth convolution\n",
        "            tf.keras.layers.Conv2D(128, (3,3), activation='relu'),\n",
        "            tf.keras.layers.Conv2D(128, (3,3), activation='relu'),\n",
        "            tf.keras.layers.MaxPooling2D(2,2),\n",
        "            # Flatten the results to feed into a DNN\n",
        "            tf.keras.layers.Flatten(),\n",
        "            tf.keras.layers.Dropout(0.5),\n",
        "            # 512 neuron hidden layer\n",
        "            tf.keras.layers.Dense(512, activation='relu'),\n",
        "            tf.keras.layers.Dense(num_classes, activation='softmax')\n",
        "        ])\n",
        "        \n",
        "        return model8\n",
        "\n",
        " \n",
        "\n",
        " \n",
        "    elif suffix==9:\n",
        "        ################### model 9: model 6 * 2 num_channels ################\n",
        "        # two conv layers before pooling\n",
        "        \n",
        "        #del model8\n",
        "        model9 = tf.keras.models.Sequential([\n",
        "            # Note the input shape is the desired size of the image 150x150 with 3 bytes color\n",
        "            # This is the first convolution\n",
        "            tf.keras.layers.Conv2D(64, (3,3), activation='relu', input_shape=input_shape),\n",
        "            tf.keras.layers.Conv2D(64, (3,3), activation='relu'),\n",
        "            tf.keras.layers.MaxPooling2D(2, 2),\n",
        "            # The second convolution\n",
        "        #    tf.keras.layers.Conv2D(64, (3,3), activation='relu'),\n",
        "        #    tf.keras.layers.MaxPooling2D(2,2),\n",
        "            # The third convolution\n",
        "            tf.keras.layers.Conv2D(128, (3,3), activation='relu'),\n",
        "            tf.keras.layers.Conv2D(128, (3,3), activation='relu'),\n",
        "            tf.keras.layers.MaxPooling2D(2,2),\n",
        "            # The fourth convolution\n",
        "        #    tf.keras.layers.Conv2D(256, (3,3), activation='relu'),\n",
        "        #    tf.keras.layers.Conv2D(256, (3,3), activation='relu'),\n",
        "        #    tf.keras.layers.MaxPooling2D(2,2),\n",
        "            # Flatten the results to feed into a DNN\n",
        "            tf.keras.layers.Flatten(),\n",
        "            tf.keras.layers.Dropout(0.5),\n",
        "            # 512 neuron hidden layer\n",
        "            tf.keras.layers.Dense(512, activation='relu'),\n",
        "            tf.keras.layers.Dense(num_classes, activation='softmax')\n",
        "        ])\n",
        "        \n",
        "        return model9\n",
        "        \n",
        "        ## model 9: waaay overfit...acc: .11 / .0786\n",
        "    \n",
        "    \n",
        "    elif suffix==11:\n",
        "        print('model11')\n",
        "    \n",
        "        model = tf.keras.models.Sequential([\n",
        "            # Note the input shape is the desired size of the image 150x150 with 3 bytes color\n",
        "            # This is the first convolution\n",
        "            tf.keras.layers.Conv2D(32, (3,3), activation='relu', input_shape=input_shape),\n",
        "            tf.keras.layers.MaxPooling2D(2, 2),\n",
        "            # The second convolution\n",
        "        #    tf.keras.layers.Conv2D(64, (3,3), activation='relu'),\n",
        "        #    tf.keras.layers.MaxPooling2D(2,2),\n",
        "            # The third convolution\n",
        "        #    tf.keras.layers.Conv2D(128, (3,3), activation='relu'),\n",
        "        #    tf.keras.layers.MaxPooling2D(2,2),\n",
        "            # The fourth convolution\n",
        "            tf.keras.layers.Conv2D(64, (3,3), activation='relu'),\n",
        "            tf.keras.layers.MaxPooling2D(2,2),\n",
        "            # Flatten the results to feed into a DNN\n",
        "            tf.keras.layers.Flatten(),\n",
        "            tf.keras.layers.Dropout(0.5),\n",
        "            # 512 neuron hidden layer\n",
        "            tf.keras.layers.Dense(512, activation='relu'),\n",
        "            tf.keras.layers.Dense(num_classes, activation='softmax')\n",
        "        ])\n",
        "        return model\n",
        "\n",
        "    \n",
        "   \n",
        " \n",
        "    elif suffix==12:\n",
        "        ################### model 12: model 10 in keras################\n",
        "        # two conv layers before pooling\n",
        "        \n",
        " \n",
        "        model12 = tf.keras.models.Sequential([\n",
        "            # Note the input shape is the desired size of the image 150x150 with 3 bytes color\n",
        "            # This is the first convolution\n",
        "            tf.keras.layers.Conv2D(32, (3,3), activation='relu', input_shape=input_shape),\n",
        "            tf.keras.layers.Conv2D(32, (3,3), activation='relu'),\n",
        "            tf.keras.layers.MaxPooling2D(2, 2),\n",
        "            # The second convolution\n",
        "        #    tf.keras.layers.Conv2D(64, (3,3), activation='relu'),\n",
        "        #    tf.keras.layers.MaxPooling2D(2,2),\n",
        "            # The third convolution\n",
        "            tf.keras.layers.Conv2D(64, (3,3), activation='relu'),\n",
        "            tf.keras.layers.Conv2D(64, (3,3), activation='relu'),\n",
        "            tf.keras.layers.MaxPooling2D(2,2),\n",
        "            # The fourth convolution\n",
        "        #    tf.keras.layers.Conv2D(256, (3,3), activation='relu'),\n",
        "        #    tf.keras.layers.Conv2D(256, (3,3), activation='relu'),\n",
        "        #    tf.keras.layers.MaxPooling2D(2,2),\n",
        "            # Flatten the results to feed into a DNN\n",
        "            tf.keras.layers.Flatten(),\n",
        "            tf.keras.layers.Dropout(0.5),\n",
        "            # 512 neuron hidden layer\n",
        "            tf.keras.layers.Dense(512, activation='relu'),\n",
        "            tf.keras.layers.Dense(num_classes, activation='softmax')\n",
        "        ])\n",
        "        \n",
        "        return model12\n",
        "        \n",
        "        ## model 9: waaay overfit...acc: .11 / .0786\n",
        "    \n",
        "    \n",
        " \n",
        "################### model 13: model 2 + 4*dense ################\n",
        " \n",
        "    elif (suffix==13):\n",
        "        print('model13')\n",
        " \n",
        "        model13 = tf.keras.models.Sequential([\n",
        "            # Note the input shape is the desired size of the image 150x150 with 3 bytes color\n",
        "            # This is the first convolution\n",
        "            tf.keras.layers.Conv2D(32, (3,3), activation='relu', input_shape=input_shape),\n",
        "            tf.keras.layers.MaxPooling2D(2, 2),\n",
        "            # The second convolution\n",
        "            tf.keras.layers.Conv2D(64, (3,3), activation='relu'),\n",
        "            tf.keras.layers.MaxPooling2D(2,2),\n",
        "            # The third convolution\n",
        "        #    tf.keras.layers.Conv2D(128, (3,3), activation='relu'),\n",
        "        #    tf.keras.layers.MaxPooling2D(2,2),\n",
        "            # The fourth convolution\n",
        "            tf.keras.layers.Conv2D(64, (3,3), activation='relu'),\n",
        "            tf.keras.layers.MaxPooling2D(2,2),\n",
        "            # Flatten the results to feed into a DNN\n",
        "            tf.keras.layers.Flatten(),\n",
        "            tf.keras.layers.Dropout(0.5),\n",
        "            # 512 neuron hidden layer\n",
        "            tf.keras.layers.Dense(512, activation='relu'),\n",
        "            tf.keras.layers.Dense(num_classes, activation='softmax')\n",
        "        ])\n",
        "        return model13\n",
        "\n",
        "        \n",
        "    elif suffix==16:\n",
        "        print('model' , suffix)\n",
        "################### model 6: pare down m5, since it crashes the pc ################\n",
        "# two conv layers before pooling\n",
        "\n",
        "\n",
        " \n",
        "        model16 = tf.keras.models.Sequential([\n",
        "            # Note the input shape is the desired size of the image 150x150 with 3 bytes color\n",
        "            # This is the first convolution\n",
        "            tf.keras.layers.Conv2D(32, (3,3), activation='relu', input_shape=input_shape),\n",
        "            tf.keras.layers.Conv2D(32, (3,3), activation='relu'),\n",
        "            tf.keras.layers.MaxPooling2D(2, 2),\n",
        "            # The second convolution\n",
        "        #    tf.keras.layers.Conv2D(64, (3,3), activation='relu'),\n",
        "        #    tf.keras.layers.MaxPooling2D(2,2),\n",
        "            # The third convolution\n",
        "            tf.keras.layers.Conv2D(64, (3,3), activation='relu'),\n",
        "            tf.keras.layers.Conv2D(64, (3,3), activation='relu'),\n",
        "            tf.keras.layers.MaxPooling2D(2,2),\n",
        "            # The fourth convolution\n",
        "        #    tf.keras.layers.Conv2D(256, (3,3), activation='relu'),\n",
        "        #    tf.keras.layers.Conv2D(256, (3,3), activation='relu'),\n",
        "        #    tf.keras.layers.MaxPooling2D(2,2),\n",
        "            # Flatten the results to feed into a DNN\n",
        "            tf.keras.layers.Flatten(),\n",
        "            tf.keras.layers.Dropout(0.5),\n",
        "            # 512 neuron hidden layer\n",
        "            tf.keras.layers.Dense(128, activation='relu'),\n",
        "            tf.keras.layers.Dense(num_classes, activation='softmax')\n",
        "        ])\n",
        "        \n",
        "        return model16\n",
        "\n",
        "    elif suffix==101:\n",
        "        # model 1 w/no dropout\n",
        "        print('model101')\n",
        "    \n",
        "        model = tf.keras.models.Sequential([\n",
        "            # Note the input shape is the desired size of the image 150x150 with 3 bytes color\n",
        "            # This is the first convolution\n",
        "            tf.keras.layers.Conv2D(32, (3,3), activation='relu', input_shape=input_shape),\n",
        "            tf.keras.layers.MaxPooling2D(2, 2),\n",
        "            # The second convolution\n",
        "        #    tf.keras.layers.Conv2D(64, (3,3), activation='relu'),\n",
        "        #    tf.keras.layers.MaxPooling2D(2,2),\n",
        "            # The third convolution\n",
        "        #    tf.keras.layers.Conv2D(128, (3,3), activation='relu'),\n",
        "        #    tf.keras.layers.MaxPooling2D(2,2),\n",
        "            # The fourth convolution\n",
        "            tf.keras.layers.Conv2D(64, (3,3), activation='relu'),\n",
        "            tf.keras.layers.MaxPooling2D(2,2),\n",
        "            # Flatten the results to feed into a DNN\n",
        "            tf.keras.layers.Flatten(),\n",
        "            #tf.keras.layers.Dropout(0.5),\n",
        "            # 512 neuron hidden layer\n",
        "            tf.keras.layers.Dense(128, activation='relu'),\n",
        "            tf.keras.layers.Dense(num_classes, activation='softmax')\n",
        "        ])\n",
        "        return model\n",
        "\n",
        "\n",
        "\n",
        "    else:\n",
        "        print('did not find suffix')\n",
        "\n",
        "    \n",
        "################################ END MODEL DEFINITION #####################\n",
        "\n",
        "\n",
        "\n",
        "\n",
        "\n",
        "\n",
        "\n",
        "\n",
        "\n",
        "\n",
        "\n",
        "\n"
      ],
      "execution_count": 0,
      "outputs": []
    },
    {
      "cell_type": "code",
      "metadata": {
        "id": "D_05CmFIj3GQ",
        "colab_type": "code",
        "colab": {}
      },
      "source": [
        ""
      ],
      "execution_count": 0,
      "outputs": []
    },
    {
      "cell_type": "markdown",
      "metadata": {
        "id": "9CdLfWxVknuP",
        "colab_type": "text"
      },
      "source": [
        "## x20ProcessModel.py\n",
        "\n",
        "compile and fit model \n",
        "\n",
        "==> return model and history object\n"
      ]
    },
    {
      "cell_type": "code",
      "metadata": {
        "id": "FM_gOtyLj3Pt",
        "colab_type": "code",
        "colab": {}
      },
      "source": [
        "\n",
        "\n",
        "def processModel(model, suffix, num_epochs, \n",
        "                 xoptimizer, \n",
        "                 train_generator, validation_generator,\n",
        "                 batch_size,\n",
        "                 callbacks=None):\n",
        "    \n",
        "    model.compile(loss = 'categorical_crossentropy', optimizer=xoptimizer, metrics=['accuracy'])\n",
        "    \n",
        "    \n",
        "    \n",
        "    # calculate step sizes    \n",
        "    #batch_size = 32\n",
        "    steps_per_epoch = int(train_generator.samples / batch_size)\n",
        "    validation_steps = int(validation_generator.samples / batch_size)\n",
        "    test_steps = int(test_generator.samples / batch_size)\n",
        "    \n",
        "    \n",
        "    #es = getEarlyStopping()\n",
        "    ## notation epock1d20 ...epochs 1 dotdotdot 20 ==> 1 thru 20\n",
        "    history  = model.fit(train_generator, epochs=num_epochs, \n",
        "                         validation_data = validation_generator,\n",
        "                         steps_per_epoch=steps_per_epoch,\n",
        "                         validation_steps=validation_steps,\n",
        "                         batch_size=batch_size,\n",
        "                         verbose = 1, callbacks=callbacks)\n",
        "    # plot History\n",
        "    #plotModelHistory(history, suffix)\n",
        "\n",
        "    return model, history\n",
        "\n",
        "\n"
      ],
      "execution_count": 0,
      "outputs": []
    },
    {
      "cell_type": "code",
      "metadata": {
        "id": "SHRuoNyr8_sy",
        "colab_type": "code",
        "colab": {}
      },
      "source": [
        " "
      ],
      "execution_count": 0,
      "outputs": []
    },
    {
      "cell_type": "markdown",
      "metadata": {
        "id": "EgTHJlHtk8Jo",
        "colab_type": "text"
      },
      "source": [
        "# main.py"
      ]
    },
    {
      "cell_type": "code",
      "metadata": {
        "id": "lmP_6BENk9pF",
        "colab_type": "code",
        "outputId": "2ffe0456-9ba6-423f-ec46-2976cdca23f8",
        "colab": {
          "base_uri": "https://localhost:8080/",
          "height": 85
        }
      },
      "source": [
        "#history_path = 'C:\\\\Users\\\\rozoe\\\\jy\\\\ch10ML\\\\tensorflow\\\\capstone2\\\\history\\\\'\n",
        "history_path = getHistoryPath()\n",
        "print(history_path)\n",
        "\n",
        "train_generator, validation_generator = dataGenerators(target_size)\n",
        "\n",
        "test_generator = testDataGenerator(target_size)\n"
      ],
      "execution_count": 17,
      "outputs": [
        {
          "output_type": "stream",
          "text": [
            "/content/gdrive/My Drive/Capstone2/history/\n",
            "Found 5055 images belonging to 10 classes.\n",
            "Found 1092 images belonging to 10 classes.\n",
            "Found 1095 images belonging to 10 classes.\n"
          ],
          "name": "stdout"
        }
      ]
    },
    {
      "cell_type": "code",
      "metadata": {
        "id": "WznMZvJifqzs",
        "colab_type": "code",
        "outputId": "876a23cf-aac3-464f-f506-901e445daee1",
        "colab": {
          "base_uri": "https://localhost:8080/",
          "height": 34
        }
      },
      "source": [
        " \n",
        "input_shape"
      ],
      "execution_count": 18,
      "outputs": [
        {
          "output_type": "execute_result",
          "data": {
            "text/plain": [
              "(150, 150, 3)"
            ]
          },
          "metadata": {
            "tags": []
          },
          "execution_count": 18
        }
      ]
    },
    {
      "cell_type": "code",
      "metadata": {
        "id": "5Ccpamp2zfJN",
        "colab_type": "code",
        "outputId": "6aed15f8-d6e1-4855-f2c6-14d477fc8acb",
        "colab": {
          "base_uri": "https://localhost:8080/",
          "height": 1000
        }
      },
      "source": [
        "# =============================================================================\n",
        "# Run Models\n",
        "# =============================================================================\n",
        "\n",
        "# Model suffix \n",
        "suffix = 101\n",
        "\n",
        "\n",
        "# Label saved objects with model suffix and image size\n",
        "saveInfo = 'M' + str(suffix) + 'Pix' + str(img_cols)\n",
        "print('SaveInfo: ', saveInfo)\n",
        "\n",
        "model = make_model(suffix, num_classes, input_shape)\n",
        "model.summary()\n",
        "\n",
        "model, history = processModel(model, saveInfo, 100, \n",
        "                              xoptimizer, \n",
        "                              train_generator, validation_generator,\n",
        "                              batch_size,\n",
        "                              callbacks=callbacks)\n",
        "\n",
        "\n",
        "print('*** pickling history ***')\n",
        "pickleHist(history, history_path + 'history' + saveInfo)\n",
        "#pickleHist(history, history_path + 'historyLR1e4Epochs21d30Model' + str(suffix))\n",
        "\n",
        "\n",
        "print('*** plotting/saving history figures ***')\n",
        "# plot History\n",
        "#plotModelHistory(history, saveInfo)\n",
        "plotSaveModelHistory(history, saveInfo, history_path)\n",
        "\n",
        "\n",
        "\n",
        "\n",
        "print('*** evaluating Model ***')\n",
        "# Model Evaluation\n",
        "\n",
        "test_steps = int(test_generator.samples / batch_size)\n",
        "eval_output = model.evaluate(test_generator, steps=test_steps)         \n",
        "print(eval_output)\n",
        "\n",
        "\n",
        "\n",
        "# Save Evaluation information\n",
        "\n",
        "evalfile = history_path + 'eval' + saveInfo\n",
        "print(evalfile)\n",
        "#pickleEval(eval_output, history_path + 'eval' + str(suffix))\n",
        "pickleEval(eval_output, evalfile)\n",
        "\n",
        "\n",
        "\n",
        "print('*** saving model  ***')\n",
        "\n",
        "# Save the entire model as a SavedModel.\n",
        "\n",
        "savedmodeldir = '/content/gdrive/My Drive/Capstone2/saved_model/'\n",
        "\n",
        "#!mkdir -p savedmodeldir\n",
        "#!mkdir -p '/content/gdrive/My Drive/Capstone2/saved_model'\n",
        "modelpath =  savedmodeldir + 'model' + saveInfo\n",
        "model.save(modelpath)\n",
        "\n",
        "\n"
      ],
      "execution_count": 19,
      "outputs": [
        {
          "output_type": "stream",
          "text": [
            "SaveInfo:  M101Pix150\n",
            "model101\n",
            "Model: \"sequential\"\n",
            "_________________________________________________________________\n",
            "Layer (type)                 Output Shape              Param #   \n",
            "=================================================================\n",
            "conv2d (Conv2D)              (None, 148, 148, 32)      896       \n",
            "_________________________________________________________________\n",
            "max_pooling2d (MaxPooling2D) (None, 74, 74, 32)        0         \n",
            "_________________________________________________________________\n",
            "conv2d_1 (Conv2D)            (None, 72, 72, 64)        18496     \n",
            "_________________________________________________________________\n",
            "max_pooling2d_1 (MaxPooling2 (None, 36, 36, 64)        0         \n",
            "_________________________________________________________________\n",
            "flatten (Flatten)            (None, 82944)             0         \n",
            "_________________________________________________________________\n",
            "dense (Dense)                (None, 128)               10616960  \n",
            "_________________________________________________________________\n",
            "dense_1 (Dense)              (None, 10)                1290      \n",
            "=================================================================\n",
            "Total params: 10,637,642\n",
            "Trainable params: 10,637,642\n",
            "Non-trainable params: 0\n",
            "_________________________________________________________________\n",
            "Epoch 1/100\n",
            "157/157 [==============================] - 2055s 13s/step - loss: 1.7332 - accuracy: 0.3999 - val_loss: 1.0416 - val_accuracy: 0.6369\n",
            "Epoch 2/100\n",
            "157/157 [==============================] - 52s 333ms/step - loss: 1.0935 - accuracy: 0.5994 - val_loss: 0.7531 - val_accuracy: 0.7445\n",
            "Epoch 3/100\n",
            "157/157 [==============================] - 52s 333ms/step - loss: 0.9473 - accuracy: 0.6422 - val_loss: 0.7181 - val_accuracy: 0.7123\n",
            "Epoch 4/100\n",
            "157/157 [==============================] - 52s 328ms/step - loss: 0.8855 - accuracy: 0.6739 - val_loss: 0.6556 - val_accuracy: 0.7665\n",
            "Epoch 5/100\n",
            "157/157 [==============================] - 52s 330ms/step - loss: 0.8109 - accuracy: 0.6974 - val_loss: 0.6015 - val_accuracy: 0.7812\n",
            "Epoch 6/100\n",
            "157/157 [==============================] - 53s 340ms/step - loss: 0.7701 - accuracy: 0.7205 - val_loss: 0.5754 - val_accuracy: 0.7895\n",
            "Epoch 7/100\n",
            "157/157 [==============================] - 52s 333ms/step - loss: 0.7307 - accuracy: 0.7354 - val_loss: 0.5408 - val_accuracy: 0.8079\n",
            "Epoch 8/100\n",
            "157/157 [==============================] - 51s 327ms/step - loss: 0.7129 - accuracy: 0.7410 - val_loss: 0.4973 - val_accuracy: 0.8263\n",
            "Epoch 9/100\n",
            "157/157 [==============================] - 51s 327ms/step - loss: 0.7065 - accuracy: 0.7436 - val_loss: 0.5437 - val_accuracy: 0.8033\n",
            "Epoch 10/100\n",
            "157/157 [==============================] - 51s 324ms/step - loss: 0.6797 - accuracy: 0.7547 - val_loss: 0.4784 - val_accuracy: 0.8336\n",
            "Epoch 11/100\n",
            "157/157 [==============================] - 51s 325ms/step - loss: 0.6461 - accuracy: 0.7718 - val_loss: 0.4837 - val_accuracy: 0.8217\n",
            "Epoch 12/100\n",
            "157/157 [==============================] - 51s 326ms/step - loss: 0.6297 - accuracy: 0.7762 - val_loss: 0.4845 - val_accuracy: 0.8254\n",
            "Epoch 13/100\n",
            "157/157 [==============================] - 51s 328ms/step - loss: 0.6093 - accuracy: 0.7736 - val_loss: 0.4629 - val_accuracy: 0.8410\n",
            "Epoch 14/100\n",
            "157/157 [==============================] - 51s 327ms/step - loss: 0.6042 - accuracy: 0.7794 - val_loss: 0.4549 - val_accuracy: 0.8364\n",
            "Epoch 15/100\n",
            "157/157 [==============================] - 51s 322ms/step - loss: 0.5846 - accuracy: 0.7975 - val_loss: 0.4414 - val_accuracy: 0.8493\n",
            "Epoch 16/100\n",
            "157/157 [==============================] - 51s 323ms/step - loss: 0.5613 - accuracy: 0.7977 - val_loss: 0.4161 - val_accuracy: 0.8511\n",
            "Epoch 17/100\n",
            "157/157 [==============================] - 51s 324ms/step - loss: 0.5608 - accuracy: 0.8023 - val_loss: 0.4000 - val_accuracy: 0.8631\n",
            "Epoch 18/100\n",
            "157/157 [==============================] - 51s 322ms/step - loss: 0.5517 - accuracy: 0.8063 - val_loss: 0.3791 - val_accuracy: 0.8759\n",
            "Epoch 19/100\n",
            "157/157 [==============================] - 51s 323ms/step - loss: 0.5372 - accuracy: 0.8087 - val_loss: 0.3902 - val_accuracy: 0.8649\n",
            "Epoch 20/100\n",
            "157/157 [==============================] - 51s 324ms/step - loss: 0.5207 - accuracy: 0.8049 - val_loss: 0.3940 - val_accuracy: 0.8649\n",
            "Epoch 21/100\n",
            "157/157 [==============================] - 50s 318ms/step - loss: 0.5289 - accuracy: 0.8158 - val_loss: 0.3685 - val_accuracy: 0.8768\n",
            "Epoch 22/100\n",
            "157/157 [==============================] - 50s 320ms/step - loss: 0.5046 - accuracy: 0.8214 - val_loss: 0.3822 - val_accuracy: 0.8722\n",
            "Epoch 23/100\n",
            "157/157 [==============================] - 50s 319ms/step - loss: 0.5162 - accuracy: 0.8214 - val_loss: 0.3794 - val_accuracy: 0.8759\n",
            "Epoch 24/100\n",
            "157/157 [==============================] - 50s 318ms/step - loss: 0.4935 - accuracy: 0.8236 - val_loss: 0.3416 - val_accuracy: 0.8971\n",
            "Epoch 25/100\n",
            "157/157 [==============================] - 50s 321ms/step - loss: 0.4942 - accuracy: 0.8332 - val_loss: 0.3563 - val_accuracy: 0.8897\n",
            "Epoch 26/100\n",
            "157/157 [==============================] - 51s 324ms/step - loss: 0.4899 - accuracy: 0.8228 - val_loss: 0.3634 - val_accuracy: 0.8888\n",
            "Epoch 27/100\n",
            "157/157 [==============================] - 51s 322ms/step - loss: 0.4755 - accuracy: 0.8366 - val_loss: 0.3552 - val_accuracy: 0.8888\n",
            "Epoch 28/100\n",
            "157/157 [==============================] - 51s 322ms/step - loss: 0.4583 - accuracy: 0.8455 - val_loss: 0.3464 - val_accuracy: 0.8934\n",
            "Epoch 29/100\n",
            "157/157 [==============================] - 51s 322ms/step - loss: 0.4516 - accuracy: 0.8405 - val_loss: 0.3283 - val_accuracy: 0.8943\n",
            "Epoch 30/100\n",
            "157/157 [==============================] - 50s 319ms/step - loss: 0.4567 - accuracy: 0.8387 - val_loss: 0.3580 - val_accuracy: 0.8833\n",
            "Epoch 31/100\n",
            "157/157 [==============================] - 50s 321ms/step - loss: 0.4583 - accuracy: 0.8389 - val_loss: 0.3184 - val_accuracy: 0.9035\n",
            "Epoch 32/100\n",
            "157/157 [==============================] - 50s 318ms/step - loss: 0.4371 - accuracy: 0.8455 - val_loss: 0.3466 - val_accuracy: 0.8897\n",
            "Epoch 33/100\n",
            "157/157 [==============================] - 49s 315ms/step - loss: 0.4482 - accuracy: 0.8427 - val_loss: 0.3414 - val_accuracy: 0.8943\n",
            "Epoch 34/100\n",
            "157/157 [==============================] - 49s 315ms/step - loss: 0.4399 - accuracy: 0.8439 - val_loss: 0.3251 - val_accuracy: 0.8961\n",
            "Epoch 35/100\n",
            "157/157 [==============================] - 49s 312ms/step - loss: 0.4316 - accuracy: 0.8507 - val_loss: 0.3448 - val_accuracy: 0.8879\n",
            "Epoch 36/100\n",
            "157/157 [==============================] - 49s 313ms/step - loss: 0.4270 - accuracy: 0.8501 - val_loss: 0.3373 - val_accuracy: 0.8906\n",
            "Epoch 37/100\n",
            "157/157 [==============================] - 49s 313ms/step - loss: 0.4342 - accuracy: 0.8517 - val_loss: 0.3378 - val_accuracy: 0.8915\n",
            "Epoch 38/100\n",
            "157/157 [==============================] - 50s 319ms/step - loss: 0.4311 - accuracy: 0.8515 - val_loss: 0.3254 - val_accuracy: 0.9044\n",
            "Epoch 39/100\n",
            "157/157 [==============================] - ETA: 0s - loss: 0.4255 - accuracy: 0.8515Restoring model weights from the end of the best epoch.\n",
            "157/157 [==============================] - 49s 315ms/step - loss: 0.4255 - accuracy: 0.8515 - val_loss: 0.3213 - val_accuracy: 0.9007\n",
            "Epoch 00039: early stopping\n",
            "*** pickling history ***\n",
            "*** plotting/saving history figures ***\n"
          ],
          "name": "stdout"
        },
        {
          "output_type": "display_data",
          "data": {
            "image/png": "[encoded data removed]",
            "text/plain": [
              "<Figure size 432x288 with 1 Axes>"
            ]
          },
          "metadata": {
            "tags": [],
            "needs_background": "light"
          }
        },
        {
          "output_type": "display_data",
          "data": {
            "image/png": "[encoded data removed]",
            "text/plain": [
              "<Figure size 432x288 with 1 Axes>"
            ]
          },
          "metadata": {
            "tags": [],
            "needs_background": "light"
          }
        },
        {
          "output_type": "stream",
          "text": [
            "*** evaluating Model ***\n",
            "34/34 [==============================] - 349s 10s/step - loss: 0.3170 - accuracy: 0.8778\n",
            "[0.31697139143943787, 0.8777573704719543]\n",
            "/content/gdrive/My Drive/Capstone2/history/evalM101Pix150\n",
            "*** saving model  ***\n",
            "WARNING:tensorflow:From /usr/local/lib/python3.6/dist-packages/tensorflow/python/ops/resource_variable_ops.py:1817: calling BaseResourceVariable.__init__ (from tensorflow.python.ops.resource_variable_ops) with constraint is deprecated and will be removed in a future version.\n",
            "Instructions for updating:\n",
            "If using Keras pass *_constraint arguments to layers.\n",
            "INFO:tensorflow:Assets written to: /content/gdrive/My Drive/Capstone2/saved_model/modelM101Pix150/assets\n"
          ],
          "name": "stdout"
        }
      ]
    },
    {
      "cell_type": "markdown",
      "metadata": {
        "id": "nsvg9XoYu0MG",
        "colab_type": "text"
      },
      "source": [
        ""
      ]
    },
    {
      "cell_type": "markdown",
      "metadata": {
        "id": "iwRc5sKdu1Ej",
        "colab_type": "text"
      },
      "source": [
        "# Results\n",
        "\n",
        "![alt text](https://)\n",
        "\n",
        "\n",
        "\n",
        "\n",
        "![image.png](data:image/png;base64,iVBORw0KGgoAAAANSUhEUgAAAeEAAAEhCAYAAABIohi6AAAgAElEQVR4Aey9+ZMc13Xv+f4dazFFEWsvVZX7WvtevaC70diBBroBggBBcGvKIilxlaimKFHWSgmEFmuxZMsSm6CWkN6zX4QVL2ZMxXPIE+MfxhPxxjFj//6dODfrZt3KzqquanR2VTfuD1mZletdTt5PnnPPPfe//Mu//As+/PBDucgykDIgZUDKgJQBKQN7KAPE3/9CAM5kMnKRZSBlQMqAlAEpA1IG9lAGiL8SwntY4PJjR37sSRmQMiBlQMoAlwEJYQlg+dUrZUDKgJQBKQMjkgEJ4REVPP8Kkmv5RSxlQMqAlIEHVwYkhCWE5RewlAEpA1IGpAyMSAYkhEdU8PLL98H98pV1L+teyoCUAS4DEsISwvILWMqAlAEpA1IGRiQDEsIjKnj+FSTX8otYyoCUASkDD64MSAhLCMsvYCkDUgakDEgZGJEMSAiPqODll++D++Ur617WvZQBKQNcBiSEJYTlF7CUASkDUgakDIxIBiSER1Tw/CtIruUXsZQBKQNSBh5cGZAQlhCWX8BSBqQMSBmQMjAiGZAQHlHByy/fB/fLV9a9rHspA1IGuAxICEsIH4gv4LnX7gXTr925gTlFORB54i+pXMsGW8rAwZUBCWEJ4T0BVgjJe68NDckbd9pzXd+5EZtWRZnDa/eCc+69Nhd7zigase3SnVSaBn3u/dRJUmmX9z24sJF1G1+3EsIPCITDBpdNVn0Pd27Ea4vK3Gu4J0xovVtQC5+fBITDNN/Da3NBvkIQCXn58MN7uBfRlMPzIvt3o8EQ7x13v/B4TJmEx3p8eMTdj+8b9Np+dTJ34zXcude2LvAyvHcPd17bO0uD+HFFDdVuySIvJ7mOh4Isl70tFwnhBwTCYcMcNqjxGumW83YAgbiXuF+DH3e+uC9MU4+0xN07vIbnV1y3oUeNfHiehHBoQbhxJwJfsexoO+ajQayvXtvKjTtBl8GHd3BjgC6D6AfhTp/bKz1y/97CRpZ3fHlLCD9oEL53r63pdrRG/nIoyg3cYQ3uPdxrm3c/7AE+fs2g6zhQDnqtCMroNaK2JGr30Wu6gPvhhz0tAdH738//aBqi9wqPx0AtPLaD8h/02rg66YDyQ1Dd8/71oPw6cN6JVtq592AQ5vm49xq3zmyV2WiZyv/xDb0sl/EtFwnhBw3Cd250aX/iyxk2yv3OYWbKdh9tG9hRE+WWBvvOa7jBHaciwCFt5w4Hfni/7n5d3hjHfRD0atjjrhE1Kw6R6HlzobbWafA7HycE707atkt79N5iWdN2eDxSJl3HIhAOzMT9yz+8r3DtIHVC5/C+9V5aZ3jvtjbbXTadLo5Qltp561zXnXbefRAtm859qR466eL1Fj2f6i38cCTTtfABQef2Ot55TveHWTT9Yp2QDPByovTEme7v3dlqaYpPQ7c1RsxXXBrE43J7fME6TN1ICD+AEI4Dl9gAk0YZNppCQx42CgyWYmMaaE1c8MJr484TgNNJR+Rekf6/8H5CWrY8K3Is7ppBICyWA4d+mO8h0x6XBp5uWofHhfvy4+ExIV9hOuLKVTgv7tpwX9y17efHlQ9PD1930hB8pAwKsfjndz50+P35OpSNdtrC58aUVXgskjduGel3fND0U7pi83DnTtt6tFWGufzQtf3S0DnWsRCIctjrw4OXlVzvbxhLCD+IEA7Nzp2v/04DHDQEYYPTbtzFxoqbKamhCDXcD7c2yuF5oeNUpz9RbGTuCB7NTFtgjWmnQYqmhTc6Ypp4g8uPRa9haeVe1u200rnR82hfCAA67wY3hQplJWiM/dIed2+evq5nR+BBL2W4DFn+Xfftd21cnQj7ouXJ091VNnMKetVBCBYBmp1rO3XL7xtd87LjAOrIZze4xeeH8sb6+gPnw2GOi3mOSz9PE9UNt4gE78BruDHXsZDMvdbd972TNPTKb7Sc5P/9DWCqPwnhBxDCVPFhg9JuJMP/7YY7+r/TgPZuBKkR63VetFHrNDICcET4bANKykPnWVsb9TD9XfcMnkWmSt54hecJ+8QPhCgM2XMFWIXHu54TlFHcvflzaR0e77o2Uh4cpDFmcpaWmA+q8L7bXNuvTkQgiWnulPnWjy7xmui9WVrDPGytr65nhHnqyJpYJxzM7J5hXXTO7brXdsfDZ3U+suj6uPRHy5U/R5m7gdfucF8Lsf6CfHZkPT6NdJ/oveOez58n1/sfvGIdSgg/oBDubkw7Dlm8jy7aKHTO725Axa/8bgh3nxdtVDoNk9hoidudBiuaFi7AvfbT8fCYCDgaYiP06XadJ0CY9nfyG6RJBMygaQ/TELn3lvQL2uKWY1tA2l2u0fKPy1MnL93X9qsTEXQ8TbQOr4mxfIhlFJ4n5K1XOsT703bnPFEehO0h7tm5V3fe+TPjyq8rn8Kz4upTvH7rB1nwzO3S0J1nkvvuPmeeVrk+WPDl9Skh/KBCWNAAwsajT4PTaUg6cGSNR6hpBJpEr/OijXIHZN3344Iprrdr/MTGn18Xdw0/Jq7jzhO1rriyGTTtcfeOfbZQ7vx49Npe5dpJS0eTG/TaLXUiykRMmrrKpX1chJBYD9F7U746eYgH4pa8ix9QkW3+rE7+4+Vo2+NCnvk9KR1x6Y+Wa3eeOs+P5nO7NLD7COkgb3A+SoF/FPOykeuDB2IJ4QcUwvQyhw1Nu4ETtZ9og9NpSDpDV6hRDs/j3rIClLnZt+vamMab9+UFjRH1M5Ona8e7NHyGoFFGG7po4xR3TfQc+h93XlgulIbQhNoJFiGCp1/a4+4tpiE8LuSVHw+PcU1YKFf+zLjyj8uTWP796oSuDfMe8TAOntUZosSB1QXmtkey+DzRy7pTZx1g8fzytVi2/Blxx6gMaL94fle5vEaBReYGON7ROsPrxbIW6iZaJ+z5oXzcwQ3WRx7zTgiADZ/R9qfo8ingIwj4B4fwbF4Gci0hHPalSWHYX8IQ24CIjY3QB0t1G3d+uI83EsI6FuDC8TiNUmzww+P8GqEBCp8rQDhunyiT2x3n50bPExt1DoHwHCHIxCBpD68T0s2f21XGQl758bhrw328jIR1bPkLz+13bRcoBaezLXXSfh4HOU/rIGVB54plG9x7K4w794rXljv56BzvXCOYrAUP+50eZ2kU6iZ8tlCuXR8cQn0E+Rs8jax8ut7HzkcfL2e53l9t7qD1RbLyX+hn0AvkeftTEGIbELHBFRoWquO482k/eX6KYS0/jOlnZdqREHWJjZnkDYzQqLH7RcZ3bhdakq4RG3MOStovLr3SL55D29HzwgZbSKf4PBF20XGf0bRH793z2cKz+Dm9rh2k/OOuHaZOmNbLrBERqN27g9cifeqUXnb+MPUdwirQHnmeaR2XdvF4R5vumN/peHe5bA1P2u/4oOnvlTZKU+edIL8Dbk7uQHiQNLI6CsfMb/1AEctBbne/7/u5PCSEI433fq7MByXtnYa4u5F7UPIv83lwGuBoXYagj/kwi54r/x8MOZAQlhDu0iD3w4sdNlQR7X0/pF2m8WA0nEnUo2jaFi0uSTxL3nN85FBCWEJ4X0FYNA33MkXLBmZ8GhhZF4PXRdgVIvgeyPIbvPz2a1lJCEsI7ysI79cXTab74Demso5lHe9EBiSEJYQlhKUMSBmQMiBlYEQyICE8ooLfyReTvEZ+aUsZkDIgZeBgyYCEsISw/AKWMiBlQMqAlIERyYCE8IgKXn7NHqyvWVmfsj6lDEgZ2IkMSAhLCMsvYCkDUgakDEgZGJEMSAiPqOB38sUkr5Ff2lIGpAxIGThYMiAhLCEsv4ClDEgZkDIgZWBEMiAhPKKCl1+zB+trVtanrE8pA1IGdiIDEsISwvILWMqAlAEpA1IGRiQDEsIjKvidfDHJa+SXtpQBKQNSBg6WDEgISwjLL2ApA1IGpAxIGRiRDEgIj6jg5dfswfqalfUp61PKgJSBnciAhLCEsPwCljIgZUDKgJSBEcmAhPCICn4nX0zyGvmlLWVAyoCUgYMlAxLCEsLyC1jKgJQBKQNSBkYkAxLCIyp4+TV7sL5mZX3K+pQyIGVgJzIgISwhLL+ApQxIGZAyIGVgRDIgITyigt/JF5O8Zry+tBWlgfW7m9i8u46GohyYRmxlYxObm8Fyd71xYPJF74+irGCjnbfNzbtYbxycepPtw3i1D4PWh4SwhPCBamQHFfz7PS9ozO9ifWUddw8QhJXGOjba4KXtu5sbWDkgHxj8o2ljRYL3fuVfXr97wJcQlhA+EBC23DxWn/06rv3FO8hX5nacJwbXu+tYD7XBDawwGMVrhgxUCUK46Jn44afP46cvXsRSNbtn+aJGNvzQSEhbzGaz+MIXvoC33noLrVYr8bwlXVcSTLsHpgepLCWEJYR33PiN04ty/YW7eOXd/8mWp7+wueM8cXMl15YC02ygDcZphkk37L94eQX/+cN1tvzhy9f3LF8MwvTxkeAHxle+8hX8/ve/Z8sPfvCDxPOmrGyEZvbA3H5wtPxxehdlWob7GJEQlhDeceOX5MumLf8l9LVfD7w885f/FEL4+W99OPB19Azt/A+QUXVWDlwT5n28jfW74P2iAaC7G+6dQPgXFw/jf91+eKDlP75zNYTwf3z3iYGuEe/9h6uPwFDbWq0A1G3zxfq7h+8zfeGFF/Ctb31roOWDDz4IIfzb3/52oGvEe7/xxhvQNC3Q2AfIG4Pwxkoo7/SBxes2SVmW9x4OSg9aeUkISwiHjdLYCL+qQ7/0N0OBtP70f8VffOOPePGdP2LphX8Y6loCsWIW9wTCBMR/fuyTA8P031808Z93b+I/v/8k/v310sDXiSCu2amBQcVlYCeAIiB++ctfHhim3//+9/Gb3/wGBOCf/OQnA18ngphM2oN+OEUhLH6I8HzLtQTmXsuAhLCE8PhBmOrE8KFkF/dmsathGQzaoPMXdSeacMFM40J+ak+WGTc11McFd17aqYboOA6azeaeLIVCYbi8CY5mPJ+824HXp1xLCO+1DEgISwiHANpr4RvH5w0K4cA03RnKQ32M49ygD5yvLf2m42+yHTRvJG+k/fLhV5uCaXocZVGm6cH4IJAQlhCWEJYyIGVAyoCUgRHJgITwiApefuU+GF+5sp5lPUsZkDLQTwYkhCWE5RewlAEpA1IGpAyMSAYkhEdU8P2+jOQx+eUsZUDKgJSBB0MGJIQlhOUXsJQBKQNSBqQMjEgGJIRHVPDyK/fB+MqV9SzrWcqAlIF+MiAhLCEsv4ClDEgZkDIgZWBEMiAhPKKC7/dlJI/JL2cpA1IGpAw8GDIgISwhLL+ApQxIGZAyIGVgRDIgITyigpdfuQ/GV66sZ1nPUgakDPSTAQlhCWH5BSxlQMqAlAEpAyOSAQnhERV8vy8jeUx+OUsZkDIgZeDBkAEJYQlh+QUsZUDKgJQBKQMjkgEJ4REVvPzKfTC+cmU9y3qWMiBloJ8MSAhLCMsvYCkDUgakDEgZGJEMSAiPqOD7fRnJY/LLWcqAlAEpAw+GDEgISwjLL2ApA1IGpAxIGRiRDEgIj6jg5Vfug/GVK+tZ1rOUASkD/WRgbCHcWL+Lzc3NYNlYif1KW9loH9/cxN31RnhOr/39CkIeky+KlAEpA1IGpAzstQyMJYSVxjrubm5gRVGgKCvY2LyL9YYSQpYKSVnZwObddTQi59C1G20gi/fZ64KVz5Mvs5QBKQNSBqQMbCcDYwlh0oJFzTb6nzIV3Ufa78ZKBNQE8zaotysIeVy+LFIGpAxIGZAysNcysK8hvCmYqQnCHNwdc3SgTe91ocrnyRdZyoCUASkDUgYGkYF9C2FFaWD9bqdPmPqPYzXhGFP2dgVz8eJFlMvlA7vUajWZt31av7Lu9u97Ketu/9ZdpVLp6g7djiHDHN+3EI5mcmVja78xnRNnpo5eG/3/1FNPJVbg0WeN4j99YIziuXvxzIOcNyq/g5y/g5w3WXf7WytOUjbHEsKiQ1UvxyyxQe9y0lrZCDXiQa4V78O3JYT37wuT5MvC5WOU64Ocv4OcN5KZg5y/g5y3pOtuLCFMme7063b6egM4BxpvsM3N0Z2+3wC8fP9WE/UgDaiEsITwIHIyinMOcmN3kPNGsnKQ83eQ85Z03Y0thEfRwPFnSghLCHNZGLf1QW7sDnLeSI4Ocv4Oct6SrjsJ4ZiIWRLCEsLjBl+enoPc2B3kvCXdkHP5GNVa1t3O20wJYQnhA+WkJRuDnTcGo2rA+XNl3cm647IwbuskZVNCWEJYQjhGBsatEeDpSbIx4M8YZq2wiHUU2e7+FxoGMsx9hknnOJw7bnW3m2VykPNG5ZRk/iSEYxpgaY6WX+S72UDt7F4U/W3rUi7TeMWt+3f2jMHqOQ6M0efFnTPsvkEhvJNnR68Zxf8kG/JR5Ed85kHOG+UzyfxJCEsIS004RgbEBmZvt9uAVRSkM1uXUrmyZX9GEaE8GFh75SkKTvG86DH6r6rqri0E4WHuF5ee6D4x/bQdPS7+j5672/+TbMh3O63D3u8g543KIsn8SQjHNMBSE76/hnzYF3g3z0/yZdnNdMbfK4BpAF8V6YyKtKIhrejhUizXwm12jM5hy/Ag7gUgcT9t9wKjpmngi67r4AvfN+yaIkr1uobfm9biOb3SFt0fzZP4P1oX4rHodvTcYf7vb9ns3yYc5LxRHSeZPwlhCWGpCcfIwDCN6+6cq4A02gDAIngNpBUTadViS7HSDLZpn0LHOKC19rXUWBKQuxtNESbiMXE/bUfhxYHHIUj/+bZhGIhbTNPETpZGo9Hzurjn0D6eFp5Ovo7bH81b9H+0LMT/YpnRtnhM3I6eJ/5PsiEXnzOK7YOcNyrPJPMnIRxprKjApSbc3YCP4qXe6TOTfFl2mqbtrxM0YNJ8MwRWEynFQkp1MK04mFZdtuQrs8G24rBjdA6DNIMxXasymCuKGoKCP1+EBW1HISQCrBdsOVwty2LApDUttm3f99JsNge6B38mpYWng6eLr+OgHQVz9D/lOVom0f/RMuT/eRnzNd8vrvenbA7WFhzkvFGdJpk/CWEJ4S1aE29I9uM6yZclufIQNGACsNqGr+phSs1iSitgSi9hSi/CrywF27RPzWJa9RiM6ZqMaiKj6qHjlgjiKEzigCuCi8OMAy8OtI7jgBbXdcM1bQ+7eJ4H3/cxOzvL1rRN++LuIz6Ptjn8xW2+j9Y8/XHAFvPLt6Ngjv7fDtQidPk2lxsum3x/dM3P249rnrf9mPZB0pxk/iSEJYQlhGNkYJAXc3fO4WZo6v9ta8Ck/WoBfCf1Go6bMzhmzOG4eQJ2dQXHzXlMWLOYMuqY1oqYVrNIKQ6Dd0YxkFE0KCppdYFmNyxwRYgR3ETwiWAkUPZbCKb9lmw2i3w+j2KxiFKphKWlJaZx0Dbto2McyP2eI6ZJ3BbTLUJa3L5fUA8D6V7e31E5isKZ/kfPGbf/SUJqHPKaZP4khGMaYGmOHswENQ4vRzQNSb4s0Wftzn+uBQcQJvMyabek/U7odRyzlnDEOY/D3mUc9lahNZ7EYXcFR53zOGYvYdJsIqWXkDZyyOgeVM2GqltQNQM66zMN+k25phfVcHsBl8MsDn4iWAmkO1lyuRwKhQIITNQXTFrwuXPn2Jq2aR8do3Po3LhniOng23HpFffxfPH1/YKal6u4FsEsbpPjWdQiIf4fBL6DnLM7cjlcG7D/3rvxyZ+EsITw2H9lD9Oo7L/GoA1h5gVtMNMymZmZBmyfxBHnEg651/FI9hZbMq1P41DuFg5nH8Mx7zIm7GWk7BbSZgmKmYNq+NAMB7ppwzDIQSros42akwk+HEAcSCKsaJuDLQ6A97uPA7jVamF+fh6Li4tYWVlha9qmfXSMg7jf8yid/Y7TMZ4Xvo7mVfzPy4OveTnxMuMfLvSfb/cye4twrtfrXY5kIqC5tUKEsrg9CHwHOWeYd2mYc/ffeychPNYNv9SEhxPQYV7WpM/df40Bh3BgimZOWHoRE+YM04APeddxKH8bj+SewqH8U8jMfoatj+SfxNHcY5jMXsS0t4iM3YBqFaFZOZhOFoblwrJdOKy/dmufrQidXsAdBG6kpQ67kJmZ6okcsU6cOIGTJ0+y5fLly+E27aNjdA6dS9dEn7MdeOOO98sTBzRfR8tI/M8BTetekI4CmrR7gjW3RoiA5tsimMXtfn3Rg8A37hzat1vv4/5774Zr45LMn9SEpSa8ay/ibr3Q93OfJF+W+0lX72sFCJNDluZhWi9hwprHEf8yDuduMehON1/Aygs/x6OvvAd76TUcLT2N48UnMZW/ikx2GZo3C92twXTLsNwiHC8Px/PhuNRvGzg6cYhwyIiQ6genKPx28p+DltanTp3C2bNnQdBdW1vD1atXcevWLXz3u9/FO++8g+vXrzMYUx/x3NxcqA3v5Ln8GjGv2233KwtednzNy1Rc9wL0zMxMqDkPq0UTpEUoi9vDAjoOvvcL6f333kkIj3XDLzXh4QS0N2D2/j77rzEgCAf9wRnNRlrzkDLLmLIXcTS7iqOFJ3C0+AyuvfweXr3zT3j13X/C02/9V0xU1jFZfgqp0qNQC2dh5E/A9Juw/RpsvwzXL8Lz8/D8HHyfzLGdvtt+kOHQ2m5NMD19+jQef/xxNqTv1VdfBV9ef/11fOtb3xpqee+99/D73/+eLR988EHXtV/4whfCe9Mzbt++zZ5Lzxa1Z3Lm2i7d/Y5vB2fxeK8y5HCmtQhm2qa+blr3grQI5qgWHfXu5pozX4tQFrf7AZrM3YPCd7vz9t97N1zblGT+pCYsNeGx/iAaFvBJvizDpmWw8wMIZ1QDGQrIoftImxVMu0uYyF/F8dJtHC8/g6e/+Du89u4/4bV3/3e8+I1/xFR1Hanq00iXH4NePA8zvwgrNwM334Sbq8HLleHnCvCz5NTElw6ICSj9gETHqCwJtgS7F154gYFwWLgOej6Bl0P4t7/9bReEB70HP++rX/1qCO3nnnsuBDZ9NFB+yMS9Xd57HRdBPOw2afX9ID0KQO8GpAnQouf3YHI/HARHfc8k2xUJYQlhCeEYGdi7l74NYUUHacIZ3UfGriLlLmKqcBVT5duYrD6D0oU38fzX/4CX3vkfOPfCb5BqfQrp2tNQq4/BKF2AXTwJuzAPJz8DL9+An6/Cz5Xg54oMxLnc1j5VETSkRXLN9qWXXsJbb701EAhF4IkaKoH7/PnzXX28BEBa4szRzz//PN5//3386le/Amm+ZKK+du0annnmGab5krma7sm1bVpvbGwMlEYO5+j67bffZvej/NK9aeGgpkZXLJ9Bt/uBmZzN6PhOtOikAL2dmXtQSHMI8/eGa878/35fSwjvcSMpzdH76ytVfMGTfFnE5+zeNo0TVqGoBhTdQcbIQrGryHiLSBevIFN7AlprHdrsp2AtfQ6FG+8jf2MT9uk32XAlvXoNVvkC7NJJ2MV5OIVZeIUW/EIdfr6CbK6IbK6ALHOg6oCYtMGLFy/i2WefxRtvvNEXZhy0HFQEUvJgHhRM0fN2yzFLvC8BjkOep5PyxqFNeYhCeJD/9DFC9/j0pz/NIM3N3zvRpjmE+4G617Hd0KBFc/cg3ty9Td0GNI1ieAcLjUevVmn4VTA2PQgSowpBY3bPAWz33rvh2rgk2xWpCccAXkJ4OAEd1YsR99wkX5a4593/viBkJZmjaYyvovtQ7DL03DyMykVYzZvw5teRXfo0cidfQOmxn6F4830Urv4Q7swTcOqrsMtn4JSX4ZYW4Bbn4RVn4RUb8AtVZPMlZPNFNJot1n9K5tl+Wq4IXNJkB4VNL3j02n+/Q5REAA+zTfJBsOZaPwGbNGEC7U5ATdo4XUvAp3tx7Z+eE00XQTi6T/zfq6y2278doAfVoreHtMWGvQVwNqEbJjTdYEu1VmdrVdPDQDEUMEZRAxgTmO//XRldu5RkuyIhLCG8r1+O6Iud5MsSfdZu/A8aJwWKZkDVHWhWHrpThpWbg1s9i8L8dZRPPoXqmedQPf0cGmvfQOnm+2wpnvw0ss3L8Kpn4BSX4JaW4BYX4BXnMLt4FpfXruPTz7/QF7oEEQLz6uoqcxwSoRDd3g4GdLyXqTV6Ld2bg3jQYB2D3jvuWdG89PtPHx4EarIUEFjpo5xAu53FIE6zJic1upbfh+67HYzj0hbN06D/RUDTNgE5bunvLEbjoR3YDg17c9jQN9MOhsDRmobD1RozMEwan+5AM2xoRhAwRqUwqgzACvYziJNsVySEJYQlhGNkYDcAO8g9uiFsQ7N86G4ZXnEeheYZ1BbW0Fp+HI1TT6B1+imcvPICijfeQ/HmJiqX/xLF2csozV7AwpmruPHEc/jsy6/j69/4Rk/TK4GEoEIaG0Vwimvw+b5BG3o6L9rYD/KfriPTdL+wlb3uvV3a6PnbnSMe53keZE3lJkKaPmIItP0sDHGA5n3S3HmMoE/3jdOi+6VLzEev7V7lEa2nrYD24XoeG+rmuLSdg+Nk4Xg52C4tebbUWydgOjmYNo1R92GYbhvGNlRyOiQQK/sXxA8khBvrd7G5uRksGyuxoFjZaB/f3MTd9UZ4Tq/9gzSKdI40R4/O7DNoHfU6L8mXpdcz72c/QZg5sag6NN2Gbvqw/Ar80hwqM+fQWlpFa/kaTl1+Gl/71l189wc/wV+8/i6eef2HePWtu/jq177eE7jU8L/+uc/jqaefwbnzF1EqV9DLQatX4y3uFxvsrY11oGGJGtWg23QvuvcgEzj0ei7fL6aRb4t5ELfpuPi/33Y/CEaPUT4IpmRdIA2Ye5Z/o8/HURykCezcaYzuRffc7sMpmpZ+eRKPxZdFDp6fZcPcvCwNdyvA84tw/RLcbBmOX4GdrcPON1GfOwM714CVa8D0qjCcAnQrC930mFxTGFWuEcdNtXk/79BeXJtkuzKWmrDSWMfdzQ2ssC+nFWxs3sV6o7tzX1nZwOVBQoIAACAASURBVObddTQi59C1G20gi/cZpqIkhCWEh5GX+zk38CIlxyydaQ6kRVheCbnyLKqzZ9FcvIzZU1fx7Xd/EA7hiY6j5Q34V7/6NXz25c/h2o2nsHD6MrxiCx5z0KLhSoGDVo5FnsrHwkdsiDnAaM0BR2sRrNSHSP9pLfYnRv/zMa/brckMHHdO9H78P3+2mCZxW0x3dFvMn5jv7cHUPcyLnx+FX9x/boYmmPI+ae48NqwWTWZuDmjyIqd7Dtp/L6aNp797zYe00TrPnPv8bBFergQvV2VD4Fxy/istwK+eRrZ2Bq2T15Gtn4NfPQO3cgpWbhaGV4Vu56FbPlTNCpwP2Ufn/usffuAgTFqwqNlG/1OjF91H2u/GSgTUSjzAt2s0JYQlhLeTkd063oGwxvrRyIxn+0VkSzOozZ5Ba+kyZpfX8JOf/m0IYRpH+7kvfRvPf+H7eOKz72L5wg3U5y/BKZ2ES0uRO2jNwC82mYMWG66UFccNd8OEQykKKxF0Img5LHt52fLQjMOsqW94u/N52Ef+XJ4OcS2mcztgR/PL//Py4OtuSAVl1wvececS+CgMpwjAuG2uRRNYSYsm0A4b/IS6HEiL5kPGCNCDe7OTBz2Bl5ZCMMSNwbcCL1+Dm28wx79s5SRyzRUUTjyG4sItzF54HsXFJ1FceAK5uUfh1S7AKZyA4ddYKFVNd6BqJpvhi8zS+00blhCOQJlDeFMwUxOERXDTOUwTbmvLwzSaEsISwsPIy/2c24GwCk03YRgObK+AbKmJ2sxpzCytYGZ5DddvP49f/HITv/r1r/H8SxuoX3yd9QtT33B+9hq8yik45ZNwSktwigtwivNwabhSvgk/X0M2EryDw4VDh9aiFsnhxYEmwo+Dkg9h4etopCYaYzrMQqbWfufz+/PniWueJnEtppm2dwJqsXzEbV5+fB0H3iikew1RioNx3D7eF83N3Nyrm1tCBll//etfZ4AmEzlBnpu5Ay16K4Cz+TL7iCOLildoMgD7lWXkWqsoLtxG6dRzqJ55EfOrr6N25kVUzrzA9uXmb8GrXYSdn4PulKAaHpvdiyw+BOD95qQlIRwDYUVpYP1up0+Y+o9FTTg4vtWMPUiDSRCmQj+oC2kcMm/jUb8U5IDqolKpolKtoVpvodGax+zCaSyeWsHyhcdweuUJnF65jVMrT+Ls6rM4tfIUli8/g9Jjv0TxxiaqK2+hvrCK+uJqsF64jPqJS2icuIjm/Dk055YxM7+EmbkFzMzOt6cLnAPFMhYXmrWIGmO+kJzQQrP/8IVAQNu05ku1WmXbtI5bKI+DLPRc8by4e0WfxdMQXfM08nSLa54vcc3zzNdUFnyhMqJtXlakrYrb9D+6UHQscSEA81jYfD/t224h7ZmW7c6je9MY5ps3b7LhUi+//DI+//nP42tf+1pfn4EouL/85S/jc5//PJ5//kU88+xzePSxx3HpynUmi62FC2gsXEZj+SZmzn0Kc5dextzq59my8OibmFt9A7P0/8rnMHvxJTTPrqO2eA2VmTOoNOZRrjZRrtaZbwLJ+35qg0h+BmHHTs4Zyz7hqKk5+j8uoysb3cCN04zjrovbJzVhqQnHyUUS+0gTpvuyQAcU/EA3QcM+HL+MXKmFSusU6vMX0Fq6gtbJqwzArZPXUF9cQ/nyN4PgHWs/hFVcYotN6/wC7MIJWPlZ2Lkm7GwVTrbUNamD47ihZsg1Rq5Fcg2Ta5605hqqOL2euB1o9KTh7HwhAA96vfjsfts83bTm+eH7+H+eX3HNy4KXDa1FbZpbCEi75lYD0XTPrQqi9kyg5v+5Bh3VluM06l774rTlXvvIHE1madJ+yUxN5uphzdwE7I03v4RXXn8T6y9+Abc//SZWnngD15/7Cr7/09/gBz/7DR79i2+heu4lVE6/iPzCbTjVszBzTWhmDprhQtFMpgVLTbjTxiYGYdJEV1Y6HsvDNGCiQ5UyQL9ut5NWoCFHTdPDPF9CuCMgw5TbOJxLX9fjkI5h00CNEoFY0wzmoGW5ebi5KnLlOZSap1Cdu4jq/AoWzt1EZW4FxdZF5BaeaUfQeh928zrMwhKM/AJMmswhNw8zN8smdSBvVXL2oiElluPDtGxYls36X0XwcNjyNcEqCrgoJKP5jB4f5v8gEN7J86J5iP7nUI6CerchTdozAZsDmtYcyuJ6NwBN4O4F5Oj+crmCkyeXceHiJdx8/BbTgF959TVsvPnFgbRocfKNX977HarnXkblzIvILz4Fp3oeZq7Fxr9rZgBhFiFunwXvSLJdSRDC5BTFzcXdWmr0RYr7HzfMKIBzcK9gm98/8KSm+zAgh88Njg8LZAlhCeE4mUxqHwcV14Z104ZhebC8AuxcHX5pHl55EdnqKTSXrsKrnoZbOQ27fBq5qz9D7rF7cJa/AD23AD13AnqWljloXgua14ThVqGzISM+dMOBbljQ2dR4wfR4HEJROPF00VrMu7ifb4vHd7o9TEPHn9tvHU1Hv3OjeRf/8/K5X0iTqVvslx5Gi+aQ3g7Qg2rWHRCTA1YuCG2aL6KrD5i864tzzEFw4fQqLq7ewo3bf4HnXngdr77xZXzp7cDULU6+8evf/B7V8wGEC4tPw6legJltSgj3iUWQGITpBRBBGo753YGjVPRlSvq/hLCEcNIyFnf/QBsOHLQYLK0sDKcE06/DzM7AzM8zLZhmTCKNV8uegL28Ae/6PXirfwPVn4fqn4DizSHjzkJ1W1CcOguDqVh5aKYPzXCg6iYovGAQ65c08GARIcXTF7ePH9vt9TAQHubZYh6i29H7RI/z/7yM4taDQpr6FcnysJ2pm4N6UDN3HKAHgzHBNwc/mw9m3Aq9oOvw2wCmMKjM2545/C3BrZ6BT05ZJ59B5exnUbm4gfUvfoAPfv17/Oa3v8fnvvo3qJA5+sxnUOCacATCJOfSHN1pYxOFsCjgWx2pOtqreN44bEsIdwRkHOpjmDQk1ZAPk4adnEuNPV3HzdKqbrE+NNXMQrNLUJ0aVLeJ0swFKO5sAFpvDmrlKtxHP4Dz6AfQajeRdmaRcmaQsltIW02k7TrSZhkZoxDEpab41GyoSNAQ8ufyNHPoRPfz40muR1l3Yr7F7Wh+xWPidhyc+T4OaXIe46b+XqbupABNoO7WooOxwDTVpZ8jCBfhZctsGBJ5QbuFGeZh7xRPwCktwi4uwi4twS6dgte4gvyJ2yiffRXlGz9nIVTLN99D5cIGKuc+i/KZz6K4/ClkZx+DVT4D3WtAtXJQ233C0ju6u31NFMK9NOEVFg1LQjj6gu/V/1E2dknncT/njRp1Nn6SNAXNgKJZUE0PiplHxioj49RRaJ5DmiDLllmknTkYl34E+9qvYCy/jWl7JljMFlJWE9NmFdNGBSm9gJTmIU1zFmdomAgFCIkHcdJ11Ov+41x3InDF7WhexGPiNgGZ+rw5mPmaA5pDmf7zbbG/fhANenBnMQrAwpccPC8PN1uEm63AzVEErBacwhybGpPgaxUW245/BOJluJXzyM49ieL1v2He+cXHfonm6tuonCEAfwalU88jd+JJOLXLzElQd6tQjCyLjc4+AOUQpa7uncQgHDhU8T7b4fuEo8K9l/+lJtz9pbaXZX+/zxrnhnyQvDEzHcFY0ZBRzXCO4bRRRMqsIt84w7TcKbOFaYuWGahzr8C8+iuYV36JKWcek2YLk2YTk0YD00YNU3oZ01oeKT2LtOaw+6YVDelMG/p9+qsGSfNunbOf604Errgtlg3lTzzGtzmQo+thAD0IpAMzN0U3c9lkDBQL2naycP0ibL8Ey6+ysJNWbgZGbhZW4QRMcvRjEOYgXoJdu4LCtZ8yp8DCY+8hf/Z1tC58BoWlZ1FYfAb+3ONw6ldgFZah+y2oVhGqQVGzbGTa44RlsI5OG5sghBtYX4+P+SwK5jhuSwh3BGQc66dfmvZzQ87zFYCYAt7ryJDmqnlIaTlM6yXk6qcxZdQZYBloCcbZCzCu/hr62q+QKj2GSaMZQpjOnTKqmNKKmFazSKku0oqJtKJLCO/hxwcBN+r9zeubrzmUxXUUzPw/B7SoOYvb8Vo0DbMir3haO2z2I4smXXALML0KTK8Gw2/CyM4wxz49O88c/cj/wGB+CIuwSmeQv/oT5B/bROH6L+EtfApu4wrqy0+yvmK3dhlO9RKswkno/gw0pwrVoq4Qj1l2FJLp9qxKPN/7YZ1ku5IYhKlgmTk6EtVKjHI1roUvISwhPFrZVAJAktagmkx7TWk+02b96jKm9Com9XoAWqb1tqBd/DEDsbr0NiaMJiaMBib0BiYJ2HoFk1qJXT+tukgpJlIZgnAws824aCVJNnSjrc/gfeqVPxG6fDuaXr5fXHMgx605pLlpOwB0MPcvecfTdIOG6bFJFgiSmlOG6gZ+B6o7A82fg0o+B9l5aD552y9AL56Cd/n7yD32PnLXfgGndQtmnsanL6M6vwqreBJm4SRMOtdrQXeq0JwiyK+BtGD68KNuEBm2srt9TQzC3BzdFcWKJl1oT8wQFbJx+i8h3C0k41Q326WlV0O33XXjdZzM0QRilcGSoEnwJJNytrocQNWoM8gy2BpNpGdehr72a2iXft6GMAcxQZigXcaUlse05iOlUoNoYNxM0gej7nq/OzvJnwhdvh2VVb4/uu6GM435pkVnjnk0d7VikL9BDopVRMasIENOfHYDGXeGOfgxB0B3jjkBqrkluJe+B//6+8g++h7s1pMwsnMwc7TMojZ7EYY/w8al624dukMxo4ssSAd7Vhg3miZv6B7yFs3POP7fSd0Nmo8EIbw1rCQbpiSHKHV1yg9aUbt5XpICtZvp3Mm9Dk7eAm2YmY1JcyUIq1lkK0sBhPUaJvR6oPEaTUz55xmECcRTxWuCNkwQrrFrxt0kfXDqLh7Eu52/KHT5/+h70+neID8Dg3VxZHQXafIRMPJIGSXmb5Ay68yZL2W1mN8BOf9laHHnYZ/7FvxHN+Ffew/2zFMwvBZMn5YmW2qts7D9JiyvCtMpw7QLMMizX3eh6VbbEVBrt30SwmIdJQZhegjXhsMxwjFTEoqJGZdtqQnHNyLjUj/90rHbDV2/ZyV7jENYY1oraa+kxeaqi0yrJe1WhDCZoLVLP2Mgziy8KUB4/5ikD07dxb8/e52/AMpt8y9z9KM5fU2kVRspNfAzSOklTBkVTBk1TJsNTBkNTFlNMBCzIW5NWKf+Et7VTWSv/hLO7DpMtwHLrcF2q3DdGly3ilZrGa5bgusU4Vo52BRsxnRg6CZ0VWVhTxXGhP0HYHrPk6y7RCGcbCMVL+i78UwJ4eTKdjfqp989knxZ+j1394/Fm6RzlQXWv8v6eaMm6bnX2ybpnw1uks6Mj5f0wam7+Pdn7/PXkSHW9aAYSCk2pgnAep45+hGAyYOeAdgkb/o6po0GUmYDGbMOa+kt+Fd/iezVX8A78SIspwLHqcB3y/C9InJeEXmvgPnGHApuFkXXR96xkTVNuLoOW1Nh6Sp0JQ1VyYCBeA8d4nbrvUyy7hKFcFwISdknHP+C7pawDHKfJAVqkOcnec7ByhvXhnXm0Uwm6XzlBPN0ZhCOmqTzVzom6fwVQRveHybpg1V3W9/zvc1fMPyMhqF1AGy1fQuymNIKbOgaOflNmXVM6TXmdT9tUnCXOjJWA9bcC8hd/Tvkr/4t8ic/B9cpw7VLyDoF5Nw8Km4ODd/HbNbFuZkqZn0ds66KhptBzVFQNBX4ega2moahpqAzCKehKFvLJsk2YTfunWTdJQbhrRGy+Jjh8Q3SwStLasL77yXhdZfky8KfsXdrDuGOSTpXmWMOVuRo1c8knZ57XYBwP5M0acLj4bF6sOpu6zu0d/kTAMwsHTrziJ9WHEyr5GVfwJQWmKGDceSkCRN8awzAilWD3XoWubW/RWH1Z8iffgueV0HWLSLv5lF0sgy+CzkbZ/ImLhZUPD6fxUp+Giu5SZzPHsOSexx1axJ5fQqeOg1LIQinoGbSUNiytXz27r0a/tlJ1l2CEKYJHIIgHXwqwqCPWEJ41MKWpEDJvA3/gvcus445kYYUkZd0vjLLvKRpyFE/k7R64cfbm6SVtpd0Rh2LMcMHWS6pjvcuf+2PN+Zdr7EoaSmVAziPKeoHpgAuBkVTI/AGC8FXs6pw6o8z+Jau/jVKF76GrFdG3i2g4OZQcrNoeD4WsxYuFDRcLaXwWGkSn5rX8XjxMG4VHsGNwiex4j+Ck84R1MwJ5PQpOOo0DCUFTZEQjr7vCUKYvKPbMx6xoUlSE44W/qj+711jsJtAGuxeBy9vXBsOTNIFgrBK5sRiG8IRL+nitY5J2j8vaMNRkzQNVXLagTvGo1/44NVdt8zuTf4iAGaOWA5Sqs/6gVN6EdN6GSmjijQtZg2KVWXwNawK3MpllFZ/jMraj1FdeQd5v4oCab9uHmU3i5rnYy5r41xex7XiNB4vTuB26QhemEvjqeLDeLr0EG4X/hw38w/hgvcIZu2jKOoTcLVpmMwkLSEcbfcTgzA9iDRgCs4hekkPO61gNMF78V+ao7sbj70o8916xt40dHtZPhzCgUm6UGkxL2ka89vLJK1ffo+BON36jADhwCQ9oVeYJjRNEbgoehZF5GLRs0Y/fvPg1V23nCSfP5KVDOteYIExuCc0xQzXskH8cIMm86ggY1ahmATfCgi+llWGVzqLypW/Qm3tR6hfegel/EwbvjmUvSyqroeG52Ixa2KlmMGN0iRul4/gxZlJ/PfXz+EfXj2NjeUUnil+FLcLH8da9mGcsI6gbEzAU6dgSQjHDk9NDMIcvPsBulEASAh3Nx7R8hnn/8k3dHtdNt0m6WKlGQbuCEzSVRYVi6Jj8cAdyuLbDMLqmTtdJukgelaVeVdPqQRhDyklmNCB+oWpAR9lIIWDV3fdspJs/jpywuKOUzAWCspCH1paFmm9gIxRRMYoQ7Uq0EyCb5nB13FKyObmUV35DhprP0Dz8ndQLi6g7AbwrXg+A3Dd99D0bSzldFwpTONW6SieLB3CP3/xHP7zh+ts+ZevruHZ4kfxZOFjuJr9BBbtw1sgHPQLd5fNOLcplLYk6y5xCHfGCEtz9LgIWpICNeo8Hsy8cW1YR7HcQOBgk8WUzk3SFD2rE7hjunI7NElP2CcEbZibpCl6VgFTZKIco+hZB7PuOrBJLn+BIxb7gOoaD+wgo/tQ9BwDsGqWoFtlGGYJllUCwddziqzPt3bhbTTXvo/W2vdQrZ1lmm+FtF8CsOej5ntouA5anonlrILVwgTeWfok/vTYw/iP71wNIfx/f+cW1osfaUP4IQnhAYZjSQjHFJLUhDsNx6ihOuzzk2voRlkmHMIaSpUGAycBlEAamKS7+4UJvPqVewzEqdoz3RBux5ImgFPfMgF9XCZ0OJh115GbZPKnQOGzYSkalIyGjEJRsWyomssArBp56GYRplWCZRbhOMUAvszbuYD66VcZfGfW7qI+cw0BfLOo+gGA656Huuui4dpoeQY25o/jnx/7JP7X7YfZ8u8vmvh/372Jf//uk/jhzRyeJQjnP4a17CdwwtqqCUvv6I5MUPuWGISHbTzH6XwJ4W4hGae62S4tyTR0oy6PTl9fqVxnJmQyJZNJucskTZM2sMkbmlBOvcMgrJz8qgBhPlQpMElTLOrOhA6jH6p0MOuuIztJ5I8BWOEgVqFqJjTVgqK50AwfupGDYeZhWwU4NsG3gKxbaHs751FbWAfBd3btLpoLz6BK2q8fAJicsGpuAOC6a+PVuRT+eP2REL4E4T+sPYwvz34ML88dZRrweukjeLrwETye/zgueQ9j1j4iHbNiFD2xHUsMwrxPWJqjOy+hWPCj3E6iMRhlfsRnH9y8EYhVFMs15kwVTOiQY05W5GxF/b1iv3Cq/qnAJH3lHiasWQHEZJKOTOgwJkOVDm7dBW3AbuaPh4AMIlApoPjQmmpA0yzougPToLCRWdhmDq5dgGfn2/DNh97OtdY1Bt+5tXcxc+qlNnwDD+gQwJ6LV+bS+OP1Q13w/fvVR/Bq85O4VfhzPFX4OF6eO4anix/FU4WP4lb+Y1j1H8JJ5xAa5jHk9Ek5RKkPiCWEYwpHasLj9+Eggrbf9m42dP2es/fHApN0sVxtR88Kxn2GQ5Wi0bPcM2G/8HTpsQiExQkdxmeo0sGtu92DMA/7GKwp+pQCTdWgqzoM3YCh27ANF47pw7Vz8Bl888g7BN9c6O1crZ3C3JVvY371DmYvvIlqNs+GHzH4tjXgV+aVLfD93ZXDeKp6HAvOcZxzD+GK/zAezT2E52an8Gj2z3Et9xBWvE/glPMImlYwPMnXyDN6WgbriGENtSOJQTiukWJhLOUsSrFu6nHlldS+g9zYHdy8BRAuMQi3YwBr1C/ce6iSev6vGIjjJnQYx6FKB7fu7h/CIXzb8ZcpDrOmKNBVBYamwdQMWIYFx3TgmR5820fWyTLwFhyCby70dq7lm5i//E3Mr93B3MpXUC9UuwD8ylwMfFeP4HZtCk17GjP2JGbt4zjhHMWyexinnUN4tKnitPsIlp1DOGEfRss8hpIeBOoQxwgzz2gZtrKLAYlB+H7N0WyM8Wbbo3pjpSvRHE4rG9zjehPiUKgwZOYOgS81YakJcxkbn3UwBIUgnMpoQRjC9hzDPaNnhXMMd0/oMK5DlSSEt7533fBNQ80QfDNsQgRDVWCpKmxdg2MY8EwbvuUg63goOD6KNKGCk2VBNmicL3O4ypYwe/EtBuD5K++gUZoPARyr+a4exe1aCg0ng6adQsueRNOeQMs6jhnrKGZpsY/iQt1i4G2ax1A1j7N+4Jw2CZfGByuBFrxfo2VRG5CkbO45hEVY9mrglMY67m4G4S0DmAeRt8TzRa1aPCfcXlnHXQnh2I+XJAVKrKNRbB/kvNEQlFK5EgTXEOYYDk3SRreX9JQ4oUP2UoxJeryGKh3suhuuId8K3zQL+UizEdFiqgpsVYGjqfB0Hb5pImc5yNsum8mIwkuWHV8YahQ4XM2eex3za99hS6N2mgH4Uy0N/3jtSFef7+8YfDNouFoAYCeFpk2a8CSa5nE0zaNoWrQ+hrpxDGfqLirGcTYmuKhPIssBHA1X2dbkR9E23M8zk5TNxCB8Pxnmsab5PaL/aX90H2nFGyuduSoZyCWEJYR79MNw2dpf6zaEKSg/TUvXnmO4n0k6PnpWnTlyUezpcRqqlGRDNw71PEj+esM3BYPBN81mJXLUNHxDQdbUkDMN5C0LRdtB0XFR9nyUXR8syAaN82Xezlm0Fp8OAdyafRS36gb+fu3oFvg+UVPQcM0QwA0OYCsAcMM6joZ5HDXjGGrmcQbfkzUPBTI/a5OgPmAyQZMGTPGi2TSGNGnDPgUwyc4gdbdTGdvXEKaQmDzjBGFRy5YQ3mra4mWVpEDxZ4xqfZDzRppwuVJhXtJ8QofASzrfPVSpb/SsBvOiFk3S4zJU6WDXXf+GvD98U7BUgu80XDUFX08jayjImyoKloGSbaHkOCi7LiqOh4rrBQCmcb5+4O3cnFkLAXzrzCp+t3qsC75/v3YET9Q00FCkDoAVMABbU2iYEyD41hl8j4fwLRkTDL4LtSyyBF91iqUzCFEZTNiwX2dOEtuwJGUzUQizPtsIKEVwipkUt6NabvQ/nRv2+/J+483d1YSp0A/q0mg0ZN72af02Gk1mkqahShQ9K1+eYXMMZ6tL8Kun4NfOwquehVc7B7d6DvbCZwIv6dV7cOorbB8do3P86mn41WXkqougKRIL5RYLBkL9zmT2LrNl796DgyyX1Jb0yl+lXEalUkalXEK1XEKtUkK9XESjUkSzUsBMpYDZah7zlTzmawUs1PJYqJWwVC9jqV7ByWYNS40GTjabbFluzGC5NYPlZostSwsrmF99BzeuvYZ7N4pd8P0fjx3HK8s+TjUbONWs43SzitONMk43Cjhbz+Ns3cfZuoezdRenay4zO5+quSDNd6nmg+A7X8lisVnGTCXP0kvprpWLLB+UpyBveydHSbTb9Xo9VPhEVu3GdmIQ5o5ZXSZiNpvS9lMZRqEb/R+X8ZWN7n5jqQlLTThOTvb7PgJj10Ttqs3CT/aNnrX2awbi6fLjMf3CFTYjE80zO+pZlajx3O/10y/90fwx7bc90T1pi+S4RKZbMuGSJknT/7nqNLLaNLL6FArGNIpmGiUzjbKlouLoqDgWKq6Nquui5nlBiEkaYtReGoUGrqy+gV/cbHXB94/XD+OFWQ0sGIfnoubaqLkW6q6Ouq2iYafRsFOomZOoGROomhOoGBMoGZOB2Zn1+waaL6WTPhaY6TkT0X73sQlarMto3YnH7nc7QQjTVIYd7+UwaMcA/bSDOGaJGRedtPh+CWEJYS4LB2kdQLg9Uw6bY9hiEzH0i56lnv0egzBN7BBE1OqYpMdpqFKSDd04yADPX2h6bk9wr0bgG5idpxh8aS7egj6JojGNsjGNipVCxcygaquoOiaqDJ4Oi+1c9bwQvgTh5XIeP74+2wXfP914BJ87oQTnUTQsFpLSCQDsGAzANTuDmjWNmjmFqjnJnK0C+E6ywBvc7EzwpY8Fgm+9UmQfEaHpuQ1fyus4lP39poHX3f3eJ+76xCBMD+PacAjgzW5tNS5BfF/c8KMAzu05ipkHNYd8R7ve+sxuMzW/f7+1HKK0f1+cJF+WfjKzV8eC/AXRs9gUhCpB2AVNTUiTtcdFz0rvk6FKB73uyOwc1X4Db+cUm2uXwVebZo5N5OAUwJcgOIkKaaRWGgRIAnDN0VFzLFQ9GzWfNNkOgJcLLu6emca/PdEJMfmnm0fw5mIGrWxbS24DuOYRgG3UHAM1R0PVVlC1Uqha0yibUygyzZfgSx8FHc2Xw1dXAs2XzOgsJvQBgy9/r5OUzUQhzDOw39YSwhLC4yqzHQgrSCvkJW0yMzKZk8OhssugdQAAIABJREFUStHoWdlLQb/w2q8xNcZDlZJs6EZZn1zzpb5RAlXH9JyCSaZnZZp5E5NXMQ3tKRiTzOxL8/CSGbhqTKJuTaNuZwJTsaOj7lmoeTabWIEDeCHn4uvLafyfj3fg+69PHMc3L1VAx7iJuuYGsyIRgJkm7Zio2TqDe8XKoGymUDJJA59Czgg0cnK4EjVfDl+u+QZ5y7CPjFGWdVLPTlI2E4XwTh2zkirIQe8rISwhPKis7PV5XRCmOYBpqJJiY3qb6FnapZ8zEKdbnxFM0uM1VCnJhm6v64mex+EbDM1JM6eroN83MOHyfl+a8J7gmyezsz7BzL8V5oU8gbo1iYY9zfpnGzYNHdJQ90zmxUwzG5E5ueX7TMslUzOf2ejfbh/C92+cxqkz6x34CtMS1lwXVZcgbKHqGKhYKspWhvU3F4wUcvo0fJ003+m+8OXDjkjLH0UZ79Uzk5TNxCDMzcI7cczaq4Lt9RwJYQnhXrIx6v0cwhklMEnHR8+qbpnQgfqD9bVfQz1zR4DweM2qlGRDt5f1FoUv13yp37Tb6WqKOVyJ8K0aE2z4T42GBNkTaNLwIIsiVgUApuFDdeZA5TAAvzCjgZysOHxp/eMbi7hw9W3MnXsDtXZMaDYtIQ1Zcj22VFwHFcdGxTZRsnWULBUFI4OsnmJ90QF8Awcx5nDVNjtzzZfDl/JKZXtQ6q6XnCSZvwQhvHPHrF4FsVf7JYQlhPdK1oZ9TqcxCGJJs35hxWTzAtP8wBR8g4JwBLMq1THRnt5wunI7MEnTrEr2CQHE4zOrUidv+1P+esGXTLcEMvIgDjyeg/5Vml2IAlyQ2ZmiTRF4aRwuBcJoWm0AkxbsUOQqFQ3XCAH8TFPfEuXqvcvTuHKlHRFr5W0WE5pPS1j1/Pb4YQ9lx0HJtlGyTRQtHQVLRd5S4GspeFoKjkYm8sBUHjU7R+HL5Xe/1x3PR691kvlLDMKUGa4N78Qxq1dh7MV+CeH92QiSbCT5suyF7G33jE7+OIQ70bOmWL9wAZN6GZORfmECL2nCtIzrUKVO3vaX/G0HX252nq3kmHMThy8FugjgS0EwjjH4UkCMpjmBpklm6KlgqBDTggnAJm5U9S2BNijwxlrNYZovC0l55R3US/NBpCwWM7odQcv1UXK8ILKWbSNvGcgZGnxdgadl4GgZ5u1sqsFQqTDSlRDtimu+UTndr3UXzUev/0nmL1EIx2VoZaPjyRx3fBz2SQjvr0ZQlJkkXxbxOaPa7uSPIDzkUKUzdxiEx3WoUidv+0f+GICjY30z3X2+5NREnsUU2II0XxG+NQbfY2EcZorL3LAm0KI4zU66bYbWsVLS8N6l411mZ4r3TKEnyeFq9tQL7YhYd9BoXES1PWEDTdxAMaQplnSRTezgImfbyFkmPFOHp6twNQWWlgHBl0Jj6koGNGyKeTuzYVTbO1ztx7ob5h1OMn+JQ5iN4RWiWm22J2YYpgD2+lwJ4f3TCEZlI8mXJfqsUfzvzl/QLzz8UKWft83RTWauFkNY0njjadVDSrGQzugsRCbBnkJmJp3f7ryNtwzGwndLoI1uszNFmeKaL8Vdpgnvm9YxNglCOCGCPdkGcNAPfDqv4a/Pd8M3DLTRDshBcaBpWkJamieeZLMlMfgy8NI0hlk2qxLNrpS1XHiWDdcw4Wg6bE2FqSkMvLoazNAU7fcdpN73U90Nkp/oOUnmb9chHBdOMjBHDz5GOFoAe/1fQni8G8B+8pDky9LvuXt1rDt/okl6/w9V6s7beMpgaHreNtDGFAtsIWq+NNNQN3yPsun/WnagCbdoikA2VWAKi34a3z41gX+79XCo/ZL385sLmS5v50b9TADg1TtonXmVzZpUdoP5g2ke4YKbQ9bJwbez8GwPrunA1i1YugFT06GrKvRMoPnSNIniWN9hZHo/1N0w+Ymem2T+EoDwCjYi2m7QNywhHK3YUf1PUqBGlSf+3IOcN8pjd/7aEN7JUKWZl7udswxy0BrtrErdeRsvCIfwFUzP/QNtRMzOxjGcqzttzZfgexQt61hnaQN4zp3GV5aO418f/2QIXxr3+/XlFBuKFI719XzUC03MX/4m5tbeRevil1HOllH08gy8eTePrJOHb+fh2jk4Zha24cHUbRi6CV3VoSkKVEWJDKXa3vTM3zVxPc51J6Zzp9tJ5m/XIUyZFKNd7TenLEq/1ITHqwEc5sVJ8mUZJh1JndudPwXJD1UKTNL0nKRN0t15Gw8ZjIMvH+vbO9BGx+FK1HzP1+02fAnARzETQngCLWsCb504ij/d6MCXtOC7Z6awmKOoVp2IWMzjOVvCzMUvYXbtLmYuv4NKcQ4FN4+8W0DWLcAj+DoFWGYOppGFYXjQdAeaZkHXDCiKCiXTBrAA4p3K7TjW3U7zEnddkvlLBMJiJrZ6SEvHLLF8RrGdpECNIj/iMw9K3sLGPxL0gUUmIm0sDA/YhqOiIzPMUKW1X28/VEm1WTCQNM1fzPqEk+0XHqe6C8tf0Hw5fMWxvlsDbRxHtT3XbqfPN9B8LzTsNnxFAB/HZ5pH8cfrnUAbNNaX+oGX8ybqbHKFAMB8XuCKl0Xr9EuYXb2LmbXvolw7F8DXKcBzCnDsImyrCNMsQDfz0IwsVM2FqlpQVANKRoOSUdkHXADi+6/Xcao7sT3Yre0k85c4hKOF0FhZQYN9VY/Hl240ffRfasLjWzdx9SXuS/JlEZ+T1Ha08ecequQsQwvF6OXbwbF2ZCZFRUY1kFZtBCEsBxiqVLkdMUnXApO0VgSNOU6pLguLyRy/HhAIR8ufyjoOvszjWZ/qinJVpbG+xjE23ChwuOJm50DzvVC3MBNqwEfxXO0o/nCtG76bl47icimY15ciYpEGHAbaaHs8NxaeYvBtrX0PldknkHUK8J0iHKcIyyrBtErQzSJUswBFz0PVPWQ0h32kKfSxpmrMqkEA3i3rxn5/77Z7n5PM355DeLvMjsNxCWEJ4VHIIQNARPMKANAZt0nztAZ9kXxf26mGmRQ11tCm+YQOWglTejt6VjtoB82iRFGzaLxw3FAlFuhDK2Fay7OJIVIUm5ppwoHmtFuNdlz5JtnQxT1P3DcUfLWO01Un0EYw1rdJHs/mUbaQyTkwO5PmexQBhI/hVvkofn+lG76/u3IYN6tpBBGxKCY0nxnJZ9MTkvZLHs/V+gUQfJtr30fl1Ktt+JZg2yWYZhm6VYZqlpAxSlCMPDJ6FiQPGcViH2kZgnBbC97Nuhxl3Yn1mNR2kvmTEI6ZaktCWEI4qZe5131FAHfA2w7wrwbhAynoQ6tSYAEVaJsWk5b22E7ydNU0k2k9aS2LFEXPMiqYYk5XjTB6FsWPJghTPOlgasNgqNKEPtroWUk2dH3LnQUWCjyD+2q+AnzFsb5BoA0+3Kij/QZabwBg2l6f1/D+xUOhwxWZnUkTfrY+1Y6IFYSkZDMb+RRe0kfF80OP53JxAc0rd9FY+wEq596G61Vg22WYdgm6VYFqVKAYZQbgtFFEWsshrXpIazb7OCMAp8mJL4EhZ6Oou151msT+JPMnISwhnPj4zyReil73TPJl6fXM3dgf9PF2TJ8EV5raztGmQf2OtNAsO/PVHFvTNplEXY3O4ZDOwNB05nyjaB7SegHTehnTbW140qBY0U02kxKPnjWVv9JtktZFk7TPZmiimZrYjE27aL6MK7O9qruo1ktm/Z3AtxNoI9B+A4/nDnQ5hFdyR/DTc93w/eP1T+IzrWNdEbFoViQGYM9jISaDsb403CiPYr6B+qVvorb2I5RX3oXnn4Bpk+ZbgWpVkDGDJWWQFaOIlJZjk3qk1cAMza0ZSfXt71XdxcnNXuxLMn8SwhLCEsIxMrAXLzZ/RgCFNItSRLF6eZhDAi3NK1s0gvjCZPpcrrrtSdYnWPQlCv5P0Zh8jabDS8HRFZiaAd1woOhZZPQiUqQN67VAIzabDMT6pZ8ybZjmGg604QYm9GBCB5qTmOYmpjmKaa7itGoh6BdWd60PkeddXCfZ0NFzdg2+XYE2OpqvaHomAJ/1j+J7pw5Fxvo+jDfmjqDlTIcRsequjhrNZuTaqHoeyi6Fmcwy+DKPZ6+EytkvorL2Y5RWfwyneA4Gg28VilVF2qgibVYxbVTaAM4jpfpIKQ6oOyEIupKsc13SdSfKySi2k8xfohCmoUp31xthIx9Ez5Le0aMQIvGZSQqU+JxRbO/HvHEtmPp6SQOmIP8EVprWjgL6z9pHsGAdxqJzGFcaOhbsw5izj7Axp+QMVKaJAAyaeJ0mhE/B1VXYugnD8KFSv6BBfYTUSNcZiKeMBpTFDRhrv4J6/q+6TNKjjJ6VVN1F4dvReqlfvTOnb9zkCqLZWRxuRP2+XPONwnfZO4pvLh3Cv97sBNr415ufxLfPpTDnbA1JSbMi0bSCFZcmV/BR9IIgG8FwoyIKS59B6epfo7D6MziNJ6FZBN8a0mYNKaOKlFnDtF7BNH046QWktGy7P58+noyIFeP+PaHj3uuk6i7uWaPYl2T+EoHw1mFJm+iMF5YQHoUQic9MUqDE54xie7/lLdSCMwEQaIJ3X6UJ1SfQMI/ipHMIl7yHsZb9BK5mH8Izs9Nsm/adch7BrHWEeePSFHhlfQJFM4W8mYFv6HANG5aRhW4WoFplpjGxBttsIF26DmPtAxhXf4Up96SgDVO/MJmky5jSCqBJIVJ8qJKyv7SpfvClYUb0wWO158vl3s5xkyvcD3xprO93Th7CSe8YztfdrpCUDUdDzTURTCvooez5oChXLNCGW4TnFOG3bjH45tb+FvaJl9vwrSNt1NhH1TStyXJhlJkWHFgvKOxoe3gZq7OD7VS3F+1Mku3K3kN4YyXUjPei8HbyDOmYJR2zdiI3O7mGQ5icsQgMpI0RCEgDJgBf8T+Bx/Mfx5P5j+Gpwkfx2bljeLLwMdzKfwxr2YdwxnkE8/YRFoe4ZhxHxZxC2UyhYCnIWQY8y4FtZtmYUdUsB+ZLs46U3YK5uslAnKk9zUzU1GfMnLNGFD1rtxq6nvAVJlag/nbqT/c0iu88yYYaiSEmaz3G+kY9nsnsHKf5Eny/d+owzmYpKtZxUEjK83UPDTuICV13dNQck83pW3Y9Ft857wRRrgi+jlOCU76I3JWfIrv2d3DOfANpu4m0Wce0WceUXgcBeIoWpgUX290HXvujifrxk3PEisr6btVd9L7j8j/J/CUCYV5wUXM03z/uawlhCeG9klEOYW6KJjCQGZpM0Be9h3Ez/3E8Xfgoni1+BOvFP8Mrc4fZ+pnCR/BE/mMM0gTrmXb84bo5gaoxhYqVYhO1520bvuXBtfKwuBctOfJYNRinvw5r7R605a+BTNSTZgOT7X7hSXLm2jJUKdnoWffb0PWEb3s+X97XTlov9bcTfAv6JCtvcahRL4erqNn5hHMUXzpxCP9yo2N2DuB7CGf9Y52IWPYEmvYUzjayaNgZ1B0NVcdE2XWCqQWdLLJ2Dj4F2nBKsOwyLH8R/qUfwlv7JexLP0LamcO02Wh3J9TZfNGsnz/sv6chZR1HuqQdsaLvx/3WXfR+4/Y/yfwlBuHeJmlpjh61gCUpUDJvw33AiBAmSJAXNAHhhHWYmZ1J6yUAvzLzMP7by4v4w+fP4osnJxiInyp+FI/mHsJp9xHMW0fYZAA0TrVhT6JuTaNiZlC2dBQdG1nHZ9GUWCSlNozNxtNw1jZhX/4Fpu0ZBmI2nIn6jgnCzCSdZ162oUk6wehZO5HLKHgH8nRm8A1iO5f142BBNsxgnG80ylWc5hsHXxpu9KMzjzBnLApHyUNSNq0JNK1JNKwpnK7nUbNVVBwTJdtG0fWRd2lyhTwLtMGGG1kVaE4Dzvl3g7q58gukcxfadcM/lKhvvwZyoKMPpSkt3+42cJgT3V4DmN75ndTdqNuKYZ6fZP4khGM8Y6UmPBxIhhHmpM9N8mVJIu0EEXIUIk1YhPCifZj1AT9Z+CgD7j9+/gz+84frbPm/vrGGl6ofwdOFj+B67s9xliBsH2ENP4vUxBr+KdTtNCq2irJtoei6yDvZrgaftC0ydZK2pZRWkSIzJzN1Un9jNTBz7mH0rGHqbkfwJQe29ny+ZaMTXrLXON9BNF+CLw0/omFIfEgSATioh+NomKQFp1C3M1iul1C2TRRtB3maVtDNwbULQaANbqUwa7BOfgn22iazUqTLN9tWCvJqJ0tFoAUzS0W735404OmentDJOGJF34Vh6i567X74n2T+EoNwXMEy7+i76/cVtrKxfrfj5NWjf1mcQEL0zo5LU9w+CWEJ4Ti5SGLfoBD+01+uhRD+j+8+wQI+/LfLD+Er8w+FEJ5lEwIcDSaIZ9rXNOq2gqqto+zYHdOnk2dOP2T6zJ//JsjpxzrxCjNRBx63BGFy+CmzoUopjYa8uGy4C9eykpjQYbuGrj9478/TuZ+3M8H19ZlDoLG9BF2+bIVvMDNSELIyAHDDnkbNzqBiaViqV1F0HGaVYNovxXfm8LWqrPz1medhr70Pc+0DKDMvYbI9pCzorw+GkHUATP3Ae+8JHfcebFd3cdfsp31J5i8xCCdhjlYa67jbniYxuP/W6RFF0Pc6Z7vKlxCWEN5ORnbreACWrZpwaI7OB+bor57L4N/euYH/73tP4v95rRiCgIDwf9x4GO8uP4JzPp8YIHAEajrTaDjUBxmMQy07zhYP3MKJT6G49lPkL303CPxg1pAxg7GnNL6Yhr1Q4IeU7iOtUOQlox11affiDvOy7NXQ9YVv29lqp57O/eBLZufB4dsGMAtZeTzsEqha1CWgomSbmG802by+TPu1ijDMMgu0EQw3qkMp34B59QPmLKcuf73tLMejmYkAbk85ycZxi57QyfbZ83qKW/equ7hz9+O+JPO35xDeiWbKK420YPH66H86L7qPtOKNleFMMhLCEsJc5pJeixAmkIiOWTQMiTyjyey8Xvqz0DHrxcqf4XtLH8c/PfqJLhiTU9AdNhzmKPPGbdlT7YAQKuqOGTMWNY9C+RSqFIVp7a/h5k/CpD5JqwKFIjAZtJRY5C0Kf5hRbWRUExklmABgN2MPUzmLDV1f8LIwnZ2Qnrvp6cy9nf9ysdvhKt7sHMSGZv3GFDPaOoaGdRx1axI1cxoVK4OSpSFvW8haLpqNOdhmnk2woJmVjqe6WUc6exbm5V8wAGsXf4RJa7YzbIx7rfNoZiyQCnfEoqFIe+sJHfdOiHUXd3y/70syf4lBOIlCjwI2+p+eSfs2BTP1Tjy0JYQlhJOQ37h7cghHhyiRgxB5Pa/6D7HhSDQ86eniR/DS/FHmLf1E4WO4lv1zPFn6JP767CNbAkO8deIw5t1J1h/ZcBU0KCoThUXkQSFoQgA3CInYuPQOams/RGHumbZ3bolpaTQZgGIWoRgFqLrPYlIrqglFoanwFCi7MA8tLxMqh0q5HES1ak9iwZ2swuAaPbReHlnsfjydCb48wpUYZGN7+NJkDQRgcuw6jpo5iao1jZKZRt7SkLNMeJbLhonVagtsggX6wCGzf9qg4UYNTNnzoAhmNGbbuPxLTLlnugKoBMPGejhiCRNsJBWSktdRv3WSkOr33L06lmT+DhyEFaWB9bticJCdacJU6Ad1aTQaMm9jUr8Enkq5xKYorFeKaFULLD70UtXH+YaNR5sabrfSeHZ2GuszU/j0fBrrs1N4aiaFmy0Fq00Dl+omrrVM/OTiJP7tiU6f5f+8cQhfOKXhbCOPM40STjdrONWsY7nZxMnmDE62ZrDYmMHc2VfYrDzNS29jtnECrcYCGs1F1GsLIHBUqvOoVOdQqbZQqdRRrdRQqVRYuln6K2XQPMdBXoJ1v3dHPE+8vtmoh2VRrZRQo6VcBJVLo1xAs1JAq5LHbDWPuWoOJ6pZLFR9LNV8nKx5OFXzcLrm4kzdxdm6g3NssXG+buMCLY32UrfYjEY0qxEtT8zq+MXlia6yo3L820sT7Bg/j63DewT3DZ7hsOeervtYruWwWC9ivlbGbL2OVm0GNSq/2iJqM2dRqJ1Cvn4G2doZ+NWz8KpnYV38LoteZqy+D3vuabjVc2zxaufYca9K556GX11GrrqEfGUe+fIMipUmSuU6SuUaSuUKymwZTbt1kNsUkuV6vZ5YfIvEIMw00s37g2H0Kyeq+Ub/R8+n/ysbW/uN484T90lNWGrCojwkvU1hK7mHNAtbqVHAjimUdBrecgwnnMNMKz7lHMKjTRWnnUew7BzCgnOYRcyaZXPUBhMHkJfu313onibvH9YO4WpJmCbPc1mM4qpHs/RkUaufx8xaMEE8TRQQhEsswLPzgfeumYVl+DB0m8WlNlQNuqpAUzJsobTTEsxvnAYLw0nabL9FOJ9fT9AlL/FgSbHgJeQxLka16jW+t9oOrjGopzNpvrdKR/D+xe6yIi2YTPqkFdM5fOFDlShUJZuqkEzP5jFQgJSqSbG9KXToNAqmAt/U4RgWLMODbuSYNYEmWMjXTgeBNlj4UBpu1ERm/vMMwDShRrr5fEQDFvuBKYLZ+DhiRd8JAlV030H6n2T+EoFwHIB52EqxT3fYShrEMUu8p+ikJe7fbltCWEJ4OxnZzeOiSZpN4KBMsxmS+OQNBBg+fpW0MQYGO4hdPEMxjCPz1tIQmUeLR/D7K90z93z71ARmfCuYq9b1UPN8VP0sqn4ec1e+jdm1u6g1V1H08ii4OeSdHLJunjkTebYH17RhawZsTYOlKTBVivIVeCUTOMmkTguHat91+1wRuo1KsR1Ksj2DFEW1EgJr0GQV4RAjYXxvNLhGP2crKrvnG4e3zOdLATco3jNFv+LgpTUv263wPYYag+8EisYU8vo0soYCz9Bh08eK4UEzedzuCvM2z9bOdk2ika49zSbRIABnFt7sA+Dxc8SKyn+SkIo+axT/k8zfrkM49IoW+mWp0EIz8X0OUYobfhTAOdB4g22uge8sMIiEsITwXr7oDMLtflDeN0wxpMlJiyZy4H2dFWOCmT2p77G/xneMRdCicImfbhzFn250htb86cYjeKahou55qLl+COKZ0y9hfvUOWmdebc9fm0XRoT7jLAqOj6ztImfZ8E0Dvq7C1TJwabKJcBrFwFGKQm/ShwRbMino0aV9jM7rxG8OoDtTyQehJAXwBrGcu6Na9dJ6t4MveTr/b9c6ZUH9vTTsiKJekSf04PA9DqoLmt2qoE8ha6Th6wocXYepW9AND0p74gyaYIGFl9Tr8OvnQo9nmkJSv3KPQVg9+z1M7DNHrOj7kSSkos8axf8k85cYhOM8kuUsSuMBtyQFahQviPjM/Zo3DmLSHkk7JECRKZZiSbP4xjppW5Os/3OwmX0oZvEx5iU9707h28vHujypf3X5GM4Vaf7aAMTN1mXMr93B/Oq3mWZMZmo2n63jo0SxjR0XRdtCwTKQN1XkjTSyegq+TukLNFaa+5g8lWmhj4ieS/scNmtRe75kMjPPV7Ns6kau8VL4TooexgJrGOT0REtgBg7G4gam4V6zGRFUyTxP5mUxtCTBl2BMUBbBu73mS/A9jhIzPU8iS7NW6Wm4mgKLpo/UbebApuh5sHl9KaazUQuCbBgNeNVzTNslxyvt0s8ZgLVLP8OkOIEG94TuFRFrTByxxHeOtvfrexfNR6//SeYvAQi3HaNiNN5Ai92ZdtqrcJLYLzXh8fhY2EndJvmy7CQ9w1zDzdIEYtKI46bZm69k2QQP3CxLUIiDU6s9ZIYmDmjZk2g6KVwupfG71SMhjGlI0zunUljIuagXqphf+w5bGo1zgZma+oxdDxWaZN5xUHEsFgazZCoom2k2YxNp6aQNksZKsZiDuY2D2Mz08RBdCLZBv24Qu5lM7lzTP1nzGXQrbVMzDydJsxhFNf/ttN7naoe39I0TfP9w9ZPMHC3Cd4vJmfp9wz5fMjtz+JLmS1NG8vmb07A1FYamQ9UIwB7Ser49pWCFRR8LIlw1GHzJ4Yo0Xpo+kkzQpAlPZS/9/+19bZMj13Xe74kqJsVdLvdtgAEa78BgZjB4GcwuZ5dL7pK7pDgcDl9EUhQlesqxGDqiTNvZuCqWVFGs0F7Jocyo7LhcHlORP9jlsiql2E6kfEslX1LJl/yAk3rO7dO43ejGAJhudANzPqAa3WgAfe499z73nHvOcwJuaIsRiykpt5kTOpoRKxtjdZnH3TRjNEn5YgdhCJTUnvA0jRXHPQrC2RjY8/RlkoNlnueZ9TtiEUt6jgQpVWEZF3PELlsHAGaALwjGI7C66gYQXWXu4r26Ie5A+byP9vMEtzRACa//8c5F+ld3CrT/4HcYhJ9+7tddN/UGIXhr0GpRv9lkEO43KtSvO9SvrlO/uka9ynW2VBGYhEAyWK94JgPOBmDH35t7cD+sXAQ3Yc/7waDO4IcFBIARpRxN+s8VI8uEGr4AVQRT/cv9S2PMVlhsgN0KgVjzg+81Bt82W/2w9gtUdRwqOWVynBoVSi0Cs1iu1KE1UH5yJapdugbLtgLCjT2OeC7e/Z63D5zrvuN9xveFUVJmhBHrND1e9nGXpnyJgDAEMq5n2Zs1x7MEZZ3WSHF+riCsIBynPs36W8YiLnjRxrZljOAlcVNzDVwLjO1KQADjvSqA2AVhlz1r2CzRsFmlZ9pV+nf3cgSAEjD+xdvX6MM3fpVuvfI9GrS3PFd1H/vHrSYNmnUaNCpchAC81Lu1NRqAmIKt8WuEvVpYr7DO5QWQlZdcY+u9Yva1Edn9TP0SR3u/tlciRICjTvKziP4GH3b1Mr88a9WKWBZAjbJ6Zb932mArtBmsbsiBZ4bbHwsKY+WvUZPd6KhDjKhwh8qlChVLdco7AOBNpvi8zrV9kdMrADwC4dq93/UAeH3/4wAAh0VCb1IOv73g2sCz6ivuVxCef85MDITn6cisfEdBeH6FSrsPV2kyCANjk8YzSt/hfVVYxu6esezn9cSiAAAgAElEQVSjsiuXgQ4Uikh1ytGwvk7DhsMgvNus026zyfvCf3FwzQNiAPLPv1Knb93b8UB40GxxINdus0G7rSoxkNfXmQjEVAiCJWteALLTXhzpXb1Mt+qXuB7yKxtfpNc3H+c86Dfaj9Eb7cfp1dbj9KB1ITQNC+CLvV5EMwf5nPH8SNECMAtI4+iBuKQYWS5nBl93AYGqSh74uu51LHYaDsAXWwQA4CI5ToUZxMAklndd0Kjre70cDsD5wfseAMMaFuvYWMACwANiEC+nWxt4njG8SuMuTP4k5YsdhP3RyX5L2KQp6Z5wWCcv8lqSCrVIOcL+axVl88C4CFapHU4Bkj1jXwAXu6mNC9gEb8E6vcapNLBah7U87TYc2nXZswCqAFgEZ72/V6G/f+OSD4x/8eYldlPznnGrxalNu80qDRtlGjaKXKB+D/vNbHHD8h65jTlwyqsmJFWFzBGBVLBy7zcvcKUo1EUGIxizgXW+QCjRKIxgLzYv0B03H/po2wAv9nXFepcjAq3gij7V6rXAF1av7PfCi2Bc6WZvG/vWBnxzVGPwNQDsOCUqFgHANcqzC3qTcuUOgycA+Hpll66VYf2OLOC1zuujSOgXP50hErrBlJRSNCNNRqywsWZfW8Vxtyj5FIS1lOFKJdmv8mQAMAbDFJNguAQZAsayZ4y0JgCIBDx1q9d537ZfMXSKqOjDBR0aNUNjuTFKVQIY/8b92/R3X2n5QA57xo9eyNHBTpVgQcOdDRDea6wT81Ozpe1GY4vVKfu3Icf9+lN0t2koOQG273e+4PFiH3cMR/avbn+Bgfi3b3yRfvTCRfploIIRwBfEGqjhC3CeyeoNcTkjIhuBZQgkQxtyhLcDj8M6p1k5oOgEXScKWNgu6BIAuEtc2SgMgJsvUPmVv2AruPLKn1uUlC5Q8z5wBCUlgJ7rNzuUZQAGWK3yuEtavthBWFYPkhdspyrNS54hv7moo7qj1R29KF2b9X8w2dmW8VgAl2Nybnm/mF3UJs+4ywUF8tSvobRhifqNGhd0GDRd9qwNk6o03B5ycNZXX/8m/dlhxQfGAL5fvPkkfXr/Gn14M0d3NuCSXiMUrkdO8s26KWZvA2LwPfaAUfv4heZFroX8dbde8kc3nqCfffw8/eNv36OfvpGnnx89PvbfArwIsgLhRvC3J7mckdoEqxduep/LmcHXtnpzTBgCDwO7nh3szQOAHSo4Fa4khT3gHPaAxwBY9oFNINa1+m1yXvrMuKEPP6fGza8G3NCzRkLPVohmVt06y/0KwvPPmQmC8AE9DNBWqjt6/o46ywAJfneVB8wqy4Z+tOXzwNilgDRWcTDH2BB+bFVy1Kmu0w5K69VLXFye044Q9dxscRS0Yc9q0/793zRR0vc+oAc7dbaCYQ2L69c+ghLzk7tP0Xu9y8zSBbauIDja5wLCr29dpN/ae4w+u/cr9Fdfeoz+97cfjOolf/Ka77/+5ztP0J88uEgfzAi8dqAVgsEmupyLOYI3wRCNIEUMVKIA4AIVnJIp4VisUc5pcg3ftdJ2wAIOAHBlj4r3vu/tA2NPmFOUOFJ6yIFbcF2PagNvZ6Y2cHC+mObc1stp7l+2e5KULzEQRiOH7Q/blnFWO0It4WwsFubRjyQHyzzPE/d3wuRjMHYZt+xIavBQ11EesZynVilPG6V12qoUuLrPTr1GnXqDdhoA4Q3qNtvUA41lq03Dm68Z4o7D7/uipL8yKHNE9X9+fZRrbAOy/f6vDy8yNaR9DLJV2ff/v09eG4Hwo3fpb195nD69+yv0G4PH6H7zIlvPwpHtWbxwfUuglbv/zHzOEVYvu5zLJnfZ73I24ItFDNpPFjeFIixPlG0sU75YJeTq5pwNYgAu7Zh9YHZBjwMwaCg5Fxic0Ld+hy1gA8IAYAnE6jOQG07o5YmEDtPpML0Mu29ZryUpX+wgHAa8whutlnA2wC1JhUp7kK2ybGjbSfL5wNgthGACt9Y5rQlUk6BXRIGBzWqVNusN2m6ADWuDOg2UNjQsWf2tAe0f/SHTWA6HX2LiDmbWam64UdJ1utOu0Ic38/TjB5fpF2+GW8k2yEa9/1/vPMGu5795p0T/55O36f/+4D360Vtt3iOGq/rNzcfYdQ0XNixqZscS4LWCrGayeh3b5TziuzYFKECxC/DFy6F8oUzr2Jt1GrTGALxF10s7dA2R0MxqJQA8CsRCIQYBYFjDEgmNqkgjAF7eSOiwMT5JL8PuX7ZrScqnIKyBWRqYFaIDWZ0kTpsMxIqTvWLjoi4wFWa1VGSGJ3AcN6s1atUatFHfoHajzcUaULSh09ziOsM37v8WF3S48fy/YOsYFnJ/A5ayREnXuEYxahWDjQu1i9/rX6b3ek/Rd+5c4vQhpBAFX6CKfL//JP2zwUV6e+txDr5CEBYCsj7av8TH451/wsFaCNpCPWVUjIIVzNWLQoDXi3C20ouiAq38LmexfN3KT9j7LRQ5CGqdAbhkopMdYwHnSlteLnBUKhIIOASAwYxlc0IbEIYLWgB4h/CbsK4B8usZpaScZiycppfT/EaW70lSvthBOMsNOe2zqTs6Gxb7tP1l35fkYLH/J63308rns4oLBSo5BSrjWDQ0iyg0UK+0uNh8s75JG40taje2abOJCkpb1L/xBt08+gHdPPwD6m0NuOQh3NXYP0Yw16CFPGNESTs0bBQ4QIspMnlP+LR94ac47Qh5wK+1DRAjLYlTlLa/wOlKX9n6p/wZ0phu159iCxiuZrF4PeC1SDUEeP3pRZbVW8h7VZ6M1Svga4KvYP0iCtkPwHUmzOBArNNSkdove6lIYZzQqB1srOceW9NrAHUB4CWKhA7T/Wn1Muy7y3AtSfkSBWGvopIEaIXwSWexAxSEFYSzqJd4plkmA88q5v1iE2SEPNeyU6ZSqU7lcpMqlTZVq1tUr25To9ahZqND7WaHNjf6NDz8Ie0d/RENnn6Ldlqbxl3dcPeOmw2OsEa60269QEPkIVdNzjAXjgD1ZEh6Eq6BBevp6lPMlAWQPQRZR9sl69h8jIk7Xml9kYk8kM40BHe0ndPrWryS14t0LJCVBNOLIq1e7PtabWJcz6cA8FgkdCAX2CrKgJSktY0XPTe0UFJuDO6bQKypOKGzGwkdNjZm0cuw72f9WpLyJQbCkqLk3w8+oZNAicMsNr6CsIJwFvUSzzTPZGDAuEgINCoWHCoWy1Qs1cgpN6lYbpNT3aZytUPVWpeq9R2q17vUaOxQ5+7HNDj6Y+q/+G3aam6zhdyBy5r3j6Wow4jGclhfY3auYQ1UmXj5STrscwbq2mW6XXuKKSrhcgZtJY7P1Z+k23WTggRCDYlsFiYrLqIQAF4wh4FbG8FonF400eq19dvs/060gMcAWPaBrVQkuyhD5/UxAEYk9Eb/eTcQa7kjocPGxjx6GfY7Wb2WpHwJgrBJUbKjobWUoT3403ufpEKlPYhWWTa07fzyIdfVBButF92UG6dBhXKbCqUtWq/skFPrkVPtUbnWo2q9R83+K7Rz9GPqHv0Ham/fZQu53diizcYmbTdRb7hFO/U6V1bqVQs0qOZpAD5pLjlouKHhPpaXydVFvq7haIZ1i8+GAOvqFbo/qBNqJXM+b/Uq7ZSveixW4mpG4QqxeMeAl1OMgoFWQavXHncxAHAgFSnXC+YCjyKhN/p3ObcYru1l4YSedjzPr5d2f2T3fZLyKQiHBOWoJZzdwXDapJDkYDntvxfx+dnkMy7XAoNwldZLDWLu49I25StdWq/0aL3Sp0KtT051QKVan9ov/4i2jv6UNm5/6FrIHWrWOmYPud6mdr1J27Uadaol2qkWqFvJESoqmaINpkqSFHAYO5ZN7i7yd1FRCaUMO1wa8TptuZYu9ncZdB2Lycq2eGcGXtHteADYl4p048OABSwAbAKx2v1nmeSDAdipcyDWerHMe9DrPA/hmeT5lut4Nr3MvqxJypcYCEOZTP3gAH/0EuwLKwhnf1BETVZJDpao/1zk9bPJN9r35Mm/aCoAcYRuqUO5co/y1QG/1qsDWq/uUuX2t6h19OfUevmPqdzYpQpbyV2q1naoXsM+cptatSa1qlVqV0u0VUEuco62ymDqMmxd46UMrxMsW7y8OsTlNbrV3/QBLixdpo8sgr85z2QahskKeb2TLV644KP75SwAbKUi3fymFwkNMJZUJMMb7RJyWJHQm71nViISOqxdz6aXk/oqG58lKV+iIDy+L5z94g1QMAXhbCh+2GA/7VqSg+W0/17E52eTT8DHIQZhp8YEFCjDhyIEqIObqwxorTzgeri56pAK7ZeofnRCjaMTKnXfpGJtQE4VlnKXyrUuVWodqlXbVK80qV6pUqPsUKO0Ts1SnlrlHLVKeBlrNngEtSa/SjkC4N7obfG+LgOu7O36WKzOAryi09IGE6KgI/eARwDsq4pk5QL7AJjziEeR0Ju9WyYVackjocP0/Gx6KX2T3WOS8iUKwmGdtQzXFISzOxhO058kB8tp/72Iz88un2sNF5EDW6G8U3dJKAwN41oZLE67dL06pLWKeZVf/COqHX1O5bvfpXx1l4yVPKBCtU/F6g4VK1tUqmxQudKgSrlCNcehmlOgWjHvvkzQFAKn+OXk2bIVsJVgqt1ex6KNHAGuYbECk5X7siKbJ1u8QT2OB4Cx7+vlAt//oS8XWCKhDSWlAPA2W8Bb3ZvMvLUOAhAuzGCex0RnB591uc7PrpfZljdJ+WIH4bG0JElP8o7Zt4YVhLM9ICaBXZKDZdL/Luqzs8sHEC64+5CgYxQ+ZDBBdVwmKBBKYD8Trz0q3Ph1qhz9hCqHJ5RrPuuC8y5bzflKn4O6CuUtKpZaVHTqVCpVqeSUuO4uiiCYF0oBhr9AKIJX3y3T6IGtpBIFQHc24BVdjgmAd77s5QIzGUf9tuuGdlOWuCpSOCf0dnePFz4IjBtVRcJzyTMu7/Hseplt2ZOUT0E4ZAAoCGd7QEyatJIcLJP+d1GfxSOfWMNlHyOUqQoULEy/R2vN56hy+JdUOfpPVNj/Tbpe3TOWctkAMfaSc6UO5Z02rTtNKhRrJg0K6VAFUwgB1mzw5QPbwjr1elKm0eQ047vzAW5Qf+MB4LWtQw+AQcax1nzBvw88BsCdUSBWsU6d7i4ZAHY4XWwVLGDR+3j0Mthv2TlPUr7YQVg6BUfZE350PJx5tTc8fkRejnFEbrEv8MsK+LKvz/PfCsLZUX5bn6Z5n+Rgmeb/k74nHvlcEC6YveF80bBCrTmGF9mrjcuF6c0+qEQBl17+M3a/wkJmS7m8a/aQAcTlDuVLbVovNangVKnglKlQRF6ySY9iggxYtfJyQVbAFrWS42+/mAAYbFhuXeAoMg5/VSQLgN1I6E53sBKR0GF9FI9eZnfeSVK+TIKwKQJh3NbGvf2Ijod+tw3f4wKvgD1yku2axVHfDVMi+5qCcHYHg91PYe+THCxh/7foa/HIJ8CEAgUlLlCQAz8yauQyNWOfACjXyiNSijWA0NFP+ZXf/bWRC9arCGT2Pw0Xcovd3Cb9xna9TtareGSz/0PkxKLDlRX8zI5FRTlFEBYsXiw+WP7Dzwlt4YuEnmQBW6lIO92+5Ya2n3P538ffd9lqkyTlix2E49gThhVsW7DBc0x84yBsgDp4L6ximzBkmklTQThbA2CaPpN7khws8h9pHuOTT1zSowCtXMkt01fuGnpFyxIG6Eh9XN4L5bq4YIyyU3G6XObPLkggebCmLKB/IR1sx/hkg/7GCcB/4gFwbufLAQCWXOCQsoQuAPNCp+DQTrfnPtfyjq9gn8l5vH2XvfZJUr6lBWF0vu2yFqDla5b7GiBsA7oozaSjgnD2BsGk/rI/S3Kw2P+T1vv45AMInx6ghdJ7Ju1mj+wKQXhvrMFRgXou74d8Y64MJNZwxd0HNaA4qd3ilA0gPB8V5SgN6Vr9NmHBIR6AaDYsqYo07oIWAMazdBmEl3dsLabvstk+8enmuHyxg/Ckjpr2s6A1GzyX3+G934cHhhQk4Jr29pNP5rOE0eir+hoOhyrbkvZvvH3XY+sMe5Wd7pC2ezdpq3eL2r07tNG/Rxv9FwiVf1CCDwXp8aq88h8ZlKoPPvGu4XPch/vxPXx/q3ebkJLT6e0Rfh+u2B1u816k7sUjG37fyIX/HMl2g7Z6+7TZu03t3rMECklwObcsGW05G7sHVHn5Mw+A68986Jc3KHP/OQIZx2Z3n9sR7TmS2zzTcLgXKfuyzzXx9F1259zd3d0E4hUMIC8tCAeBOXg+Aurx/WT5LOqolvD4ai2qrbJ2PckVaxZkjVe+kbUIt7FJV2rRmrPJpfa8AC3LGrYL1o/2RkfW8HUUu0eVIAf8yKiTC3rG6azhs8sWjws6aAGDmMO3Bywu+AAZh78sodBRigcAlnASgWfZGKurLBvGfZLyZRKEpwnMAujaFZnC3M52kNYsE6iCcDYG9ix9JvcmOVjkP9I8xiufgJafQSvntLnQAANqeeAL0EKR+vLh52whFu9+zw9OCFASmkZ2S7cp5zQtggpnYmDS2WQTWbCwmD8Ia3oAhqx+Mo5csWHJagek4dmSncjT1MlVly1p+TIJwhCaXc0uwYfs6RpwNpatRER7bmdxRw+P6dEZiUEUhBWE057Uov7/bEAV1q+uNSwMWpyuhACtQLqSbQ3vf+y5af3WsBWkxDVzraL1xaqhyixE58jOL5sp02j2gEuUByPVHFHQswGwBGJNX5ZwfvnC+i1b11ZZtnMLwlGT0CKuKwhna4DP0uc6GczadwJgVrpSEelKk61hSdmJtob7tFbe8ZFVjLuljYUo/Tt73/mtX0OEUeaUqzxSrpyWSbuaIg1pPgC2ArGKtts9fKExu3yz9mV696+ybNDPJOXLrCUsAzONo4JweoP5rP2d5GA567PF8f1k5AtYw5xHe4o1vPeNcGuYqS4DtI0O3NKTXbVom9lkCwIwrN8Ku4MNAG8sDoCtXGC4wqPKEs4m33KNwVWWbXbdnK3vFISVtjKxqL84QGfW39DJYLYJwLTv2axh54U/GN8brrhAHHRLcwWh8aCl2SY6eV57/xcAbKpCIUAKaVKGeERynm3ykVEaEog47DSk6CAse2FhWcBjAGwWB2F6u8q6ucqyzaabs48/BWEFYQXhEB0Im0SzcC25yW52a9iuJjTKGw4SePS5MISpWYxo6YbZr+UqQnag1jTRw0HrF8FP9v5vk0xQGQB4xwROoSqUj/3LAuD2ywQOaMkDnheA7VzgSXzQyfXd7BN/3Lq8yrIpCKcwQao7Ov1BPe8koZPBvH0n1uUMe8OVPc+KHGPRYrf0cBQtXR63HoPgFU1mIeALchFj/TITl8/9LPu/2256lSlE4QdgLBDMi4sxCBf04edMRCKf+WsCT7aAgzJM0ttV1s1Vlk1BWEE4dkt1lQfMKsuW9GTgsUxJpPQUe8M2ixZyiH1A5vFKSyTxZCA2ICzu3NHRMHsJ+FrWLyK5iw2uh8zuZzcAi5m7kCrFFvCI8UuejZ/ZTbPiYgxbh/7n9vKAZwVgPHP0ImiVdXOVZUt63Kk7OmTQqCUcPZFMmmSy8JlOBmfpu/ms4eJz3zUuXRQ32HjRD2hTFDcw1mSJ2buMpQuLV6zeEfjyfUHrl3OaI9zPVlqVADCKT4j7mcsRBosxJATASU/kaY89HXfzjzsFYQXhiav3tAf3rP+vk8H8k4Fp69n3hq83n/OqDDn3f8ilDgX0vAIPEqhVRpGHcYsYe7sdrjIESxd7xXihuITk/UrkMyogNV3rd5MLRoChyxCLRO//4nnWb37TA2C4z8fqAScIwGjbVdbNVZYt6b5TEFYQVhAO0YFZwX9R9yc/2UVYw5NYtCp7ZAdpAexGIGwFaoUCsQnWyherzF/NucQcbGVSjph0wyPeQP6ypB6J9YvoZ3v/V9zPowAs5AAjn1ksYF4o1G9bzwjaTaHeNMUYrkcsFsb3gCe7oG29SL7vzroAm//7qyybgnAKE6S6o+cfjPakk8Z7nQzi6LuANcwsWgh8MixavOfqizg2wU7FO783cktPs8/KwVqGVQvWLQpI5It1TjVCuhF4p03Ob9MFXxCIBFKPJkQ/YyGAACw7AprJRWpPjwEw9o9BuWkqQe2Ykowl8F+3XP7rqqm9zBb6aL96Fh1fZd1cZdkUhBWEY7dUV3nArLJsSU8GI0AZWcMmCrlKeQfpP8F6w8i9Fctzj2BxCpOW89JnfD6yiN37fHvEPU4lArDmSpu02bvF/8FMV8x2tWHOS3A7u+Drcz1L8NWuW27Rsn7hfr7xocdzDSsY56PnCVrorgXMec1CRRkfAC+u7+JYhM3+GzruZm8zGW/qjg4BebWE51coUay0jjoZxNV3rjXM+7JSYQkW6aZLgmFcwNfKfgBE0XvP7fvip+P7w2P7rm4RhHKHNvvPGrAF4PJrm/ePTc6vuJ0RaT0ZfNn9fO/73nNgYQCLeATApywIQPbBhSdARTnivEbQmMkDnt4FbY+DVdbNVZYNfZikfArCCsKxW9r2xLPo90kOlkXLEvZ/i5PPAA4HSBWFEMPsyQIgEQwV5ZYG6YUAcfHe9wNAHGaBAlj7XIsYe7H+V8/8D9zONvh6Frjf+l3rvO5Z43gG/v/g/u/YQqDLCwtOcwIAczWkmluCMZzdK6xvTru2uL6LayE2/e+ssmzo1yTlUxBWEFYQDtGB0ybUtD5PcjIYl0msYRB4mMIIAKhwt7RYxGZ/2K47HA3EbkAUCDSqN6jZfzCyViVQygVej3QjAnwRoe2lSh39lBcB4e5nOwArmL88ChIbFZuwWb2mB6Xxtkx2Ig/7v0VeW6xenq0f5mmXJOVTEA6ZgNUdvXgln2dghH0nycES9n+LvrZ4+YJBWjV21bJbmskx4JaW1CDXzeuyUtkpQeNAfIOuVm7Q1eo+Xak+S5erz1FtcERXanf5/ZXqHbpW2adr5T3zgvXqvQzQs3u59vTY3u/p7ueoAKwGV2AyVJiSKoWxMJ/7Oagbi++7xY3jVZYN/ZikfArCCsJqCYfoQHACzcp5kpNBuIxBt3SFo4VNmUBJEwrfHwZI2kDMubkumcfVyk26Ur1Nl+sv0KXmy/Rk81UqDr9OF5tH/B7XLtefpyvVWwzWo/3cEQBj/9mOfC4ffk7r+x8H3N/h+79wp6+VogKwAMAmOC0uAE56Ig/vOwXhuNolyXGnIBwyAaslvLjBG9cgkd9JcrDIf6R5TEc+2y0NAg1ES4ftD8PCFLf0aK8WwCh7xKCJzO99g65WbzEAP9l4lS603qYnNt6l/N4HfMR7XMNnAGncC6tZgBjgi8pN3m9i7/fu9wLkG7L3LO5noaC0IrIDAVhnyQGeRifS6bvFjOVVlg19m6R8CsIKwmoJh+jANJNqGvckORlMlmcExHDXglzDtz8sqUO+/OEREDNfsxRMOPoplV7+U7q+9xFdbL9LT7S/Sk+0v0a5vQ/5iPe4dqH1Fl1qHNDl2rN0vfmAQDmJ1CcbfHEOUBaANseg9eu6nz0CDqREJReAFdWO6fVd8kC8yrKhP5OUT0E4ZAJWSzj5QRs1UZ31epKD5azPFsf305NP3NJFppJE4BLX70X+cAkkGttuVLPsD49bxGHBU+XDn1D++X9PzvOf0Ksf/RW9+s2fUO2F79BTu9+ia/vfptyz/4acl37sA16AMMAXoBwOvuPW78j9LAQcDV5IJBGAFdXP6fVd8uN5lWVDfyYpn4KwgrBawiE6EDWRpn09ycngdNlsEg+4pQHE4HK2yghyilGPrldc17QXzTzay72+/RoV7//AB6xf/t3/Qh/94X/n1/vf+a++zzzL9/BzjoCOtnxt8LWs33KH844R1c35v46b/8v0mPEHYEW1Y7p9lywQr7Js6M8k5VMQDpmA1RJOdsBGTVJxXE9ysMTxfGf9jfTlg1saFY4cGrFpBYBYcojtvF4rsvlq9Wm6XL9HT26+Q1f3/zWtP/iMvv6df/BA+Bu//98YhEuHf0mFB59S/s7v0Vrv3YDV6+754nclncmlnuRobfBJe8FXm2PuZ9/+b9FY+Wftm9O+n37fJTeuV1k29GuS8ikIKwirJRyiA6dNqGl9nuRkML1M1v6wR+ThAjEXethmAByrbOQGbQGEr9SfoyebRyYQq/01atx7SL/23Z/TB//2H2j3td83e8Mb7/I9l+t3Cd/x7feeCr6o1LTl0WAikGzdiZ+AY/o2S3Yin+U5krg3G3q5nIuMzILw8PgRnZycmNfDg1CgOHjofo77Hh3TkFe0BYq6Pq3yqSWcnDJP2wfz3qeTwaL6LgSI2TXtckw7o0ILzKzlkW7Acr3BucFIQ7rQ+jJd4OCs9yi398+9wCxcw2e450rtWUJKkymLKC7nIUnRBb/lK67ntlt8ocl71xzRHep+jicHeBp9XWXdXGXZ0LdJypdJEC4Oj+nRyUM6KBapWDyghyeP6HjoHyx8jwu8xeKQjh+d0MODIkVdn2aQyD0KwouayOP/nyQHi+hHmsdsyRcEYjdYC6xaXslBWMUdDtoyYNw3aUxwSdfu0ZONQ7rYeosutN6l9eEHdAHpSXg13zIpSrV7LmmHC7qWy9n8nridbfCVyGeL+xkW+xkqIMXR59nqu3jH3irLhr5PUr5MgjCs4EfHQ8/6DZ6jUcbB1gB11PVZBpGCcLwDdJa2P+u9SQ6Wsz5bHN/Pnnw2ECNYy9BbeiUIEQwlxRjKO24ENfigB2zdgiHrqfpLdKl5SM7way5RxyFdanyJQZrd0OWhYeUq9+laCcQgeHUZ3A3hBtzOsHxd8EXglc/1LMFXsvfrX9DH0S/T/Eb2+i6+cb7KsqFvk5RvaUEYDWO7rGEFy0CIui6fn3ZUEI5vcJ7W1nF/nuRgiftZ5/m9bMoHIEawlklf4qAnEHpwTWBwTbf8JQlLHVordxlQ4WK+Utmny7zZHUUAAAlHSURBVJVnqDY4pKu1O3Sl+gwzZV0DQQcXbhDQ3XFLH6K6kil/aCKeW27RhRH4mmfIBvhKP2ez7+IZ66ssG/ovSfmWGoR57/fhgdkDDu4Jh1yXwXDaUUE4noF5Wjsn8XmSgyWJ5531N7Mrn7EyGYi9yGm3+pIHxma/mIGzhIhlVGOCuxopTT1q9Z/3LF6+Vga1JNzMAro28Eq6EfJ9a57lOwa+XuTzaJE+a5vHdX92++7s432VZUP/Jynf0oJw0EUt53KUgRM8l+uTjm+//TY3Ohp+FV/D4XAl5UJfrbJs2ZevR91uj3a8V5863QHt9Hap0x1Sp7dH290btN27SVu9p2mrt0+bvX3a6t2irf5t6u7dpc3ebe+Fa/jM3IP7nqat7k3+Pn4Hv4ffNb+P/xnQTrfP/9/tmWfB82RlDK+ybq6ybNCfwWDgeVonYcc8n2UShHlf95TALIDriRU1DasY+8hR1+dpHP3O2VfI2obahqoDqgOqA9E6kEkQRofZaUYSpGXA2Q3AciOivTSmQKR08LoqQbQSaNto26gOqA6oDqSjA5kFYVWIdBRC213bXXVAdUB1YHE6oCC8RGxJOjAWNzC0rbWtVQdUBxahAwrCCsKJBRwsQoH1P3SiVB1QHVhmHVAQVhBWEFYdUB1QHVAdSEkHFIRTavhlXrnps6vloTqgOqA6EI8OKAgrCOsKWHVAdUB1QHUgJR1QEE6p4XUVGc8qUttR21F1QHVgmXVAQVhBWFfAqgOqA6oDqgMp6YCCcKDhmXHrlDrGy7LqMmUgw2suL6ucUrbSrh+N/oiSJ+p6VvswTL5V6ccwAp5V6rsw+bTvTnzMhlkdd2n2nYKwBcLT0GVmVYnCnosnAKuwhdyzrHKaCe0RHR8c0yNLrih5oq5LO2TtGCkfampb8spzL5N8eNaHbnlS33NH1A733RNRU1zaIQvHSPm070LrwWehz+QZ0u47BWELhGE1CUUmOih4Lp22LMcoEA7KFTzPunw8QVugFHx+OZejyBM8l+tZOwblW7V+9BYbw+LYGJM+kqP0TfBcrmfxaMu3cn2HRZM79oJ9IudylL4Jnsv1LB7tsbeovlMQXnUQFtf6iSlwAcUPDorgeRYHh/1M9kCZJE9QruC5/ZtZeh+Uz0zqo20FWSgG5QmeZ0km+1ls+YLPLOdylO8Fz+V6Fo+2fKvSdyN37UM64PKQ0fNIsK+C51nsszD5FtV3CsIrDMK2shuFMsUvgoMieG5/L4vv7UkOzxd8fjmXo8gQPJfrWTsG5bOfb9n70ex5Gz2EXME+kXM5iuzBc7metWNQPvv5lr3vIAvr5snkeSTYV8Fzu02y9t6Wz362JPtOQficgDAUCqu9hwfRLkBb6bL8PghSwUEu53IUWYLncj1rx6B8wedb5n7Es4slD7mCfSLnchTZg+dyPWvHoHzB51vmvhNZTpMh2FfBc/mdrB5FvuDzyfWgPMHz4PdOO1cQtkDYrIKMu8Ve+ZzWiMvwub3CW3Y5gyAVJU/U9az3V1A++3mNTG45z4igJvv+rLyXqG8bgPFsUX0UdT0r8gSfI0o++76l7buDh7x45/6yguSi+ijqut0WWXpfjJDPfsYk+05B2AJhNDpWO1KLODhh2J2yDO+xQhNZcIQVLM+9jHKahdGof2yZouSJui7tkKVjlHyr0I+Y6GxdxHsZX1F9FHU9S30mzxIl30r0HQPvaNxNM48sVd9FyLeovlMQDoCwDCo9KguP6oDqgOqA6kDSOqAgrCDsWcdJK5v+vk5oqgOqA6oDfh1QEFYQVhBWHVAdUB1QHUhJBxSEU2p4XQ36V4PaHtoeqgOqA+dRBxSEFYR1Baw6oDqgOqA6kJIOKAin1PDnccWnMqulozqgOqA64NcBBWEFYV0Bqw6oDqgOqA6kpAMKwik1vK4G/atBbQ9tD9UB1YHzqAMKwgrCugJWHVAdUB1QHUhJBxSEU2r487jiU5mzb+kY5qdRgQXts+z3mfbRcveRgrCCsK6AV1AHGEy57uuQjh9ND6pnAWHDr+unR1WAWG6A0P5Lvv8UhFdwAtaBk/zAyXobM+/twwNaZCESBWHVu6yPiyw+n4KwgrBawiumA0HieS6cwFbxqICHWMrHXsESt3oYV2Yalbw8cWvHSnEJKbrg+w/3t20QlvulaINN+p/FiVCfSRcQaemAgvCKTcBpKZL+b7YmMVSxAfAJ2A6LIwBGXxm3s6lkJOAJgJX3/F2pLvPwwFQXE7Dlikh2yU//7+C7DNIB4FcdyZaOaH9koz8UhBWE1RJeMR2Q2rang7Bbl9gCWxuEMUnbFi9+L3hNLN0xAPdKF06/H62gkA1Q0H5YbD8oCK/YBKwDaLEDKGvtLQAs4ChHcSPL89oBWJ7rGHvIljsa99ogLL9hrhlLWH4Px+B37WeR79r36/vzrava/6b/FYQVhNUSXjEdMKBqQBJu6TAADHNHs+VsgbCA86PjAzp+hKLurgvatXLFMpbJ1Abh4fFDOh4WSYA47Bnke3pUMD7POqAgvGIT8HlWZpXdTOYMhu5+rOwNB9tGLOFHDK4ndCL7vRYI2xavAOzJwwNetOF3xcrGcQzA3d8x94xbzcHn0XMF4vOqAwrCCsJqCZ9DHRAQhrV6Xic/lVuBPws6oCB8DifgLCiePkO6E6CCcLrtr/qv7S86oCCsIKyWkOqA6oDqgOpASjqgIJxSw8sqSI+6IlYdUB1QHTi/OqAgrCCsK2DVAdUB1QHVgZR0QEE4pYbXle/5Xflq32vfqw6oDogOKAgrCOsKWHVAdUB1QHUgJR1QEE6p4WUVpEddEasOqA6oDpxfHVAQVhDWFbDqgOqA6oDqQEo6oCCcUsPryvf8rny177XvVQdUB0QHFIQVhHUFrDqgOqA6oDqQkg4oCKfU8LIK0qOuiFUHVAdUB86vDigIKwjrClh1QHVAdUB1ICUdUBBOqeF15Xt+V77a99r3qgOqA6IDCsIKwroCVh1QHVAdUB1ISQcUhFNqeFkF6VFXxKoDqgOqA+dXBxSEFYR1Baw6oDqgOqA6kJIOKAin1PC68j2/K1/te+171QHVAdEBBWEFYV0Bqw6oDqgOqA6kpAMKwik1vKyC9KgrYtUB1QHVgfOrAwzCv/zlLwlv9KVtoDqgOqA6oDqgOrA4HfjZz35G/x+duVjit7Nz2wAAAABJRU5ErkJggg==)"
      ]
    },
    {
      "cell_type": "code",
      "metadata": {
        "id": "TeuhZY31vBDL",
        "colab_type": "code",
        "colab": {}
      },
      "source": [
        ""
      ],
      "execution_count": 0,
      "outputs": []
    }
  ]
}